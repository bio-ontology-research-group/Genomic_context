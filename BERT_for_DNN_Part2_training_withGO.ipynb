{
 "cells": [
  {
   "cell_type": "code",
   "execution_count": 1,
   "id": "c622ad12",
   "metadata": {},
   "outputs": [
    {
     "name": "stdout",
     "output_type": "stream",
     "text": [
      "Free CPU Memory: 652.23 GB\n"
     ]
    }
   ],
   "source": [
    "import psutil\n",
    "\n",
    "def get_free_memory():\n",
    "    memory = psutil.virtual_memory()\n",
    "    return memory.available / (1024.0 ** 3)  # Convert bytes to gigabytes\n",
    "\n",
    "print(f\"Free CPU Memory: {get_free_memory():.2f} GB\")"
   ]
  },
  {
   "cell_type": "code",
   "execution_count": 2,
   "id": "abdd98ad",
   "metadata": {},
   "outputs": [],
   "source": [
    "import torch\n",
    "torch.backends.cuda.matmul.allow_tf32 = True\n",
    "from datasets import Dataset\n",
    "import os\n",
    "# from deepgo.utils import Ontology\n"
   ]
  },
  {
   "cell_type": "code",
   "execution_count": 3,
   "id": "4afee737",
   "metadata": {},
   "outputs": [],
   "source": [
    "from tokenizers import Tokenizer\n",
    "from tokenizers.models import WordLevel\n",
    "from tokenizers.pre_tokenizers import WhitespaceSplit\n",
    "\n",
    "tokenizer = Tokenizer(WordLevel(unk_token=\"[UNK]\"))\n",
    "tokenizer.pre_tokenizer = WhitespaceSplit()"
   ]
  },
  {
   "cell_type": "code",
   "execution_count": 4,
   "id": "d69a29ad",
   "metadata": {},
   "outputs": [],
   "source": [
    "tokenizer_path = \"WordLevel_tokenizer_trained_InterPro.json\"\n",
    "tokenizer = tokenizer.from_file(tokenizer_path)\n",
    "tokenizer.enable_truncation(512)"
   ]
  },
  {
   "cell_type": "code",
   "execution_count": 5,
   "id": "0bef36e5",
   "metadata": {},
   "outputs": [
    {
     "data": {
      "text/plain": [
       "544998"
      ]
     },
     "execution_count": 5,
     "metadata": {},
     "output_type": "execute_result"
    }
   ],
   "source": [
    "tokenizer.get_vocab_size()\n"
   ]
  },
  {
   "cell_type": "code",
   "execution_count": 6,
   "id": "543a8c72",
   "metadata": {},
   "outputs": [],
   "source": [
    "import json\n",
    "with open(\"/home/toibazd/Most_frequent_IPs.json\", \"r\") as f:\n",
    "    ips = json.load(f)\n",
    "\n",
    "sorted_dict = sorted(ips.items(), key=lambda x: x[1], reverse=True)\n",
    "most_frequent_ips = [item[0] for item in sorted_dict[0:200]]\n"
   ]
  },
  {
   "cell_type": "code",
   "execution_count": 7,
   "id": "84272ed9",
   "metadata": {},
   "outputs": [
    {
     "name": "stdout",
     "output_type": "stream",
     "text": [
      "Number of items in most_frequent_ips list:  200\n"
     ]
    }
   ],
   "source": [
    "print(\"Number of items in most_frequent_ips list: \", len(most_frequent_ips))"
   ]
  },
  {
   "cell_type": "code",
   "execution_count": 8,
   "id": "07ba9843",
   "metadata": {},
   "outputs": [
    {
     "data": {
      "application/json": {
       "ascii": false,
       "bar_format": null,
       "colour": null,
       "elapsed": 0.00551152229309082,
       "initial": 0,
       "n": 0,
       "ncols": null,
       "nrows": null,
       "postfix": null,
       "prefix": "",
       "rate": null,
       "total": null,
       "unit": "it",
       "unit_divisor": 1000,
       "unit_scale": false
      },
      "application/vnd.jupyter.widget-view+json": {
       "model_id": "0124afacedd744de964d56b453f75056",
       "version_major": 2,
       "version_minor": 0
      },
      "text/plain": [
       "0it [00:00, ?it/s]"
      ]
     },
     "metadata": {},
     "output_type": "display_data"
    }
   ],
   "source": [
    "from collections import defaultdict\n",
    "from sklearn.preprocessing import MultiLabelBinarizer\n",
    "import csv\n",
    "from tqdm.auto import tqdm\n",
    "import numpy as np\n",
    "\n",
    "\n",
    "ip_to_go = defaultdict(list)\n",
    "data_dict = defaultdict(list)\n",
    "enc = MultiLabelBinarizer()\n",
    "\n",
    "# go = Ontology('data/go.obo')\n",
    "\n",
    "new_tsv_filename = \"/home/toibazd/Family_IPs_with_GO.tsv\"\n",
    "\n",
    "\n",
    "with open(new_tsv_filename, \"r\") as new_tsvfile:\n",
    "    reader = csv.reader(new_tsvfile, delimiter=\"\\t\")\n",
    "    next(reader)\n",
    "    for row in tqdm(reader):\n",
    "        ip = row[0]  # Assuming the IP is in the first column\n",
    "        go_terms = row[6]  # Assuming the GO terms are in the second column\n",
    "\n",
    "        # Add IP and corresponding GO terms to data_dict\n",
    "        ip_to_go[ip]+= go_terms.split(',')\n",
    "\n"
   ]
  },
  {
   "cell_type": "code",
   "execution_count": 9,
   "id": "6cea78b8",
   "metadata": {},
   "outputs": [
    {
     "data": {
      "application/json": {
       "ascii": false,
       "bar_format": null,
       "colour": null,
       "elapsed": 0.019155502319335938,
       "initial": 0,
       "n": 0,
       "ncols": null,
       "nrows": null,
       "postfix": null,
       "prefix": "",
       "rate": null,
       "total": null,
       "unit": "it",
       "unit_divisor": 1000,
       "unit_scale": false
      },
      "application/vnd.jupyter.widget-view+json": {
       "model_id": "f72e1e0220fc488299b60f19636bfa6e",
       "version_major": 2,
       "version_minor": 0
      },
      "text/plain": [
       "0it [00:00, ?it/s]"
      ]
     },
     "metadata": {},
     "output_type": "display_data"
    }
   ],
   "source": [
    "\n",
    "with open(\"/home/toibazd/Prot2IP_GO_filtered_MF.tsv\", \"r\") as tsvfile:\n",
    "    reader = csv.reader(tsvfile, delimiter = \"\\t\")\n",
    "    for row in tqdm(reader):\n",
    "        key = row[0].split(\"prot_\")[1].split(\".\")[0]\n",
    "        iprs = eval(row[1])\n",
    "        \n",
    "\n",
    "        # Save only if there are filtered InterPro IDs\n",
    "        for ip in iprs:\n",
    "            if ip in most_frequent_ips and ip_to_go[ip]:\n",
    "                for GO in ip_to_go[ip]:\n",
    "                    data_dict[key].append(GO)\n",
    "#                     data_dict[key].extend(list(go.get_ancestors(GO)))"
   ]
  },
  {
   "cell_type": "code",
   "execution_count": 10,
   "id": "91dd1f9e",
   "metadata": {},
   "outputs": [
    {
     "name": "stdout",
     "output_type": "stream",
     "text": [
      "Number of unique GO classes considered: 269\n"
     ]
    }
   ],
   "source": [
    "all_values = [value for values in data_dict.values() for value in values]\n",
    "\n",
    "# Convert the list into a set to remove duplicates\n",
    "unique_go = set(all_values)\n",
    "\n",
    "print(\"Number of unique GO classes considered:\", len(unique_go))"
   ]
  },
  {
   "cell_type": "code",
   "execution_count": 11,
   "id": "fe710c22",
   "metadata": {},
   "outputs": [
    {
     "name": "stdout",
     "output_type": "stream",
     "text": [
      "Number of proteins that are one_hot_encoded 39936\n"
     ]
    }
   ],
   "source": [
    "from sklearn.preprocessing import MultiLabelBinarizer\n",
    "enc = MultiLabelBinarizer()\n",
    "\n",
    "one_hot_encoded = enc.fit_transform(data_dict.values())\n",
    "one_hot_encoded_dict = {key: value for key, value in zip(data_dict.keys(), one_hot_encoded)}\n",
    "\n",
    "print(\"Number of proteins that are one_hot_encoded\", len(one_hot_encoded_dict.keys()))"
   ]
  },
  {
   "cell_type": "code",
   "execution_count": 12,
   "id": "6b186515",
   "metadata": {},
   "outputs": [],
   "source": [
    "# import os\n",
    "# import random\n",
    "# from tqdm import tqdm\n",
    "# from concurrent.futures import ThreadPoolExecutor\n",
    "\n",
    "# directory = '/ibex/user/toibazd/InterPro_annotated_genomes_training/'\n",
    "# one_hot_encoded_sentences = {}\n",
    "\n",
    "# sentence_length = 40\n",
    "# sentences_per_IP = 200\n",
    "\n",
    "# # Set random seed for reproducibility\n",
    "# random.seed(42)\n",
    "\n",
    "# # Randomly choose 1000 files with seed 42\n",
    "# selected_files = os.listdir(directory)\n",
    "\n",
    "\n",
    "# # Define a function to process a file\n",
    "# def process_file(filename, IP):\n",
    "#     sentences = []\n",
    "\n",
    "#     filepath = os.path.join(directory, filename)\n",
    "\n",
    "#     with open(filepath, 'r') as file:\n",
    "#         content = file.read()\n",
    "#         words = content.strip().split()\n",
    "\n",
    "#         # Check if the key is in the file\n",
    "#         for i in range(19, len(words)-20):\n",
    "#             # Shuffle the indices of the words containing the key\n",
    "#             if IP in data_dict[words[i]]:\n",
    "#                 if len(words) - i >= 21:\n",
    "#                     sentence = \" \".join(words[i - 19:i + sentence_length - 19])\n",
    "#                     assert len(sentence.split()) == 40, \"The length of the split sentence is not equal to 40.\"\n",
    "#                     sentences.append(sentence)\n",
    "#     return sentences\n",
    "\n",
    "\n",
    "# # Iterate over keys\n",
    "# for IP in tqdm(unique_go):\n",
    "#     one_hot_encoded_sentences[IP] = []\n",
    "#     sentences_count = 0\n",
    "\n",
    "#     # Use ThreadPoolExecutor for concurrent processing\n",
    "#     with ThreadPoolExecutor(max_workers=4) as executor:\n",
    "#         futures = [executor.submit(process_file, filename, IP) for filename in selected_files]\n",
    "#         for future in futures:\n",
    "#             sentences = future.result()\n",
    "#             one_hot_encoded_sentences[IP].extend(sentences)\n",
    "#             sentences_count += len(sentences)\n",
    "#             if sentences_count >= sentences_per_IP:\n",
    "#                 break\n",
    "\n",
    "#     # Break if the required number of sentences per key is reached\n"
   ]
  },
  {
   "cell_type": "code",
   "execution_count": 13,
   "id": "a1de1376",
   "metadata": {},
   "outputs": [],
   "source": [
    "# import json\n",
    "\n",
    "# with open('BERT_DNN_senteces_with_GO.json', 'w') as f:\n",
    "#     json.dump(one_hot_encoded_sentences, f)"
   ]
  },
  {
   "cell_type": "code",
   "execution_count": 14,
   "id": "efeab11b",
   "metadata": {},
   "outputs": [],
   "source": [
    "with open('Research_Exp2_GO/BERT_DNN_senteces_with_GO_200.json', \"r\") as f:\n",
    "    one_hot_encoded_sentences = json.load(f)"
   ]
  },
  {
   "cell_type": "code",
   "execution_count": 15,
   "id": "deeb72f6",
   "metadata": {},
   "outputs": [],
   "source": [
    "one_hot_encoded_sentences = {key: value for key, value in one_hot_encoded_sentences.items() if value}\n"
   ]
  },
  {
   "cell_type": "code",
   "execution_count": 16,
   "id": "f2219cee",
   "metadata": {},
   "outputs": [],
   "source": [
    "matching_string = one_hot_encoded_sentences.values()\n"
   ]
  },
  {
   "cell_type": "code",
   "execution_count": 17,
   "id": "ea88291d",
   "metadata": {},
   "outputs": [
    {
     "name": "stdout",
     "output_type": "stream",
     "text": [
      "Number of all sentences extracted using unique_go:  81206\n"
     ]
    }
   ],
   "source": [
    "matching_string = [item for sublist in matching_string for item in sublist]\n",
    "print(\"Number of all sentences extracted using unique_go: \", len(matching_string))"
   ]
  },
  {
   "cell_type": "code",
   "execution_count": null,
   "id": "7ce13089",
   "metadata": {},
   "outputs": [],
   "source": []
  },
  {
   "cell_type": "code",
   "execution_count": 18,
   "id": "3b43fe10",
   "metadata": {},
   "outputs": [
    {
     "name": "stdout",
     "output_type": "stream",
     "text": [
      "[2024-04-03 14:19:17,943] [INFO] [real_accelerator.py:110:get_accelerator] Setting ds_accelerator to cuda (auto detect)\n"
     ]
    },
    {
     "name": "stderr",
     "output_type": "stream",
     "text": [
      "Some weights of BertModel were not initialized from the model checkpoint at /home/toibazd/Data/BERT/BERT_context_pretrained_InterPro_final_context5/ and are newly initialized: ['bert.pooler.dense.bias', 'bert.pooler.dense.weight']\n",
      "You should probably TRAIN this model on a down-stream task to be able to use it for predictions and inference.\n"
     ]
    },
    {
     "data": {
      "text/plain": [
       "BertModel(\n",
       "  (embeddings): BertEmbeddings(\n",
       "    (word_embeddings): Embedding(544998, 256, padding_idx=0)\n",
       "    (position_embeddings): Embedding(512, 256)\n",
       "    (token_type_embeddings): Embedding(2, 256)\n",
       "    (LayerNorm): LayerNorm((256,), eps=1e-12, elementwise_affine=True)\n",
       "    (dropout): Dropout(p=0.1, inplace=False)\n",
       "  )\n",
       "  (encoder): BertEncoder(\n",
       "    (layer): ModuleList(\n",
       "      (0): BertLayer(\n",
       "        (attention): BertAttention(\n",
       "          (self): BertSelfAttention(\n",
       "            (query): Linear(in_features=256, out_features=256, bias=True)\n",
       "            (key): Linear(in_features=256, out_features=256, bias=True)\n",
       "            (value): Linear(in_features=256, out_features=256, bias=True)\n",
       "            (dropout): Dropout(p=0.1, inplace=False)\n",
       "          )\n",
       "          (output): BertSelfOutput(\n",
       "            (dense): Linear(in_features=256, out_features=256, bias=True)\n",
       "            (LayerNorm): LayerNorm((256,), eps=1e-12, elementwise_affine=True)\n",
       "            (dropout): Dropout(p=0.1, inplace=False)\n",
       "          )\n",
       "        )\n",
       "        (intermediate): BertIntermediate(\n",
       "          (dense): Linear(in_features=256, out_features=256, bias=True)\n",
       "          (intermediate_act_fn): GELUActivation()\n",
       "        )\n",
       "        (output): BertOutput(\n",
       "          (dense): Linear(in_features=256, out_features=256, bias=True)\n",
       "          (LayerNorm): LayerNorm((256,), eps=1e-12, elementwise_affine=True)\n",
       "          (dropout): Dropout(p=0.1, inplace=False)\n",
       "        )\n",
       "      )\n",
       "      (1): BertLayer(\n",
       "        (attention): BertAttention(\n",
       "          (self): BertSelfAttention(\n",
       "            (query): Linear(in_features=256, out_features=256, bias=True)\n",
       "            (key): Linear(in_features=256, out_features=256, bias=True)\n",
       "            (value): Linear(in_features=256, out_features=256, bias=True)\n",
       "            (dropout): Dropout(p=0.1, inplace=False)\n",
       "          )\n",
       "          (output): BertSelfOutput(\n",
       "            (dense): Linear(in_features=256, out_features=256, bias=True)\n",
       "            (LayerNorm): LayerNorm((256,), eps=1e-12, elementwise_affine=True)\n",
       "            (dropout): Dropout(p=0.1, inplace=False)\n",
       "          )\n",
       "        )\n",
       "        (intermediate): BertIntermediate(\n",
       "          (dense): Linear(in_features=256, out_features=256, bias=True)\n",
       "          (intermediate_act_fn): GELUActivation()\n",
       "        )\n",
       "        (output): BertOutput(\n",
       "          (dense): Linear(in_features=256, out_features=256, bias=True)\n",
       "          (LayerNorm): LayerNorm((256,), eps=1e-12, elementwise_affine=True)\n",
       "          (dropout): Dropout(p=0.1, inplace=False)\n",
       "        )\n",
       "      )\n",
       "      (2): BertLayer(\n",
       "        (attention): BertAttention(\n",
       "          (self): BertSelfAttention(\n",
       "            (query): Linear(in_features=256, out_features=256, bias=True)\n",
       "            (key): Linear(in_features=256, out_features=256, bias=True)\n",
       "            (value): Linear(in_features=256, out_features=256, bias=True)\n",
       "            (dropout): Dropout(p=0.1, inplace=False)\n",
       "          )\n",
       "          (output): BertSelfOutput(\n",
       "            (dense): Linear(in_features=256, out_features=256, bias=True)\n",
       "            (LayerNorm): LayerNorm((256,), eps=1e-12, elementwise_affine=True)\n",
       "            (dropout): Dropout(p=0.1, inplace=False)\n",
       "          )\n",
       "        )\n",
       "        (intermediate): BertIntermediate(\n",
       "          (dense): Linear(in_features=256, out_features=256, bias=True)\n",
       "          (intermediate_act_fn): GELUActivation()\n",
       "        )\n",
       "        (output): BertOutput(\n",
       "          (dense): Linear(in_features=256, out_features=256, bias=True)\n",
       "          (LayerNorm): LayerNorm((256,), eps=1e-12, elementwise_affine=True)\n",
       "          (dropout): Dropout(p=0.1, inplace=False)\n",
       "        )\n",
       "      )\n",
       "    )\n",
       "  )\n",
       "  (pooler): None\n",
       ")"
      ]
     },
     "execution_count": 18,
     "metadata": {},
     "output_type": "execute_result"
    }
   ],
   "source": [
    "from transformers import BertModel\n",
    "\n",
    "# Check if CUDA is available and choose device accordingly\n",
    "device = torch.device('cuda' if torch.cuda.is_available() else 'cpu')\n",
    "model_path = \"/home/toibazd/Data/BERT/BERT_context_pretrained_InterPro_final_context5/\"\n",
    "\n",
    "model = BertModel.from_pretrained(model_path).cuda()\n",
    "model.pooler = None\n",
    "model.eval()"
   ]
  },
  {
   "cell_type": "code",
   "execution_count": 19,
   "id": "978dfa1b",
   "metadata": {},
   "outputs": [
    {
     "name": "stdout",
     "output_type": "stream",
     "text": [
      "269\n"
     ]
    }
   ],
   "source": [
    "print(len(one_hot_encoded[1]))"
   ]
  },
  {
   "cell_type": "code",
   "execution_count": 20,
   "id": "c35dd100",
   "metadata": {},
   "outputs": [
    {
     "data": {
      "application/json": {
       "ascii": false,
       "bar_format": null,
       "colour": null,
       "elapsed": 0.017481088638305664,
       "initial": 0,
       "n": 0,
       "ncols": null,
       "nrows": null,
       "postfix": null,
       "prefix": "",
       "rate": null,
       "total": 635,
       "unit": "it",
       "unit_divisor": 1000,
       "unit_scale": false
      },
      "application/vnd.jupyter.widget-view+json": {
       "model_id": "822769d647944bfa842fd8358d479594",
       "version_major": 2,
       "version_minor": 0
      },
      "text/plain": [
       "  0%|          | 0/635 [00:00<?, ?it/s]"
      ]
     },
     "metadata": {},
     "output_type": "display_data"
    }
   ],
   "source": [
    "batch_size = 128 # Define your batch size\n",
    "\n",
    "embeddings = []\n",
    "labels = []\n",
    "\n",
    "# Define your data iterator in batches\n",
    "for i in tqdm(range(0, len(matching_string), batch_size)):\n",
    "    batch_sentences = matching_string[i:i+batch_size]\n",
    "\n",
    "    batch_inputs = tokenizer.encode_batch(batch_sentences)\n",
    "    input_ids_list = []\n",
    "    attention_mask_list = []\n",
    "\n",
    "    for encoding in batch_inputs:\n",
    "        input_ids_list.append(encoding.ids)\n",
    "        attention_mask_list.append(encoding.attention_mask)\n",
    "\n",
    "    # Convert lists to tensors and move to device\n",
    "    input_ids = torch.tensor(input_ids_list).cuda()\n",
    "    attention_mask = torch.tensor(attention_mask_list).cuda()\n",
    "\n",
    "    with torch.inference_mode():\n",
    "        outputs = model(input_ids, attention_mask=attention_mask, output_hidden_states=True)\n",
    "    hidden_states = outputs.last_hidden_state\n",
    "    relevant_hidden_states = hidden_states[:, 5, :]\n",
    "#     relevant_hidden_states = torch.mean(hidden_states[:, 1:-1, :], dim=1)\n",
    "\n",
    "    \n",
    "    for j in range(len(batch_sentences)):\n",
    "        # Move embeddings to CPU\n",
    "        embeddings.append(relevant_hidden_states[j].cpu())\n",
    "        indicator = batch_sentences[j].split()[4]\n",
    "        labels.append(one_hot_encoded_dict[indicator])\n",
    "\n",
    "# Ensure order in embeddings matches order in labels\n",
    "\n",
    "# Now embeddings and labels are stored on the CPU\n"
   ]
  },
  {
   "cell_type": "code",
   "execution_count": 21,
   "id": "7a6f13e3",
   "metadata": {},
   "outputs": [],
   "source": [
    "def calc_pos_weight(targets):\n",
    "    \"\"\"\n",
    "    Calculate the pos_weight parameter for BCEWithLogitsLoss for multilabel classification.\n",
    "\n",
    "    Args:\n",
    "        targets (tensor): Binary tensor of shape (num_samples, num_classes) representing target labels.\n",
    "\n",
    "    Returns:\n",
    "        pos_weight (tensor): Tensor of shape (num_classes,) containing the pos_weight for each class.\n",
    "    \"\"\"\n",
    "    num_classes = targets.size(1)\n",
    "    pos_counts = targets.sum(dim=0)  # Count of positive samples for each class\n",
    "    neg_counts = targets.size(0) - pos_counts  # Count of negative samples for each class\n",
    "\n",
    "    # Calculate class weights\n",
    "    pos_weight = neg_counts / pos_counts\n",
    "    pos_weight[pos_counts == 0] = 1.0  # Avoid division by zero for classes with no positive samples\n",
    "\n",
    "    return torch.as_tensor(pos_weight, dtype=torch.float)"
   ]
  },
  {
   "cell_type": "code",
   "execution_count": 22,
   "id": "620352af",
   "metadata": {},
   "outputs": [
    {
     "name": "stderr",
     "output_type": "stream",
     "text": [
      "/tmp/ipykernel_352106/988310125.py:15: UserWarning: Creating a tensor from a list of numpy.ndarrays is extremely slow. Please consider converting the list to a single numpy.ndarray with numpy.array() before converting to a tensor. (Triggered internally at ../torch/csrc/utils/tensor_new.cpp:230.)\n",
      "  pos_weights = calc_pos_weight(torch.tensor(labels))\n"
     ]
    }
   ],
   "source": [
    "# def calculate_pos_weights(class_counts):\n",
    "#     pos_weights = np.ones_like(class_counts)\n",
    "    \n",
    "#     neg_counts = [len(embeddings)-pos_count for pos_count in class_counts]\n",
    "#     for cdx, (pos_count, neg_count) in enumerate(zip(class_counts,  neg_counts)):\n",
    "#         pos_weights[cdx] = neg_count / (pos_count + 1e-5)\n",
    "\n",
    "#     return torch.as_tensor(pos_weights, dtype=torch.float)\n",
    "\n",
    "\n",
    "# class_counts = np.array(labels).sum(axis=0)\n",
    "\n",
    "# print(class_counts)\n",
    "\n",
    "pos_weights = calc_pos_weight(torch.tensor(labels))"
   ]
  },
  {
   "cell_type": "code",
   "execution_count": 23,
   "id": "1fc1f6a8",
   "metadata": {},
   "outputs": [],
   "source": [
    "import random\n",
    "\n",
    "\n",
    "# Zip the lists together\n",
    "combined = list(zip(embeddings, labels))\n",
    "\n",
    "# Shuffle the combined list\n",
    "random.shuffle(combined)\n",
    "\n",
    "# Unzip the shuffled list\n",
    "embeddings, labels = zip(*combined)"
   ]
  },
  {
   "cell_type": "code",
   "execution_count": 24,
   "id": "d7184dec",
   "metadata": {},
   "outputs": [],
   "source": [
    "model.to(\"cpu\")\n",
    "torch.cuda.empty_cache()"
   ]
  },
  {
   "cell_type": "code",
   "execution_count": 25,
   "id": "f832c70d",
   "metadata": {},
   "outputs": [],
   "source": [
    "import torch.nn as nn\n",
    "\n",
    "class Classification_V0(nn.Module):\n",
    "    def __init__(self, input_dim, first_hidden, second_hidden, last_hidden, output_dim, dropout_prob):\n",
    "        super(Classification_V0, self).__init__()\n",
    "        self.fc1 = nn.Linear(input_dim, first_hidden)\n",
    "        self.relu1 = nn.ReLU()\n",
    "        self.fc2 = nn.Linear(first_hidden, second_hidden)\n",
    "        self.relu2 = nn.ReLU()\n",
    "        self.fc3 = nn.Linear(second_hidden, last_hidden)\n",
    "        self.relu3 = nn.ReLU()\n",
    "        self.fc4 = nn.Linear(last_hidden, output_dim)\n",
    "        \n",
    "        self.dropout = nn.Dropout(dropout_prob)\n",
    "    \n",
    "    def forward(self, x):\n",
    "        x = self.fc1(x)\n",
    "        x = self.relu1(x)\n",
    "        x = self.dropout(x)\n",
    "        x = self.fc2(x)\n",
    "        x = self.relu2(x)\n",
    "        x = self.dropout(x)\n",
    "        x = self.fc3(x)\n",
    "        x = self.relu3(x)\n",
    "        x = self.dropout(x)\n",
    "        x = self.fc4(x)\n",
    "        return x\n",
    "\n",
    "input_dim = 256\n",
    "first_hidden = 128\n",
    "second_hidden = 64\n",
    "last_hidden = 32\n",
    "output_dim = len(unique_go)\n",
    "dropout_prob = 0.25\n",
    "\n",
    "clf_model = Classification_V0(input_dim, first_hidden, second_hidden, last_hidden, output_dim, dropout_prob)\n"
   ]
  },
  {
   "cell_type": "code",
   "execution_count": 26,
   "id": "7d9abc8b",
   "metadata": {},
   "outputs": [],
   "source": [
    "from torch.utils.data import DataLoader, TensorDataset\n",
    "import torch.optim.lr_scheduler as lr_scheduler\n",
    "\n",
    "batch_size = 128\n",
    "def data_generator(embeddings, labels, batch_size):\n",
    "    num_samples = len(embeddings)\n",
    "    for i in range(0, num_samples, batch_size):\n",
    "        batch_embeddings = embeddings[i:i+batch_size]\n",
    "        batch_labels = labels[i:i+batch_size]\n",
    "        yield batch_embeddings, batch_labels\n",
    "\n",
    "# Define optimizer and loss function\n",
    "optimizer = torch.optim.Adam(clf_model.parameters(), lr=0.001)\n",
    "scheduler = lr_scheduler.StepLR(optimizer=optimizer, step_size=5, gamma=0.05)\n",
    "criterion = torch.nn.BCEWithLogitsLoss()"
   ]
  },
  {
   "cell_type": "code",
   "execution_count": 27,
   "id": "ad1b6ca9",
   "metadata": {},
   "outputs": [
    {
     "name": "stdout",
     "output_type": "stream",
     "text": [
      "Epoch 1/10:\n"
     ]
    },
    {
     "data": {
      "application/json": {
       "ascii": false,
       "bar_format": null,
       "colour": null,
       "elapsed": 0.02078080177307129,
       "initial": 0,
       "n": 0,
       "ncols": null,
       "nrows": null,
       "postfix": null,
       "prefix": "Training Batches",
       "rate": null,
       "total": null,
       "unit": "it",
       "unit_divisor": 1000,
       "unit_scale": false
      },
      "application/vnd.jupyter.widget-view+json": {
       "model_id": "",
       "version_major": 2,
       "version_minor": 0
      },
      "text/plain": [
       "Training Batches: 0it [00:00, ?it/s]"
      ]
     },
     "metadata": {},
     "output_type": "display_data"
    },
    {
     "name": "stdout",
     "output_type": "stream",
     "text": [
      "0.10402885938522789\n",
      "Epoch 2/10:\n"
     ]
    },
    {
     "data": {
      "application/json": {
       "ascii": false,
       "bar_format": null,
       "colour": null,
       "elapsed": 0.019924640655517578,
       "initial": 0,
       "n": 0,
       "ncols": null,
       "nrows": null,
       "postfix": null,
       "prefix": "Training Batches",
       "rate": null,
       "total": null,
       "unit": "it",
       "unit_divisor": 1000,
       "unit_scale": false
      },
      "application/vnd.jupyter.widget-view+json": {
       "model_id": "",
       "version_major": 2,
       "version_minor": 0
      },
      "text/plain": [
       "Training Batches: 0it [00:00, ?it/s]"
      ]
     },
     "metadata": {},
     "output_type": "display_data"
    },
    {
     "name": "stdout",
     "output_type": "stream",
     "text": [
      "0.06561611565575177\n",
      "Epoch 3/10:\n"
     ]
    },
    {
     "data": {
      "application/json": {
       "ascii": false,
       "bar_format": null,
       "colour": null,
       "elapsed": 0.01987457275390625,
       "initial": 0,
       "n": 0,
       "ncols": null,
       "nrows": null,
       "postfix": null,
       "prefix": "Training Batches",
       "rate": null,
       "total": null,
       "unit": "it",
       "unit_divisor": 1000,
       "unit_scale": false
      },
      "application/vnd.jupyter.widget-view+json": {
       "model_id": "",
       "version_major": 2,
       "version_minor": 0
      },
      "text/plain": [
       "Training Batches: 0it [00:00, ?it/s]"
      ]
     },
     "metadata": {},
     "output_type": "display_data"
    },
    {
     "name": "stdout",
     "output_type": "stream",
     "text": [
      "0.06219500038884113\n",
      "Epoch 4/10:\n"
     ]
    },
    {
     "data": {
      "application/json": {
       "ascii": false,
       "bar_format": null,
       "colour": null,
       "elapsed": 0.020020484924316406,
       "initial": 0,
       "n": 0,
       "ncols": null,
       "nrows": null,
       "postfix": null,
       "prefix": "Training Batches",
       "rate": null,
       "total": null,
       "unit": "it",
       "unit_divisor": 1000,
       "unit_scale": false
      },
      "application/vnd.jupyter.widget-view+json": {
       "model_id": "",
       "version_major": 2,
       "version_minor": 0
      },
      "text/plain": [
       "Training Batches: 0it [00:00, ?it/s]"
      ]
     },
     "metadata": {},
     "output_type": "display_data"
    },
    {
     "name": "stdout",
     "output_type": "stream",
     "text": [
      "0.060884560222910875\n",
      "Epoch 5/10:\n"
     ]
    },
    {
     "data": {
      "application/json": {
       "ascii": false,
       "bar_format": null,
       "colour": null,
       "elapsed": 0.020032167434692383,
       "initial": 0,
       "n": 0,
       "ncols": null,
       "nrows": null,
       "postfix": null,
       "prefix": "Training Batches",
       "rate": null,
       "total": null,
       "unit": "it",
       "unit_divisor": 1000,
       "unit_scale": false
      },
      "application/vnd.jupyter.widget-view+json": {
       "model_id": "",
       "version_major": 2,
       "version_minor": 0
      },
      "text/plain": [
       "Training Batches: 0it [00:00, ?it/s]"
      ]
     },
     "metadata": {},
     "output_type": "display_data"
    },
    {
     "name": "stdout",
     "output_type": "stream",
     "text": [
      "0.059291340349237456\n",
      "Epoch 6/10:\n"
     ]
    },
    {
     "data": {
      "application/json": {
       "ascii": false,
       "bar_format": null,
       "colour": null,
       "elapsed": 0.020424365997314453,
       "initial": 0,
       "n": 0,
       "ncols": null,
       "nrows": null,
       "postfix": null,
       "prefix": "Training Batches",
       "rate": null,
       "total": null,
       "unit": "it",
       "unit_divisor": 1000,
       "unit_scale": false
      },
      "application/vnd.jupyter.widget-view+json": {
       "model_id": "",
       "version_major": 2,
       "version_minor": 0
      },
      "text/plain": [
       "Training Batches: 0it [00:00, ?it/s]"
      ]
     },
     "metadata": {},
     "output_type": "display_data"
    },
    {
     "name": "stdout",
     "output_type": "stream",
     "text": [
      "0.05833318904477135\n",
      "Epoch 7/10:\n"
     ]
    },
    {
     "data": {
      "application/json": {
       "ascii": false,
       "bar_format": null,
       "colour": null,
       "elapsed": 0.019905805587768555,
       "initial": 0,
       "n": 0,
       "ncols": null,
       "nrows": null,
       "postfix": null,
       "prefix": "Training Batches",
       "rate": null,
       "total": null,
       "unit": "it",
       "unit_divisor": 1000,
       "unit_scale": false
      },
      "application/vnd.jupyter.widget-view+json": {
       "model_id": "",
       "version_major": 2,
       "version_minor": 0
      },
      "text/plain": [
       "Training Batches: 0it [00:00, ?it/s]"
      ]
     },
     "metadata": {},
     "output_type": "display_data"
    },
    {
     "name": "stdout",
     "output_type": "stream",
     "text": [
      "0.05822921333015163\n",
      "Epoch 8/10:\n"
     ]
    },
    {
     "data": {
      "application/json": {
       "ascii": false,
       "bar_format": null,
       "colour": null,
       "elapsed": 0.020039796829223633,
       "initial": 0,
       "n": 0,
       "ncols": null,
       "nrows": null,
       "postfix": null,
       "prefix": "Training Batches",
       "rate": null,
       "total": null,
       "unit": "it",
       "unit_divisor": 1000,
       "unit_scale": false
      },
      "application/vnd.jupyter.widget-view+json": {
       "model_id": "",
       "version_major": 2,
       "version_minor": 0
      },
      "text/plain": [
       "Training Batches: 0it [00:00, ?it/s]"
      ]
     },
     "metadata": {},
     "output_type": "display_data"
    },
    {
     "name": "stdout",
     "output_type": "stream",
     "text": [
      "0.05809794161538932\n",
      "Epoch 9/10:\n"
     ]
    },
    {
     "data": {
      "application/json": {
       "ascii": false,
       "bar_format": null,
       "colour": null,
       "elapsed": 0.024116039276123047,
       "initial": 0,
       "n": 0,
       "ncols": null,
       "nrows": null,
       "postfix": null,
       "prefix": "Training Batches",
       "rate": null,
       "total": null,
       "unit": "it",
       "unit_divisor": 1000,
       "unit_scale": false
      },
      "application/vnd.jupyter.widget-view+json": {
       "model_id": "",
       "version_major": 2,
       "version_minor": 0
      },
      "text/plain": [
       "Training Batches: 0it [00:00, ?it/s]"
      ]
     },
     "metadata": {},
     "output_type": "display_data"
    },
    {
     "name": "stdout",
     "output_type": "stream",
     "text": [
      "0.058013771507060816\n",
      "Epoch 10/10:\n"
     ]
    },
    {
     "data": {
      "application/json": {
       "ascii": false,
       "bar_format": null,
       "colour": null,
       "elapsed": 0.020074129104614258,
       "initial": 0,
       "n": 0,
       "ncols": null,
       "nrows": null,
       "postfix": null,
       "prefix": "Training Batches",
       "rate": null,
       "total": null,
       "unit": "it",
       "unit_divisor": 1000,
       "unit_scale": false
      },
      "application/vnd.jupyter.widget-view+json": {
       "model_id": "",
       "version_major": 2,
       "version_minor": 0
      },
      "text/plain": [
       "Training Batches: 0it [00:00, ?it/s]"
      ]
     },
     "metadata": {},
     "output_type": "display_data"
    },
    {
     "name": "stdout",
     "output_type": "stream",
     "text": [
      "0.05794590701464523\n",
      "Training finished.\n"
     ]
    }
   ],
   "source": [
    "import numpy as np\n",
    "\n",
    "num_epochs = 10\n",
    "epoch_loss = []\n",
    "for epoch in range(num_epochs):\n",
    "    print(f\"Epoch {epoch+1}/{num_epochs}:\")\n",
    "    \n",
    "    # Initialize data generator\n",
    "    generator = data_generator(embeddings, labels, batch_size)\n",
    "    train_loss = 0\n",
    "    # Iterate over batches\n",
    "    for batch_embeddings, batch_labels in tqdm(generator, desc=\"Training Batches\", leave=False):\n",
    "        \n",
    "        optimizer.zero_grad()\n",
    "        \n",
    "        # Convert data to tensors\n",
    "\n",
    "        batch_embeddings_tensor = torch.stack(batch_embeddings)\n",
    "        batch_labels = np.array(batch_labels)\n",
    "        batch_labels_tensor = torch.tensor(batch_labels, dtype = torch.float32)\n",
    "        batch_labels_tensor = batch_labels_tensor.squeeze()\n",
    "\n",
    "        \n",
    "        outputs = clf_model(batch_embeddings_tensor)\n",
    "\n",
    "        \n",
    "        loss = criterion(outputs, batch_labels_tensor)\n",
    "\n",
    "        \n",
    "        train_loss+=loss.item()\n",
    "        # Backward pass and optimization\n",
    "        loss.backward()\n",
    "        optimizer.step()\n",
    "    scheduler.step()\n",
    "    epoch_loss.append(train_loss/(len(embeddings)/batch_size))\n",
    "    print(train_loss/(len(embeddings)/batch_size))\n",
    "print(\"Training finished.\")\n"
   ]
  },
  {
   "cell_type": "code",
   "execution_count": 28,
   "id": "0934bfd8",
   "metadata": {},
   "outputs": [],
   "source": [
    "# directory = '/ibex/user/toibazd/InterPro_annotated_genomes_for_testing/'\n",
    "# one_hot_encoded_sentences_2 = {}\n",
    "\n",
    "# sentence_length = 40\n",
    "# sentence_per_IP = 50\n",
    "# selected_files = os.listdir(directory)\n",
    "\n",
    "\n",
    "# # Iterate over keys\n",
    "# for IP in tqdm(unique_go):\n",
    "#     one_hot_encoded_sentences_2[IP] = []\n",
    "#     sentences_count=0\n",
    "    \n",
    "#     # Iterate over selected files\n",
    "#     for filename in selected_files:\n",
    "#         filepath = os.path.join(directory, filename)\n",
    "\n",
    "#         with open(filepath, 'r') as file:\n",
    "#             content = file.read()\n",
    "#             words = content.strip().split()\n",
    "\n",
    "#             # Check if the key is in the file\n",
    "#             for i in range(19, len(words)-20):\n",
    "#                 # Shuffle the indices of the words containing the key\n",
    "#                 if IP in data_dict[words[i]]:\n",
    "#                     if len(words) - i >= 21:\n",
    "#                         sentence = \" \".join(words[i - 19:i + sentence_length - 19])\n",
    "#                         one_hot_encoded_sentences_2[IP].append(sentence)\n",
    "#                         sentences_count += 1\n",
    "#                         if sentences_count>=sentence_per_IP:\n",
    "#                             break\n",
    "#         if sentences_count>=sentence_per_IP:\n",
    "#             break\n",
    "#     print(sentences_count)\n",
    "            "
   ]
  },
  {
   "cell_type": "code",
   "execution_count": 29,
   "id": "c44fef2d",
   "metadata": {},
   "outputs": [],
   "source": [
    "# import json\n",
    "\n",
    "# with open('BERT_DNN_senteces_with_GO_test.json', 'w') as f:\n",
    "#     json.dump(one_hot_encoded_sentences_2, f)"
   ]
  },
  {
   "cell_type": "code",
   "execution_count": 30,
   "id": "0aae8a77",
   "metadata": {},
   "outputs": [],
   "source": [
    "with open('Research_Exp2_GO/BERT_DNN_senteces_with_GO_test_200.json', \"r\") as f:\n",
    "    test_sentences = json.load(f)"
   ]
  },
  {
   "cell_type": "code",
   "execution_count": 31,
   "id": "9ab316ab",
   "metadata": {},
   "outputs": [
    {
     "data": {
      "text/plain": [
       "269"
      ]
     },
     "execution_count": 31,
     "metadata": {},
     "output_type": "execute_result"
    }
   ],
   "source": [
    "test_sentences = {key: value for key, value in test_sentences.items() if value}\n",
    "len(test_sentences)"
   ]
  },
  {
   "cell_type": "code",
   "execution_count": 32,
   "id": "e3e213bf",
   "metadata": {},
   "outputs": [
    {
     "data": {
      "text/plain": [
       "269"
      ]
     },
     "execution_count": 32,
     "metadata": {},
     "output_type": "execute_result"
    }
   ],
   "source": [
    "matching_string = test_sentences.values()\n",
    "len(matching_string)"
   ]
  },
  {
   "cell_type": "code",
   "execution_count": 33,
   "id": "0a93cb03",
   "metadata": {},
   "outputs": [
    {
     "data": {
      "text/plain": [
       "21490"
      ]
     },
     "execution_count": 33,
     "metadata": {},
     "output_type": "execute_result"
    }
   ],
   "source": [
    "matching_string = [item for sublist in matching_string for item in sublist]\n",
    "len(matching_string)"
   ]
  },
  {
   "cell_type": "code",
   "execution_count": 34,
   "id": "7d499e52",
   "metadata": {},
   "outputs": [
    {
     "data": {
      "application/json": {
       "ascii": false,
       "bar_format": null,
       "colour": null,
       "elapsed": 0.016196727752685547,
       "initial": 0,
       "n": 0,
       "ncols": null,
       "nrows": null,
       "postfix": null,
       "prefix": "",
       "rate": null,
       "total": 168,
       "unit": "it",
       "unit_divisor": 1000,
       "unit_scale": false
      },
      "application/vnd.jupyter.widget-view+json": {
       "model_id": "681bfae957184c68a3a5da44ddfa1945",
       "version_major": 2,
       "version_minor": 0
      },
      "text/plain": [
       "  0%|          | 0/168 [00:00<?, ?it/s]"
      ]
     },
     "metadata": {},
     "output_type": "display_data"
    }
   ],
   "source": [
    "batch_size = 128 # Define your batch size\n",
    "# model.cuda()\n",
    "test_embeddings = []\n",
    "test_labels = []\n",
    "\n",
    "# Define your data iterator in batches\n",
    "for i in tqdm(range(0, len(matching_string), batch_size)):\n",
    "    batch_sentences = matching_string[i:i+batch_size]\n",
    "\n",
    "    batch_inputs = tokenizer.encode_batch(batch_sentences)\n",
    "    input_ids_list = []\n",
    "    attention_mask_list = []\n",
    "\n",
    "    for encoding in batch_inputs:\n",
    "        input_ids_list.append(encoding.ids)\n",
    "        attention_mask_list.append(encoding.attention_mask)\n",
    "    # Convert lists to tensors and move to device\n",
    "    try:\n",
    "        input_ids = torch.tensor(input_ids_list)\n",
    "    except:\n",
    "        for ins in input_ids_list:\n",
    "            if len(ins)!=42:\n",
    "                print(len(ins))\n",
    "                print(ins)\n",
    "    attention_mask = torch.tensor(attention_mask_list)\n",
    "\n",
    "    with torch.inference_mode():\n",
    "        outputs = model(input_ids, attention_mask=attention_mask, output_hidden_states=True)\n",
    "    hidden_states = outputs.last_hidden_state\n",
    "    relevant_hidden_states = hidden_states[:, 5, :]\n",
    "#     relevant_hidden_states = torch.mean(hidden_states[:, 1:-1, :], dim=1)\n",
    "    \n",
    "    for j in range(len(batch_sentences)):\n",
    "        # Move embeddings to CPU\n",
    "        test_embeddings.append(relevant_hidden_states[j].cpu())\n",
    "        indicator = batch_sentences[j].split()[4]\n",
    "        test_labels.append(one_hot_encoded_dict[indicator])\n"
   ]
  },
  {
   "cell_type": "code",
   "execution_count": 35,
   "id": "1b5d975e",
   "metadata": {},
   "outputs": [],
   "source": [
    "model.to(\"cpu\")\n",
    "torch.cuda.empty_cache()"
   ]
  },
  {
   "cell_type": "code",
   "execution_count": 36,
   "id": "e6194248",
   "metadata": {},
   "outputs": [
    {
     "data": {
      "text/plain": [
       "Classification_V0(\n",
       "  (fc1): Linear(in_features=256, out_features=128, bias=True)\n",
       "  (relu1): ReLU()\n",
       "  (fc2): Linear(in_features=128, out_features=64, bias=True)\n",
       "  (relu2): ReLU()\n",
       "  (fc3): Linear(in_features=64, out_features=32, bias=True)\n",
       "  (relu3): ReLU()\n",
       "  (fc4): Linear(in_features=32, out_features=269, bias=True)\n",
       "  (dropout): Dropout(p=0.25, inplace=False)\n",
       ")"
      ]
     },
     "execution_count": 36,
     "metadata": {},
     "output_type": "execute_result"
    }
   ],
   "source": [
    "clf_model.eval()"
   ]
  },
  {
   "cell_type": "code",
   "execution_count": 37,
   "id": "9642349c",
   "metadata": {},
   "outputs": [
    {
     "data": {
      "application/json": {
       "ascii": false,
       "bar_format": null,
       "colour": null,
       "elapsed": 0.02128767967224121,
       "initial": 0,
       "n": 0,
       "ncols": null,
       "nrows": null,
       "postfix": null,
       "prefix": "Evaluation Batches",
       "rate": null,
       "total": null,
       "unit": "it",
       "unit_divisor": 1000,
       "unit_scale": false
      },
      "application/vnd.jupyter.widget-view+json": {
       "model_id": "",
       "version_major": 2,
       "version_minor": 0
      },
      "text/plain": [
       "Evaluation Batches: 0it [00:00, ?it/s]"
      ]
     },
     "metadata": {},
     "output_type": "display_data"
    }
   ],
   "source": [
    "generator = data_generator(test_embeddings, test_labels, batch_size)\n",
    "\n",
    "\n",
    "from sklearn.metrics import multilabel_confusion_matrix\n",
    "from sklearn.metrics import precision_score, recall_score, f1_score\n",
    "import numpy as np\n",
    "\n",
    "all_labels = []\n",
    "all_probs = []\n",
    "\n",
    "\n",
    "\n",
    "for batch_embeddings, batch_labels in tqdm(generator, desc=\"Evaluation Batches\", leave=False):\n",
    "    batch_embeddings_tensor = torch.stack(batch_embeddings)\n",
    "    batch_labels = np.array(batch_labels)\n",
    "    \n",
    "    logits = clf_model(batch_embeddings_tensor)\n",
    "    predictions = torch.sigmoid(logits)\n",
    "    all_labels.append(batch_labels)\n",
    "    all_probs.append(predictions.detach().numpy())\n"
   ]
  },
  {
   "cell_type": "code",
   "execution_count": 38,
   "id": "7cc0ca70",
   "metadata": {},
   "outputs": [],
   "source": [
    "\n",
    "# Concatenate predictions and labels across all batches\n",
    "all_labels = np.concatenate(all_labels)\n",
    "all_probs = np.concatenate(all_probs)"
   ]
  },
  {
   "cell_type": "code",
   "execution_count": 39,
   "id": "cd3189ab",
   "metadata": {},
   "outputs": [
    {
     "name": "stdout",
     "output_type": "stream",
     "text": [
      "GO-centric AUC score:  \n",
      "0 :  0.512205813408345\n",
      "1 :  0.5373751700312308\n",
      "2 :  0.9189810487001775\n",
      "3 :  0.603242191448499\n",
      "4 :  0.9052053838807095\n",
      "5 :  0.5195269082011208\n",
      "6 :  0.7790871871815653\n",
      "7 :  0.7848059309095848\n",
      "8 :  0.6010607760635811\n",
      "9 :  0.7683507566361063\n",
      "10 :  0.6688919302364457\n",
      "11 :  0.45114082204577294\n",
      "12 :  0.7837691967850848\n",
      "13 :  0.9550891600187705\n",
      "14 :  0.9595059469146379\n",
      "15 :  0.9758785284121094\n",
      "16 :  0.6947886297376094\n",
      "17 :  0.7617142799638874\n",
      "18 :  0.8122970215131772\n",
      "19 :  0.4894405619049685\n",
      "20 :  0.9489142483970059\n",
      "21 :  0.4204063571665622\n",
      "22 :  0.4759892051708871\n",
      "23 :  0.7832627885808441\n",
      "24 :  0.7253613248578119\n",
      "25 :  0.6846346108766994\n",
      "26 :  0.5885794325816853\n",
      "27 :  0.36958633497974425\n",
      "28 :  0.5292435294117648\n",
      "29 :  0.8904919224408948\n",
      "30 :  0.9532672519981847\n",
      "31 :  0.8534170588235295\n",
      "32 :  0.7402174592752399\n",
      "33 :  0.9326833673487818\n",
      "34 :  0.657957534693286\n",
      "35 :  0.7806446319737459\n",
      "36 :  0.6499391282292837\n",
      "37 :  0.815647948481558\n",
      "38 :  0.9495335783660506\n",
      "39 :  0.53283453993461\n",
      "40 :  0.4838525550867323\n",
      "41 :  0.6418530239099859\n",
      "42 :  0.48062939521800285\n",
      "43 :  0.7774017417646732\n",
      "44 :  0.8720126220654509\n",
      "45 :  0.690431523106714\n",
      "46 :  0.9957563569520731\n",
      "47 :  0.6962808193505986\n",
      "48 :  1.0\n",
      "49 :  1.0\n",
      "50 :  0.9887435817238772\n",
      "51 :  0.7718829104558164\n",
      "52 :  0.976068197199096\n",
      "53 :  0.33027122521371083\n",
      "54 :  0.45745295922044676\n",
      "55 :  0.7705456958258492\n",
      "56 :  0.6617546689241754\n",
      "57 :  0.9492253837159708\n",
      "58 :  0.7277961151814876\n",
      "59 :  0.6738393074051988\n",
      "60 :  0.6744895706875621\n",
      "61 :  0.9815044476762341\n",
      "62 :  0.9048002722695033\n",
      "63 :  0.7692037017189944\n",
      "64 :  0.7392392840030959\n",
      "65 :  0.7683387372326091\n",
      "66 :  0.6490764799343636\n",
      "67 :  0.7954989809438273\n",
      "68 :  0.6108923573224537\n",
      "69 :  0.690853487882756\n",
      "70 :  0.5284641186752965\n",
      "71 :  0.8567888499902754\n",
      "72 :  0.9070195977031842\n",
      "73 :  0.9062989273505557\n",
      "74 :  0.40947433192686356\n",
      "75 :  0.6446009142053446\n",
      "76 :  0.9958180888127832\n",
      "77 :  0.8911618237656507\n",
      "78 :  0.9887642575450457\n",
      "79 :  0.8479805882352942\n",
      "80 :  0.978407563015297\n",
      "81 :  0.9264600451946344\n",
      "82 :  0.842240646020008\n",
      "83 :  0.4522792598514186\n",
      "84 :  0.49077204101696636\n",
      "85 :  0.8792380546378202\n",
      "86 :  0.9362626034885513\n",
      "87 :  0.44770322620850683\n",
      "88 :  0.5207778999808849\n",
      "89 :  0.9905981744911374\n",
      "90 :  0.7712823399936346\n",
      "91 :  0.9431084348693677\n",
      "92 :  0.7745284832928532\n",
      "93 :  0.9169312080573818\n",
      "94 :  0.47046992593681963\n",
      "95 :  0.7724208649751565\n",
      "96 :  0.7791253515040868\n",
      "97 :  0.950852755618124\n",
      "98 :  0.613251582278481\n",
      "99 :  0.663399804926514\n",
      "100 :  0.6747493966801812\n",
      "101 :  0.7026622594120783\n",
      "102 :  0.9528898428310781\n",
      "103 :  0.8494317647058824\n",
      "104 :  0.9688109718039991\n",
      "105 :  0.485364705882353\n",
      "106 :  0.6981104301884731\n",
      "107 :  0.6806514208105607\n",
      "108 :  0.981674114198148\n",
      "109 :  0.6759634698156937\n",
      "110 :  0.8120331088100265\n",
      "111 :  0.9496769709620939\n",
      "112 :  0.9497716914653144\n",
      "113 :  0.7263553359156949\n",
      "114 :  0.3939058837318331\n",
      "115 :  0.5058873002523129\n",
      "116 :  0.45167064699768694\n",
      "117 :  0.36664146689456023\n",
      "118 :  0.793904711673699\n",
      "119 :  0.5025260855982505\n",
      "120 :  0.7193008734620971\n",
      "121 :  0.5862190739723335\n",
      "122 :  0.6796212478955961\n",
      "123 :  0.6005292765556256\n",
      "124 :  0.637865615592208\n",
      "125 :  0.6335143830167012\n",
      "126 :  0.5855225543927354\n",
      "127 :  0.5373410467480222\n",
      "128 :  0.6342318682659538\n",
      "129 :  0.5409831614728418\n",
      "130 :  0.648276322108247\n",
      "131 :  0.8808682368823049\n",
      "132 :  0.29209346818427906\n",
      "133 :  0.7999212046294087\n",
      "134 :  0.99030634445097\n",
      "135 :  0.807660176941507\n",
      "136 :  0.5256324956149631\n",
      "137 :  0.8526923397516046\n",
      "138 :  0.47824789817842134\n",
      "139 :  0.6600685654008439\n",
      "140 :  0.5241501799496556\n",
      "141 :  0.4935359055367128\n",
      "142 :  0.6795899308965511\n",
      "143 :  0.9812437353142605\n",
      "144 :  0.9329410418961956\n",
      "145 :  0.7613493692771558\n",
      "146 :  0.4378530604983816\n",
      "147 :  0.2911444212215529\n",
      "148 :  0.8015374358458287\n",
      "149 :  0.7255624913866918\n",
      "150 :  0.7413854982679354\n",
      "151 :  0.490192252754757\n",
      "152 :  0.5055435294117647\n",
      "153 :  0.529101009281701\n",
      "154 :  0.9977856925313612\n",
      "155 :  0.9492349315386059\n",
      "156 :  0.5940577806959947\n",
      "157 :  0.33802547859187015\n",
      "158 :  0.520895919172784\n",
      "159 :  0.7840046307746688\n",
      "160 :  0.9756859275472565\n",
      "161 :  0.9517805448908782\n",
      "162 :  0.607782583332894\n",
      "163 :  0.8206076203880566\n",
      "164 :  0.4898447022972339\n",
      "165 :  0.6582600518093364\n",
      "166 :  0.823988790429946\n",
      "167 :  0.7083204928800442\n",
      "168 :  0.5761379708585357\n",
      "169 :  0.8064850630905447\n",
      "170 :  0.4802414044956492\n",
      "171 :  0.6959392085264188\n",
      "172 :  0.8068737496417209\n",
      "173 :  0.5895939137309553\n",
      "174 :  0.7405092430323105\n",
      "175 :  0.5822840414854467\n",
      "176 :  0.2133216694734285\n",
      "177 :  0.501179090482888\n",
      "178 :  0.21854652735653698\n",
      "179 :  0.980766105777423\n",
      "180 :  0.5484082074595957\n",
      "181 :  0.6959059541894062\n",
      "182 :  0.8068901556934307\n",
      "183 :  1.0\n",
      "184 :  1.0\n",
      "185 :  0.6516989666158993\n",
      "186 :  0.8351078293483356\n",
      "187 :  0.8092521952515566\n",
      "188 :  0.7115890440157732\n",
      "189 :  0.3791216519426937\n",
      "190 :  0.8028315638691798\n",
      "191 :  0.38516372459313025\n",
      "192 :  0.7407077610476616\n",
      "193 :  0.9976325440013523\n",
      "194 :  0.5772488841292844\n",
      "195 :  0.7684851511521604\n",
      "196 :  0.7851852855953356\n",
      "197 :  0.48299520969893245\n",
      "198 :  0.9662896847210194\n",
      "199 :  0.449559624962221\n",
      "200 :  0.6565486143729451\n",
      "201 :  0.6399363444886497\n",
      "202 :  0.6871736338159738\n",
      "203 :  0.8906479129186429\n",
      "204 :  0.6497557785164816\n",
      "205 :  0.7696753853339562\n",
      "206 :  0.513133062039312\n",
      "207 :  0.6547559188935772\n",
      "208 :  0.3046545837463711\n",
      "209 :  0.480095165810369\n",
      "210 :  0.5766955595641075\n",
      "211 :  0.8797445255126671\n",
      "212 :  0.8185252941176471\n",
      "213 :  0.37215644576808404\n",
      "214 :  0.4182424988279419\n",
      "215 :  0.5286328602312247\n",
      "216 :  0.6718633156127207\n",
      "217 :  0.4065717004201386\n",
      "218 :  0.6408244971521518\n",
      "219 :  0.9193192608321645\n",
      "220 :  0.8901851750894983\n",
      "221 :  0.9895978122696729\n",
      "222 :  0.666525037319333\n",
      "223 :  0.68975925901013\n",
      "224 :  0.2870916500934771\n",
      "225 :  0.6969401557150109\n",
      "226 :  0.571173788907091\n",
      "227 :  0.7153756997994158\n",
      "228 :  0.6413659856526733\n",
      "229 :  0.5069138660947637\n",
      "230 :  0.6527517301351498\n",
      "231 :  0.6167237442922375\n",
      "232 :  0.7139309614454092\n",
      "233 :  0.995552446869012\n",
      "234 :  0.6638379043600562\n",
      "235 :  0.9823782302640903\n",
      "236 :  0.9323094364180511\n",
      "237 :  0.8142513903388671\n",
      "238 :  0.9329085381958894\n",
      "239 :  0.9340829809471197\n",
      "240 :  0.8478042172518139\n",
      "241 :  0.6581034051373638\n",
      "242 :  0.6507740723344294\n",
      "243 :  0.6799271841674764\n",
      "244 :  0.9688393970800631\n",
      "245 :  0.8094558415952968\n",
      "246 :  0.9046241867709086\n",
      "247 :  0.38351219827552313\n",
      "248 :  0.32401605719643695\n",
      "249 :  0.6959232453236247\n",
      "250 :  0.5070920731006496\n",
      "251 :  0.5087680895250619\n",
      "252 :  0.9022202903845589\n",
      "253 :  0.8149775221858944\n",
      "254 :  0.796552070004988\n",
      "255 :  0.5798214826621746\n",
      "256 :  0.44035919506600507\n",
      "257 :  0.6915741234146862\n",
      "258 :  0.9163586726171183\n",
      "259 :  0.9779419918215708\n",
      "260 :  0.997608179561814\n",
      "261 :  0.7124700483802828\n",
      "262 :  0.7999300373134328\n",
      "263 :  0.6904642322760789\n",
      "264 :  0.780900726676043\n",
      "265 :  0.6024622662145904\n",
      "266 :  0.480927684013127\n",
      "267 :  0.4826088868836317\n",
      "268 :  0.5454122068255886\n"
     ]
    }
   ],
   "source": [
    "from sklearn import metrics\n",
    "auc_scores = []\n",
    "\n",
    "for i in range(all_labels.shape[1]):  # Iterate over each column\n",
    "    y = all_labels[:, i]\n",
    "    pred_y = all_probs[:, i]\n",
    "\n",
    "    fpr, tpr, thresholds = metrics.roc_curve(y, pred_y)\n",
    "    auc_score = metrics.auc(fpr, tpr)\n",
    "    auc_scores.append(auc_score)\n",
    "\n",
    "print(\"GO-centric AUC score:  \")\n",
    "for idx, score in enumerate(auc_scores):\n",
    "    print(idx,\": \", score)"
   ]
  },
  {
   "cell_type": "code",
   "execution_count": 40,
   "id": "6eacc27b",
   "metadata": {},
   "outputs": [
    {
     "name": "stdout",
     "output_type": "stream",
     "text": [
      "Number of AUC scores:  269\n"
     ]
    }
   ],
   "source": [
    "print(\"Number of AUC scores: \", len(auc_scores))"
   ]
  },
  {
   "cell_type": "code",
   "execution_count": 41,
   "id": "fba9db5c",
   "metadata": {},
   "outputs": [
    {
     "data": {
      "image/png": "[encoded data removed]",
      "text/plain": [
       "<Figure size 800x600 with 1 Axes>"
      ]
     },
     "metadata": {},
     "output_type": "display_data"
    }
   ],
   "source": [
    "import matplotlib.pyplot as plt\n",
    "\n",
    "\n",
    "plt.figure(figsize=(8, 6))  # Increase the size of the plot\n",
    "plt.hist(auc_scores, bins=20, color='b', alpha=0.7)  # Plot histogram with 10 bins, blue color, and transparency\n",
    "plt.xlabel('AUC scores')  # Label x-axis\n",
    "plt.ylabel('Frequency')  # Label y-axis\n",
    "plt.title('Histogram of AUC Score distribution')  # Add a title\n",
    "plt.grid(True)  # Add grid lines\n",
    "\n",
    "plt.show()"
   ]
  },
  {
   "cell_type": "code",
   "execution_count": 42,
   "id": "492e8479",
   "metadata": {},
   "outputs": [
    {
     "name": "stdout",
     "output_type": "stream",
     "text": [
      "*** micro AUC score for Exp2***:  0.8564830366703853\n",
      "*** macro AUC score for Exp2***:  0.7056881731048273\n"
     ]
    }
   ],
   "source": [
    "from sklearn import metrics\n",
    "\n",
    "y = all_labels.flatten()\n",
    "pred_y = all_probs.flatten()\n",
    "\n",
    "fpr, tpr, thresholds = metrics.roc_curve(y, pred_y)\n",
    "print(\"*** micro AUC score for Exp2***: \",metrics.auc(fpr, tpr))\n",
    "print(\"*** macro AUC score for Exp2***: \",np.nanmean(auc_scores))"
   ]
  },
  {
   "cell_type": "code",
   "execution_count": 43,
   "id": "10c9315f",
   "metadata": {},
   "outputs": [
    {
     "data": {
      "image/png": "[encoded data removed]",
      "text/plain": [
       "<Figure size 800x600 with 1 Axes>"
      ]
     },
     "metadata": {},
     "output_type": "display_data"
    }
   ],
   "source": [
    "plt.figure(figsize=(8, 6))\n",
    "plt.plot(fpr, tpr, color='blue', label='ROC Curve')\n",
    "plt.plot([0, 1], [0, 1], color='red', linestyle='--', label='Random Guess')\n",
    "\n",
    "plt.xlabel('False Positive Rate')\n",
    "plt.ylabel('True Positive Rate')\n",
    "plt.title('Receiver Operating Characteristic (ROC) Curve')\n",
    "plt.legend(loc='lower right')\n",
    "plt.grid(True)\n",
    "plt.show()"
   ]
  },
  {
   "cell_type": "code",
   "execution_count": 44,
   "id": "2c38770f",
   "metadata": {},
   "outputs": [
    {
     "data": {
      "text/plain": [
       "array([0.00834441, 0.0095645 , 0.00512317, 0.00950672, 0.0106894 ,\n",
       "       0.0176849 , 0.07512265, 0.00756893, 0.00693275, 0.02147565,\n",
       "       0.03821492, 0.00374927, 0.01560649, 0.00346434, 0.00625367,\n",
       "       0.00810062, 0.00451789, 0.00748024, 0.00960496, 0.00902459,\n",
       "       0.01484212, 0.00588781, 0.00811395, 0.02277502, 0.00595333,\n",
       "       0.0057428 , 0.00933619, 0.00854392, 0.0151725 , 0.00397161,\n",
       "       0.00561681, 0.00617506, 0.00690452, 0.00600322, 0.01606318,\n",
       "       0.00704178, 0.01593093, 0.00345637, 0.01261697, 0.00279758,\n",
       "       0.00827666, 0.00551004, 0.00912875, 0.01069552, 0.00277393,\n",
       "       0.01227333, 0.00291434, 0.00382835, 0.00024827, 0.000263  ,\n",
       "       0.00563217, 0.00821064, 0.00813329, 0.00872649, 0.00403606,\n",
       "       0.0180825 , 0.0104462 , 0.00601786, 0.00534458, 0.01600405,\n",
       "       0.00741886, 0.00715223, 0.00595198, 0.01531431, 0.12447044,\n",
       "       0.0364364 , 0.0173726 , 0.01574305, 0.0108683 , 0.01220882,\n",
       "       0.01463274, 0.01007613, 0.00764569, 0.00770112, 0.00907595,\n",
       "       0.00531316, 0.00306673, 0.00541619, 0.00529764, 0.00615246,\n",
       "       0.01072949, 0.01478026, 0.00812502, 0.01485029, 0.00915052,\n",
       "       0.00205751, 0.01276574, 0.00700561, 0.01435221, 0.00239001,\n",
       "       0.01779487, 0.01481108, 0.02132092, 0.00515962, 0.01478148,\n",
       "       0.0085804 , 0.01574575, 0.00399643, 0.00974106, 0.01031851,\n",
       "       0.02762445, 0.01716708, 0.00559885, 0.00627431, 0.01009566,\n",
       "       0.0150607 , 0.01345138, 0.01645975, 0.00705876, 0.0073048 ,\n",
       "       0.00775608, 0.00606289, 0.00611902, 0.02782535, 0.00857271,\n",
       "       0.0050833 , 0.00730441, 0.00812629, 0.01025995, 0.00571246,\n",
       "       0.02484068, 0.00920346, 0.00449175, 0.00633168, 0.00494175,\n",
       "       0.00638443, 0.00968817, 0.00863141, 0.00422034, 0.00517561,\n",
       "       0.00714477, 0.00244789, 0.00902035, 0.01190547, 0.00194264,\n",
       "       0.0034189 , 0.01434039, 0.01002505, 0.00324121, 0.00543562,\n",
       "       0.00630487, 0.00752889, 0.01155459, 0.00170222, 0.00621676,\n",
       "       0.00740864, 0.00394985, 0.00899656, 0.01186966, 0.00534609,\n",
       "       0.00806147, 0.00747928, 0.01497249, 0.01439035, 0.00159556,\n",
       "       0.01262252, 0.00958389, 0.00885579, 0.01763734, 0.0051032 ,\n",
       "       0.00817724, 0.00260277, 0.01089646, 0.00782363, 0.00856803,\n",
       "       0.01088564, 0.00526136, 0.01200305, 0.00474846, 0.00641485,\n",
       "       0.01008394, 0.00933115, 0.00603788, 0.00929803, 0.00799626,\n",
       "       0.00414413, 0.00798863, 0.00868237, 0.00793881, 0.00713609,\n",
       "       0.00740457, 0.01183455, 0.00600152, 0.00026435, 0.00026145,\n",
       "       0.236669  , 0.00998975, 0.00683776, 0.00612375, 0.00596325,\n",
       "       0.01748131, 0.01832674, 0.00586812, 0.00092529, 0.0051028 ,\n",
       "       0.00413696, 0.01056655, 0.00274226, 0.00254523, 0.00444775,\n",
       "       0.00561335, 0.00817152, 0.00396861, 0.00409933, 0.00700075,\n",
       "       0.00392549, 0.0172879 , 0.0058717 , 0.00624471, 0.00341974,\n",
       "       0.00804694, 0.00928527, 0.01466654, 0.0123875 , 0.0089284 ,\n",
       "       0.00951496, 0.01880868, 0.00811667, 0.0099844 , 0.0146568 ,\n",
       "       0.00516144, 0.00205471, 0.01425006, 0.00982185, 0.00672939,\n",
       "       0.00882741, 0.00713299, 0.01925951, 0.07779143, 0.01109319,\n",
       "       0.0161552 , 0.02524814, 0.00342859, 0.00300017, 0.00510657,\n",
       "       0.0091979 , 0.01473313, 0.00652069, 0.00695251, 0.00687233,\n",
       "       0.00440052, 0.01098371, 0.00537689, 0.00343425, 0.00999494,\n",
       "       0.00586629, 0.0082942 , 0.00591311, 0.00849048, 0.0091636 ,\n",
       "       0.00583357, 0.00583527, 0.00602609, 0.00191942, 0.01198048,\n",
       "       0.00639438, 0.00610103, 0.00617602, 0.02344205, 0.0108583 ,\n",
       "       0.00093331, 0.11045516, 0.0033945 , 0.00979843, 0.00700431,\n",
       "       0.0041822 , 0.00919518, 0.00375588, 0.00739501], dtype=float32)"
      ]
     },
     "execution_count": 44,
     "metadata": {},
     "output_type": "execute_result"
    }
   ],
   "source": [
    "all_probs[0]"
   ]
  },
  {
   "cell_type": "code",
   "execution_count": 45,
   "id": "0b73f6a0",
   "metadata": {},
   "outputs": [
    {
     "name": "stderr",
     "output_type": "stream",
     "text": [
      "100%|██████████| 269/269 [03:59<00:00,  1.13it/s]"
     ]
    },
    {
     "name": "stdout",
     "output_type": "stream",
     "text": [
      "Fmax Scores per Class: [0.0198906  0.02426323 0.65429234 0.02048511 0.73286052 0.09589041\n",
      " 0.48506982 0.07954184 0.01335799 0.31961259 0.09774292 0.00741771\n",
      " 0.13815188 0.25273923 0.94049734 0.33268608 0.01346633 0.04874613\n",
      " 0.03191011 0.02457757 0.17353579 0.01303685 0.01046151 0.50570962\n",
      " 0.01942556 0.02239485 0.02127535 0.01444727 0.03787677 0.64556962\n",
      " 0.24627451 0.12645231 0.0217518  0.22939068 0.11655874 0.03612903\n",
      " 0.10966057 0.05303933 0.78115183 0.00741771 0.01963672 0.01942421\n",
      " 0.01807399 0.05769563 0.03074195 0.22137405 0.96580027 0.01888083\n",
      " 1.         1.         0.99334221 0.11605124 0.33507171 0.01961385\n",
      " 0.01220979 0.21880907 0.02186429 0.9125377  0.05762474 0.07188542\n",
      " 0.0345379  0.55498282 0.66509434 0.08734365 0.50638223 0.28866868\n",
      " 0.15454545 0.16354816 0.04685623 0.24369748 0.0341962  0.10407632\n",
      " 0.17989418 0.1761658  0.01764476 0.0198195  0.96580027 0.69348128\n",
      " 0.99334221 0.12520064 0.92814371 0.90823328 0.0738204  0.02791752\n",
      " 0.0248062  0.24468085 0.87629293 0.01760563 0.03520094 0.97289848\n",
      " 0.22083432 0.13969732 0.32770482 0.6588785  0.02620589 0.12941176\n",
      " 0.13441331 0.24506467 0.32587859 0.02163477 0.07453884 0.07391168\n",
      " 0.18679358 0.12594187 0.77789364 0.03738482 0.05412115 0.05974788\n",
      " 0.55498282 0.04395604 0.02254723 0.9125377  0.9125377  0.42876902\n",
      " 0.01925855 0.00815646 0.01647446 0.01423027 0.02308303 0.01386322\n",
      " 0.0925249  0.05240642 0.02011805 0.03881925 0.01456006 0.01122566\n",
      " 0.01919528 0.01734038 0.02158097 0.01276124 0.031492   0.24468085\n",
      " 0.01606352 0.04723936 0.98146432 0.03699044 0.03633061 0.10327022\n",
      " 0.00741771 0.02630462 0.01165803 0.01611316 0.08527132 0.97783934\n",
      " 0.22939068 0.0488149  0.02447552 0.01606352 0.21914648 0.05249727\n",
      " 0.04801601 0.01595843 0.03824401 0.03712988 0.99717514 0.78115183\n",
      " 0.01920473 0.01919659 0.09589041 0.18103448 0.33354964 0.95006191\n",
      " 0.04550758 0.02283246 0.01831566 0.04081633 0.35643564 0.05662651\n",
      " 0.0076948  0.18309859 0.01777727 0.15441176 0.22884013 0.05060241\n",
      " 0.04878595 0.01897489 0.01487229 0.01772095 0.01487229 0.55498282\n",
      " 0.01961728 0.03816484 0.23137876 1.         1.         0.51801734\n",
      " 0.07017544 0.80939948 0.02324324 0.01487229 0.54577465 0.03416856\n",
      " 0.06177606 0.98146432 0.01469606 0.03285557 0.05779547 0.00751008\n",
      " 0.95319532 0.0076948  0.02570026 0.03631082 0.00741771 0.69541029\n",
      " 0.02962603 0.00741771 0.03922619 0.02479659 0.01101393 0.01622718\n",
      " 0.03974895 0.20960699 0.04185964 0.02463368 0.01731507 0.02450159\n",
      " 0.07267057 0.01946757 0.14981273 0.60665362 0.66577896 0.98146432\n",
      " 0.04922186 0.03694983 0.01322054 0.03694073 0.03921569 0.09170306\n",
      " 0.24740933 0.02620881 0.11454545 0.05736434 0.02331606 0.96580027\n",
      " 0.02735978 0.63395486 0.13977868 0.06266502 0.0577312  0.0562724\n",
      " 0.01420036 0.04584527 0.0260825  0.0436949  0.77789364 0.21313869\n",
      " 0.17418033 0.01487229 0.01862848 0.15441176 0.0761035  0.07656968\n",
      " 0.6177437  0.03101737 0.04664983 0.01694004 0.01184198 0.02502195\n",
      " 0.57943925 0.92814371 0.98146432 0.31154381 0.00464253 0.03374516\n",
      " 0.03618155 0.00760245 0.01833391 0.01220979 0.01963619]\n"
     ]
    },
    {
     "name": "stderr",
     "output_type": "stream",
     "text": [
      "\n"
     ]
    }
   ],
   "source": [
    "import numpy as np\n",
    "from sklearn.metrics import fbeta_score\n",
    "from tqdm import tqdm\n",
    "\n",
    "def calculate_Fmax_score_per_class(y_true, y_pred_probs, beta=1):\n",
    "    \"\"\"\n",
    "    Calculate the Fmax score for each class in multilabel classification.\n",
    "    \n",
    "    Parameters:\n",
    "        y_true (numpy array): True labels with shape (n_samples, n_classes).\n",
    "        y_pred_probs (numpy array): Predicted probabilities with shape (n_samples, n_classes).\n",
    "        beta (float): Weight for precision in harmonic mean. \n",
    "                      For beta < 1, more weight is assigned to recall. For beta > 1, more weight is assigned to precision.\n",
    "        \n",
    "    Returns:\n",
    "        Fmax_scores (numpy array): Fmax score for each class.\n",
    "    \"\"\"\n",
    "    Fmax_scores = []\n",
    "    for i in tqdm(range(y_true.shape[1])):  # Iterate over each class\n",
    "        y_true_class = y_true[:, i].flatten()\n",
    "        y_pred_probs_class = y_pred_probs[:, i]\n",
    "        \n",
    "        thresholds = np.arange(0, 1.005, 0.005)  # Thresholds for converting probabilities to binary predictions\n",
    "\n",
    "        Fmax_class = 0\n",
    "        for threshold in thresholds:\n",
    "            y_pred_class = (y_pred_probs_class >= threshold).astype(int)\n",
    "            F_score_class = fbeta_score(y_true_class, y_pred_class, beta=beta)\n",
    "            if F_score_class > Fmax_class:\n",
    "                Fmax_class = F_score_class\n",
    "                \n",
    "        Fmax_scores.append(Fmax_class)\n",
    "    \n",
    "    return np.array(Fmax_scores)\n",
    "\n",
    "# Example usage:\n",
    "# Assuming all_labels and all_probs are numpy arrays containing true labels and predicted probabilities, respectively\n",
    "# all_labels.shape = (n_samples, n_classes), all_probs.shape = (n_samples, n_classes)\n",
    "# beta is the weight for precision in the harmonic mean\n",
    "\n",
    "Fmax_scores_per_class = calculate_Fmax_score_per_class(all_labels, all_probs, beta=1)\n",
    "print(\"Fmax Scores per Class:\", Fmax_scores_per_class)\n"
   ]
  },
  {
   "cell_type": "code",
   "execution_count": 46,
   "id": "21f752be",
   "metadata": {},
   "outputs": [
    {
     "data": {
      "text/plain": [
       "'GO:0000166'"
      ]
     },
     "execution_count": 46,
     "metadata": {},
     "output_type": "execute_result"
    }
   ],
   "source": [
    "enc.classes_[1]"
   ]
  },
  {
   "cell_type": "code",
   "execution_count": 47,
   "id": "489e4706",
   "metadata": {},
   "outputs": [
    {
     "data": {
      "text/plain": [
       "0.2135296035318961"
      ]
     },
     "execution_count": 47,
     "metadata": {},
     "output_type": "execute_result"
    }
   ],
   "source": [
    "np.mean(Fmax_scores_per_class)"
   ]
  },
  {
   "cell_type": "code",
   "execution_count": 50,
   "id": "0ae61233",
   "metadata": {},
   "outputs": [
    {
     "name": "stdout",
     "output_type": "stream",
     "text": [
      "GO:0000105  :  0.512205813408345  :  0.019890601690701143\n",
      "GO:0000166  :  0.5373751700312308  :  0.024263233190271818\n",
      "GO:0000179  :  0.9189810487001775  :  0.654292343387471\n",
      "GO:0000271  :  0.603242191448499  :  0.020485114525296864\n",
      "GO:0000287  :  0.9052053838807095  :  0.7328605200945626\n",
      "GO:0001522  :  0.5195269082011208  :  0.0958904109589041\n",
      "GO:0003677  :  0.7790871871815653  :  0.4850698174006445\n",
      "GO:0003678  :  0.7848059309095848  :  0.07954183900731784\n",
      "GO:0003684  :  0.6010607760635811  :  0.013357994245787094\n",
      "GO:0003700  :  0.7683507566361063  :  0.3196125907990315\n",
      "GO:0003723  :  0.6688919302364457  :  0.09774292272379495\n",
      "GO:0003729  :  0.45114082204577294  :  0.007417709782104775\n",
      "GO:0003735  :  0.7837691967850848  :  0.13815187557182068\n",
      "GO:0003746  :  0.9550891600187705  :  0.2527392257121987\n",
      "GO:0003824  :  0.9595059469146379  :  0.9404973357015985\n",
      "GO:0003842  :  0.9758785284121094  :  0.3326860841423948\n",
      "GO:0003855  :  0.6947886297376094  :  0.013466334164588529\n",
      "GO:0003871  :  0.7617142799638874  :  0.04874612566920259\n",
      "GO:0003887  :  0.8122970215131772  :  0.03191011235955056\n",
      "GO:0003896  :  0.4894405619049685  :  0.02457757296466974\n",
      "GO:0003899  :  0.9489142483970059  :  0.1735357917570499\n",
      "GO:0003917  :  0.4204063571665622  :  0.013036845268364846\n",
      "GO:0003918  :  0.4759892051708871  :  0.01046150997546637\n",
      "GO:0003924  :  0.7832627885808441  :  0.5057096247960848\n",
      "GO:0003933  :  0.7253613248578119  :  0.019425558484806437\n",
      "GO:0003934  :  0.6846346108766994  :  0.02239484918468752\n",
      "GO:0003979  :  0.5885794325816853  :  0.021275352153837163\n",
      "GO:0003983  :  0.36958633497974425  :  0.014447273373201492\n",
      "GO:0003989  :  0.5292435294117648  :  0.037876767137903444\n",
      "GO:0004017  :  0.8904919224408948  :  0.6455696202531646\n",
      "GO:0004055  :  0.9532672519981847  :  0.24627450980392157\n",
      "GO:0004088  :  0.8534170588235295  :  0.1264523101864361\n",
      "GO:0004129  :  0.7402174592752399  :  0.021751796465333074\n",
      "GO:0004160  :  0.9326833673487818  :  0.22939068100358423\n",
      "GO:0004176  :  0.657957534693286  :  0.11655874190564293\n",
      "GO:0004222  :  0.7806446319737459  :  0.03612903225806452\n",
      "GO:0004252  :  0.6499391282292837  :  0.10966057441253264\n",
      "GO:0004308  :  0.815647948481558  :  0.05303933253873659\n",
      "GO:0004326  :  0.9495335783660506  :  0.7811518324607329\n",
      "GO:0004386  :  0.53283453993461  :  0.007417709782104775\n",
      "GO:0004400  :  0.4838525550867323  :  0.019636720667648502\n",
      "GO:0004474  :  0.6418530239099859  :  0.019424210891432536\n",
      "GO:0004479  :  0.48062939521800285  :  0.018073990398192602\n",
      "GO:0004497  :  0.7774017417646732  :  0.05769562964242529\n",
      "GO:0004540  :  0.8720126220654509  :  0.030741945019213717\n",
      "GO:0004553  :  0.690431523106714  :  0.22137404580152673\n",
      "GO:0004591  :  0.9957563569520731  :  0.9658002735978112\n",
      "GO:0004601  :  0.6962808193505986  :  0.018880831851142428\n",
      "GO:0004632  :  1.0  :  1.0\n",
      "GO:0004633  :  1.0  :  1.0\n",
      "GO:0004641  :  0.9887435817238772  :  0.9933422103861518\n",
      "GO:0004654  :  0.7718829104558164  :  0.11605124340617935\n",
      "GO:0004657  :  0.976068197199096  :  0.3350717079530639\n",
      "GO:0004668  :  0.33027122521371083  :  0.01961385228317499\n",
      "GO:0004764  :  0.45745295922044676  :  0.012209786328739248\n",
      "GO:0004803  :  0.7705456958258492  :  0.21880907372400757\n",
      "GO:0004814  :  0.6617546689241754  :  0.02186428617633741\n",
      "GO:0004888  :  0.9492253837159708  :  0.9125376992675571\n",
      "GO:0005198  :  0.7277961151814876  :  0.05762473647224174\n",
      "GO:0005215  :  0.6738393074051988  :  0.07188541572831277\n",
      "GO:0005247  :  0.6744895706875621  :  0.0345378957467221\n",
      "GO:0005298  :  0.9815044476762341  :  0.5549828178694158\n",
      "GO:0005436  :  0.9048002722695033  :  0.6650943396226415\n",
      "GO:0005506  :  0.7692037017189944  :  0.08734365062539749\n",
      "GO:0005524  :  0.7392392840030959  :  0.5063822346564084\n",
      "GO:0005525  :  0.7683387372326091  :  0.2886686772942697\n",
      "GO:0005737  :  0.6490764799343636  :  0.15454545454545454\n",
      "GO:0005840  :  0.7954989809438273  :  0.16354816354816354\n",
      "GO:0005886  :  0.6108923573224537  :  0.04685622747296756\n",
      "GO:0005975  :  0.690853487882756  :  0.24369747899159663\n",
      "GO:0006011  :  0.5284641186752965  :  0.034196198299742096\n",
      "GO:0006064  :  0.8567888499902754  :  0.10407632263660017\n",
      "GO:0006071  :  0.9070195977031842  :  0.17989417989417988\n",
      "GO:0006094  :  0.9062989273505557  :  0.17616580310880828\n",
      "GO:0006096  :  0.40947433192686356  :  0.017644759618069127\n",
      "GO:0006097  :  0.6446009142053446  :  0.019819500973279065\n",
      "GO:0006099  :  0.9958180888127832  :  0.9658002735978112\n",
      "GO:0006139  :  0.8911618237656507  :  0.6934812760055479\n",
      "GO:0006189  :  0.9887642575450457  :  0.9933422103861518\n",
      "GO:0006207  :  0.8479805882352942  :  0.12520064205457465\n",
      "GO:0006231  :  0.978407563015297  :  0.9281437125748503\n",
      "GO:0006260  :  0.9264600451946344  :  0.9082332761578045\n",
      "GO:0006261  :  0.842240646020008  :  0.07382039573820395\n",
      "GO:0006265  :  0.4522792598514186  :  0.027917522851271876\n",
      "GO:0006269  :  0.49077204101696636  :  0.024806201550387597\n",
      "GO:0006276  :  0.8792380546378202  :  0.24468085106382978\n",
      "GO:0006281  :  0.9362626034885513  :  0.8762929251137774\n",
      "GO:0006306  :  0.44770322620850683  :  0.017605633802816902\n",
      "GO:0006308  :  0.5207778999808849  :  0.03520093869169844\n",
      "GO:0006310  :  0.9905981744911374  :  0.9728984841525035\n",
      "GO:0006313  :  0.7712823399936346  :  0.22083431534291775\n",
      "GO:0006351  :  0.9431084348693677  :  0.13969732246798602\n",
      "GO:0006355  :  0.7745284832928532  :  0.32770481550969355\n",
      "GO:0006364  :  0.9169312080573818  :  0.6588785046728972\n",
      "GO:0006396  :  0.47046992593681963  :  0.026205888494466485\n",
      "GO:0006402  :  0.7724208649751565  :  0.12941176470588237\n",
      "GO:0006412  :  0.7791253515040868  :  0.13441330998248688\n",
      "GO:0006414  :  0.950852755618124  :  0.2450646698434309\n",
      "GO:0006415  :  0.613251582278481  :  0.3258785942492013\n",
      "GO:0006420  :  0.663399804926514  :  0.02163476925046406\n",
      "GO:0006508  :  0.6747493966801812  :  0.0745388379972393\n",
      "GO:0006520  :  0.7026622594120783  :  0.07391168180394614\n",
      "GO:0006526  :  0.9528898428310781  :  0.1867935752528257\n",
      "GO:0006541  :  0.8494317647058824  :  0.12594187298170076\n",
      "GO:0006564  :  0.9688109718039991  :  0.7778936392075079\n",
      "GO:0006633  :  0.485364705882353  :  0.03738481790258885\n",
      "GO:0006812  :  0.6981104301884731  :  0.054121151936444886\n",
      "GO:0006813  :  0.6806514208105607  :  0.059747884648592646\n",
      "GO:0006814  :  0.981674114198148  :  0.5549828178694158\n",
      "GO:0006821  :  0.6759634698156937  :  0.04395604395604396\n",
      "GO:0006826  :  0.8120331088100265  :  0.02254722730042657\n",
      "GO:0006935  :  0.9496769709620939  :  0.9125376992675571\n",
      "GO:0007165  :  0.9497716914653144  :  0.9125376992675571\n",
      "GO:0008033  :  0.7263553359156949  :  0.4287690179806362\n",
      "GO:0008137  :  0.3939058837318331  :  0.019258545979778528\n",
      "GO:0008168  :  0.5058873002523129  :  0.008156455649272407\n",
      "GO:0008170  :  0.45167064699768694  :  0.016474464579901153\n",
      "GO:0008173  :  0.36664146689456023  :  0.014230271668822769\n",
      "GO:0008199  :  0.793904711673699  :  0.023083026761884153\n",
      "GO:0008236  :  0.5025260855982505  :  0.013863216266173753\n",
      "GO:0008270  :  0.7193008734620971  :  0.09252489600403378\n",
      "GO:0008272  :  0.5862190739723335  :  0.052406417112299465\n",
      "GO:0008324  :  0.6796212478955961  :  0.020118048050544516\n",
      "GO:0008408  :  0.6005292765556256  :  0.03881924787707238\n",
      "GO:0008410  :  0.637865615592208  :  0.014560060248525167\n",
      "GO:0008452  :  0.6335143830167012  :  0.01122565864833906\n",
      "GO:0008478  :  0.5855225543927354  :  0.019195275009228498\n",
      "GO:0008483  :  0.5373410467480222  :  0.017340376665135507\n",
      "GO:0008556  :  0.6342318682659538  :  0.021580969508705958\n",
      "GO:0008643  :  0.5409831614728418  :  0.012761235435546513\n",
      "GO:0008654  :  0.648276322108247  :  0.03149199793495096\n",
      "GO:0008657  :  0.8808682368823049  :  0.24468085106382978\n",
      "GO:0008686  :  0.29209346818427906  :  0.01606351550960118\n",
      "GO:0008697  :  0.7999212046294087  :  0.04723935610049646\n",
      "GO:0008760  :  0.99030634445097  :  0.9814643188137164\n",
      "GO:0008854  :  0.807660176941507  :  0.036990437845998994\n",
      "GO:0008855  :  0.5256324956149631  :  0.03633060853769301\n",
      "GO:0008880  :  0.8526923397516046  :  0.10327022375215146\n",
      "GO:0008882  :  0.47824789817842134  :  0.007417709782104775\n",
      "GO:0008887  :  0.6600685654008439  :  0.026304624522698345\n",
      "GO:0009002  :  0.5241501799496556  :  0.011658031088082901\n",
      "GO:0009007  :  0.4935359055367128  :  0.016113161131611316\n",
      "GO:0009055  :  0.6795899308965511  :  0.08527131782945736\n",
      "GO:0009058  :  0.9812437353142605  :  0.9778393351800554\n",
      "GO:0009082  :  0.9329410418961956  :  0.22939068100358423\n",
      "GO:0009086  :  0.7613493692771558  :  0.04881489841986456\n",
      "GO:0009166  :  0.4378530604983816  :  0.024475524475524476\n",
      "GO:0009231  :  0.2911444212215529  :  0.01606351550960118\n",
      "GO:0009279  :  0.8015374358458287  :  0.21914648212226068\n",
      "GO:0009288  :  0.7255624913866918  :  0.052497265767407944\n",
      "GO:0009297  :  0.7413854982679354  :  0.0480160053351117\n",
      "GO:0009307  :  0.490192252754757  :  0.01595843384672481\n",
      "GO:0009317  :  0.5055435294117647  :  0.03824400754107191\n",
      "GO:0009318  :  0.529101009281701  :  0.03712987623374589\n",
      "GO:0009360  :  0.9977856925313612  :  0.9971751412429378\n",
      "GO:0009396  :  0.9492349315386059  :  0.7811518324607329\n",
      "GO:0009443  :  0.5940577806959947  :  0.019204727317493536\n",
      "GO:0009446  :  0.33802547859187015  :  0.019196587273373623\n",
      "GO:0009451  :  0.520895919172784  :  0.0958904109589041\n",
      "GO:0009982  :  0.7840046307746688  :  0.1810344827586207\n",
      "GO:0010133  :  0.9756859275472565  :  0.33354964308890334\n",
      "GO:0010181  :  0.9517805448908782  :  0.9500619067271977\n",
      "GO:0015079  :  0.607782583332894  :  0.045507584597432905\n",
      "GO:0015093  :  0.8206076203880566  :  0.02283245911755631\n",
      "GO:0015109  :  0.4898447022972339  :  0.018315655248362605\n",
      "GO:0015128  :  0.6582600518093364  :  0.04081632653061224\n",
      "GO:0015205  :  0.823988790429946  :  0.3564356435643564\n",
      "GO:0015232  :  0.7083204928800442  :  0.056626506024096385\n",
      "GO:0015267  :  0.5761379708585357  :  0.007694803689797432\n",
      "GO:0015288  :  0.8064850630905447  :  0.18309859154929578\n",
      "GO:0015293  :  0.4802414044956492  :  0.01777726803532515\n",
      "GO:0015297  :  0.6959392085264188  :  0.15441176470588236\n",
      "GO:0015343  :  0.8068737496417209  :  0.22884012539184953\n",
      "GO:0015419  :  0.5895939137309553  :  0.05060240963855422\n",
      "GO:0015473  :  0.7405092430323105  :  0.04878594606691283\n",
      "GO:0015562  :  0.5822840414854467  :  0.018974892976975587\n",
      "GO:0015658  :  0.2133216694734285  :  0.014872292272874232\n",
      "GO:0015703  :  0.501179090482888  :  0.0177209510991476\n",
      "GO:0015803  :  0.21854652735653698  :  0.014872292272874232\n",
      "GO:0015824  :  0.980766105777423  :  0.5549828178694158\n",
      "GO:0015833  :  0.5484082074595957  :  0.019617282464797207\n",
      "GO:0015886  :  0.6959059541894062  :  0.03816483962647178\n",
      "GO:0015891  :  0.8068901556934307  :  0.23137876386687797\n",
      "GO:0015937  :  1.0  :  1.0\n",
      "GO:0015941  :  1.0  :  1.0\n",
      "GO:0016020  :  0.6516989666158993  :  0.5180173407507643\n",
      "GO:0016226  :  0.8351078293483356  :  0.07017543859649122\n",
      "GO:0016301  :  0.8092521952515566  :  0.8093994778067886\n",
      "GO:0016310  :  0.7115890440157732  :  0.023243243243243242\n",
      "GO:0016410  :  0.3791216519426937  :  0.014872292272874232\n",
      "GO:0016491  :  0.8028315638691798  :  0.545774647887324\n",
      "GO:0016616  :  0.38516372459313025  :  0.03416856492027335\n",
      "GO:0016620  :  0.7407077610476616  :  0.06177606177606178\n",
      "GO:0016651  :  0.9976325440013523  :  0.9814643188137164\n",
      "GO:0016655  :  0.5772488841292844  :  0.014696058784235137\n",
      "GO:0016682  :  0.7684851511521604  :  0.032855567805953695\n",
      "GO:0016705  :  0.7851852855953356  :  0.05779546634365807\n",
      "GO:0016740  :  0.48299520969893245  :  0.007510082981781095\n",
      "GO:0016747  :  0.9662896847210194  :  0.9531953195319532\n",
      "GO:0016757  :  0.449559624962221  :  0.007694803689797432\n",
      "GO:0016759  :  0.6565486143729451  :  0.025700259890268553\n",
      "GO:0016765  :  0.6399363444886497  :  0.03631082062454612\n",
      "GO:0016772  :  0.6871736338159738  :  0.007417709782104775\n",
      "GO:0016776  :  0.8906479129186429  :  0.6954102920723226\n",
      "GO:0016780  :  0.6497557785164816  :  0.02962603205439534\n",
      "GO:0016783  :  0.7696753853339562  :  0.007417709782104775\n",
      "GO:0016787  :  0.513133062039312  :  0.039226186491733046\n",
      "GO:0016788  :  0.6547559188935772  :  0.02479659046881054\n",
      "GO:0016811  :  0.3046545837463711  :  0.01101392938127632\n",
      "GO:0016829  :  0.480095165810369  :  0.016227180527383367\n",
      "GO:0016831  :  0.5766955595641075  :  0.0397489539748954\n",
      "GO:0016836  :  0.8797445255126671  :  0.2096069868995633\n",
      "GO:0016861  :  0.8185252941176471  :  0.041859636622728895\n",
      "GO:0016866  :  0.37215644576808404  :  0.024633680186876193\n",
      "GO:0016868  :  0.4182424988279419  :  0.017315068493150686\n",
      "GO:0016879  :  0.5286328602312247  :  0.024501589136087836\n",
      "GO:0016887  :  0.6718633156127207  :  0.07267056530214425\n",
      "GO:0017000  :  0.4065717004201386  :  0.01946757358977366\n",
      "GO:0017004  :  0.6408244971521518  :  0.149812734082397\n",
      "GO:0017150  :  0.9193192608321645  :  0.6066536203522505\n",
      "GO:0019205  :  0.8901851750894983  :  0.6657789613848203\n",
      "GO:0019277  :  0.9895978122696729  :  0.9814643188137164\n",
      "GO:0019346  :  0.666525037319333  :  0.049221860296778865\n",
      "GO:0019646  :  0.68975925901013  :  0.03694982792972288\n",
      "GO:0019752  :  0.2870916500934771  :  0.013220542689409698\n",
      "GO:0019829  :  0.6969401557150109  :  0.03694073343495024\n",
      "GO:0019867  :  0.571173788907091  :  0.0392156862745098\n",
      "GO:0020037  :  0.7153756997994158  :  0.09170305676855896\n",
      "GO:0022857  :  0.6413659856526733  :  0.24740932642487046\n",
      "GO:0030001  :  0.5069138660947637  :  0.026208814719726144\n",
      "GO:0030163  :  0.6527517301351498  :  0.11454545454545455\n",
      "GO:0030170  :  0.6167237442922375  :  0.05736434108527132\n",
      "GO:0030527  :  0.7139309614454092  :  0.023316062176165803\n",
      "GO:0030976  :  0.995552446869012  :  0.9658002735978112\n",
      "GO:0031388  :  0.6638379043600562  :  0.027359781121751026\n",
      "GO:0031402  :  0.9823782302640903  :  0.633954857703631\n",
      "GO:0032549  :  0.9323094364180511  :  0.13977868375072802\n",
      "GO:0034220  :  0.8142513903388671  :  0.06266502376342194\n",
      "GO:0034257  :  0.9329085381958894  :  0.05773120058834345\n",
      "GO:0034258  :  0.9340829809471197  :  0.056272401433691756\n",
      "GO:0034480  :  0.8478042172518139  :  0.014200363667850031\n",
      "GO:0035429  :  0.6581034051373638  :  0.045845272206303724\n",
      "GO:0035438  :  0.6507740723344294  :  0.026082496886218772\n",
      "GO:0035673  :  0.6799271841674764  :  0.04369490226140284\n",
      "GO:0036424  :  0.9688393970800631  :  0.7778936392075079\n",
      "GO:0038023  :  0.8094558415952968  :  0.21313868613138687\n",
      "GO:0042132  :  0.9046241867709086  :  0.17418032786885246\n",
      "GO:0042158  :  0.38351219827552313  :  0.014872292272874232\n",
      "GO:0042773  :  0.32401605719643695  :  0.018628478286179997\n",
      "GO:0042910  :  0.6959232453236247  :  0.15441176470588236\n",
      "GO:0042919  :  0.5070920731006496  :  0.076103500761035\n",
      "GO:0042925  :  0.5087680895250619  :  0.07656967840735068\n",
      "GO:0044341  :  0.9022202903845589  :  0.6177437020810514\n",
      "GO:0044877  :  0.8149775221858944  :  0.031017369727047148\n",
      "GO:0045490  :  0.796552070004988  :  0.0466498291487149\n",
      "GO:0046872  :  0.5798214826621746  :  0.0169400376445281\n",
      "GO:0046873  :  0.44035919506600507  :  0.01184198353224165\n",
      "GO:0046917  :  0.6915741234146862  :  0.02502194907813872\n",
      "GO:0050660  :  0.9163586726171183  :  0.5794392523364486\n",
      "GO:0050797  :  0.9779419918215708  :  0.9281437125748503\n",
      "GO:0051536  :  0.997608179561814  :  0.9814643188137164\n",
      "GO:0055085  :  0.7124700483802828  :  0.31154381084840055\n",
      "GO:0070005  :  0.7999300373134328  :  0.004642525533890436\n",
      "GO:0070069  :  0.6904642322760789  :  0.03374515950580859\n",
      "GO:0071586  :  0.780900726676043  :  0.03618155386851882\n",
      "GO:0071705  :  0.6024622662145904  :  0.007602447617281662\n",
      "GO:0071951  :  0.480927684013127  :  0.018333906267904206\n",
      "GO:0097367  :  0.4826088868836317  :  0.012209786328739248\n",
      "GO:1904680  :  0.5454122068255886  :  0.019636188411034816\n"
     ]
    }
   ],
   "source": [
    "for i in range(len(auc_scores)):\n",
    "    print(enc.classes_[i],\" : \",auc_scores[i],\" : \",Fmax_scores_per_class[i])"
   ]
  },
  {
   "cell_type": "code",
   "execution_count": null,
   "id": "a1a5d9cd",
   "metadata": {},
   "outputs": [],
   "source": []
  }
 ],
 "metadata": {
  "kernelspec": {
   "display_name": "Python 3 (ipykernel)",
   "language": "python",
   "name": "python3"
  },
  "language_info": {
   "codemirror_mode": {
    "name": "ipython",
    "version": 3
   },
   "file_extension": ".py",
   "mimetype": "text/x-python",
   "name": "python",
   "nbconvert_exporter": "python",
   "pygments_lexer": "ipython3",
   "version": "3.9.13"
  }
 },
 "nbformat": 4,
 "nbformat_minor": 5
}
