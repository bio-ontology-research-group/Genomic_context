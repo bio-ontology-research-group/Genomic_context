{
 "cells": [
  {
   "cell_type": "code",
   "execution_count": 2,
   "id": "c622ad12",
   "metadata": {},
   "outputs": [
    {
     "name": "stdout",
     "output_type": "stream",
     "text": [
      "Free CPU Memory: 692.14 GB\n"
     ]
    }
   ],
   "source": [
    "import psutil\n",
    "\n",
    "def get_free_memory():\n",
    "    memory = psutil.virtual_memory()\n",
    "    return memory.available / (1024.0 ** 3)  # Convert bytes to gigabytes\n",
    "\n",
    "print(f\"Free CPU Memory: {get_free_memory():.2f} GB\")"
   ]
  },
  {
   "cell_type": "code",
   "execution_count": 3,
   "id": "abdd98ad",
   "metadata": {},
   "outputs": [],
   "source": [
    "import torch\n",
    "torch.backends.cuda.matmul.allow_tf32 = True\n",
    "from datasets import Dataset\n",
    "import os\n",
    "from deepgo.utils import Ontology\n"
   ]
  },
  {
   "cell_type": "code",
   "execution_count": 4,
   "id": "4afee737",
   "metadata": {},
   "outputs": [],
   "source": [
    "from tokenizers import Tokenizer\n",
    "from tokenizers.models import WordLevel\n",
    "from tokenizers.pre_tokenizers import WhitespaceSplit\n",
    "\n",
    "tokenizer = Tokenizer(WordLevel(unk_token=\"[UNK]\"))\n",
    "tokenizer.pre_tokenizer = WhitespaceSplit()"
   ]
  },
  {
   "cell_type": "code",
   "execution_count": 5,
   "id": "d69a29ad",
   "metadata": {},
   "outputs": [],
   "source": [
    "tokenizer_path = \"WordLevel_tokenizer_trained_InterPro.json\"\n",
    "tokenizer = tokenizer.from_file(tokenizer_path)\n",
    "tokenizer.enable_truncation(512)"
   ]
  },
  {
   "cell_type": "code",
   "execution_count": 6,
   "id": "0bef36e5",
   "metadata": {},
   "outputs": [
    {
     "data": {
      "text/plain": [
       "544998"
      ]
     },
     "execution_count": 6,
     "metadata": {},
     "output_type": "execute_result"
    }
   ],
   "source": [
    "tokenizer.get_vocab_size()\n"
   ]
  },
  {
   "cell_type": "code",
   "execution_count": 7,
   "id": "242995ca",
   "metadata": {},
   "outputs": [
    {
     "data": {
      "text/plain": [
       "[1, 2966, 754, 2545, 196, 9231, 2817, 7418, 2526, 2]"
      ]
     },
     "execution_count": 7,
     "metadata": {},
     "output_type": "execute_result"
    }
   ],
   "source": [
    "test = tokenizer.encode(\"WP_265490204 WP_206642677 WP_053312998 WP_251959347 WP_000076573 WP_227526754 WP_218401808 WP_106925592\")\n",
    "test.ids"
   ]
  },
  {
   "cell_type": "code",
   "execution_count": 9,
   "id": "543a8c72",
   "metadata": {},
   "outputs": [],
   "source": [
    "import json\n",
    "with open(\"/home/toibazd/Most_frequent_IPs.json\", \"r\") as f:\n",
    "    ips = json.load(f)\n",
    "\n",
    "sorted_dict = sorted(ips.items(), key=lambda x: x[1], reverse=True)\n",
    "most_frequent_ips = [item[0] for item in sorted_dict[:100]]\n"
   ]
  },
  {
   "cell_type": "code",
   "execution_count": 10,
   "id": "84272ed9",
   "metadata": {},
   "outputs": [
    {
     "name": "stdout",
     "output_type": "stream",
     "text": [
      "['IPR004090', 'IPR011701', 'IPR002514', 'IPR003719', 'IPR002155', 'IPR005750', 'IPR001001', 'IPR004604', 'IPR011603', 'IPR005252']\n"
     ]
    }
   ],
   "source": [
    "print(most_frequent_ips[:10])"
   ]
  },
  {
   "cell_type": "code",
   "execution_count": 182,
   "id": "07ba9843",
   "metadata": {},
   "outputs": [
    {
     "data": {
      "application/json": {
       "ascii": false,
       "bar_format": null,
       "colour": null,
       "elapsed": 0.019753217697143555,
       "initial": 0,
       "n": 0,
       "ncols": null,
       "nrows": null,
       "postfix": null,
       "prefix": "",
       "rate": null,
       "total": null,
       "unit": "it",
       "unit_divisor": 1000,
       "unit_scale": false
      },
      "application/vnd.jupyter.widget-view+json": {
       "model_id": "c08215891f4e455b9febf54191a03f7d",
       "version_major": 2,
       "version_minor": 0
      },
      "text/plain": [
       "0it [00:00, ?it/s]"
      ]
     },
     "metadata": {},
     "output_type": "display_data"
    },
    {
     "data": {
      "application/json": {
       "ascii": false,
       "bar_format": null,
       "colour": null,
       "elapsed": 0.018131017684936523,
       "initial": 0,
       "n": 0,
       "ncols": null,
       "nrows": null,
       "postfix": null,
       "prefix": "",
       "rate": null,
       "total": null,
       "unit": "it",
       "unit_divisor": 1000,
       "unit_scale": false
      },
      "application/vnd.jupyter.widget-view+json": {
       "model_id": "7e4204bb7ab1424ea408deb1acb00bef",
       "version_major": 2,
       "version_minor": 0
      },
      "text/plain": [
       "0it [00:00, ?it/s]"
      ]
     },
     "metadata": {},
     "output_type": "display_data"
    },
    {
     "name": "stdout",
     "output_type": "stream",
     "text": [
      "21791\n"
     ]
    }
   ],
   "source": [
    "from collections import defaultdict\n",
    "from sklearn.preprocessing import MultiLabelBinarizer\n",
    "import csv\n",
    "from tqdm.auto import tqdm\n",
    "import numpy as np\n",
    "\n",
    "\n",
    "\n",
    "ip_to_go = defaultdict(list)\n",
    "data_dict = defaultdict(list)\n",
    "enc = MultiLabelBinarizer()\n",
    "new_tsv_filename = \"/home/toibazd/Family_IPs_with_GO.tsv\"\n",
    "go = Ontology('data/go.obo')\n",
    "\n",
    "\n",
    "with open(new_tsv_filename, \"r\") as new_tsvfile:\n",
    "    reader = csv.reader(new_tsvfile, delimiter=\"\\t\")\n",
    "    next(reader)\n",
    "    for row in tqdm(reader):\n",
    "        ip = row[0]  # Assuming the IP is in the first column\n",
    "        go_terms = row[6]  # Assuming the GO terms are in the second column\n",
    "\n",
    "        # Add IP and corresponding GO terms to data_dict\n",
    "        ip_to_go[ip] = go_terms.split(',')\n",
    "\n",
    "\n",
    "with open(\"/home/toibazd/Prot2IP_GO_filtered_MF.tsv\", \"r\") as tsvfile:\n",
    "    reader = csv.reader(tsvfile, delimiter = \"\\t\")\n",
    "    for row in tqdm(reader):\n",
    "        key = row[0].split(\"prot_\")[1].split(\".\")[0]\n",
    "        iprs = eval(row[1])\n",
    "        \n",
    "        # Filter InterPro IDs that are in the words list\n",
    "#         filtered_iprs = [ipr for ipr in iprs if ipr in most_frequent_ips]\n",
    "        filtered_iprs = iprs\n",
    "        # Save only if there are filtered InterPro IDs\n",
    "        for ip in iprs:\n",
    "            if ip in most_frequent_ips:\n",
    "                for GO in ip_to_go[ip]:\n",
    "                    data_dict[key].extend(list(GO))\n",
    "#                     data_dict[key].extend(list(go.get_ancestors(GO)))\n",
    "\n",
    "one_hot_encoded = enc.fit_transform(data_dict.values())\n",
    "one_hot_encoded_dict = {key: value for key, value in zip(data_dict.keys(), one_hot_encoded)}\n",
    "\n",
    "print(len(one_hot_encoded_dict.keys()))"
   ]
  },
  {
   "cell_type": "code",
   "execution_count": 183,
   "id": "08b6debe",
   "metadata": {},
   "outputs": [
    {
     "data": {
      "text/plain": [
       "21791"
      ]
     },
     "execution_count": 183,
     "metadata": {},
     "output_type": "execute_result"
    }
   ],
   "source": [
    "len(one_hot_encoded_dict)"
   ]
  },
  {
   "cell_type": "code",
   "execution_count": 184,
   "id": "122c228b",
   "metadata": {},
   "outputs": [
    {
     "data": {
      "text/plain": [
       "21791"
      ]
     },
     "execution_count": 184,
     "metadata": {},
     "output_type": "execute_result"
    }
   ],
   "source": [
    "len(one_hot_encoded)"
   ]
  },
  {
   "cell_type": "code",
   "execution_count": 185,
   "id": "746c4145",
   "metadata": {
    "scrolled": true
   },
   "outputs": [
    {
     "name": "stdout",
     "output_type": "stream",
     "text": [
      "Number 0: Count 72590\n",
      "Number 1: Count 210693\n",
      "283283\n"
     ]
    }
   ],
   "source": [
    "# Find unique numbers and their counts\n",
    "unique_numbers, counts = np.unique(one_hot_encoded, return_counts=True)\n",
    "all_count = 0\n",
    "# Print the count of each number\n",
    "for number, count in zip(unique_numbers, counts):\n",
    "    all_count+=count\n",
    "    print(f\"Number {number}: Count {count}\")\n",
    "print(all_count)"
   ]
  },
  {
   "cell_type": "code",
   "execution_count": 186,
   "id": "efeab11b",
   "metadata": {},
   "outputs": [],
   "source": [
    "import json\n",
    "with open('BERT_DNN_senteces.json', \"r\") as f:\n",
    "    one_hot_encoded_sentences = json.load(f)"
   ]
  },
  {
   "cell_type": "code",
   "execution_count": 187,
   "id": "deeb72f6",
   "metadata": {},
   "outputs": [
    {
     "data": {
      "text/plain": [
       "100"
      ]
     },
     "execution_count": 187,
     "metadata": {},
     "output_type": "execute_result"
    }
   ],
   "source": [
    "one_hot_encoded_sentences = {key: value for key, value in one_hot_encoded_sentences.items() if value}\n",
    "len(one_hot_encoded_sentences)"
   ]
  },
  {
   "cell_type": "code",
   "execution_count": 188,
   "id": "f2219cee",
   "metadata": {},
   "outputs": [
    {
     "data": {
      "text/plain": [
       "100"
      ]
     },
     "execution_count": 188,
     "metadata": {},
     "output_type": "execute_result"
    }
   ],
   "source": [
    "matching_string = one_hot_encoded_sentences.values()\n",
    "len(matching_string)"
   ]
  },
  {
   "cell_type": "code",
   "execution_count": 189,
   "id": "ea88291d",
   "metadata": {},
   "outputs": [
    {
     "data": {
      "text/plain": [
       "20155"
      ]
     },
     "execution_count": 189,
     "metadata": {},
     "output_type": "execute_result"
    }
   ],
   "source": [
    "matching_string = [item for sublist in matching_string for item in sublist]\n",
    "len(matching_string)"
   ]
  },
  {
   "cell_type": "code",
   "execution_count": 190,
   "id": "3b43fe10",
   "metadata": {},
   "outputs": [
    {
     "name": "stderr",
     "output_type": "stream",
     "text": [
      "Some weights of BertModel were not initialized from the model checkpoint at /home/toibazd/Data/BERT/BERT_context_pretrained_InterPro_final and are newly initialized: ['bert.pooler.dense.bias', 'bert.pooler.dense.weight']\n",
      "You should probably TRAIN this model on a down-stream task to be able to use it for predictions and inference.\n"
     ]
    },
    {
     "data": {
      "text/plain": [
       "BertModel(\n",
       "  (embeddings): BertEmbeddings(\n",
       "    (word_embeddings): Embedding(544998, 256, padding_idx=0)\n",
       "    (position_embeddings): Embedding(512, 256)\n",
       "    (token_type_embeddings): Embedding(2, 256)\n",
       "    (LayerNorm): LayerNorm((256,), eps=1e-12, elementwise_affine=True)\n",
       "    (dropout): Dropout(p=0.1, inplace=False)\n",
       "  )\n",
       "  (encoder): BertEncoder(\n",
       "    (layer): ModuleList(\n",
       "      (0): BertLayer(\n",
       "        (attention): BertAttention(\n",
       "          (self): BertSelfAttention(\n",
       "            (query): Linear(in_features=256, out_features=256, bias=True)\n",
       "            (key): Linear(in_features=256, out_features=256, bias=True)\n",
       "            (value): Linear(in_features=256, out_features=256, bias=True)\n",
       "            (dropout): Dropout(p=0.1, inplace=False)\n",
       "          )\n",
       "          (output): BertSelfOutput(\n",
       "            (dense): Linear(in_features=256, out_features=256, bias=True)\n",
       "            (LayerNorm): LayerNorm((256,), eps=1e-12, elementwise_affine=True)\n",
       "            (dropout): Dropout(p=0.1, inplace=False)\n",
       "          )\n",
       "        )\n",
       "        (intermediate): BertIntermediate(\n",
       "          (dense): Linear(in_features=256, out_features=256, bias=True)\n",
       "          (intermediate_act_fn): GELUActivation()\n",
       "        )\n",
       "        (output): BertOutput(\n",
       "          (dense): Linear(in_features=256, out_features=256, bias=True)\n",
       "          (LayerNorm): LayerNorm((256,), eps=1e-12, elementwise_affine=True)\n",
       "          (dropout): Dropout(p=0.1, inplace=False)\n",
       "        )\n",
       "      )\n",
       "      (1): BertLayer(\n",
       "        (attention): BertAttention(\n",
       "          (self): BertSelfAttention(\n",
       "            (query): Linear(in_features=256, out_features=256, bias=True)\n",
       "            (key): Linear(in_features=256, out_features=256, bias=True)\n",
       "            (value): Linear(in_features=256, out_features=256, bias=True)\n",
       "            (dropout): Dropout(p=0.1, inplace=False)\n",
       "          )\n",
       "          (output): BertSelfOutput(\n",
       "            (dense): Linear(in_features=256, out_features=256, bias=True)\n",
       "            (LayerNorm): LayerNorm((256,), eps=1e-12, elementwise_affine=True)\n",
       "            (dropout): Dropout(p=0.1, inplace=False)\n",
       "          )\n",
       "        )\n",
       "        (intermediate): BertIntermediate(\n",
       "          (dense): Linear(in_features=256, out_features=256, bias=True)\n",
       "          (intermediate_act_fn): GELUActivation()\n",
       "        )\n",
       "        (output): BertOutput(\n",
       "          (dense): Linear(in_features=256, out_features=256, bias=True)\n",
       "          (LayerNorm): LayerNorm((256,), eps=1e-12, elementwise_affine=True)\n",
       "          (dropout): Dropout(p=0.1, inplace=False)\n",
       "        )\n",
       "      )\n",
       "      (2): BertLayer(\n",
       "        (attention): BertAttention(\n",
       "          (self): BertSelfAttention(\n",
       "            (query): Linear(in_features=256, out_features=256, bias=True)\n",
       "            (key): Linear(in_features=256, out_features=256, bias=True)\n",
       "            (value): Linear(in_features=256, out_features=256, bias=True)\n",
       "            (dropout): Dropout(p=0.1, inplace=False)\n",
       "          )\n",
       "          (output): BertSelfOutput(\n",
       "            (dense): Linear(in_features=256, out_features=256, bias=True)\n",
       "            (LayerNorm): LayerNorm((256,), eps=1e-12, elementwise_affine=True)\n",
       "            (dropout): Dropout(p=0.1, inplace=False)\n",
       "          )\n",
       "        )\n",
       "        (intermediate): BertIntermediate(\n",
       "          (dense): Linear(in_features=256, out_features=256, bias=True)\n",
       "          (intermediate_act_fn): GELUActivation()\n",
       "        )\n",
       "        (output): BertOutput(\n",
       "          (dense): Linear(in_features=256, out_features=256, bias=True)\n",
       "          (LayerNorm): LayerNorm((256,), eps=1e-12, elementwise_affine=True)\n",
       "          (dropout): Dropout(p=0.1, inplace=False)\n",
       "        )\n",
       "      )\n",
       "    )\n",
       "  )\n",
       "  (pooler): None\n",
       ")"
      ]
     },
     "execution_count": 190,
     "metadata": {},
     "output_type": "execute_result"
    }
   ],
   "source": [
    "from transformers import BertModel\n",
    "\n",
    "# Check if CUDA is available and choose device accordingly\n",
    "device = torch.device('cuda' if torch.cuda.is_available() else 'cpu')\n",
    "model_path = \"/home/toibazd/Data/BERT/BERT_context_pretrained_InterPro_final\"\n",
    "\n",
    "model = BertModel.from_pretrained(model_path).cuda()\n",
    "model.pooler = None\n",
    "model.eval()"
   ]
  },
  {
   "cell_type": "code",
   "execution_count": 192,
   "id": "978dfa1b",
   "metadata": {},
   "outputs": [
    {
     "name": "stdout",
     "output_type": "stream",
     "text": [
      "[1 0 1 0 0 1 0 1 1 0 1 1 1]\n"
     ]
    }
   ],
   "source": [
    "print(one_hot_encoded[1])"
   ]
  },
  {
   "cell_type": "code",
   "execution_count": 152,
   "id": "c35dd100",
   "metadata": {},
   "outputs": [
    {
     "data": {
      "application/json": {
       "ascii": false,
       "bar_format": null,
       "colour": null,
       "elapsed": 0.01610732078552246,
       "initial": 0,
       "n": 0,
       "ncols": null,
       "nrows": null,
       "postfix": null,
       "prefix": "",
       "rate": null,
       "total": 40,
       "unit": "it",
       "unit_divisor": 1000,
       "unit_scale": false
      },
      "application/vnd.jupyter.widget-view+json": {
       "model_id": "625fcaeb08d44f5b8941ce95fa7f9943",
       "version_major": 2,
       "version_minor": 0
      },
      "text/plain": [
       "  0%|          | 0/40 [00:00<?, ?it/s]"
      ]
     },
     "metadata": {},
     "output_type": "display_data"
    }
   ],
   "source": [
    "batch_size = 128 # Define your batch size\n",
    "\n",
    "embeddings = []\n",
    "labels = []\n",
    "\n",
    "# Define your data iterator in batches\n",
    "for i in tqdm(range(0, len(matching_string), batch_size)):\n",
    "    batch_sentences = matching_string[i:i+batch_size]\n",
    "\n",
    "    batch_inputs = tokenizer.encode_batch(batch_sentences)\n",
    "    input_ids_list = []\n",
    "    attention_mask_list = []\n",
    "\n",
    "    for encoding in batch_inputs:\n",
    "        input_ids_list.append(encoding.ids)\n",
    "        attention_mask_list.append(encoding.attention_mask)\n",
    "\n",
    "    # Convert lists to tensors and move to device\n",
    "    input_ids = torch.tensor(input_ids_list).cuda()\n",
    "    attention_mask = torch.tensor(attention_mask_list).cuda()\n",
    "\n",
    "    with torch.inference_mode():\n",
    "        outputs = model(input_ids, attention_mask=attention_mask, output_hidden_states=True)\n",
    "    hidden_states = outputs.last_hidden_state\n",
    "    relevant_hidden_states = hidden_states[:, 20, :]\n",
    "#     relevant_hidden_states = torch.mean(hidden_states[:, 1:-1, :], dim=1)\n",
    "\n",
    "    \n",
    "    for j in range(len(batch_sentences)):\n",
    "        # Move embeddings to CPU\n",
    "        embeddings.append(relevant_hidden_states[j].cpu())\n",
    "        indicator = batch_sentences[j].split()[19]\n",
    "        labels.append(one_hot_encoded_dict[indicator])\n",
    "\n",
    "# Ensure order in embeddings matches order in labels\n",
    "\n",
    "# Now embeddings and labels are stored on the CPU\n"
   ]
  },
  {
   "cell_type": "code",
   "execution_count": 153,
   "id": "620352af",
   "metadata": {},
   "outputs": [],
   "source": [
    "def calculate_pos_weights(class_counts):\n",
    "    pos_weights = np.ones_like(class_counts)\n",
    "    \n",
    "    neg_counts = [len(embeddings)-pos_count for pos_count in class_counts]\n",
    "    for cdx, (pos_count, neg_count) in enumerate(zip(class_counts,  neg_counts)):\n",
    "      pos_weights[cdx] = neg_count / (pos_count + 1e-5)\n",
    "\n",
    "    return torch.as_tensor(pos_weights, dtype=torch.float)\n",
    "class_counts = np.array(labels).sum(axis=0)\n",
    "pos_weights = calculate_pos_weights(class_counts) "
   ]
  },
  {
   "cell_type": "code",
   "execution_count": 154,
   "id": "3dda8cc7",
   "metadata": {},
   "outputs": [
    {
     "data": {
      "text/plain": [
       "tensor([26., 36., 98.,  3., 63., 60., 53., 48.,  0.,  4.,  4., 43., 95., 97.,\n",
       "        36.,  0., 95., 98., 89., 48., 32., 98., 48., 48., 48., 48., 97., 97.,\n",
       "        60., 98., 52., 46., 98., 98., 98., 78., 52., 43., 20., 26., 38., 38.,\n",
       "        97., 28., 22., 22., 22., 53., 97., 89., 25., 93., 93., 97., 19., 36.,\n",
       "         2., 80., 80., 95., 42., 80., 80., 69.,  1., 48.,  4., 31.,  1., 98.,\n",
       "        36., 25., 60., 98., 22., 95., 10., 48., 22.,  2., 15., 15., 53., 53.,\n",
       "         4., 14., 89., 32., 97., 13., 86., 11., 25., 48., 97., 63., 26., 47.,\n",
       "        36., 93., 93., 32., 36., 13., 57., 98., 57., 57., 15., 97., 97., 97.,\n",
       "         2., 13., 52., 17., 17., 36.,  9., 11.,  1.,  3., 15., 15., 80., 69.,\n",
       "        26., 80., 19., 13., 13., 32., 19., 97., 22., 97.,  0.,  0., 27., 63.,\n",
       "        98., 63., 98., 32., 98., 98., 98., 98., 98., 98., 20., 83., 97., 95.,\n",
       "        88., 42., 98., 63., 36., 97., 63., 22., 71., 86., 18., 14., 86.,  4.,\n",
       "        12., 97., 98., 98., 28., 57., 98., 57., 95., 22., 13., 53., 53., 53.,\n",
       "        53., 15., 15., 53., 53., 15., 98., 53., 53., 17., 22., 15., 15., 85.,\n",
       "        66., 97., 97., 86., 23., 52., 95., 97., 97., 97.,  0., 22., 97., 97.,\n",
       "        20., 46., 36., 98., 98., 91., 80., 68., 38., 37., 37., 20., 26., 36.,\n",
       "        95., 16., 85., 36., 23., 98., 31., 66., 40., 42., 91., 80., 80., 42.,\n",
       "        95., 38., 85., 95., 95., 22., 22., 22., 22., 97.,  2., 14., 60., 36.,\n",
       "        22., 14., 63., 98., 31., 98., 63., 23., 98.,  7., 31., 31., 95., 22.,\n",
       "        18., 97., 46., 64., 64.,  3., 27., 15., 15., 98., 17., 88., 11., 95.,\n",
       "        52., 23.,  3., 12., 57., 38., 28., 31., 97., 48., 23., 23., 12., 18.,\n",
       "        18., 95., 95., 32.,  9., 93., 11., 15., 53., 97., 46., 38., 17., 78.,\n",
       "        86., 86., 98.,  4., 23., 98.,  8., 31., 48., 97., 97., 48., 22., 22.,\n",
       "        57.,  8., 45., 14., 11., 97., 15., 10., 13., 30., 27., 37., 10., 37.,\n",
       "        20.,  2., 20., 48., 48., 15., 66., 66., 34., 97.,  4., 22., 98., 97.,\n",
       "        97., 80., 80., 25., 48.,  3.,  4.,  4., 31., 48., 22., 15., 13., 22.,\n",
       "        22., 22., 22., 22., 22., 89., 48., 95., 95., 38.,  1., 10., 45., 26.,\n",
       "        91.,  4.,  2., 57., 15., 19., 97., 98., 98., 98., 22., 19., 95., 22.,\n",
       "        52., 97., 52., 52., 23., 57., 98., 97., 95., 95., 95., 95., 91., 91.,\n",
       "        95., 93., 93., 36., 95.,  2.,  3.,  7.,  2., 98., 36., 36., 36., 36.,\n",
       "        10., 13., 36., 66., 98.,  1.,  1., 14.,  4., 45.,  6., 98.,  6., 22.,\n",
       "        25., 69., 97., 53., 95., 22., 15., 36., 22., 98.,  2., 45., 13., 36.,\n",
       "        32., 42., 42., 97., 52., 57., 16., 16., 13., 22., 97.,  3.,  3., 97.,\n",
       "        32., 23., 23., 98., 13., 98.,  4., 10., 15., 97., 97., 23., 98., 16.,\n",
       "        98., 98., 97., 34., 98., 32., 98., 13.,  1., 19., 14., 22., 98., 15.,\n",
       "        15., 95., 95., 97., 97.,  3., 13.,  2.,  3., 48., 97.,  1., 32.,  7.,\n",
       "        14., 93., 63., 97., 98., 18.,  4., 18., 97., 21., 36., 36., 21., 57.,\n",
       "        12., 14., 95.,  3., 98., 15.,  2., 45.,  8.,  2., 95.,  4., 22.,  6.,\n",
       "        14.,  4., 21., 36., 95., 95., 26., 22., 98., 15., 91., 91., 23., 97.])"
      ]
     },
     "execution_count": 154,
     "metadata": {},
     "output_type": "execute_result"
    }
   ],
   "source": [
    "pos_weights"
   ]
  },
  {
   "cell_type": "code",
   "execution_count": 155,
   "id": "7cad879a",
   "metadata": {},
   "outputs": [
    {
     "data": {
      "text/plain": [
       "5000"
      ]
     },
     "execution_count": 155,
     "metadata": {},
     "output_type": "execute_result"
    }
   ],
   "source": [
    "len(embeddings)"
   ]
  },
  {
   "cell_type": "code",
   "execution_count": 156,
   "id": "f1476691",
   "metadata": {},
   "outputs": [
    {
     "data": {
      "text/plain": [
       "5000"
      ]
     },
     "execution_count": 156,
     "metadata": {},
     "output_type": "execute_result"
    }
   ],
   "source": [
    "len(labels)"
   ]
  },
  {
   "cell_type": "code",
   "execution_count": 157,
   "id": "1fc1f6a8",
   "metadata": {},
   "outputs": [],
   "source": [
    "import random\n",
    "\n",
    "\n",
    "# Zip the lists together\n",
    "combined = list(zip(embeddings, labels))\n",
    "\n",
    "# Shuffle the combined list\n",
    "random.shuffle(combined)\n",
    "\n",
    "# Unzip the shuffled list\n",
    "embeddings, labels = zip(*combined)\n",
    "\n"
   ]
  },
  {
   "cell_type": "code",
   "execution_count": 158,
   "id": "d7184dec",
   "metadata": {},
   "outputs": [],
   "source": [
    "model.to(\"cpu\")\n",
    "torch.cuda.empty_cache()"
   ]
  },
  {
   "cell_type": "code",
   "execution_count": 159,
   "id": "f832c70d",
   "metadata": {},
   "outputs": [],
   "source": [
    "import torch.nn as nn\n",
    "\n",
    "class Classification_V0(nn.Module):\n",
    "    def __init__(self, input_dim, first_hidden, second_hidden, last_hidden, output_dim, dropout_prob):\n",
    "        super(Classification_V0, self).__init__()\n",
    "        self.fc1 = nn.Linear(input_dim, first_hidden)\n",
    "        self.relu1 = nn.ReLU()\n",
    "        self.fc2 = nn.Linear(first_hidden, second_hidden)\n",
    "        self.relu2 = nn.ReLU()\n",
    "        self.fc3 = nn.Linear(second_hidden, last_hidden)\n",
    "        self.relu3 = nn.ReLU()\n",
    "        self.fc4 = nn.Linear(last_hidden, output_dim)\n",
    "        \n",
    "        self.dropout = nn.Dropout(dropout_prob)\n",
    "    \n",
    "    def forward(self, x):\n",
    "        x = self.fc1(x)\n",
    "        x = self.relu1(x)\n",
    "        x = self.dropout(x)\n",
    "        x = self.fc2(x)\n",
    "        x = self.relu2(x)\n",
    "        x = self.dropout(x)\n",
    "        x = self.fc3(x)\n",
    "        x = self.relu3(x)\n",
    "        x = self.dropout(x)\n",
    "        x = self.fc4(x)\n",
    "        return x\n",
    "\n",
    "input_dim = 256\n",
    "first_hidden = 128\n",
    "second_hidden = 64\n",
    "last_hidden = 32\n",
    "output_dim = 546\n",
    "dropout_prob = 0.25\n",
    "\n",
    "clf_model = Classification_V0(input_dim, first_hidden, second_hidden, last_hidden, output_dim, dropout_prob)\n"
   ]
  },
  {
   "cell_type": "code",
   "execution_count": 160,
   "id": "7d9abc8b",
   "metadata": {},
   "outputs": [],
   "source": [
    "from torch.utils.data import DataLoader, TensorDataset\n",
    "import torch.optim.lr_scheduler as lr_scheduler\n",
    "\n",
    "batch_size = 128\n",
    "def data_generator(embeddings, labels, batch_size):\n",
    "    num_samples = len(embeddings)\n",
    "    for i in range(0, num_samples, batch_size):\n",
    "        batch_embeddings = embeddings[i:i+batch_size]\n",
    "        batch_labels = labels[i:i+batch_size]\n",
    "        yield batch_embeddings, batch_labels\n",
    "\n",
    "# Define optimizer and loss function\n",
    "optimizer = torch.optim.Adam(clf_model.parameters(), lr=0.001)\n",
    "scheduler = lr_scheduler.StepLR(optimizer=optimizer, step_size=10, gamma=0.05)\n",
    "criterion = torch.nn.BCEWithLogitsLoss(pos_weight=pos_weights)"
   ]
  },
  {
   "cell_type": "code",
   "execution_count": 161,
   "id": "ad1b6ca9",
   "metadata": {},
   "outputs": [
    {
     "name": "stdout",
     "output_type": "stream",
     "text": [
      "Epoch 1/20:\n"
     ]
    },
    {
     "data": {
      "application/json": {
       "ascii": false,
       "bar_format": null,
       "colour": null,
       "elapsed": 0.020379304885864258,
       "initial": 0,
       "n": 0,
       "ncols": null,
       "nrows": null,
       "postfix": null,
       "prefix": "Training Batches",
       "rate": null,
       "total": null,
       "unit": "it",
       "unit_divisor": 1000,
       "unit_scale": false
      },
      "application/vnd.jupyter.widget-view+json": {
       "model_id": "",
       "version_major": 2,
       "version_minor": 0
      },
      "text/plain": [
       "Training Batches: 0it [00:00, ?it/s]"
      ]
     },
     "metadata": {},
     "output_type": "display_data"
    },
    {
     "name": "stdout",
     "output_type": "stream",
     "text": [
      "1.3121890380859376\n",
      "Epoch 2/20:\n"
     ]
    },
    {
     "data": {
      "application/json": {
       "ascii": false,
       "bar_format": null,
       "colour": null,
       "elapsed": 0.01959705352783203,
       "initial": 0,
       "n": 0,
       "ncols": null,
       "nrows": null,
       "postfix": null,
       "prefix": "Training Batches",
       "rate": null,
       "total": null,
       "unit": "it",
       "unit_divisor": 1000,
       "unit_scale": false
      },
      "application/vnd.jupyter.widget-view+json": {
       "model_id": "",
       "version_major": 2,
       "version_minor": 0
      },
      "text/plain": [
       "Training Batches: 0it [00:00, ?it/s]"
      ]
     },
     "metadata": {},
     "output_type": "display_data"
    },
    {
     "name": "stdout",
     "output_type": "stream",
     "text": [
      "1.1959642059326172\n",
      "Epoch 3/20:\n"
     ]
    },
    {
     "data": {
      "application/json": {
       "ascii": false,
       "bar_format": null,
       "colour": null,
       "elapsed": 0.019585609436035156,
       "initial": 0,
       "n": 0,
       "ncols": null,
       "nrows": null,
       "postfix": null,
       "prefix": "Training Batches",
       "rate": null,
       "total": null,
       "unit": "it",
       "unit_divisor": 1000,
       "unit_scale": false
      },
      "application/vnd.jupyter.widget-view+json": {
       "model_id": "",
       "version_major": 2,
       "version_minor": 0
      },
      "text/plain": [
       "Training Batches: 0it [00:00, ?it/s]"
      ]
     },
     "metadata": {},
     "output_type": "display_data"
    },
    {
     "name": "stdout",
     "output_type": "stream",
     "text": [
      "1.0968857772827147\n",
      "Epoch 4/20:\n"
     ]
    },
    {
     "data": {
      "application/json": {
       "ascii": false,
       "bar_format": null,
       "colour": null,
       "elapsed": 0.0210721492767334,
       "initial": 0,
       "n": 0,
       "ncols": null,
       "nrows": null,
       "postfix": null,
       "prefix": "Training Batches",
       "rate": null,
       "total": null,
       "unit": "it",
       "unit_divisor": 1000,
       "unit_scale": false
      },
      "application/vnd.jupyter.widget-view+json": {
       "model_id": "",
       "version_major": 2,
       "version_minor": 0
      },
      "text/plain": [
       "Training Batches: 0it [00:00, ?it/s]"
      ]
     },
     "metadata": {},
     "output_type": "display_data"
    },
    {
     "name": "stdout",
     "output_type": "stream",
     "text": [
      "1.0474103073120118\n",
      "Epoch 5/20:\n"
     ]
    },
    {
     "data": {
      "application/json": {
       "ascii": false,
       "bar_format": null,
       "colour": null,
       "elapsed": 0.01964426040649414,
       "initial": 0,
       "n": 0,
       "ncols": null,
       "nrows": null,
       "postfix": null,
       "prefix": "Training Batches",
       "rate": null,
       "total": null,
       "unit": "it",
       "unit_divisor": 1000,
       "unit_scale": false
      },
      "application/vnd.jupyter.widget-view+json": {
       "model_id": "",
       "version_major": 2,
       "version_minor": 0
      },
      "text/plain": [
       "Training Batches: 0it [00:00, ?it/s]"
      ]
     },
     "metadata": {},
     "output_type": "display_data"
    },
    {
     "name": "stdout",
     "output_type": "stream",
     "text": [
      "0.9993632400512695\n",
      "Epoch 6/20:\n"
     ]
    },
    {
     "data": {
      "application/json": {
       "ascii": false,
       "bar_format": null,
       "colour": null,
       "elapsed": 0.019530773162841797,
       "initial": 0,
       "n": 0,
       "ncols": null,
       "nrows": null,
       "postfix": null,
       "prefix": "Training Batches",
       "rate": null,
       "total": null,
       "unit": "it",
       "unit_divisor": 1000,
       "unit_scale": false
      },
      "application/vnd.jupyter.widget-view+json": {
       "model_id": "",
       "version_major": 2,
       "version_minor": 0
      },
      "text/plain": [
       "Training Batches: 0it [00:00, ?it/s]"
      ]
     },
     "metadata": {},
     "output_type": "display_data"
    },
    {
     "name": "stdout",
     "output_type": "stream",
     "text": [
      "0.9455679855346679\n",
      "Epoch 7/20:\n"
     ]
    },
    {
     "data": {
      "application/json": {
       "ascii": false,
       "bar_format": null,
       "colour": null,
       "elapsed": 0.019689083099365234,
       "initial": 0,
       "n": 0,
       "ncols": null,
       "nrows": null,
       "postfix": null,
       "prefix": "Training Batches",
       "rate": null,
       "total": null,
       "unit": "it",
       "unit_divisor": 1000,
       "unit_scale": false
      },
      "application/vnd.jupyter.widget-view+json": {
       "model_id": "",
       "version_major": 2,
       "version_minor": 0
      },
      "text/plain": [
       "Training Batches: 0it [00:00, ?it/s]"
      ]
     },
     "metadata": {},
     "output_type": "display_data"
    },
    {
     "name": "stdout",
     "output_type": "stream",
     "text": [
      "0.9015768463134766\n",
      "Epoch 8/20:\n"
     ]
    },
    {
     "data": {
      "application/json": {
       "ascii": false,
       "bar_format": null,
       "colour": null,
       "elapsed": 0.01957416534423828,
       "initial": 0,
       "n": 0,
       "ncols": null,
       "nrows": null,
       "postfix": null,
       "prefix": "Training Batches",
       "rate": null,
       "total": null,
       "unit": "it",
       "unit_divisor": 1000,
       "unit_scale": false
      },
      "application/vnd.jupyter.widget-view+json": {
       "model_id": "",
       "version_major": 2,
       "version_minor": 0
      },
      "text/plain": [
       "Training Batches: 0it [00:00, ?it/s]"
      ]
     },
     "metadata": {},
     "output_type": "display_data"
    },
    {
     "name": "stdout",
     "output_type": "stream",
     "text": [
      "0.8561732803344727\n",
      "Epoch 9/20:\n"
     ]
    },
    {
     "data": {
      "application/json": {
       "ascii": false,
       "bar_format": null,
       "colour": null,
       "elapsed": 0.019544124603271484,
       "initial": 0,
       "n": 0,
       "ncols": null,
       "nrows": null,
       "postfix": null,
       "prefix": "Training Batches",
       "rate": null,
       "total": null,
       "unit": "it",
       "unit_divisor": 1000,
       "unit_scale": false
      },
      "application/vnd.jupyter.widget-view+json": {
       "model_id": "",
       "version_major": 2,
       "version_minor": 0
      },
      "text/plain": [
       "Training Batches: 0it [00:00, ?it/s]"
      ]
     },
     "metadata": {},
     "output_type": "display_data"
    },
    {
     "name": "stdout",
     "output_type": "stream",
     "text": [
      "0.8191336502075195\n",
      "Epoch 10/20:\n"
     ]
    },
    {
     "data": {
      "application/json": {
       "ascii": false,
       "bar_format": null,
       "colour": null,
       "elapsed": 0.019666194915771484,
       "initial": 0,
       "n": 0,
       "ncols": null,
       "nrows": null,
       "postfix": null,
       "prefix": "Training Batches",
       "rate": null,
       "total": null,
       "unit": "it",
       "unit_divisor": 1000,
       "unit_scale": false
      },
      "application/vnd.jupyter.widget-view+json": {
       "model_id": "",
       "version_major": 2,
       "version_minor": 0
      },
      "text/plain": [
       "Training Batches: 0it [00:00, ?it/s]"
      ]
     },
     "metadata": {},
     "output_type": "display_data"
    },
    {
     "name": "stdout",
     "output_type": "stream",
     "text": [
      "0.7900764724731445\n",
      "Epoch 11/20:\n"
     ]
    },
    {
     "data": {
      "application/json": {
       "ascii": false,
       "bar_format": null,
       "colour": null,
       "elapsed": 0.019501686096191406,
       "initial": 0,
       "n": 0,
       "ncols": null,
       "nrows": null,
       "postfix": null,
       "prefix": "Training Batches",
       "rate": null,
       "total": null,
       "unit": "it",
       "unit_divisor": 1000,
       "unit_scale": false
      },
      "application/vnd.jupyter.widget-view+json": {
       "model_id": "",
       "version_major": 2,
       "version_minor": 0
      },
      "text/plain": [
       "Training Batches: 0it [00:00, ?it/s]"
      ]
     },
     "metadata": {},
     "output_type": "display_data"
    },
    {
     "name": "stdout",
     "output_type": "stream",
     "text": [
      "0.7697283966064453\n",
      "Epoch 12/20:\n"
     ]
    },
    {
     "data": {
      "application/json": {
       "ascii": false,
       "bar_format": null,
       "colour": null,
       "elapsed": 0.019567012786865234,
       "initial": 0,
       "n": 0,
       "ncols": null,
       "nrows": null,
       "postfix": null,
       "prefix": "Training Batches",
       "rate": null,
       "total": null,
       "unit": "it",
       "unit_divisor": 1000,
       "unit_scale": false
      },
      "application/vnd.jupyter.widget-view+json": {
       "model_id": "",
       "version_major": 2,
       "version_minor": 0
      },
      "text/plain": [
       "Training Batches: 0it [00:00, ?it/s]"
      ]
     },
     "metadata": {},
     "output_type": "display_data"
    },
    {
     "name": "stdout",
     "output_type": "stream",
     "text": [
      "0.7600112854003906\n",
      "Epoch 13/20:\n"
     ]
    },
    {
     "data": {
      "application/json": {
       "ascii": false,
       "bar_format": null,
       "colour": null,
       "elapsed": 0.019693374633789062,
       "initial": 0,
       "n": 0,
       "ncols": null,
       "nrows": null,
       "postfix": null,
       "prefix": "Training Batches",
       "rate": null,
       "total": null,
       "unit": "it",
       "unit_divisor": 1000,
       "unit_scale": false
      },
      "application/vnd.jupyter.widget-view+json": {
       "model_id": "",
       "version_major": 2,
       "version_minor": 0
      },
      "text/plain": [
       "Training Batches: 0it [00:00, ?it/s]"
      ]
     },
     "metadata": {},
     "output_type": "display_data"
    },
    {
     "name": "stdout",
     "output_type": "stream",
     "text": [
      "0.7631593139648437\n",
      "Epoch 14/20:\n"
     ]
    },
    {
     "data": {
      "application/json": {
       "ascii": false,
       "bar_format": null,
       "colour": null,
       "elapsed": 0.01950812339782715,
       "initial": 0,
       "n": 0,
       "ncols": null,
       "nrows": null,
       "postfix": null,
       "prefix": "Training Batches",
       "rate": null,
       "total": null,
       "unit": "it",
       "unit_divisor": 1000,
       "unit_scale": false
      },
      "application/vnd.jupyter.widget-view+json": {
       "model_id": "",
       "version_major": 2,
       "version_minor": 0
      },
      "text/plain": [
       "Training Batches: 0it [00:00, ?it/s]"
      ]
     },
     "metadata": {},
     "output_type": "display_data"
    },
    {
     "name": "stdout",
     "output_type": "stream",
     "text": [
      "0.7577664962768554\n",
      "Epoch 15/20:\n"
     ]
    },
    {
     "data": {
      "application/json": {
       "ascii": false,
       "bar_format": null,
       "colour": null,
       "elapsed": 0.019474267959594727,
       "initial": 0,
       "n": 0,
       "ncols": null,
       "nrows": null,
       "postfix": null,
       "prefix": "Training Batches",
       "rate": null,
       "total": null,
       "unit": "it",
       "unit_divisor": 1000,
       "unit_scale": false
      },
      "application/vnd.jupyter.widget-view+json": {
       "model_id": "",
       "version_major": 2,
       "version_minor": 0
      },
      "text/plain": [
       "Training Batches: 0it [00:00, ?it/s]"
      ]
     },
     "metadata": {},
     "output_type": "display_data"
    },
    {
     "name": "stdout",
     "output_type": "stream",
     "text": [
      "0.7568113571166992\n",
      "Epoch 16/20:\n"
     ]
    },
    {
     "data": {
      "application/json": {
       "ascii": false,
       "bar_format": null,
       "colour": null,
       "elapsed": 0.019739389419555664,
       "initial": 0,
       "n": 0,
       "ncols": null,
       "nrows": null,
       "postfix": null,
       "prefix": "Training Batches",
       "rate": null,
       "total": null,
       "unit": "it",
       "unit_divisor": 1000,
       "unit_scale": false
      },
      "application/vnd.jupyter.widget-view+json": {
       "model_id": "",
       "version_major": 2,
       "version_minor": 0
      },
      "text/plain": [
       "Training Batches: 0it [00:00, ?it/s]"
      ]
     },
     "metadata": {},
     "output_type": "display_data"
    },
    {
     "name": "stdout",
     "output_type": "stream",
     "text": [
      "0.7551191360473632\n",
      "Epoch 17/20:\n"
     ]
    },
    {
     "data": {
      "application/json": {
       "ascii": false,
       "bar_format": null,
       "colour": null,
       "elapsed": 0.019532442092895508,
       "initial": 0,
       "n": 0,
       "ncols": null,
       "nrows": null,
       "postfix": null,
       "prefix": "Training Batches",
       "rate": null,
       "total": null,
       "unit": "it",
       "unit_divisor": 1000,
       "unit_scale": false
      },
      "application/vnd.jupyter.widget-view+json": {
       "model_id": "",
       "version_major": 2,
       "version_minor": 0
      },
      "text/plain": [
       "Training Batches: 0it [00:00, ?it/s]"
      ]
     },
     "metadata": {},
     "output_type": "display_data"
    },
    {
     "name": "stdout",
     "output_type": "stream",
     "text": [
      "0.7539137634277344\n",
      "Epoch 18/20:\n"
     ]
    },
    {
     "data": {
      "application/json": {
       "ascii": false,
       "bar_format": null,
       "colour": null,
       "elapsed": 0.01942753791809082,
       "initial": 0,
       "n": 0,
       "ncols": null,
       "nrows": null,
       "postfix": null,
       "prefix": "Training Batches",
       "rate": null,
       "total": null,
       "unit": "it",
       "unit_divisor": 1000,
       "unit_scale": false
      },
      "application/vnd.jupyter.widget-view+json": {
       "model_id": "",
       "version_major": 2,
       "version_minor": 0
      },
      "text/plain": [
       "Training Batches: 0it [00:00, ?it/s]"
      ]
     },
     "metadata": {},
     "output_type": "display_data"
    },
    {
     "name": "stdout",
     "output_type": "stream",
     "text": [
      "0.7533470809936523\n",
      "Epoch 19/20:\n"
     ]
    },
    {
     "data": {
      "application/json": {
       "ascii": false,
       "bar_format": null,
       "colour": null,
       "elapsed": 0.01946735382080078,
       "initial": 0,
       "n": 0,
       "ncols": null,
       "nrows": null,
       "postfix": null,
       "prefix": "Training Batches",
       "rate": null,
       "total": null,
       "unit": "it",
       "unit_divisor": 1000,
       "unit_scale": false
      },
      "application/vnd.jupyter.widget-view+json": {
       "model_id": "",
       "version_major": 2,
       "version_minor": 0
      },
      "text/plain": [
       "Training Batches: 0it [00:00, ?it/s]"
      ]
     },
     "metadata": {},
     "output_type": "display_data"
    },
    {
     "name": "stdout",
     "output_type": "stream",
     "text": [
      "0.7519870681762695\n",
      "Epoch 20/20:\n"
     ]
    },
    {
     "data": {
      "application/json": {
       "ascii": false,
       "bar_format": null,
       "colour": null,
       "elapsed": 0.019558191299438477,
       "initial": 0,
       "n": 0,
       "ncols": null,
       "nrows": null,
       "postfix": null,
       "prefix": "Training Batches",
       "rate": null,
       "total": null,
       "unit": "it",
       "unit_divisor": 1000,
       "unit_scale": false
      },
      "application/vnd.jupyter.widget-view+json": {
       "model_id": "",
       "version_major": 2,
       "version_minor": 0
      },
      "text/plain": [
       "Training Batches: 0it [00:00, ?it/s]"
      ]
     },
     "metadata": {},
     "output_type": "display_data"
    },
    {
     "name": "stdout",
     "output_type": "stream",
     "text": [
      "0.7474320556640625\n",
      "Training finished.\n"
     ]
    }
   ],
   "source": [
    "import numpy as np\n",
    "\n",
    "num_epochs = 20\n",
    "epoch_loss = []\n",
    "for epoch in range(num_epochs):\n",
    "    print(f\"Epoch {epoch+1}/{num_epochs}:\")\n",
    "    \n",
    "    # Initialize data generator\n",
    "    generator = data_generator(embeddings, labels, batch_size)\n",
    "    train_loss = 0\n",
    "    # Iterate over batches\n",
    "    for batch_embeddings, batch_labels in tqdm(generator, desc=\"Training Batches\", leave=False):\n",
    "        \n",
    "        optimizer.zero_grad()\n",
    "        \n",
    "        # Convert data to tensors\n",
    "\n",
    "        batch_embeddings_tensor = torch.stack(batch_embeddings)\n",
    "        batch_labels = np.array(batch_labels)\n",
    "        batch_labels_tensor = torch.tensor(batch_labels, dtype = torch.float32)\n",
    "        batch_labels_tensor = batch_labels_tensor.squeeze()\n",
    "\n",
    "        \n",
    "        outputs = clf_model(batch_embeddings_tensor)\n",
    "\n",
    "        \n",
    "        loss = criterion(outputs, batch_labels_tensor)\n",
    "\n",
    "        \n",
    "        train_loss+=loss.item()\n",
    "        # Backward pass and optimization\n",
    "        loss.backward()\n",
    "        optimizer.step()\n",
    "    scheduler.step()\n",
    "    epoch_loss.append(train_loss/(len(embeddings)/batch_size))\n",
    "    print(train_loss/(len(embeddings)/batch_size))\n",
    "print(\"Training finished.\")\n"
   ]
  },
  {
   "cell_type": "code",
   "execution_count": 162,
   "id": "0aae8a77",
   "metadata": {},
   "outputs": [],
   "source": [
    "with open('BERT_DNN_senteces_test.json', \"r\") as f:\n",
    "    test_sentences = json.load(f)"
   ]
  },
  {
   "cell_type": "code",
   "execution_count": 163,
   "id": "9ab316ab",
   "metadata": {},
   "outputs": [
    {
     "data": {
      "text/plain": [
       "100"
      ]
     },
     "execution_count": 163,
     "metadata": {},
     "output_type": "execute_result"
    }
   ],
   "source": [
    "test_sentences = {key: value for key, value in test_sentences.items() if value}\n",
    "len(test_sentences)"
   ]
  },
  {
   "cell_type": "code",
   "execution_count": 164,
   "id": "e3e213bf",
   "metadata": {},
   "outputs": [
    {
     "data": {
      "text/plain": [
       "100"
      ]
     },
     "execution_count": 164,
     "metadata": {},
     "output_type": "execute_result"
    }
   ],
   "source": [
    "matching_string = test_sentences.values()\n",
    "len(matching_string)"
   ]
  },
  {
   "cell_type": "code",
   "execution_count": 165,
   "id": "0a93cb03",
   "metadata": {},
   "outputs": [
    {
     "data": {
      "text/plain": [
       "5000"
      ]
     },
     "execution_count": 165,
     "metadata": {},
     "output_type": "execute_result"
    }
   ],
   "source": [
    "matching_string = [item for sublist in matching_string for item in sublist]\n",
    "len(matching_string)"
   ]
  },
  {
   "cell_type": "code",
   "execution_count": 166,
   "id": "7d499e52",
   "metadata": {},
   "outputs": [
    {
     "data": {
      "application/json": {
       "ascii": false,
       "bar_format": null,
       "colour": null,
       "elapsed": 0.015955448150634766,
       "initial": 0,
       "n": 0,
       "ncols": null,
       "nrows": null,
       "postfix": null,
       "prefix": "",
       "rate": null,
       "total": 40,
       "unit": "it",
       "unit_divisor": 1000,
       "unit_scale": false
      },
      "application/vnd.jupyter.widget-view+json": {
       "model_id": "d42b9a08336941c1b36bc24fa17d8222",
       "version_major": 2,
       "version_minor": 0
      },
      "text/plain": [
       "  0%|          | 0/40 [00:00<?, ?it/s]"
      ]
     },
     "metadata": {},
     "output_type": "display_data"
    }
   ],
   "source": [
    "batch_size = 128 # Define your batch size\n",
    "# model.cuda()\n",
    "test_embeddings = []\n",
    "test_labels = []\n",
    "\n",
    "# Define your data iterator in batches\n",
    "for i in tqdm(range(0, len(matching_string), batch_size)):\n",
    "    batch_sentences = matching_string[i:i+batch_size]\n",
    "\n",
    "    batch_inputs = tokenizer.encode_batch(batch_sentences)\n",
    "    input_ids_list = []\n",
    "    attention_mask_list = []\n",
    "\n",
    "    for encoding in batch_inputs:\n",
    "        input_ids_list.append(encoding.ids)\n",
    "        attention_mask_list.append(encoding.attention_mask)\n",
    "    # Convert lists to tensors and move to device\n",
    "    try:\n",
    "        input_ids = torch.tensor(input_ids_list)\n",
    "    except:\n",
    "        for ins in input_ids_list:\n",
    "            if len(ins)!=42:\n",
    "                print(len(ins))\n",
    "                print(ins)\n",
    "    attention_mask = torch.tensor(attention_mask_list)\n",
    "\n",
    "    with torch.inference_mode():\n",
    "        outputs = model(input_ids, attention_mask=attention_mask, output_hidden_states=True)\n",
    "    hidden_states = outputs.last_hidden_state\n",
    "    relevant_hidden_states = hidden_states[:, 20, :]\n",
    "#     relevant_hidden_states = torch.mean(hidden_states[:, 1:-1, :], dim=1)\n",
    "    \n",
    "    for j in range(len(batch_sentences)):\n",
    "        # Move embeddings to CPU\n",
    "        test_embeddings.append(relevant_hidden_states[j].cpu())\n",
    "        indicator = batch_sentences[j].split()[19]\n",
    "        test_labels.append(one_hot_encoded_dict[indicator])\n"
   ]
  },
  {
   "cell_type": "code",
   "execution_count": 167,
   "id": "1b5d975e",
   "metadata": {},
   "outputs": [],
   "source": [
    "model.to(\"cpu\")\n",
    "torch.cuda.empty_cache()"
   ]
  },
  {
   "cell_type": "code",
   "execution_count": 168,
   "id": "e6194248",
   "metadata": {},
   "outputs": [
    {
     "data": {
      "text/plain": [
       "Classification_V0(\n",
       "  (fc1): Linear(in_features=256, out_features=128, bias=True)\n",
       "  (relu1): ReLU()\n",
       "  (fc2): Linear(in_features=128, out_features=64, bias=True)\n",
       "  (relu2): ReLU()\n",
       "  (fc3): Linear(in_features=64, out_features=32, bias=True)\n",
       "  (relu3): ReLU()\n",
       "  (fc4): Linear(in_features=32, out_features=546, bias=True)\n",
       "  (dropout): Dropout(p=0.25, inplace=False)\n",
       ")"
      ]
     },
     "execution_count": 168,
     "metadata": {},
     "output_type": "execute_result"
    }
   ],
   "source": [
    "clf_model.eval()"
   ]
  },
  {
   "cell_type": "code",
   "execution_count": 169,
   "id": "9642349c",
   "metadata": {},
   "outputs": [
    {
     "data": {
      "application/json": {
       "ascii": false,
       "bar_format": null,
       "colour": null,
       "elapsed": 0.021149158477783203,
       "initial": 0,
       "n": 0,
       "ncols": null,
       "nrows": null,
       "postfix": null,
       "prefix": "Evaluation Batches",
       "rate": null,
       "total": null,
       "unit": "it",
       "unit_divisor": 1000,
       "unit_scale": false
      },
      "application/vnd.jupyter.widget-view+json": {
       "model_id": "",
       "version_major": 2,
       "version_minor": 0
      },
      "text/plain": [
       "Evaluation Batches: 0it [00:00, ?it/s]"
      ]
     },
     "metadata": {},
     "output_type": "display_data"
    }
   ],
   "source": [
    "generator = data_generator(test_embeddings, test_labels, batch_size)\n",
    "# Iterate over batches\n",
    "from sklearn.metrics import multilabel_confusion_matrix\n",
    "from sklearn.metrics import precision_score, recall_score, f1_score\n",
    "import numpy as np\n",
    "all_predictions = []\n",
    "all_labels = []\n",
    "all_probs = []\n",
    "# Initialize lists to store predictions and labels across all batches\n",
    "# Iterate over batches\n",
    "count = 0\n",
    "for batch_embeddings, batch_labels in tqdm(generator, desc=\"Evaluation Batches\", leave=False):\n",
    "    batch_embeddings_tensor = torch.stack(batch_embeddings)\n",
    "    batch_labels = np.array(batch_labels)\n",
    "    \n",
    "    logits = clf_model(batch_embeddings_tensor)\n",
    "    predictions = torch.sigmoid(logits)\n",
    "    thresholded_predictions = (predictions > 0.7).float()\n",
    "    all_predictions.append(thresholded_predictions.detach().numpy())\n",
    "    all_labels.append(batch_labels)\n",
    "    all_probs.append(predictions.detach().numpy())\n"
   ]
  },
  {
   "cell_type": "code",
   "execution_count": 170,
   "id": "6a8783cc",
   "metadata": {},
   "outputs": [
    {
     "data": {
      "text/plain": [
       "40"
      ]
     },
     "execution_count": 170,
     "metadata": {},
     "output_type": "execute_result"
    }
   ],
   "source": [
    "len(all_predictions)"
   ]
  },
  {
   "cell_type": "code",
   "execution_count": 171,
   "id": "dd77c37e",
   "metadata": {},
   "outputs": [
    {
     "data": {
      "text/plain": [
       "128"
      ]
     },
     "execution_count": 171,
     "metadata": {},
     "output_type": "execute_result"
    }
   ],
   "source": [
    "len(all_labels[0])\n",
    "    "
   ]
  },
  {
   "cell_type": "code",
   "execution_count": 172,
   "id": "41649db3",
   "metadata": {},
   "outputs": [
    {
     "name": "stdout",
     "output_type": "stream",
     "text": [
      "(128, 546)\n"
     ]
    }
   ],
   "source": [
    "print(all_predictions[0].shape)"
   ]
  },
  {
   "cell_type": "code",
   "execution_count": 173,
   "id": "7cc0ca70",
   "metadata": {},
   "outputs": [],
   "source": [
    "\n",
    "# Concatenate predictions and labels across all batches\n",
    "all_predictions = np.concatenate(all_predictions)\n",
    "all_labels = np.concatenate(all_labels)\n",
    "all_probs = np.concatenate(all_probs)"
   ]
  },
  {
   "cell_type": "code",
   "execution_count": 174,
   "id": "3a17e99d",
   "metadata": {},
   "outputs": [
    {
     "data": {
      "text/plain": [
       "(5000, 546)"
      ]
     },
     "execution_count": 174,
     "metadata": {},
     "output_type": "execute_result"
    }
   ],
   "source": [
    "all_labels.shape"
   ]
  },
  {
   "cell_type": "code",
   "execution_count": 175,
   "id": "492e8479",
   "metadata": {},
   "outputs": [
    {
     "name": "stdout",
     "output_type": "stream",
     "text": [
      "0.8028767263704124\n"
     ]
    }
   ],
   "source": [
    "from sklearn import metrics\n",
    "\n",
    "y = all_labels.flatten()\n",
    "pred_y = all_probs.flatten()\n",
    "\n",
    "fpr, tpr, thresholds = metrics.roc_curve(y, pred_y)\n",
    "print(metrics.auc(fpr, tpr))"
   ]
  },
  {
   "cell_type": "code",
   "execution_count": 176,
   "id": "10c9315f",
   "metadata": {},
   "outputs": [
    {
     "data": {
      "image/png": "[encoded data removed]",
      "text/plain": [
       "<Figure size 800x600 with 1 Axes>"
      ]
     },
     "metadata": {},
     "output_type": "display_data"
    }
   ],
   "source": [
    "import matplotlib.pyplot as plt\n",
    "\n",
    "plt.figure(figsize=(8, 6))\n",
    "plt.plot(fpr, tpr, color='blue', label='ROC Curve')\n",
    "plt.plot([0, 1], [0, 1], color='red', linestyle='--', label='Random Guess')\n",
    "\n",
    "plt.xlabel('False Positive Rate')\n",
    "plt.ylabel('True Positive Rate')\n",
    "plt.title('Receiver Operating Characteristic (ROC) Curve')\n",
    "plt.legend(loc='lower right')\n",
    "plt.grid(True)\n",
    "plt.show()"
   ]
  },
  {
   "cell_type": "code",
   "execution_count": 177,
   "id": "541ab895",
   "metadata": {},
   "outputs": [
    {
     "name": "stdout",
     "output_type": "stream",
     "text": [
      "Classification report:\n",
      "546\n"
     ]
    }
   ],
   "source": [
    "cl_report = multilabel_confusion_matrix(all_labels, all_predictions)\n",
    "print(\"Classification report:\")\n",
    "print(len(cl_report))"
   ]
  },
  {
   "cell_type": "code",
   "execution_count": 178,
   "id": "5563973c",
   "metadata": {},
   "outputs": [
    {
     "data": {
      "text/plain": [
       "array([[4528,  288],\n",
       "       [ 102,   82]])"
      ]
     },
     "execution_count": 178,
     "metadata": {},
     "output_type": "execute_result"
    }
   ],
   "source": [
    "cl_report[0]"
   ]
  },
  {
   "cell_type": "code",
   "execution_count": 179,
   "id": "6bb7d197",
   "metadata": {},
   "outputs": [],
   "source": [
    "from sklearn.metrics import classification_report\n",
    "\n",
    "report = classification_report(all_labels, all_predictions, zero_division=np.nan)"
   ]
  },
  {
   "cell_type": "code",
   "execution_count": 180,
   "id": "93ae8c2f",
   "metadata": {},
   "outputs": [
    {
     "data": {
      "text/plain": [
       "array([3.700e+02, 2.580e+02, 1.590e+02, 3.240e+02, 1.570e+02, 1.790e+02,\n",
       "       1.360e+02, 2.130e+02, 4.002e+03, 2.540e+02, 2.590e+02, 1.540e+02,\n",
       "       1.490e+02, 4.000e+01, 2.460e+02, 0.000e+00, 2.030e+02, 1.260e+02,\n",
       "       1.320e+02, 2.140e+02, 9.300e+01, 8.100e+01, 3.440e+02, 1.650e+02,\n",
       "       2.580e+02, 3.030e+02, 1.990e+02, 2.090e+02, 1.500e+02, 2.260e+02,\n",
       "       1.810e+02, 2.500e+02, 0.000e+00, 6.800e+01, 0.000e+00, 1.020e+02,\n",
       "       1.500e+02, 7.700e+01, 1.440e+02, 1.680e+02, 3.470e+02, 1.900e+02,\n",
       "       7.500e+01, 1.300e+01, 2.140e+02, 2.150e+02, 2.150e+02, 1.360e+02,\n",
       "       1.810e+02, 3.500e+01, 1.920e+02, 9.600e+01, 1.850e+02, 1.220e+02,\n",
       "       2.060e+02, 2.550e+02, 9.400e+01, 1.620e+02, 1.590e+02, 1.120e+02,\n",
       "       2.380e+02, 1.630e+02, 1.620e+02, 1.830e+02, 2.790e+02, 9.800e+01,\n",
       "       3.230e+02, 2.930e+02, 2.460e+02, 1.750e+02, 2.450e+02, 5.800e+01,\n",
       "       1.270e+02, 2.410e+02, 2.130e+02, 1.640e+02, 4.450e+02, 1.960e+02,\n",
       "       2.140e+02, 3.880e+02, 3.350e+02, 3.330e+02, 1.350e+02, 1.360e+02,\n",
       "       2.110e+02, 2.130e+02, 8.300e+01, 1.040e+02, 1.660e+02, 2.200e+02,\n",
       "       1.620e+02, 2.330e+02, 1.500e+02, 2.220e+02, 4.000e+00, 1.820e+02,\n",
       "       1.470e+02, 4.100e+01, 2.540e+02, 1.360e+02, 1.590e+02, 2.700e+01,\n",
       "       2.330e+02, 2.930e+02, 2.630e+02, 1.710e+02, 1.400e+02, 1.420e+02,\n",
       "       3.310e+02, 1.930e+02, 2.040e+02, 1.490e+02, 4.470e+02, 3.300e+02,\n",
       "       1.620e+02, 2.800e+02, 2.830e+02, 2.890e+02, 3.990e+02, 3.920e+02,\n",
       "       4.220e+02, 1.460e+02, 2.170e+02, 1.760e+02, 1.590e+02, 2.040e+02,\n",
       "       2.390e+02, 1.660e+02, 2.050e+02, 2.140e+02, 2.230e+02, 7.700e+01,\n",
       "       2.060e+02, 1.290e+02, 2.200e+01, 2.550e+02, 0.000e+00, 0.000e+00,\n",
       "       3.230e+02, 1.970e+02, 1.070e+02, 1.720e+02, 1.020e+02, 2.900e+01,\n",
       "       9.400e+01, 1.100e+01, 1.300e+01, 1.010e+02, 1.470e+02, 1.170e+02,\n",
       "       2.840e+02, 0.000e+00, 5.560e+02, 1.630e+02, 0.000e+00, 2.100e+02,\n",
       "       1.560e+02, 1.740e+02, 2.080e+02, 1.500e+02, 1.910e+02, 2.130e+02,\n",
       "       2.370e+02, 3.470e+02, 2.170e+02, 2.260e+02, 2.610e+02, 6.580e+02,\n",
       "       4.180e+02, 1.690e+02, 2.020e+02, 2.110e+02, 2.800e+02, 1.550e+02,\n",
       "       1.490e+02, 2.580e+02, 1.640e+02, 2.150e+02, 3.300e+02, 1.380e+02,\n",
       "       1.350e+02, 1.360e+02, 1.370e+02, 3.380e+02, 3.340e+02, 1.360e+02,\n",
       "       1.330e+02, 3.350e+02, 2.430e+02, 1.360e+02, 1.350e+02, 2.230e+02,\n",
       "       2.090e+02, 3.340e+02, 3.340e+02, 2.510e+02, 3.000e+02, 1.870e+02,\n",
       "       1.780e+02, 3.530e+02, 2.130e+02, 1.460e+02, 1.730e+02, 1.690e+02,\n",
       "       1.380e+02, 7.000e+00, 0.000e+00, 2.140e+02, 5.600e+01, 5.200e+01,\n",
       "       2.880e+02, 2.360e+02, 2.140e+02, 1.050e+02, 1.210e+02, 1.960e+02,\n",
       "       1.610e+02, 9.600e+01, 3.640e+02, 2.040e+02, 1.320e+02, 3.510e+02,\n",
       "       3.040e+02, 2.140e+02, 1.530e+02, 2.370e+02, 1.860e+02, 2.040e+02,\n",
       "       2.610e+02, 1.150e+02, 4.420e+02, 2.920e+02, 2.700e+02, 2.380e+02,\n",
       "       5.700e+01, 1.560e+02, 1.590e+02, 2.330e+02, 4.700e+01, 2.910e+02,\n",
       "       2.110e+02, 1.060e+02, 1.680e+02, 2.150e+02, 2.140e+02, 2.150e+02,\n",
       "       2.140e+02, 1.880e+02, 2.930e+02, 2.370e+02, 1.170e+02, 2.210e+02,\n",
       "       2.130e+02, 2.840e+02, 2.020e+02, 1.420e+02, 3.810e+02, 1.600e+01,\n",
       "       1.750e+02, 2.240e+02, 1.000e+00, 2.100e+02, 1.390e+02, 1.460e+02,\n",
       "       1.500e+02, 2.150e+02, 2.060e+02, 1.600e+02, 2.200e+02, 1.750e+02,\n",
       "       1.990e+02, 4.240e+02, 3.240e+02, 2.240e+02, 2.360e+02, 1.080e+02,\n",
       "       3.130e+02, 1.000e+00, 4.650e+02, 1.660e+02, 2.820e+02, 3.220e+02,\n",
       "       6.400e+01, 1.270e+02, 1.400e+02, 3.420e+02, 8.000e+00, 2.900e+02,\n",
       "       1.720e+02, 2.120e+02, 2.210e+02, 2.170e+02, 2.180e+02, 2.190e+02,\n",
       "       2.180e+02, 2.700e+02, 2.450e+02, 6.700e+01, 3.360e+02, 2.700e+01,\n",
       "       3.300e+02, 3.210e+02, 1.430e+02, 4.630e+02, 9.200e+01, 3.100e+02,\n",
       "       2.190e+02, 8.600e+01, 6.330e+02, 3.200e+02, 3.170e+02, 3.570e+02,\n",
       "       2.510e+02, 7.600e+01, 4.550e+02, 2.910e+02, 2.170e+02, 4.000e+00,\n",
       "       5.100e+01, 2.880e+02, 2.070e+02, 2.060e+02, 2.960e+02, 4.710e+02,\n",
       "       2.530e+02, 2.120e+02, 3.690e+02, 1.140e+02, 3.340e+02, 4.520e+02,\n",
       "       3.070e+02, 2.610e+02, 2.430e+02, 1.900e+02, 2.840e+02, 3.130e+02,\n",
       "       2.610e+02, 8.500e+01, 2.800e+02, 3.790e+02, 2.480e+02, 3.670e+02,\n",
       "       3.600e+02, 3.570e+02, 1.450e+02, 1.350e+02, 3.070e+02, 2.140e+02,\n",
       "       1.260e+02, 1.000e+00, 6.400e+01, 1.670e+02, 1.650e+02, 2.210e+02,\n",
       "       2.060e+02, 3.550e+02, 3.350e+02, 3.340e+02, 2.970e+02, 2.140e+02,\n",
       "       2.140e+02, 2.230e+02, 2.150e+02, 2.130e+02, 2.140e+02, 2.100e+02,\n",
       "       2.140e+02, 2.140e+02, 2.140e+02, 2.800e+01, 2.160e+02, 2.000e+02,\n",
       "       2.370e+02, 9.800e+01, 3.950e+02, 4.230e+02, 2.470e+02, 1.940e+02,\n",
       "       1.420e+02, 3.520e+02, 4.190e+02, 1.340e+02, 2.060e+02, 2.140e+02,\n",
       "       2.110e+02, 1.490e+02, 1.700e+01, 3.000e+01, 2.110e+02, 2.060e+02,\n",
       "       1.720e+02, 2.150e+02, 1.660e+02, 1.230e+02, 1.520e+02, 1.470e+02,\n",
       "       2.140e+02, 1.490e+02, 1.190e+02, 1.810e+02, 1.660e+02, 1.380e+02,\n",
       "       1.770e+02, 1.520e+02, 1.170e+02, 6.600e+01, 9.100e+01, 1.820e+02,\n",
       "       1.090e+02, 2.420e+02, 1.670e+02, 3.650e+02, 3.900e+02, 3.440e+02,\n",
       "       2.860e+02, 1.330e+02, 2.390e+02, 2.430e+02, 2.440e+02, 2.710e+02,\n",
       "       4.540e+02, 3.830e+02, 2.480e+02, 3.410e+02, 3.780e+02, 4.290e+02,\n",
       "       3.970e+02, 2.250e+02, 6.600e+02, 3.820e+02, 5.980e+02, 1.810e+02,\n",
       "       4.510e+02, 2.140e+02, 2.860e+02, 1.910e+02, 2.800e+02, 1.350e+02,\n",
       "       1.810e+02, 2.060e+02, 3.330e+02, 2.220e+02, 2.130e+02, 3.130e+02,\n",
       "       4.380e+02, 2.020e+02, 2.520e+02, 2.120e+02, 1.720e+02, 2.170e+02,\n",
       "       2.510e+02, 1.510e+02, 2.390e+02, 2.570e+02, 2.060e+02, 2.120e+02,\n",
       "       2.230e+02, 2.140e+02, 4.900e+01, 1.750e+02, 2.030e+02, 2.600e+01,\n",
       "       1.110e+02, 2.140e+02, 2.060e+02, 2.200e+01, 2.190e+02, 2.340e+02,\n",
       "       1.490e+02, 3.330e+02, 2.120e+02, 5.000e+01, 1.540e+02, 2.140e+02,\n",
       "       3.990e+02, 2.150e+02, 6.500e+01, 1.180e+02, 2.500e+02, 1.930e+02,\n",
       "       2.120e+02, 9.800e+01, 8.900e+01, 3.450e+02, 4.310e+02, 2.420e+02,\n",
       "       2.110e+02, 2.130e+02, 1.150e+02, 3.370e+02, 3.340e+02, 1.670e+02,\n",
       "       1.770e+02, 1.770e+02, 1.900e+01, 2.780e+02, 3.790e+02, 4.120e+02,\n",
       "       4.310e+02, 2.060e+02, 1.400e+02, 2.560e+02, 4.700e+01, 0.000e+00,\n",
       "       2.920e+02, 2.070e+02, 1.720e+02, 5.200e+01, 1.260e+02, 2.220e+02,\n",
       "       9.200e+01, 7.700e+01, 1.580e+02, 2.760e+02, 2.140e+02, 2.270e+02,\n",
       "       3.100e+02, 2.490e+02, 3.660e+02, 3.460e+02, 1.650e+02, 3.080e+02,\n",
       "       1.380e+02, 3.330e+02, 4.540e+02, 2.370e+02, 4.740e+02, 3.580e+02,\n",
       "       1.490e+02, 5.450e+02, 2.150e+02, 5.940e+02, 2.430e+02, 6.400e+02,\n",
       "       3.320e+02, 2.200e+02, 1.450e+02, 1.640e+02, 3.620e+02, 2.150e+02,\n",
       "       1.260e+02, 2.400e+02, 9.000e+00, 6.500e+01, 2.140e+02, 3.600e+01],\n",
       "      dtype=float32)"
      ]
     },
     "execution_count": 180,
     "metadata": {},
     "output_type": "execute_result"
    }
   ],
   "source": [
    "all_predictions.sum(axis=0)"
   ]
  },
  {
   "cell_type": "code",
   "execution_count": 181,
   "id": "924972e7",
   "metadata": {
    "scrolled": false
   },
   "outputs": [
    {
     "name": "stdout",
     "output_type": "stream",
     "text": [
      "              precision    recall  f1-score   support\n",
      "\n",
      "           0       0.22      0.45      0.30       184\n",
      "           1       0.35      0.67      0.46       135\n",
      "           2       0.30      0.96      0.46        50\n",
      "           3       0.83      0.27      0.41      1008\n",
      "           4       0.35      0.71      0.47        77\n",
      "           5       0.21      0.47      0.29        81\n",
      "           6       0.35      0.52      0.42        92\n",
      "           7       0.45      0.95      0.61       100\n",
      "           8       1.00      0.80      0.89      5000\n",
      "           9       0.89      0.25      0.39       907\n",
      "          10       0.87      0.25      0.39       907\n",
      "          11       0.18      0.25      0.21       113\n",
      "          12       0.01      0.04      0.02        52\n",
      "          13       0.03      0.02      0.02        51\n",
      "          14       0.35      0.65      0.46       133\n",
      "          15        nan      0.00      0.00      3414\n",
      "          16       0.14      0.54      0.22        52\n",
      "          17       0.38      0.96      0.55        50\n",
      "          18       0.02      0.04      0.02        55\n",
      "          19       0.45      0.96      0.61       100\n",
      "          20       0.29      0.18      0.22       150\n",
      "          21       0.00      0.00      0.00        50\n",
      "          22       0.13      0.46      0.21       100\n",
      "          23       0.33      0.54      0.41       100\n",
      "          24       0.25      0.64      0.36       101\n",
      "          25       0.18      0.54      0.27       101\n",
      "          26       0.15      0.57      0.23        51\n",
      "          27       0.14      0.57      0.22        51\n",
      "          28       0.20      0.37      0.26        81\n",
      "          29       0.11      0.50      0.18        50\n",
      "          30       0.35      0.68      0.47        94\n",
      "          31       0.27      0.65      0.38       105\n",
      "          32        nan      0.00      0.00        50\n",
      "          33       0.13      0.18      0.15        50\n",
      "          34        nan      0.00      0.00        50\n",
      "          35       0.19      0.30      0.23        63\n",
      "          36       0.43      0.70      0.53        93\n",
      "          37       0.23      0.16      0.19       113\n",
      "          38       0.20      0.12      0.15       236\n",
      "          39       0.13      0.12      0.12       185\n",
      "          40       0.12      0.33      0.18       126\n",
      "          41       0.12      0.18      0.15       126\n",
      "          42       0.01      0.02      0.02        51\n",
      "          43       0.23      0.02      0.03       172\n",
      "          44       0.90      0.91      0.91       212\n",
      "          45       0.97      0.98      0.97       212\n",
      "          46       0.97      0.98      0.97       212\n",
      "          47       0.64      0.95      0.76        92\n",
      "          48       0.23      0.80      0.35        51\n",
      "          49       0.09      0.05      0.07        55\n",
      "          50       0.15      0.15      0.15       188\n",
      "          51       0.20      0.36      0.26        53\n",
      "          52       0.12      0.42      0.18        53\n",
      "          53       0.33      0.78      0.46        51\n",
      "          54       0.90      0.78      0.84       239\n",
      "          55       0.35      0.66      0.45       133\n",
      "          56       0.89      0.06      0.11      1395\n",
      "          57       0.35      0.93      0.51        61\n",
      "          58       0.36      0.93      0.52        61\n",
      "          59       0.06      0.13      0.09        52\n",
      "          60       0.29      0.59      0.39       115\n",
      "          61       0.36      0.95      0.52        61\n",
      "          62       0.36      0.95      0.52        61\n",
      "          63       0.29      0.75      0.42        71\n",
      "          64       0.95      0.14      0.25      1879\n",
      "          65       0.40      0.39      0.39       100\n",
      "          66       0.78      0.28      0.42       882\n",
      "          67       0.25      0.49      0.33       152\n",
      "          68       0.93      0.12      0.21      1886\n",
      "          69       0.05      0.16      0.07        50\n",
      "          70       0.36      0.66      0.47       133\n",
      "          71       0.53      0.16      0.25       190\n",
      "          72       0.28      0.44      0.35        81\n",
      "          73       0.11      0.52      0.18        50\n",
      "          74       0.87      0.87      0.87       214\n",
      "          75       0.27      0.85      0.41        52\n",
      "          76       0.80      0.83      0.81       432\n",
      "          77       0.13      0.25      0.17       102\n",
      "          78       0.90      0.91      0.91       212\n",
      "          79       0.93      0.24      0.38      1509\n",
      "          80       0.88      0.97      0.93       304\n",
      "          81       0.88      0.96      0.92       304\n",
      "          82       0.65      0.96      0.78        92\n",
      "          83       0.65      0.96      0.77        92\n",
      "          84       0.89      0.22      0.35       848\n",
      "          85       0.88      0.59      0.71       316\n",
      "          86       0.05      0.07      0.06        55\n",
      "          87       0.28      0.19      0.23       150\n",
      "          88       0.26      0.84      0.40        51\n",
      "          89       0.85      0.56      0.68       336\n",
      "          90       0.13      0.37      0.19        57\n",
      "          91       0.81      0.47      0.60       396\n",
      "          92       0.16      0.13      0.14       188\n",
      "          93       0.43      0.96      0.60       100\n",
      "          94       0.00      0.00      0.00        51\n",
      "          95       0.30      0.71      0.42        77\n",
      "          96       0.36      0.30      0.33       179\n",
      "          97       0.00      0.00      0.00       104\n",
      "          98       0.34      0.65      0.45       133\n",
      "          99       0.11      0.28      0.16        53\n",
      "         100       0.13      0.38      0.19        53\n",
      "         101       0.00      0.00      0.00       150\n",
      "         102       0.37      0.65      0.47       133\n",
      "         103       0.59      0.51      0.55       338\n",
      "         104       0.18      0.56      0.28        85\n",
      "         105       0.28      0.96      0.43        50\n",
      "         106       0.56      0.92      0.69        85\n",
      "         107       0.55      0.92      0.69        85\n",
      "         108       0.81      0.88      0.85       305\n",
      "         109       0.22      0.84      0.35        51\n",
      "         110       0.21      0.82      0.33        51\n",
      "         111       0.28      0.80      0.41        51\n",
      "         112       0.91      0.25      0.40      1594\n",
      "         113       0.88      0.82      0.85       354\n",
      "         114       0.40      0.70      0.51        93\n",
      "         115       0.81      0.86      0.83       264\n",
      "         116       0.80      0.86      0.83       264\n",
      "         117       0.31      0.67      0.43       135\n",
      "         118       0.80      0.66      0.72       484\n",
      "         119       0.79      0.76      0.77       406\n",
      "         120       0.95      0.19      0.32      2097\n",
      "         121       0.73      0.09      0.16      1184\n",
      "         122       0.40      0.29      0.34       295\n",
      "         123       0.45      0.27      0.34       295\n",
      "         124       0.36      0.93      0.52        61\n",
      "         125       0.28      0.80      0.41        71\n",
      "         126       0.32      0.41      0.36       184\n",
      "         127       0.35      0.95      0.51        61\n",
      "         128       0.91      0.78      0.84       239\n",
      "         129       0.87      0.55      0.68       336\n",
      "         130       0.84      0.56      0.67       336\n",
      "         131       0.26      0.13      0.18       150\n",
      "         132       0.90      0.78      0.84       239\n",
      "         133       0.05      0.14      0.08        51\n",
      "         134       0.00      0.00      0.00       213\n",
      "         135       0.11      0.57      0.19        51\n",
      "         136        nan      0.00      0.00      3819\n",
      "         137        nan      0.00      0.00      2541\n",
      "         138       0.31      0.57      0.40       177\n",
      "         139       0.26      0.68      0.38        77\n",
      "         140       0.45      0.96      0.61        50\n",
      "         141       0.31      0.70      0.43        77\n",
      "         142       0.37      0.76      0.50        50\n",
      "         143       0.00      0.00      0.00       150\n",
      "         144       0.10      0.18      0.12        50\n",
      "         145       0.00      0.00      0.00        50\n",
      "         146       0.00      0.00      0.00        50\n",
      "         147       0.04      0.08      0.05        50\n",
      "         148       0.33      0.96      0.49        50\n",
      "         149       0.39      0.92      0.55        50\n",
      "         150       0.49      0.59      0.54       237\n",
      "         151        nan      0.00      0.00        59\n",
      "         152       0.05      0.51      0.09        51\n",
      "         153       0.28      0.87      0.42        52\n",
      "         154        nan      0.00      0.00        56\n",
      "         155       0.31      0.57      0.41       115\n",
      "         156       0.04      0.14      0.07        50\n",
      "         157       0.32      0.71      0.44        77\n",
      "         158       0.60      0.92      0.72       135\n",
      "         159       0.27      0.78      0.40        51\n",
      "         160       0.29      0.71      0.41        77\n",
      "         161       0.87      0.87      0.87       214\n",
      "         162       0.14      0.49      0.22        69\n",
      "         163       0.07      0.44      0.12        57\n",
      "         164       0.36      0.31      0.33       257\n",
      "         165       0.92      0.65      0.76       319\n",
      "         166       0.09      0.40      0.14        57\n",
      "         167       0.76      0.50      0.61       993\n",
      "         168       0.45      0.52      0.48       364\n",
      "         169       0.16      0.53      0.25        51\n",
      "         170       0.24      0.96      0.38        50\n",
      "         171       0.23      0.96      0.37        50\n",
      "         172       0.45      0.74      0.56       170\n",
      "         173       0.50      0.92      0.65        85\n",
      "         174       0.32      0.96      0.48        50\n",
      "         175       0.17      0.51      0.25        85\n",
      "         176       0.27      0.85      0.41        52\n",
      "         177       0.97      0.98      0.97       212\n",
      "         178       0.88      0.82      0.85       354\n",
      "         179       0.64      0.96      0.77        92\n",
      "         180       0.65      0.96      0.78        92\n",
      "         181       0.65      0.96      0.77        92\n",
      "         182       0.64      0.96      0.77        92\n",
      "         183       0.88      0.97      0.92       304\n",
      "         184       0.88      0.97      0.92       304\n",
      "         185       0.65      0.96      0.77        92\n",
      "         186       0.66      0.96      0.78        92\n",
      "         187       0.88      0.97      0.93       304\n",
      "         188       0.05      0.26      0.09        50\n",
      "         189       0.65      0.96      0.77        92\n",
      "         190       0.65      0.96      0.78        92\n",
      "         191       0.83      0.70      0.76       264\n",
      "         192       0.89      0.87      0.88       214\n",
      "         193       0.88      0.97      0.92       304\n",
      "         194       0.88      0.97      0.92       304\n",
      "         195       0.02      0.07      0.03        58\n",
      "         196       0.07      0.27      0.11        74\n",
      "         197       0.22      0.80      0.34        51\n",
      "         198       0.24      0.84      0.38        51\n",
      "         199       0.07      0.46      0.13        57\n",
      "         200       0.87      0.92      0.90       202\n",
      "         201       0.45      0.70      0.54        93\n",
      "         202       0.26      0.87      0.40        52\n",
      "         203       0.24      0.80      0.37        51\n",
      "         204       0.30      0.82      0.44        51\n",
      "         205       0.00      0.00      0.00        51\n",
      "         206        nan      0.00      0.00      3097\n",
      "         207       0.97      0.98      0.97       212\n",
      "         208       0.02      0.02      0.02        51\n",
      "         209       0.10      0.10      0.10        51\n",
      "         210       0.48      0.59      0.53       237\n",
      "         211       0.28      0.63      0.39       105\n",
      "         212       0.54      0.87      0.66       132\n",
      "         213       0.44      0.92      0.59        50\n",
      "         214       0.38      0.92      0.54        50\n",
      "         215       0.07      0.26      0.11        54\n",
      "         216       0.36      0.95      0.52        61\n",
      "         217       0.00      0.00      0.00        72\n",
      "         218       0.23      0.67      0.34       126\n",
      "         219       0.06      0.10      0.08       129\n",
      "         220       0.09      0.09      0.09       129\n",
      "         221       0.38      0.57      0.45       234\n",
      "         222       0.40      0.67      0.50       182\n",
      "         223       0.54      0.87      0.66       132\n",
      "         224       0.05      0.15      0.08        52\n",
      "         225       0.49      0.41      0.45       287\n",
      "         226       0.05      0.17      0.08        58\n",
      "         227       0.56      0.87      0.68       132\n",
      "         228       0.24      0.30      0.27       206\n",
      "         229       0.41      0.94      0.57        50\n",
      "         230       0.22      0.63      0.33       156\n",
      "         231       0.07      0.26      0.10        74\n",
      "         232       0.35      0.78      0.48       121\n",
      "         233       0.28      0.57      0.37       115\n",
      "         234       0.00      0.00      0.00        54\n",
      "         235       0.37      0.93      0.53        61\n",
      "         236       0.36      0.93      0.52        61\n",
      "         237       0.27      0.56      0.37       115\n",
      "         238       0.23      0.21      0.22        52\n",
      "         239       0.26      0.61      0.37       126\n",
      "         240       0.02      0.07      0.03        58\n",
      "         241       0.15      0.31      0.20        52\n",
      "         242       0.11      0.35      0.16        52\n",
      "         243       0.97      0.98      0.97       212\n",
      "         244       0.97      0.98      0.97       212\n",
      "         245       0.97      0.98      0.97       212\n",
      "         246       0.97      0.98      0.97       212\n",
      "         247       0.15      0.57      0.24        51\n",
      "         248       0.92      0.17      0.28      1620\n",
      "         249       0.38      0.28      0.32       324\n",
      "         250       0.35      0.51      0.41        81\n",
      "         251       0.57      0.93      0.71       135\n",
      "         252       0.97      0.98      0.97       212\n",
      "         253       0.44      0.37      0.40       332\n",
      "         254       0.27      0.71      0.39        77\n",
      "         255       0.28      0.80      0.42        50\n",
      "         256       0.29      0.74      0.42       152\n",
      "         257       1.00      0.32      0.48        50\n",
      "         258       0.31      0.71      0.44        77\n",
      "         259       0.33      0.36      0.34       205\n",
      "         260       0.00      0.00      0.00        50\n",
      "         261       0.89      0.31      0.46       593\n",
      "         262       0.33      0.30      0.31       155\n",
      "         263       0.34      0.32      0.33       155\n",
      "         264       0.05      0.13      0.07        52\n",
      "         265       0.90      0.91      0.90       212\n",
      "         266       0.90      0.73      0.81       255\n",
      "         267       0.18      0.57      0.27        51\n",
      "         268       0.31      0.66      0.42       105\n",
      "         269       0.35      0.82      0.49        76\n",
      "         270       0.31      0.82      0.45        76\n",
      "         271       0.89      0.34      0.49      1125\n",
      "         272       0.32      0.58      0.41       177\n",
      "         273       0.83      0.63      0.72       296\n",
      "         274       0.79      0.63      0.70       296\n",
      "         275       0.06      0.12      0.08        50\n",
      "         276       0.59      0.68      0.63       275\n",
      "         277       0.00      0.00      0.00        56\n",
      "         278       0.49      0.56      0.53       410\n",
      "         279       0.27      0.87      0.41        52\n",
      "         280       0.23      0.70      0.35        94\n",
      "         281       0.36      0.57      0.44       205\n",
      "         282       0.94      0.05      0.10      1131\n",
      "         283       0.57      0.20      0.29       371\n",
      "         284       0.56      0.92      0.69        85\n",
      "         285       0.13      0.35      0.19       126\n",
      "         286       0.00      0.00      0.00       172\n",
      "         287       0.33      0.64      0.44       152\n",
      "         288       0.24      0.80      0.37        51\n",
      "         289       0.25      0.51      0.33       101\n",
      "         290       0.32      0.34      0.33       205\n",
      "         291       0.32      0.34      0.33       205\n",
      "         292       0.94      0.57      0.71       364\n",
      "         293       0.95      0.79      0.86       262\n",
      "         294       0.95      0.79      0.86       262\n",
      "         295       0.10      0.50      0.16        52\n",
      "         296       0.11      0.50      0.18        52\n",
      "         297       0.30      0.13      0.18       150\n",
      "         298       0.87      0.59      0.70       492\n",
      "         299       0.04      0.02      0.03        53\n",
      "         300       0.88      0.75      0.81       388\n",
      "         301       0.83      0.88      0.85       305\n",
      "         302       0.62      0.96      0.75        92\n",
      "         303       0.06      0.57      0.11        51\n",
      "         304       0.02      0.02      0.02       105\n",
      "         305       0.10      0.24      0.14       126\n",
      "         306       0.89      0.73      0.80       264\n",
      "         307       0.13      0.17      0.15        63\n",
      "         308       0.05      0.53      0.09        57\n",
      "         309       0.07      0.39      0.12        57\n",
      "         310       0.12      0.76      0.21        50\n",
      "         311       0.73      0.27      0.39       982\n",
      "         312       0.28      0.34      0.31       205\n",
      "         313       0.00      0.00      0.00        50\n",
      "         314       0.94      0.82      0.88       517\n",
      "         315       0.24      0.47      0.32       152\n",
      "         316       0.30      0.66      0.42       100\n",
      "         317       0.00      0.00      0.00        51\n",
      "         318       0.02      0.02      0.02        51\n",
      "         319       0.20      0.56      0.29       101\n",
      "         320       0.90      0.87      0.88       214\n",
      "         321       0.90      0.87      0.89       214\n",
      "         322       0.17      0.58      0.26        85\n",
      "         323       0.91      0.83      0.87       517\n",
      "         324       0.10      0.23      0.14       107\n",
      "         325       0.39      0.25      0.30       333\n",
      "         326       0.80      0.73      0.76       406\n",
      "         327       0.23      0.51      0.32        51\n",
      "         328       0.89      0.97      0.93       304\n",
      "         329       0.80      0.83      0.81       432\n",
      "         330       0.64      0.55      0.59       353\n",
      "         331       0.06      0.09      0.07       159\n",
      "         332       0.33      0.47      0.39       174\n",
      "         333       0.07      0.10      0.08       129\n",
      "         334       0.45      0.29      0.35       440\n",
      "         335       0.04      0.10      0.06       129\n",
      "         336       0.48      0.52      0.50       237\n",
      "         337       0.99      0.06      0.12      1342\n",
      "         338       0.50      0.59      0.55       237\n",
      "         339       0.11      0.41      0.17       102\n",
      "         340       0.12      0.28      0.17       102\n",
      "         341       0.31      0.39      0.35       295\n",
      "         342       0.06      0.28      0.10        74\n",
      "         343       0.06      0.28      0.10        74\n",
      "         344       0.28      0.28      0.28       141\n",
      "         345       0.30      0.78      0.43        51\n",
      "         346       0.81      0.28      0.42       882\n",
      "         347       0.90      0.91      0.91       212\n",
      "         348       0.30      0.76      0.43        50\n",
      "         349       0.00      0.00      0.00        51\n",
      "         350       0.03      0.04      0.03        51\n",
      "         351       0.34      0.93      0.50        61\n",
      "         352       0.35      0.95      0.51        61\n",
      "         353       0.11      0.13      0.12       188\n",
      "         354       0.46      0.94      0.61       100\n",
      "         355       0.78      0.28      0.41      1008\n",
      "         356       0.78      0.26      0.39       982\n",
      "         357       0.75      0.29      0.41       882\n",
      "         358       0.24      0.47      0.32       152\n",
      "         359       0.45      0.96      0.61       100\n",
      "         360       0.97      0.98      0.98       212\n",
      "         361       0.83      0.60      0.70       310\n",
      "         362       0.87      0.56      0.68       336\n",
      "         363       0.97      0.98      0.97       212\n",
      "         364       0.97      0.98      0.97       212\n",
      "         365       0.98      0.97      0.98       212\n",
      "         366       0.97      0.98      0.97       212\n",
      "         367       0.97      0.98      0.98       212\n",
      "         368       0.97      0.98      0.97       212\n",
      "         369       0.00      0.00      0.00        55\n",
      "         370       0.44      0.96      0.61       100\n",
      "         371       0.09      0.35      0.14        52\n",
      "         372       0.07      0.31      0.11        52\n",
      "         373       0.55      0.42      0.48       128\n",
      "         374       0.97      0.22      0.36      1737\n",
      "         375       0.88      0.87      0.87       432\n",
      "         376       0.11      0.24      0.15       107\n",
      "         377       0.28      0.30      0.29       181\n",
      "         378       0.07      0.19      0.10        54\n",
      "         379       0.74      0.27      0.39       982\n",
      "         380       0.84      0.23      0.36      1554\n",
      "         381       0.58      0.92      0.71        85\n",
      "         382       0.90      0.63      0.74       297\n",
      "         383       0.87      0.78      0.82       239\n",
      "         384       0.19      0.78      0.31        51\n",
      "         385       0.32      0.96      0.48        50\n",
      "         386       1.00      0.34      0.51        50\n",
      "         387       0.57      0.34      0.42        50\n",
      "         388       0.98      0.97      0.97       212\n",
      "         389       0.90      0.78      0.84       239\n",
      "         390       0.27      0.88      0.41        52\n",
      "         391       0.97      0.98      0.97       212\n",
      "         392       0.40      0.71      0.51        93\n",
      "         393       0.33      0.80      0.47        51\n",
      "         394       0.43      0.71      0.54        93\n",
      "         395       0.44      0.70      0.54        93\n",
      "         396       0.87      0.92      0.89       202\n",
      "         397       0.52      0.92      0.67        85\n",
      "         398       0.39      0.94      0.56        50\n",
      "         399       0.16      0.57      0.25        51\n",
      "         400       0.28      0.90      0.43        52\n",
      "         401       0.35      0.92      0.51        52\n",
      "         402       0.27      0.90      0.41        52\n",
      "         403       0.30      0.88      0.45        52\n",
      "         404       0.08      0.17      0.11        54\n",
      "         405       0.02      0.02      0.02        54\n",
      "         406       0.03      0.06      0.04        52\n",
      "         407       0.12      0.40      0.18        53\n",
      "         408       0.15      0.30      0.20        53\n",
      "         409       0.36      0.65      0.46       133\n",
      "         410       0.26      0.85      0.40        52\n",
      "         411       0.83      0.21      0.34      1436\n",
      "         412       0.77      0.25      0.38      1175\n",
      "         413       0.67      0.41      0.51       565\n",
      "         414       0.93      0.17      0.29      1539\n",
      "         415       0.35      0.94      0.51        50\n",
      "         416       0.36      0.65      0.46       133\n",
      "         417       0.36      0.66      0.47       133\n",
      "         418       0.36      0.65      0.46       133\n",
      "         419       0.32      0.65      0.43       133\n",
      "         420       0.80      0.84      0.82       432\n",
      "         421       0.73      0.81      0.77       345\n",
      "         422       0.35      0.66      0.46       133\n",
      "         423       0.06      0.30      0.11        74\n",
      "         424       0.10      0.78      0.18        50\n",
      "         425       0.95      0.19      0.32      2122\n",
      "         426       0.99      0.18      0.30      2227\n",
      "         427       0.92      0.65      0.76       319\n",
      "         428       0.78      0.57      0.66       907\n",
      "         429       0.10      0.35      0.15       107\n",
      "         430       0.81      0.69      0.74       701\n",
      "         431       0.27      0.96      0.42        50\n",
      "         432       0.83      0.58      0.68       644\n",
      "         433       0.97      0.98      0.97       212\n",
      "         434       0.57      0.88      0.69       187\n",
      "         435       0.28      0.75      0.40        71\n",
      "         436       0.10      0.53      0.16        51\n",
      "         437       0.65      0.96      0.78        92\n",
      "         438       0.26      0.90      0.40        52\n",
      "         439       0.90      0.87      0.89       214\n",
      "         440       0.89      0.97      0.93       304\n",
      "         441       0.56      0.93      0.70       135\n",
      "         442       0.97      0.98      0.97       212\n",
      "         443       0.07      0.42      0.12        50\n",
      "         444       0.94      0.26      0.41      1594\n",
      "         445       0.09      0.17      0.12       107\n",
      "         446       0.53      0.38      0.44       353\n",
      "         447       0.54      0.87      0.67       132\n",
      "         448       0.49      0.57      0.53       150\n",
      "         449       0.28      0.53      0.37       115\n",
      "         450       0.27      0.60      0.38       115\n",
      "         451       0.16      0.47      0.24        51\n",
      "         452       0.28      0.70      0.40        94\n",
      "         453       0.18      0.54      0.27        85\n",
      "         454       0.90      0.64      0.75       290\n",
      "         455       0.88      0.64      0.74       290\n",
      "         456       0.84      0.56      0.67       336\n",
      "         457       0.90      0.91      0.91       212\n",
      "         458       0.08      0.08      0.08        51\n",
      "         459       0.64      0.09      0.16      1184\n",
      "         460       0.56      0.10      0.16      1184\n",
      "         461       0.04      0.02      0.03        51\n",
      "         462       0.08      0.06      0.07       150\n",
      "         463       0.87      0.91      0.89       204\n",
      "         464       0.90      0.91      0.91       204\n",
      "         465       0.00      0.00      0.00        50\n",
      "         466       0.86      0.56      0.68       336\n",
      "         467       0.10      0.48      0.17        50\n",
      "         468       0.63      0.11      0.19       856\n",
      "         469       0.92      0.71      0.81       432\n",
      "         470       0.88      0.63      0.73       297\n",
      "         471       0.08      0.08      0.08        51\n",
      "         472       0.26      0.78      0.39        51\n",
      "         473       0.87      0.92      0.89       202\n",
      "         474       0.10      0.80      0.18        50\n",
      "         475       0.87      0.64      0.74       290\n",
      "         476       0.00      0.00      0.00        50\n",
      "         477       0.08      0.18      0.11        50\n",
      "         478       0.11      0.53      0.18        51\n",
      "         479       0.21      0.29      0.25       141\n",
      "         480       0.11      0.46      0.18        50\n",
      "         481       0.17      0.11      0.14       150\n",
      "         482       0.01      0.02      0.01        50\n",
      "         483       0.28      0.28      0.28       343\n",
      "         484       0.95      0.18      0.30      2335\n",
      "         485       0.31      0.31      0.31       239\n",
      "         486       0.31      0.20      0.25       324\n",
      "         487       0.97      0.98      0.97       212\n",
      "         488       0.39      0.90      0.55        50\n",
      "         489       0.87      0.97      0.92       304\n",
      "         490       0.87      0.96      0.92       304\n",
      "         491       0.26      0.85      0.40        52\n",
      "         492       0.27      0.92      0.42        52\n",
      "         493       0.23      0.80      0.36        51\n",
      "         494       0.21      0.08      0.11        51\n",
      "         495       0.87      0.21      0.34      1164\n",
      "         496       0.78      0.83      0.81       356\n",
      "         497       0.87      0.22      0.36      1603\n",
      "         498       0.82      0.31      0.45      1159\n",
      "         499       0.47      0.96      0.63       100\n",
      "         500       0.29      0.80      0.43        51\n",
      "         501       0.93      0.14      0.24      1762\n",
      "         502       0.06      0.02      0.03       150\n",
      "         503        nan      0.00      0.00       557\n",
      "         504       0.45      0.40      0.42       332\n",
      "         505       0.10      0.38      0.15        53\n",
      "         506       0.31      0.69      0.43        77\n",
      "         507       0.02      0.02      0.02        51\n",
      "         508       0.37      0.92      0.52        50\n",
      "         509       0.84      0.72      0.77       259\n",
      "         510       0.91      0.10      0.17       882\n",
      "         511       0.45      0.13      0.21       263\n",
      "         512       0.25      0.78      0.38        51\n",
      "         513       0.61      0.77      0.68       220\n",
      "         514       0.58      0.93      0.72       135\n",
      "         515       0.56      0.93      0.70       135\n",
      "         516       0.55      0.78      0.65       220\n",
      "         517       0.17      0.51      0.26        85\n",
      "         518       0.85      0.81      0.83       382\n",
      "         519       0.89      0.93      0.91       332\n",
      "         520       0.10      0.31      0.15        52\n",
      "         521       0.89      0.27      0.41      1008\n",
      "         522       0.07      0.20      0.11        50\n",
      "         523       0.89      0.97      0.93       304\n",
      "         524       0.94      0.27      0.42      1594\n",
      "         525       0.09      0.21      0.13       107\n",
      "         526       0.91      0.83      0.87       517\n",
      "         527       0.87      0.24      0.38      1275\n",
      "         528       0.12      0.35      0.18        52\n",
      "         529       0.84      0.49      0.62       933\n",
      "         530       0.97      0.98      0.97       212\n",
      "         531       0.76      0.65      0.70       698\n",
      "         532       0.86      0.65      0.74       319\n",
      "         533       0.80      0.56      0.66       907\n",
      "         534       0.52      0.78      0.62       220\n",
      "         535       0.58      0.94      0.72       135\n",
      "         536       0.32      0.88      0.47        52\n",
      "         537       0.27      0.85      0.41        52\n",
      "         538       0.21      0.41      0.27       184\n",
      "         539       0.90      0.91      0.90       212\n",
      "         540       0.37      0.92      0.52        50\n",
      "         541       0.78      0.60      0.68       310\n",
      "         542       0.00      0.00      0.00        54\n",
      "         543       0.08      0.09      0.08        54\n",
      "         544       0.87      0.92      0.89       202\n",
      "         545       0.11      0.08      0.09        51\n",
      "\n",
      "   micro avg       0.52      0.41      0.46    151833\n",
      "   macro avg       0.45      0.55      0.43    151833\n",
      "weighted avg       0.72      0.41      0.44    151833\n",
      " samples avg       0.50      0.24      0.24    151833\n",
      "\n"
     ]
    }
   ],
   "source": [
    "print(report)"
   ]
  },
  {
   "cell_type": "code",
   "execution_count": 107,
   "id": "21f752be",
   "metadata": {},
   "outputs": [
    {
     "data": {
      "text/plain": [
       "'GO:0000096'"
      ]
     },
     "execution_count": 107,
     "metadata": {},
     "output_type": "execute_result"
    }
   ],
   "source": [
    "enc.classes_[1]"
   ]
  },
  {
   "cell_type": "code",
   "execution_count": null,
   "id": "489e4706",
   "metadata": {},
   "outputs": [],
   "source": []
  }
 ],
 "metadata": {
  "kernelspec": {
   "display_name": "Python 3 (ipykernel)",
   "language": "python",
   "name": "python3"
  },
  "language_info": {
   "codemirror_mode": {
    "name": "ipython",
    "version": 3
   },
   "file_extension": ".py",
   "mimetype": "text/x-python",
   "name": "python",
   "nbconvert_exporter": "python",
   "pygments_lexer": "ipython3",
   "version": "3.9.13"
  }
 },
 "nbformat": 4,
 "nbformat_minor": 5
}
