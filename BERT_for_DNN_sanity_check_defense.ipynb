{
 "cells": [
  {
   "cell_type": "code",
   "execution_count": 25,
   "id": "c622ad12",
   "metadata": {},
   "outputs": [
    {
     "name": "stdout",
     "output_type": "stream",
     "text": [
      "Free CPU Memory: 663.29 GB\n"
     ]
    }
   ],
   "source": [
    "import psutil\n",
    "\n",
    "def get_free_memory():\n",
    "    memory = psutil.virtual_memory()\n",
    "    return memory.available / (1024.0 ** 3)  # Convert bytes to gigabytes\n",
    "\n",
    "print(f\"Free CPU Memory: {get_free_memory():.2f} GB\")"
   ]
  },
  {
   "cell_type": "code",
   "execution_count": 26,
   "id": "abdd98ad",
   "metadata": {},
   "outputs": [],
   "source": [
    "import torch\n",
    "torch.backends.cuda.matmul.allow_tf32 = True\n",
    "from datasets import Dataset\n",
    "import os"
   ]
  },
  {
   "cell_type": "code",
   "execution_count": 27,
   "id": "4afee737",
   "metadata": {},
   "outputs": [],
   "source": [
    "from tokenizers import Tokenizer\n",
    "from tokenizers.models import WordLevel\n",
    "from tokenizers.pre_tokenizers import WhitespaceSplit\n",
    "\n",
    "tokenizer = Tokenizer(WordLevel(unk_token=\"[UNK]\"))\n",
    "tokenizer.pre_tokenizer = WhitespaceSplit()"
   ]
  },
  {
   "cell_type": "code",
   "execution_count": 28,
   "id": "d69a29ad",
   "metadata": {},
   "outputs": [],
   "source": [
    "tokenizer_path = \"WordLevel_tokenizer_trained_InterPro.json\"\n",
    "tokenizer = tokenizer.from_file(tokenizer_path)\n",
    "tokenizer.enable_truncation(512)"
   ]
  },
  {
   "cell_type": "code",
   "execution_count": 29,
   "id": "0bef36e5",
   "metadata": {},
   "outputs": [
    {
     "data": {
      "text/plain": [
       "544998"
      ]
     },
     "execution_count": 29,
     "metadata": {},
     "output_type": "execute_result"
    }
   ],
   "source": [
    "tokenizer.get_vocab_size()\n"
   ]
  },
  {
   "cell_type": "code",
   "execution_count": 30,
   "id": "242995ca",
   "metadata": {},
   "outputs": [
    {
     "data": {
      "text/plain": [
       "[1, 2966, 754, 2545, 196, 9231, 2817, 7418, 2526, 2]"
      ]
     },
     "execution_count": 30,
     "metadata": {},
     "output_type": "execute_result"
    }
   ],
   "source": [
    "test = tokenizer.encode(\"WP_265490204 WP_206642677 WP_053312998 WP_251959347 WP_000076573 WP_227526754 WP_218401808 WP_106925592\")\n",
    "test.ids"
   ]
  },
  {
   "cell_type": "code",
   "execution_count": 31,
   "id": "2a5c8709",
   "metadata": {},
   "outputs": [
    {
     "name": "stdout",
     "output_type": "stream",
     "text": [
      "LIT_IP.tsv\n",
      "CRISPR_IP.tsv\n",
      "BREX_IP.tsv\n",
      "DISARM_IP.tsv\n",
      "AbiH_IP.tsv\n",
      "Kiwa_IP.tsv\n"
     ]
    }
   ],
   "source": [
    "import csv\n",
    "\n",
    "defense_ips = []\n",
    "directory = \"/home/toibazd/Defense_InterPros/\"\n",
    "file_list = os.listdir(directory)\n",
    "\n",
    "for file in file_list:\n",
    "    print(file)\n",
    "    file_path = os.path.join(directory, file)\n",
    "    with open(file_path, 'r', newline='') as infile:\n",
    "        reader = csv.reader(infile, delimiter = \"\\t\")\n",
    "        next(reader)\n",
    "        for row in reader:\n",
    "            ip = row[0]\n",
    "            defense_ips.append(ip)"
   ]
  },
  {
   "cell_type": "code",
   "execution_count": 32,
   "id": "679dec11",
   "metadata": {},
   "outputs": [
    {
     "name": "stdout",
     "output_type": "stream",
     "text": [
      "Defense IPs number:  120\n"
     ]
    }
   ],
   "source": [
    "print(\"Defense IPs number: \", len(defense_ips))"
   ]
  },
  {
   "cell_type": "code",
   "execution_count": 33,
   "id": "07ba9843",
   "metadata": {},
   "outputs": [
    {
     "data": {
      "application/json": {
       "ascii": false,
       "bar_format": null,
       "colour": null,
       "elapsed": 0.019254446029663086,
       "initial": 0,
       "n": 0,
       "ncols": null,
       "nrows": null,
       "postfix": null,
       "prefix": "",
       "rate": null,
       "total": null,
       "unit": "it",
       "unit_divisor": 1000,
       "unit_scale": false
      },
      "application/vnd.jupyter.widget-view+json": {
       "model_id": "48a6c47189fe4cc0976c45d13e05fe15",
       "version_major": 2,
       "version_minor": 0
      },
      "text/plain": [
       "0it [00:00, ?it/s]"
      ]
     },
     "metadata": {},
     "output_type": "display_data"
    }
   ],
   "source": [
    "from collections import defaultdict\n",
    "import csv\n",
    "from tqdm.auto import tqdm\n",
    "import numpy as np\n",
    "\n",
    "data_dict = defaultdict(list)\n",
    "\n",
    "with open(\"/home/toibazd/Prot2IP.tsv\", \"r\") as tsvfile:\n",
    "    reader = csv.reader(tsvfile, delimiter = \"\\t\")\n",
    "    for row in tqdm(reader):\n",
    "        key = row[0].split(\"prot_\")[1].split(\".\")[0]\n",
    "        iprs = eval(row[1])\n",
    "\n",
    "        # Save only if there are filtered InterPro IDs\n",
    "        for ip in iprs:\n",
    "            if ip in defense_ips:\n",
    "                data_dict[key].append(ip)\n"
   ]
  },
  {
   "cell_type": "code",
   "execution_count": 34,
   "id": "334d007d",
   "metadata": {},
   "outputs": [],
   "source": [
    "unique_defense = set()\n",
    "\n",
    "# Iterate through each value list in the dictionary and add its elements to the set\n",
    "for value_list in data_dict.values():\n",
    "    unique_defense.update(value_list)\n",
    "\n",
    "# Convert the set to a list if needed\n",
    "unique_defense = list(unique_defense)"
   ]
  },
  {
   "cell_type": "code",
   "execution_count": 35,
   "id": "88b651fe",
   "metadata": {},
   "outputs": [
    {
     "data": {
      "text/plain": [
       "83"
      ]
     },
     "execution_count": 35,
     "metadata": {},
     "output_type": "execute_result"
    }
   ],
   "source": [
    "len(unique_defense)"
   ]
  },
  {
   "cell_type": "code",
   "execution_count": 36,
   "id": "83f471e9",
   "metadata": {},
   "outputs": [
    {
     "name": "stdout",
     "output_type": "stream",
     "text": [
      "661\n"
     ]
    }
   ],
   "source": [
    "from sklearn.preprocessing import MultiLabelBinarizer\n",
    "enc = MultiLabelBinarizer()\n",
    "one_hot_encoded = enc.fit_transform(data_dict.values())\n",
    "one_hot_encoded_dict = {key: value for key, value in zip(data_dict.keys(), one_hot_encoded)}\n",
    "\n",
    "print(len(one_hot_encoded_dict.keys()))"
   ]
  },
  {
   "cell_type": "code",
   "execution_count": 37,
   "id": "e7464990",
   "metadata": {},
   "outputs": [
    {
     "data": {
      "text/plain": [
       "(661, 83)"
      ]
     },
     "execution_count": 37,
     "metadata": {},
     "output_type": "execute_result"
    }
   ],
   "source": [
    "one_hot_encoded.shape"
   ]
  },
  {
   "cell_type": "code",
   "execution_count": 38,
   "id": "a51e75ba",
   "metadata": {},
   "outputs": [
    {
     "name": "stderr",
     "output_type": "stream",
     "text": [
      "100%|██████████| 83/83 [35:35<00:00, 25.73s/it]\n"
     ]
    }
   ],
   "source": [
    "import os\n",
    "import random\n",
    "from tqdm import tqdm\n",
    "from concurrent.futures import ThreadPoolExecutor\n",
    "\n",
    "directory = '/ibex/user/toibazd/InterPro_annotated_genomes/'\n",
    "one_hot_encoded_sentences = {}\n",
    "\n",
    "sentence_length = 40\n",
    "sentences_per_IP = 100\n",
    "\n",
    "# Set random seed for reproducibility\n",
    "random.seed(42)\n",
    "\n",
    "# Randomly choose 1000 files with seed 42\n",
    "selected_files = os.listdir(directory)\n",
    "\n",
    "\n",
    "# Define a function to process a file\n",
    "def process_file(filename, IP):\n",
    "    sentences = []\n",
    "\n",
    "    filepath = os.path.join(directory, filename)\n",
    "\n",
    "    with open(filepath, 'r') as file:\n",
    "        content = file.read()\n",
    "        words = content.strip().split()\n",
    "\n",
    "        # Check if the key is in the file\n",
    "        for i in range(19, len(words)-20):\n",
    "            # Shuffle the indices of the words containing the key\n",
    "            if IP in data_dict[words[i]]:\n",
    "                if len(words) - i >= 21:\n",
    "                    sentence = \" \".join(words[i - 19:i + sentence_length - 19])\n",
    "                    sentences.append(sentence)\n",
    "    return sentences\n",
    "\n",
    "\n",
    "# Iterate over keys\n",
    "for IP in tqdm(unique_defense):\n",
    "    one_hot_encoded_sentences[IP] = []\n",
    "    sentences_count = 0\n",
    "\n",
    "    # Use ThreadPoolExecutor for concurrent processing\n",
    "    with ThreadPoolExecutor(max_workers=4) as executor:\n",
    "        futures = [executor.submit(process_file, filename, IP) for filename in selected_files]\n",
    "        for future in futures:\n",
    "            sentences = future.result()\n",
    "            one_hot_encoded_sentences[IP].extend(sentences)\n",
    "            sentences_count += len(sentences)\n",
    "            if sentences_count >= sentences_per_IP:\n",
    "                break\n",
    "\n",
    "    # Break if the required number of sentences per key is reached\n"
   ]
  },
  {
   "cell_type": "code",
   "execution_count": 39,
   "id": "abea8bd2",
   "metadata": {},
   "outputs": [
    {
     "name": "stdout",
     "output_type": "stream",
     "text": [
      "100\n",
      "65\n",
      "100\n",
      "48\n",
      "33\n",
      "100\n",
      "100\n",
      "34\n",
      "25\n",
      "19\n",
      "59\n",
      "18\n",
      "19\n",
      "100\n",
      "100\n",
      "101\n",
      "100\n",
      "100\n",
      "100\n",
      "102\n",
      "100\n",
      "100\n",
      "100\n",
      "51\n",
      "100\n",
      "100\n",
      "100\n",
      "56\n",
      "20\n",
      "100\n",
      "100\n",
      "36\n",
      "84\n",
      "100\n",
      "100\n",
      "100\n",
      "100\n",
      "42\n",
      "106\n",
      "28\n",
      "100\n",
      "101\n",
      "34\n",
      "100\n",
      "100\n",
      "33\n",
      "26\n",
      "19\n",
      "100\n",
      "100\n",
      "49\n",
      "100\n",
      "100\n",
      "100\n",
      "100\n",
      "71\n",
      "33\n",
      "73\n",
      "35\n",
      "16\n",
      "100\n",
      "100\n",
      "27\n",
      "77\n",
      "100\n",
      "100\n",
      "100\n",
      "69\n",
      "100\n",
      "57\n",
      "100\n",
      "100\n",
      "100\n",
      "100\n",
      "17\n",
      "100\n",
      "100\n",
      "100\n",
      "57\n",
      "100\n",
      "100\n",
      "100\n",
      "14\n"
     ]
    }
   ],
   "source": [
    "for key, values in one_hot_encoded_sentences.items():\n",
    "    print(len(values))"
   ]
  },
  {
   "cell_type": "code",
   "execution_count": 40,
   "id": "a55b4b4d",
   "metadata": {},
   "outputs": [],
   "source": [
    "import json\n",
    "\n",
    "with open('BERT_sanity_check_defense_DNN_senteces.json', 'w') as f:\n",
    "    json.dump(one_hot_encoded_sentences, f)"
   ]
  },
  {
   "cell_type": "code",
   "execution_count": 41,
   "id": "eeeb70ec",
   "metadata": {},
   "outputs": [],
   "source": [
    "import json\n",
    "with open('BERT_sanity_check_defense_DNN_senteces.json', \"r\") as f:\n",
    "    one_hot_encoded_sentences = json.load(f)"
   ]
  },
  {
   "cell_type": "code",
   "execution_count": 42,
   "id": "b1149a6a",
   "metadata": {},
   "outputs": [
    {
     "name": "stdout",
     "output_type": "stream",
     "text": [
      "IPR010179 100\n",
      "IPR013419 65\n",
      "IPR047939 100\n",
      "IPR010172 48\n",
      "IPR049758 33\n",
      "IPR025935 100\n",
      "IPR019858 100\n",
      "IPR013407 34\n",
      "IPR027620 25\n",
      "IPR013490 19\n",
      "IPR013421 59\n",
      "IPR013487 18\n",
      "IPR017576 19\n",
      "IPR013398 100\n",
      "IPR010144 100\n",
      "IPR005537 101\n",
      "IPR019856 100\n",
      "IPR021124 100\n",
      "IPR006482 100\n",
      "IPR002729 102\n",
      "IPR021127 100\n",
      "IPR013382 100\n",
      "IPR047721 100\n",
      "IPR013410 51\n",
      "IPR013397 100\n",
      "IPR013489 100\n",
      "IPR010147 100\n",
      "IPR017574 56\n",
      "IPR013444 20\n",
      "IPR005510 100\n",
      "IPR019851 100\n",
      "IPR049889 36\n",
      "IPR031820 84\n",
      "IPR013492 100\n",
      "IPR010146 100\n",
      "IPR010173 100\n",
      "IPR033641 100\n",
      "IPR049832 42\n",
      "IPR028629 106\n",
      "IPR013415 28\n",
      "IPR013395 100\n",
      "IPR010148 101\n",
      "IPR027616 34\n",
      "IPR010152 100\n",
      "IPR032359 100\n",
      "IPR017589 33\n",
      "IPR047583 26\n",
      "IPR030955 19\n",
      "IPR047679 100\n",
      "IPR019504 100\n",
      "IPR023844 49\n",
      "IPR013414 100\n",
      "IPR013337 100\n",
      "IPR019857 100\n",
      "IPR010154 100\n",
      "IPR048067 71\n",
      "IPR017575 33\n",
      "IPR013403 73\n",
      "IPR027617 35\n",
      "IPR019117 16\n",
      "IPR021228 100\n",
      "IPR013408 100\n",
      "IPR016581 27\n",
      "IPR019089 77\n",
      "IPR019199 100\n",
      "IPR013381 100\n",
      "IPR013412 100\n",
      "IPR023843 69\n",
      "IPR013418 100\n",
      "IPR019092 57\n",
      "IPR013399 100\n",
      "IPR014858 100\n",
      "IPR013343 100\n",
      "IPR010156 100\n",
      "IPR049794 17\n",
      "IPR010180 100\n",
      "IPR013396 100\n",
      "IPR010149 100\n",
      "IPR013413 57\n",
      "IPR010155 100\n",
      "IPR019855 100\n",
      "IPR014174 100\n",
      "IPR010160 14\n"
     ]
    }
   ],
   "source": [
    "for key, value in one_hot_encoded_sentences.items():\n",
    "    print(key, end=\" \")\n",
    "    print(len(value))"
   ]
  },
  {
   "cell_type": "code",
   "execution_count": 43,
   "id": "deeb72f6",
   "metadata": {},
   "outputs": [
    {
     "data": {
      "text/plain": [
       "83"
      ]
     },
     "execution_count": 43,
     "metadata": {},
     "output_type": "execute_result"
    }
   ],
   "source": [
    "one_hot_encoded_sentences = {key: value for key, value in one_hot_encoded_sentences.items() if value}\n",
    "len(one_hot_encoded_sentences)"
   ]
  },
  {
   "cell_type": "code",
   "execution_count": 44,
   "id": "f2219cee",
   "metadata": {},
   "outputs": [
    {
     "data": {
      "text/plain": [
       "83"
      ]
     },
     "execution_count": 44,
     "metadata": {},
     "output_type": "execute_result"
    }
   ],
   "source": [
    "matching_string = one_hot_encoded_sentences.values()\n",
    "len(matching_string)"
   ]
  },
  {
   "cell_type": "code",
   "execution_count": 45,
   "id": "ea88291d",
   "metadata": {},
   "outputs": [
    {
     "data": {
      "text/plain": [
       "6354"
      ]
     },
     "execution_count": 45,
     "metadata": {},
     "output_type": "execute_result"
    }
   ],
   "source": [
    "matching_string = [item for sublist in matching_string for item in sublist]\n",
    "len(matching_string)"
   ]
  },
  {
   "cell_type": "code",
   "execution_count": 46,
   "id": "2c1c4fb7",
   "metadata": {},
   "outputs": [
    {
     "name": "stdout",
     "output_type": "stream",
     "text": [
      "6354\n"
     ]
    }
   ],
   "source": [
    "count= 0\n",
    "for string in matching_string:\n",
    "    words = string.split(\" \")\n",
    "    if not words[19] in data_dict.keys():\n",
    "        print(\"False\")\n",
    "    else:\n",
    "        count+=1\n",
    "print(count)"
   ]
  },
  {
   "cell_type": "code",
   "execution_count": 47,
   "id": "3b43fe10",
   "metadata": {},
   "outputs": [
    {
     "name": "stdout",
     "output_type": "stream",
     "text": [
      "[2024-03-11 15:55:50,241] [INFO] [real_accelerator.py:110:get_accelerator] Setting ds_accelerator to cuda (auto detect)\n"
     ]
    },
    {
     "name": "stderr",
     "output_type": "stream",
     "text": [
      "Some weights of BertModel were not initialized from the model checkpoint at /home/toibazd/Data/BERT/BERT_context_pretrained_InterPro_final and are newly initialized: ['bert.pooler.dense.weight', 'bert.pooler.dense.bias']\n",
      "You should probably TRAIN this model on a down-stream task to be able to use it for predictions and inference.\n"
     ]
    },
    {
     "data": {
      "text/plain": [
       "BertModel(\n",
       "  (embeddings): BertEmbeddings(\n",
       "    (word_embeddings): Embedding(544998, 256, padding_idx=0)\n",
       "    (position_embeddings): Embedding(512, 256)\n",
       "    (token_type_embeddings): Embedding(2, 256)\n",
       "    (LayerNorm): LayerNorm((256,), eps=1e-12, elementwise_affine=True)\n",
       "    (dropout): Dropout(p=0.1, inplace=False)\n",
       "  )\n",
       "  (encoder): BertEncoder(\n",
       "    (layer): ModuleList(\n",
       "      (0): BertLayer(\n",
       "        (attention): BertAttention(\n",
       "          (self): BertSelfAttention(\n",
       "            (query): Linear(in_features=256, out_features=256, bias=True)\n",
       "            (key): Linear(in_features=256, out_features=256, bias=True)\n",
       "            (value): Linear(in_features=256, out_features=256, bias=True)\n",
       "            (dropout): Dropout(p=0.1, inplace=False)\n",
       "          )\n",
       "          (output): BertSelfOutput(\n",
       "            (dense): Linear(in_features=256, out_features=256, bias=True)\n",
       "            (LayerNorm): LayerNorm((256,), eps=1e-12, elementwise_affine=True)\n",
       "            (dropout): Dropout(p=0.1, inplace=False)\n",
       "          )\n",
       "        )\n",
       "        (intermediate): BertIntermediate(\n",
       "          (dense): Linear(in_features=256, out_features=256, bias=True)\n",
       "          (intermediate_act_fn): GELUActivation()\n",
       "        )\n",
       "        (output): BertOutput(\n",
       "          (dense): Linear(in_features=256, out_features=256, bias=True)\n",
       "          (LayerNorm): LayerNorm((256,), eps=1e-12, elementwise_affine=True)\n",
       "          (dropout): Dropout(p=0.1, inplace=False)\n",
       "        )\n",
       "      )\n",
       "      (1): BertLayer(\n",
       "        (attention): BertAttention(\n",
       "          (self): BertSelfAttention(\n",
       "            (query): Linear(in_features=256, out_features=256, bias=True)\n",
       "            (key): Linear(in_features=256, out_features=256, bias=True)\n",
       "            (value): Linear(in_features=256, out_features=256, bias=True)\n",
       "            (dropout): Dropout(p=0.1, inplace=False)\n",
       "          )\n",
       "          (output): BertSelfOutput(\n",
       "            (dense): Linear(in_features=256, out_features=256, bias=True)\n",
       "            (LayerNorm): LayerNorm((256,), eps=1e-12, elementwise_affine=True)\n",
       "            (dropout): Dropout(p=0.1, inplace=False)\n",
       "          )\n",
       "        )\n",
       "        (intermediate): BertIntermediate(\n",
       "          (dense): Linear(in_features=256, out_features=256, bias=True)\n",
       "          (intermediate_act_fn): GELUActivation()\n",
       "        )\n",
       "        (output): BertOutput(\n",
       "          (dense): Linear(in_features=256, out_features=256, bias=True)\n",
       "          (LayerNorm): LayerNorm((256,), eps=1e-12, elementwise_affine=True)\n",
       "          (dropout): Dropout(p=0.1, inplace=False)\n",
       "        )\n",
       "      )\n",
       "      (2): BertLayer(\n",
       "        (attention): BertAttention(\n",
       "          (self): BertSelfAttention(\n",
       "            (query): Linear(in_features=256, out_features=256, bias=True)\n",
       "            (key): Linear(in_features=256, out_features=256, bias=True)\n",
       "            (value): Linear(in_features=256, out_features=256, bias=True)\n",
       "            (dropout): Dropout(p=0.1, inplace=False)\n",
       "          )\n",
       "          (output): BertSelfOutput(\n",
       "            (dense): Linear(in_features=256, out_features=256, bias=True)\n",
       "            (LayerNorm): LayerNorm((256,), eps=1e-12, elementwise_affine=True)\n",
       "            (dropout): Dropout(p=0.1, inplace=False)\n",
       "          )\n",
       "        )\n",
       "        (intermediate): BertIntermediate(\n",
       "          (dense): Linear(in_features=256, out_features=256, bias=True)\n",
       "          (intermediate_act_fn): GELUActivation()\n",
       "        )\n",
       "        (output): BertOutput(\n",
       "          (dense): Linear(in_features=256, out_features=256, bias=True)\n",
       "          (LayerNorm): LayerNorm((256,), eps=1e-12, elementwise_affine=True)\n",
       "          (dropout): Dropout(p=0.1, inplace=False)\n",
       "        )\n",
       "      )\n",
       "    )\n",
       "  )\n",
       "  (pooler): None\n",
       ")"
      ]
     },
     "execution_count": 47,
     "metadata": {},
     "output_type": "execute_result"
    }
   ],
   "source": [
    "from transformers import BertModel\n",
    "\n",
    "# Check if CUDA is available and choose device accordingly\n",
    "device = torch.device('cuda' if torch.cuda.is_available() else 'cpu')\n",
    "model_path = \"/home/toibazd/Data/BERT/BERT_context_pretrained_InterPro_final\"\n",
    "\n",
    "model = BertModel.from_pretrained(model_path).cuda()\n",
    "model.pooler = None\n",
    "model.eval()"
   ]
  },
  {
   "cell_type": "code",
   "execution_count": 48,
   "id": "978dfa1b",
   "metadata": {},
   "outputs": [
    {
     "name": "stdout",
     "output_type": "stream",
     "text": [
      "(83,)\n"
     ]
    }
   ],
   "source": [
    "print(one_hot_encoded[1].shape)"
   ]
  },
  {
   "cell_type": "code",
   "execution_count": 49,
   "id": "c35dd100",
   "metadata": {},
   "outputs": [
    {
     "name": "stderr",
     "output_type": "stream",
     "text": [
      "100%|██████████| 50/50 [00:01<00:00, 41.41it/s]\n"
     ]
    }
   ],
   "source": [
    "batch_size = 128 # Define your batch size\n",
    "embeddings = []\n",
    "labels = []\n",
    "\n",
    "# Define your data iterator in batches\n",
    "for i in tqdm(range(0, len(matching_string), batch_size)):\n",
    "    batch_sentences = matching_string[i:i+batch_size]\n",
    "\n",
    "    batch_inputs = tokenizer.encode_batch(batch_sentences)\n",
    "    input_ids_list = []\n",
    "    attention_mask_list = []\n",
    "\n",
    "    for encoding in batch_inputs:\n",
    "        input_ids_list.append(encoding.ids)\n",
    "        attention_mask_list.append(encoding.attention_mask)\n",
    "\n",
    "    # Convert lists to tensors and move to device\n",
    "    input_ids = torch.tensor(input_ids_list).cuda()\n",
    "    attention_mask = torch.tensor(attention_mask_list).cuda()\n",
    "\n",
    "    with torch.inference_mode():\n",
    "        outputs = model(input_ids, attention_mask=attention_mask, output_hidden_states=True)\n",
    "    hidden_states = outputs.last_hidden_state\n",
    "    relevant_hidden_states = hidden_states[:, 20, :]  # Extract the 20th token's hidden state\n",
    "    \n",
    "    for j in range(len(batch_sentences)):\n",
    "        embeddings.append(relevant_hidden_states[j].cpu())\n",
    "        indicator = batch_sentences[j].split()[19]\n",
    "        labels.append(one_hot_encoded_dict[indicator])\n",
    "\n",
    "# Ensure order in embeddings matches order in labels\n",
    "\n",
    "# Now embeddings and labels are stored on the CPU\n"
   ]
  },
  {
   "cell_type": "code",
   "execution_count": 50,
   "id": "7cad879a",
   "metadata": {},
   "outputs": [],
   "source": [
    "def calculate_pos_weights(class_counts):\n",
    "    pos_weights = np.ones_like(class_counts)\n",
    "    \n",
    "    neg_counts = [len(embeddings)-pos_count for pos_count in class_counts]\n",
    "    for cdx, (pos_count, neg_count) in enumerate(zip(class_counts,  neg_counts)):\n",
    "      pos_weights[cdx] = neg_count / (pos_count + 1e-5)\n",
    "\n",
    "    return torch.as_tensor(pos_weights, dtype=torch.float)\n",
    "class_counts = np.array(labels).sum(axis=0)\n",
    "pos_weights = calculate_pos_weights(class_counts) "
   ]
  },
  {
   "cell_type": "code",
   "execution_count": 51,
   "id": "f1476691",
   "metadata": {},
   "outputs": [
    {
     "data": {
      "text/plain": [
       "tensor([  6.,  55.,  13.,  22.,  62.,  62.,  32.,  38.,  62.,  62.,  26.,  54.,\n",
       "         62., 452., 116.,  47.,  62.,  62.,  61.,  41.,  62.,  50.,  62.,  62.,\n",
       "         62.,  62.,  62.,  86., 185.,  62., 118.,  43.,  54.,  30., 225.,  43.,\n",
       "         93., 106., 316., 351.,  62., 301.,  62.,  62.,  62., 146., 112., 191.,\n",
       "        333., 191.,  81.,  54., 396.,  30.,  62.,  28.,  58.,  60.,  58.,  59.,\n",
       "         14.,  46.,  62.,  91., 121.,  62., 185., 180., 253.,  58., 333.,  74.,\n",
       "         62.,  29., 243.,  62.,  62.,  62.,  88., 191., 372., 150., 175.])"
      ]
     },
     "execution_count": 51,
     "metadata": {},
     "output_type": "execute_result"
    }
   ],
   "source": [
    "pos_weights"
   ]
  },
  {
   "cell_type": "code",
   "execution_count": 52,
   "id": "1fc1f6a8",
   "metadata": {},
   "outputs": [],
   "source": [
    "import random\n",
    "\n",
    "random.seed(42)\n",
    "# Zip the lists together\n",
    "combined = list(zip(embeddings, labels))\n",
    "\n",
    "# Shuffle the combined list\n",
    "random.shuffle(combined)\n",
    "\n",
    "# Unzip the shuffled list\n",
    "embeddings, labels = zip(*combined)\n",
    "\n"
   ]
  },
  {
   "cell_type": "code",
   "execution_count": 53,
   "id": "d7184dec",
   "metadata": {},
   "outputs": [],
   "source": [
    "model.to(\"cpu\")\n",
    "torch.cuda.empty_cache()"
   ]
  },
  {
   "cell_type": "code",
   "execution_count": 54,
   "id": "f832c70d",
   "metadata": {},
   "outputs": [],
   "source": [
    "import torch.nn as nn\n",
    "\n",
    "class Classification_V0(nn.Module):\n",
    "    def __init__(self, input_dim, first_hidden, second_hidden, last_hidden, output_dim, dropout_prob):\n",
    "        super(Classification_V0, self).__init__()\n",
    "        self.fc1 = nn.Linear(input_dim, first_hidden)\n",
    "        self.relu1 = nn.ReLU()\n",
    "        self.fc2 = nn.Linear(first_hidden, second_hidden)\n",
    "        self.relu2 = nn.ReLU()\n",
    "        self.fc3 = nn.Linear(second_hidden, last_hidden)\n",
    "        self.relu3 = nn.ReLU()\n",
    "        self.fc4 = nn.Linear(last_hidden, output_dim)\n",
    "        \n",
    "        self.dropout = nn.Dropout(dropout_prob)\n",
    "    \n",
    "    def forward(self, x):\n",
    "        x = self.fc1(x)\n",
    "        x = self.relu1(x)\n",
    "        x = self.dropout(x)\n",
    "        x = self.fc2(x)\n",
    "        x = self.relu2(x)\n",
    "        x = self.dropout(x)\n",
    "        x = self.fc3(x)\n",
    "        x = self.relu3(x)\n",
    "        x = self.dropout(x)\n",
    "        x = self.fc4(x)\n",
    "        return x\n",
    "\n",
    "input_dim = 256\n",
    "first_hidden = 128\n",
    "second_hidden = 64\n",
    "last_hidden = 32\n",
    "output_dim = 83\n",
    "dropout_prob = 0.25\n",
    "\n",
    "clf_model = Classification_V0(input_dim, first_hidden, second_hidden, last_hidden, output_dim, dropout_prob)\n"
   ]
  },
  {
   "cell_type": "code",
   "execution_count": 55,
   "id": "7d9abc8b",
   "metadata": {},
   "outputs": [],
   "source": [
    "from torch.utils.data import DataLoader, TensorDataset\n",
    "import torch.optim.lr_scheduler as lr_scheduler\n",
    "\n",
    "batch_size = 128\n",
    "def data_generator(embeddings, labels, batch_size):\n",
    "    num_samples = len(embeddings)\n",
    "    for i in range(0, num_samples, batch_size):\n",
    "        batch_embeddings = embeddings[i:i+batch_size]\n",
    "        batch_labels = labels[i:i+batch_size]\n",
    "        yield batch_embeddings, batch_labels\n",
    "\n",
    "\n",
    "optimizer = torch.optim.Adam(clf_model.parameters(), lr=0.001)\n",
    "scheduler = lr_scheduler.StepLR(optimizer=optimizer, step_size=10, gamma=0.1)\n",
    "criterion = torch.nn.BCEWithLogitsLoss(pos_weight=pos_weights)"
   ]
  },
  {
   "cell_type": "code",
   "execution_count": 56,
   "id": "ad1b6ca9",
   "metadata": {},
   "outputs": [
    {
     "name": "stdout",
     "output_type": "stream",
     "text": [
      "Epoch 1/20:\n"
     ]
    },
    {
     "name": "stderr",
     "output_type": "stream",
     "text": [
      "                                          \r"
     ]
    },
    {
     "name": "stdout",
     "output_type": "stream",
     "text": [
      "1.3359865807571387\n",
      "Epoch 2/20:\n"
     ]
    },
    {
     "name": "stderr",
     "output_type": "stream",
     "text": [
      "                                          \r"
     ]
    },
    {
     "name": "stdout",
     "output_type": "stream",
     "text": [
      "1.0866048678985587\n",
      "Epoch 3/20:\n"
     ]
    },
    {
     "name": "stderr",
     "output_type": "stream",
     "text": [
      "                                          \r"
     ]
    },
    {
     "name": "stdout",
     "output_type": "stream",
     "text": [
      "0.770585265143097\n",
      "Epoch 4/20:\n"
     ]
    },
    {
     "name": "stderr",
     "output_type": "stream",
     "text": [
      "                                          \r"
     ]
    },
    {
     "name": "stdout",
     "output_type": "stream",
     "text": [
      "0.61985067260089\n",
      "Epoch 5/20:\n"
     ]
    },
    {
     "name": "stderr",
     "output_type": "stream",
     "text": [
      "                                          \r"
     ]
    },
    {
     "name": "stdout",
     "output_type": "stream",
     "text": [
      "0.5264051765775696\n",
      "Epoch 6/20:\n"
     ]
    },
    {
     "name": "stderr",
     "output_type": "stream",
     "text": [
      "                                          \r"
     ]
    },
    {
     "name": "stdout",
     "output_type": "stream",
     "text": [
      "0.47548967733073993\n",
      "Epoch 7/20:\n"
     ]
    },
    {
     "name": "stderr",
     "output_type": "stream",
     "text": [
      "                                          \r"
     ]
    },
    {
     "name": "stdout",
     "output_type": "stream",
     "text": [
      "0.4200207443405406\n",
      "Epoch 8/20:\n"
     ]
    },
    {
     "name": "stderr",
     "output_type": "stream",
     "text": [
      "                                          \r"
     ]
    },
    {
     "name": "stdout",
     "output_type": "stream",
     "text": [
      "0.38795119499612385\n",
      "Epoch 9/20:\n"
     ]
    },
    {
     "name": "stderr",
     "output_type": "stream",
     "text": [
      "                                          \r"
     ]
    },
    {
     "name": "stdout",
     "output_type": "stream",
     "text": [
      "0.36819404575634873\n",
      "Epoch 10/20:\n"
     ]
    },
    {
     "name": "stderr",
     "output_type": "stream",
     "text": [
      "                                          \r"
     ]
    },
    {
     "name": "stdout",
     "output_type": "stream",
     "text": [
      "0.33625893117047945\n",
      "Epoch 11/20:\n"
     ]
    },
    {
     "name": "stderr",
     "output_type": "stream",
     "text": [
      "                                          \r"
     ]
    },
    {
     "name": "stdout",
     "output_type": "stream",
     "text": [
      "0.31433431284961216\n",
      "Epoch 12/20:\n"
     ]
    },
    {
     "name": "stderr",
     "output_type": "stream",
     "text": [
      "                                          \r"
     ]
    },
    {
     "name": "stdout",
     "output_type": "stream",
     "text": [
      "0.3180057350329194\n",
      "Epoch 13/20:\n"
     ]
    },
    {
     "name": "stderr",
     "output_type": "stream",
     "text": [
      "                                          \r"
     ]
    },
    {
     "name": "stdout",
     "output_type": "stream",
     "text": [
      "0.30875231268873443\n",
      "Epoch 14/20:\n"
     ]
    },
    {
     "name": "stderr",
     "output_type": "stream",
     "text": [
      "                                          \r"
     ]
    },
    {
     "name": "stdout",
     "output_type": "stream",
     "text": [
      "0.3129297387948905\n",
      "Epoch 15/20:\n"
     ]
    },
    {
     "name": "stderr",
     "output_type": "stream",
     "text": [
      "                                          \r"
     ]
    },
    {
     "name": "stdout",
     "output_type": "stream",
     "text": [
      "0.30986129993682465\n",
      "Epoch 16/20:\n"
     ]
    },
    {
     "name": "stderr",
     "output_type": "stream",
     "text": [
      "                                          \r"
     ]
    },
    {
     "name": "stdout",
     "output_type": "stream",
     "text": [
      "0.3016578997310918\n",
      "Epoch 17/20:\n"
     ]
    },
    {
     "name": "stderr",
     "output_type": "stream",
     "text": [
      "                                          \r"
     ]
    },
    {
     "name": "stdout",
     "output_type": "stream",
     "text": [
      "0.30295338208922284\n",
      "Epoch 18/20:\n"
     ]
    },
    {
     "name": "stderr",
     "output_type": "stream",
     "text": [
      "                                          \r"
     ]
    },
    {
     "name": "stdout",
     "output_type": "stream",
     "text": [
      "0.29656792767662504\n",
      "Epoch 19/20:\n"
     ]
    },
    {
     "name": "stderr",
     "output_type": "stream",
     "text": [
      "                                          \r"
     ]
    },
    {
     "name": "stdout",
     "output_type": "stream",
     "text": [
      "0.2978130709198161\n",
      "Epoch 20/20:\n"
     ]
    },
    {
     "name": "stderr",
     "output_type": "stream",
     "text": [
      "                                          "
     ]
    },
    {
     "name": "stdout",
     "output_type": "stream",
     "text": [
      "0.29523387058823597\n",
      "Training finished.\n"
     ]
    },
    {
     "name": "stderr",
     "output_type": "stream",
     "text": [
      "\r"
     ]
    }
   ],
   "source": [
    "import numpy as np\n",
    "\n",
    "num_epochs = 20\n",
    "epoch_loss = []\n",
    "for epoch in range(num_epochs):\n",
    "    print(f\"Epoch {epoch+1}/{num_epochs}:\")\n",
    "    \n",
    "    # Initialize data generator\n",
    "    generator = data_generator(embeddings, labels, batch_size)\n",
    "    train_loss = 0\n",
    "    # Iterate over batches\n",
    "    for batch_embeddings, batch_labels in tqdm(generator, desc=\"Training Batches\", leave=False):\n",
    "        \n",
    "        optimizer.zero_grad()\n",
    "        \n",
    "        # Convert data to tensors\n",
    "\n",
    "        batch_embeddings_tensor = torch.stack(batch_embeddings)\n",
    "        batch_labels = np.array(batch_labels)\n",
    "        batch_labels_tensor = torch.tensor(batch_labels, dtype = torch.float32)\n",
    "        outputs = clf_model(batch_embeddings_tensor)\n",
    "        loss = criterion(outputs, batch_labels_tensor)\n",
    "#         print(loss)\n",
    "        train_loss+=loss.item()\n",
    "        # Backward pass and optimization\n",
    "        loss.backward()\n",
    "        optimizer.step()\n",
    "    scheduler.step()\n",
    "    epoch_loss.append(train_loss/(len(embeddings)/batch_size))\n",
    "    print(train_loss/(len(embeddings)/batch_size))\n",
    "print(\"Training finished.\")"
   ]
  },
  {
   "cell_type": "code",
   "execution_count": 63,
   "id": "ac44af79",
   "metadata": {},
   "outputs": [
    {
     "name": "stderr",
     "output_type": "stream",
     "text": [
      "  1%|          | 1/83 [00:00<00:42,  1.94it/s]"
     ]
    },
    {
     "name": "stdout",
     "output_type": "stream",
     "text": [
      "50\n"
     ]
    },
    {
     "name": "stderr",
     "output_type": "stream",
     "text": [
      "\r",
      "  2%|▏         | 2/83 [00:07<05:31,  4.10s/it]"
     ]
    },
    {
     "name": "stdout",
     "output_type": "stream",
     "text": [
      "5\n"
     ]
    },
    {
     "name": "stderr",
     "output_type": "stream",
     "text": [
      "\r",
      "  4%|▎         | 3/83 [00:08<03:59,  2.99s/it]"
     ]
    },
    {
     "name": "stdout",
     "output_type": "stream",
     "text": [
      "50\n"
     ]
    },
    {
     "name": "stderr",
     "output_type": "stream",
     "text": [
      "\r",
      "  5%|▍         | 4/83 [00:13<04:54,  3.72s/it]"
     ]
    },
    {
     "name": "stdout",
     "output_type": "stream",
     "text": [
      "8\n"
     ]
    },
    {
     "name": "stderr",
     "output_type": "stream",
     "text": [
      "\r",
      "  6%|▌         | 5/83 [00:18<05:19,  4.10s/it]"
     ]
    },
    {
     "name": "stdout",
     "output_type": "stream",
     "text": [
      "9\n"
     ]
    },
    {
     "name": "stderr",
     "output_type": "stream",
     "text": [
      "\r",
      "  7%|▋         | 6/83 [00:18<03:36,  2.81s/it]"
     ]
    },
    {
     "name": "stdout",
     "output_type": "stream",
     "text": [
      "50\n"
     ]
    },
    {
     "name": "stderr",
     "output_type": "stream",
     "text": [
      "\r",
      "  8%|▊         | 7/83 [00:19<02:43,  2.15s/it]"
     ]
    },
    {
     "name": "stdout",
     "output_type": "stream",
     "text": [
      "50\n"
     ]
    },
    {
     "name": "stderr",
     "output_type": "stream",
     "text": [
      "\r",
      " 10%|▉         | 8/83 [00:24<03:44,  2.99s/it]"
     ]
    },
    {
     "name": "stdout",
     "output_type": "stream",
     "text": [
      "6\n"
     ]
    },
    {
     "name": "stderr",
     "output_type": "stream",
     "text": [
      "\r",
      " 11%|█         | 9/83 [00:29<04:22,  3.55s/it]"
     ]
    },
    {
     "name": "stdout",
     "output_type": "stream",
     "text": [
      "9\n"
     ]
    },
    {
     "name": "stderr",
     "output_type": "stream",
     "text": [
      "\r",
      " 12%|█▏        | 10/83 [00:33<04:46,  3.92s/it]"
     ]
    },
    {
     "name": "stdout",
     "output_type": "stream",
     "text": [
      "4\n"
     ]
    },
    {
     "name": "stderr",
     "output_type": "stream",
     "text": [
      "\r",
      " 13%|█▎        | 11/83 [00:38<05:03,  4.21s/it]"
     ]
    },
    {
     "name": "stdout",
     "output_type": "stream",
     "text": [
      "23\n"
     ]
    },
    {
     "name": "stderr",
     "output_type": "stream",
     "text": [
      "\r",
      " 14%|█▍        | 12/83 [00:45<05:46,  4.88s/it]"
     ]
    },
    {
     "name": "stdout",
     "output_type": "stream",
     "text": [
      "2\n"
     ]
    },
    {
     "name": "stderr",
     "output_type": "stream",
     "text": [
      "\r",
      " 16%|█▌        | 13/83 [00:49<05:40,  4.87s/it]"
     ]
    },
    {
     "name": "stdout",
     "output_type": "stream",
     "text": [
      "1\n"
     ]
    },
    {
     "name": "stderr",
     "output_type": "stream",
     "text": [
      "\r",
      " 17%|█▋        | 14/83 [00:51<04:20,  3.77s/it]"
     ]
    },
    {
     "name": "stdout",
     "output_type": "stream",
     "text": [
      "50\n"
     ]
    },
    {
     "name": "stderr",
     "output_type": "stream",
     "text": [
      "\r",
      " 18%|█▊        | 15/83 [00:51<03:11,  2.81s/it]"
     ]
    },
    {
     "name": "stdout",
     "output_type": "stream",
     "text": [
      "50\n"
     ]
    },
    {
     "name": "stderr",
     "output_type": "stream",
     "text": [
      "\r",
      " 19%|█▉        | 16/83 [00:52<02:32,  2.28s/it]"
     ]
    },
    {
     "name": "stdout",
     "output_type": "stream",
     "text": [
      "50\n"
     ]
    },
    {
     "name": "stderr",
     "output_type": "stream",
     "text": [
      " 22%|██▏       | 18/83 [00:54<01:33,  1.44s/it]"
     ]
    },
    {
     "name": "stdout",
     "output_type": "stream",
     "text": [
      "50\n",
      "50\n"
     ]
    },
    {
     "name": "stderr",
     "output_type": "stream",
     "text": [
      "\r",
      " 23%|██▎       | 19/83 [00:54<01:13,  1.15s/it]"
     ]
    },
    {
     "name": "stdout",
     "output_type": "stream",
     "text": [
      "50\n",
      "50\n"
     ]
    },
    {
     "name": "stderr",
     "output_type": "stream",
     "text": [
      "\r",
      " 25%|██▌       | 21/83 [00:55<00:43,  1.44it/s]"
     ]
    },
    {
     "name": "stdout",
     "output_type": "stream",
     "text": [
      "50\n"
     ]
    },
    {
     "name": "stderr",
     "output_type": "stream",
     "text": [
      "\r",
      " 27%|██▋       | 22/83 [00:55<00:35,  1.72it/s]"
     ]
    },
    {
     "name": "stdout",
     "output_type": "stream",
     "text": [
      "50\n"
     ]
    },
    {
     "name": "stderr",
     "output_type": "stream",
     "text": [
      "\r",
      " 28%|██▊       | 23/83 [00:56<00:42,  1.43it/s]"
     ]
    },
    {
     "name": "stdout",
     "output_type": "stream",
     "text": [
      "50\n"
     ]
    },
    {
     "name": "stderr",
     "output_type": "stream",
     "text": [
      "\r",
      " 29%|██▉       | 24/83 [01:01<01:46,  1.81s/it]"
     ]
    },
    {
     "name": "stdout",
     "output_type": "stream",
     "text": [
      "12\n"
     ]
    },
    {
     "name": "stderr",
     "output_type": "stream",
     "text": [
      "\r",
      " 30%|███       | 25/83 [01:02<01:39,  1.71s/it]"
     ]
    },
    {
     "name": "stdout",
     "output_type": "stream",
     "text": [
      "50\n"
     ]
    },
    {
     "name": "stderr",
     "output_type": "stream",
     "text": [
      "\r",
      " 31%|███▏      | 26/83 [01:04<01:35,  1.68s/it]"
     ]
    },
    {
     "name": "stdout",
     "output_type": "stream",
     "text": [
      "50\n"
     ]
    },
    {
     "name": "stderr",
     "output_type": "stream",
     "text": [
      "\r",
      " 33%|███▎      | 27/83 [01:04<01:10,  1.26s/it]"
     ]
    },
    {
     "name": "stdout",
     "output_type": "stream",
     "text": [
      "50\n"
     ]
    },
    {
     "name": "stderr",
     "output_type": "stream",
     "text": [
      "\r",
      " 34%|███▎      | 28/83 [01:09<02:05,  2.29s/it]"
     ]
    },
    {
     "name": "stdout",
     "output_type": "stream",
     "text": [
      "10\n"
     ]
    },
    {
     "name": "stderr",
     "output_type": "stream",
     "text": [
      "\r",
      " 35%|███▍      | 29/83 [01:14<02:43,  3.03s/it]"
     ]
    },
    {
     "name": "stdout",
     "output_type": "stream",
     "text": [
      "2\n"
     ]
    },
    {
     "name": "stderr",
     "output_type": "stream",
     "text": [
      "\r",
      " 36%|███▌      | 30/83 [01:16<02:28,  2.80s/it]"
     ]
    },
    {
     "name": "stdout",
     "output_type": "stream",
     "text": [
      "50\n"
     ]
    },
    {
     "name": "stderr",
     "output_type": "stream",
     "text": [
      "\r",
      " 37%|███▋      | 31/83 [01:16<01:46,  2.04s/it]"
     ]
    },
    {
     "name": "stdout",
     "output_type": "stream",
     "text": [
      "50\n"
     ]
    },
    {
     "name": "stderr",
     "output_type": "stream",
     "text": [
      "\r",
      " 39%|███▊      | 32/83 [01:21<02:26,  2.87s/it]"
     ]
    },
    {
     "name": "stdout",
     "output_type": "stream",
     "text": [
      "1\n"
     ]
    },
    {
     "name": "stderr",
     "output_type": "stream",
     "text": [
      "\r",
      " 40%|███▉      | 33/83 [01:26<02:52,  3.45s/it]"
     ]
    },
    {
     "name": "stdout",
     "output_type": "stream",
     "text": [
      "27\n"
     ]
    },
    {
     "name": "stderr",
     "output_type": "stream",
     "text": [
      "\r",
      " 41%|████      | 34/83 [01:27<02:18,  2.83s/it]"
     ]
    },
    {
     "name": "stdout",
     "output_type": "stream",
     "text": [
      "50\n"
     ]
    },
    {
     "name": "stderr",
     "output_type": "stream",
     "text": [
      "\r",
      " 42%|████▏     | 35/83 [01:29<02:01,  2.53s/it]"
     ]
    },
    {
     "name": "stdout",
     "output_type": "stream",
     "text": [
      "50\n"
     ]
    },
    {
     "name": "stderr",
     "output_type": "stream",
     "text": [
      "\r",
      " 43%|████▎     | 36/83 [01:33<02:18,  2.95s/it]"
     ]
    },
    {
     "name": "stdout",
     "output_type": "stream",
     "text": [
      "50\n"
     ]
    },
    {
     "name": "stderr",
     "output_type": "stream",
     "text": [
      "\r",
      " 45%|████▍     | 37/83 [01:33<01:38,  2.14s/it]"
     ]
    },
    {
     "name": "stdout",
     "output_type": "stream",
     "text": [
      "50\n"
     ]
    },
    {
     "name": "stderr",
     "output_type": "stream",
     "text": [
      "\r",
      " 46%|████▌     | 38/83 [01:38<02:11,  2.92s/it]"
     ]
    },
    {
     "name": "stdout",
     "output_type": "stream",
     "text": [
      "7\n"
     ]
    },
    {
     "name": "stderr",
     "output_type": "stream",
     "text": [
      "\r",
      " 47%|████▋     | 39/83 [01:38<01:34,  2.16s/it]"
     ]
    },
    {
     "name": "stdout",
     "output_type": "stream",
     "text": [
      "50\n"
     ]
    },
    {
     "name": "stderr",
     "output_type": "stream",
     "text": [
      "\r",
      " 48%|████▊     | 40/83 [01:43<02:06,  2.94s/it]"
     ]
    },
    {
     "name": "stdout",
     "output_type": "stream",
     "text": [
      "4\n"
     ]
    },
    {
     "name": "stderr",
     "output_type": "stream",
     "text": [
      " 51%|█████     | 42/83 [01:44<01:12,  1.77s/it]"
     ]
    },
    {
     "name": "stdout",
     "output_type": "stream",
     "text": [
      "50\n",
      "50\n"
     ]
    },
    {
     "name": "stderr",
     "output_type": "stream",
     "text": [
      "\r",
      " 52%|█████▏    | 43/83 [01:49<01:46,  2.67s/it]"
     ]
    },
    {
     "name": "stdout",
     "output_type": "stream",
     "text": [
      "10\n"
     ]
    },
    {
     "name": "stderr",
     "output_type": "stream",
     "text": [
      "\r",
      " 53%|█████▎    | 44/83 [01:50<01:17,  1.98s/it]"
     ]
    },
    {
     "name": "stdout",
     "output_type": "stream",
     "text": [
      "50\n"
     ]
    },
    {
     "name": "stderr",
     "output_type": "stream",
     "text": [
      "\r",
      " 54%|█████▍    | 45/83 [01:52<01:21,  2.14s/it]"
     ]
    },
    {
     "name": "stdout",
     "output_type": "stream",
     "text": [
      "50\n"
     ]
    },
    {
     "name": "stderr",
     "output_type": "stream",
     "text": [
      "\r",
      " 55%|█████▌    | 46/83 [01:57<01:48,  2.93s/it]"
     ]
    },
    {
     "name": "stdout",
     "output_type": "stream",
     "text": [
      "4\n"
     ]
    },
    {
     "name": "stderr",
     "output_type": "stream",
     "text": [
      "\r",
      " 57%|█████▋    | 47/83 [02:02<02:05,  3.49s/it]"
     ]
    },
    {
     "name": "stdout",
     "output_type": "stream",
     "text": [
      "1\n"
     ]
    },
    {
     "name": "stderr",
     "output_type": "stream",
     "text": [
      "\r",
      " 58%|█████▊    | 48/83 [02:06<02:15,  3.88s/it]"
     ]
    },
    {
     "name": "stdout",
     "output_type": "stream",
     "text": [
      "3\n"
     ]
    },
    {
     "name": "stderr",
     "output_type": "stream",
     "text": [
      "\r",
      " 59%|█████▉    | 49/83 [02:08<01:47,  3.15s/it]"
     ]
    },
    {
     "name": "stdout",
     "output_type": "stream",
     "text": [
      "50\n"
     ]
    },
    {
     "name": "stderr",
     "output_type": "stream",
     "text": [
      "\r",
      " 60%|██████    | 50/83 [02:13<02:00,  3.65s/it]"
     ]
    },
    {
     "name": "stdout",
     "output_type": "stream",
     "text": [
      "32\n"
     ]
    },
    {
     "name": "stderr",
     "output_type": "stream",
     "text": [
      "\r",
      " 61%|██████▏   | 51/83 [02:17<02:07,  3.98s/it]"
     ]
    },
    {
     "name": "stdout",
     "output_type": "stream",
     "text": [
      "11\n"
     ]
    },
    {
     "name": "stderr",
     "output_type": "stream",
     "text": [
      "\r",
      " 63%|██████▎   | 52/83 [02:22<02:10,  4.22s/it]"
     ]
    },
    {
     "name": "stdout",
     "output_type": "stream",
     "text": [
      "40\n"
     ]
    },
    {
     "name": "stderr",
     "output_type": "stream",
     "text": [
      "\r",
      " 64%|██████▍   | 53/83 [02:27<02:12,  4.40s/it]"
     ]
    },
    {
     "name": "stdout",
     "output_type": "stream",
     "text": [
      "25\n"
     ]
    },
    {
     "name": "stderr",
     "output_type": "stream",
     "text": [
      "\r",
      " 65%|██████▌   | 54/83 [02:28<01:40,  3.47s/it]"
     ]
    },
    {
     "name": "stdout",
     "output_type": "stream",
     "text": [
      "50\n"
     ]
    },
    {
     "name": "stderr",
     "output_type": "stream",
     "text": [
      "\r",
      " 66%|██████▋   | 55/83 [02:32<01:40,  3.59s/it]"
     ]
    },
    {
     "name": "stdout",
     "output_type": "stream",
     "text": [
      "50\n"
     ]
    },
    {
     "name": "stderr",
     "output_type": "stream",
     "text": [
      "\r",
      " 67%|██████▋   | 56/83 [02:37<01:47,  3.97s/it]"
     ]
    },
    {
     "name": "stdout",
     "output_type": "stream",
     "text": [
      "16\n"
     ]
    },
    {
     "name": "stderr",
     "output_type": "stream",
     "text": [
      "\r",
      " 69%|██████▊   | 57/83 [02:42<01:50,  4.23s/it]"
     ]
    },
    {
     "name": "stdout",
     "output_type": "stream",
     "text": [
      "4\n"
     ]
    },
    {
     "name": "stderr",
     "output_type": "stream",
     "text": [
      "\r",
      " 70%|██████▉   | 58/83 [02:47<01:50,  4.41s/it]"
     ]
    },
    {
     "name": "stdout",
     "output_type": "stream",
     "text": [
      "13\n"
     ]
    },
    {
     "name": "stderr",
     "output_type": "stream",
     "text": [
      "\r",
      " 71%|███████   | 59/83 [02:52<01:48,  4.54s/it]"
     ]
    },
    {
     "name": "stdout",
     "output_type": "stream",
     "text": [
      "10\n"
     ]
    },
    {
     "name": "stderr",
     "output_type": "stream",
     "text": [
      "\r",
      " 72%|███████▏  | 60/83 [02:56<01:46,  4.62s/it]"
     ]
    },
    {
     "name": "stdout",
     "output_type": "stream",
     "text": [
      "3\n"
     ]
    },
    {
     "name": "stderr",
     "output_type": "stream",
     "text": [
      "\r",
      " 73%|███████▎  | 61/83 [02:57<01:18,  3.56s/it]"
     ]
    },
    {
     "name": "stdout",
     "output_type": "stream",
     "text": [
      "50\n"
     ]
    },
    {
     "name": "stderr",
     "output_type": "stream",
     "text": [
      "\r",
      " 75%|███████▍  | 62/83 [03:00<01:08,  3.24s/it]"
     ]
    },
    {
     "name": "stdout",
     "output_type": "stream",
     "text": [
      "50\n"
     ]
    },
    {
     "name": "stderr",
     "output_type": "stream",
     "text": [
      "\r",
      " 76%|███████▌  | 63/83 [03:05<01:14,  3.71s/it]"
     ]
    },
    {
     "name": "stdout",
     "output_type": "stream",
     "text": [
      "4\n"
     ]
    },
    {
     "name": "stderr",
     "output_type": "stream",
     "text": [
      " 78%|███████▊  | 65/83 [03:10<00:51,  2.86s/it]"
     ]
    },
    {
     "name": "stdout",
     "output_type": "stream",
     "text": [
      "12\n",
      "50\n"
     ]
    },
    {
     "name": "stderr",
     "output_type": "stream",
     "text": [
      "\r",
      " 80%|███████▉  | 66/83 [03:10<00:36,  2.12s/it]"
     ]
    },
    {
     "name": "stdout",
     "output_type": "stream",
     "text": [
      "50\n"
     ]
    },
    {
     "name": "stderr",
     "output_type": "stream",
     "text": [
      "\r",
      " 81%|████████  | 67/83 [03:12<00:33,  2.09s/it]"
     ]
    },
    {
     "name": "stdout",
     "output_type": "stream",
     "text": [
      "50\n"
     ]
    },
    {
     "name": "stderr",
     "output_type": "stream",
     "text": [
      "\r",
      " 82%|████████▏ | 68/83 [03:17<00:43,  2.89s/it]"
     ]
    },
    {
     "name": "stdout",
     "output_type": "stream",
     "text": [
      "14\n"
     ]
    },
    {
     "name": "stderr",
     "output_type": "stream",
     "text": [
      "\r",
      " 83%|████████▎ | 69/83 [03:18<00:33,  2.43s/it]"
     ]
    },
    {
     "name": "stdout",
     "output_type": "stream",
     "text": [
      "50\n"
     ]
    },
    {
     "name": "stderr",
     "output_type": "stream",
     "text": [
      "\r",
      " 84%|████████▍ | 70/83 [03:23<00:40,  3.13s/it]"
     ]
    },
    {
     "name": "stdout",
     "output_type": "stream",
     "text": [
      "8\n"
     ]
    },
    {
     "name": "stderr",
     "output_type": "stream",
     "text": [
      "\r",
      " 86%|████████▌ | 71/83 [03:24<00:30,  2.52s/it]"
     ]
    },
    {
     "name": "stdout",
     "output_type": "stream",
     "text": [
      "50\n"
     ]
    },
    {
     "name": "stderr",
     "output_type": "stream",
     "text": [
      "\r",
      " 87%|████████▋ | 72/83 [03:26<00:24,  2.20s/it]"
     ]
    },
    {
     "name": "stdout",
     "output_type": "stream",
     "text": [
      "50\n"
     ]
    },
    {
     "name": "stderr",
     "output_type": "stream",
     "text": [
      "\r",
      " 88%|████████▊ | 73/83 [03:26<00:18,  1.81s/it]"
     ]
    },
    {
     "name": "stdout",
     "output_type": "stream",
     "text": [
      "50\n"
     ]
    },
    {
     "name": "stderr",
     "output_type": "stream",
     "text": [
      "\r",
      " 89%|████████▉ | 74/83 [03:28<00:15,  1.73s/it]"
     ]
    },
    {
     "name": "stdout",
     "output_type": "stream",
     "text": [
      "50\n"
     ]
    },
    {
     "name": "stderr",
     "output_type": "stream",
     "text": [
      "\r",
      " 90%|█████████ | 75/83 [03:33<00:21,  2.65s/it]"
     ]
    },
    {
     "name": "stdout",
     "output_type": "stream",
     "text": [
      "4\n"
     ]
    },
    {
     "name": "stderr",
     "output_type": "stream",
     "text": [
      "\r",
      " 92%|█████████▏| 76/83 [03:38<00:23,  3.30s/it]"
     ]
    },
    {
     "name": "stdout",
     "output_type": "stream",
     "text": [
      "21\n"
     ]
    },
    {
     "name": "stderr",
     "output_type": "stream",
     "text": [
      "\r",
      " 93%|█████████▎| 77/83 [03:39<00:16,  2.68s/it]"
     ]
    },
    {
     "name": "stdout",
     "output_type": "stream",
     "text": [
      "50\n"
     ]
    },
    {
     "name": "stderr",
     "output_type": "stream",
     "text": [
      "\r",
      " 94%|█████████▍| 78/83 [03:42<00:13,  2.76s/it]"
     ]
    },
    {
     "name": "stdout",
     "output_type": "stream",
     "text": [
      "50\n"
     ]
    },
    {
     "name": "stderr",
     "output_type": "stream",
     "text": [
      "\r",
      " 95%|█████████▌| 79/83 [03:47<00:13,  3.38s/it]"
     ]
    },
    {
     "name": "stdout",
     "output_type": "stream",
     "text": [
      "8\n"
     ]
    },
    {
     "name": "stderr",
     "output_type": "stream",
     "text": [
      "\r",
      " 96%|█████████▋| 80/83 [03:48<00:08,  2.77s/it]"
     ]
    },
    {
     "name": "stdout",
     "output_type": "stream",
     "text": [
      "50\n"
     ]
    },
    {
     "name": "stderr",
     "output_type": "stream",
     "text": [
      "\r",
      " 98%|█████████▊| 81/83 [03:48<00:04,  2.07s/it]"
     ]
    },
    {
     "name": "stdout",
     "output_type": "stream",
     "text": [
      "50\n"
     ]
    },
    {
     "name": "stderr",
     "output_type": "stream",
     "text": [
      "\r",
      " 99%|█████████▉| 82/83 [03:53<00:02,  2.88s/it]"
     ]
    },
    {
     "name": "stdout",
     "output_type": "stream",
     "text": [
      "31\n"
     ]
    },
    {
     "name": "stderr",
     "output_type": "stream",
     "text": [
      "100%|██████████| 83/83 [03:58<00:00,  2.87s/it]"
     ]
    },
    {
     "name": "stdout",
     "output_type": "stream",
     "text": [
      "5\n"
     ]
    },
    {
     "name": "stderr",
     "output_type": "stream",
     "text": [
      "\n"
     ]
    }
   ],
   "source": [
    "directory = '/ibex/user/toibazd/InterPro_annotated_genomes_for_testing/'\n",
    "one_hot_encoded_sentences_2 = {}\n",
    "\n",
    "sentence_length = 40\n",
    "sentence_per_IP = 50\n",
    "selected_files = os.listdir(directory)\n",
    "\n",
    "total_sentences = sum(len(sentences) for sentences in one_hot_encoded_sentences.values())\n",
    "\n",
    "# Iterate over keys\n",
    "for IP in tqdm(unique_defense):\n",
    "    one_hot_encoded_sentences_2[IP] = []\n",
    "    sentences_count=0\n",
    "    \n",
    "    # Iterate over selected files\n",
    "    for filename in selected_files:\n",
    "        filepath = os.path.join(directory, filename)\n",
    "\n",
    "        with open(filepath, 'r') as file:\n",
    "            content = file.read()\n",
    "            words = content.strip().split()\n",
    "\n",
    "            # Check if the key is in the file\n",
    "            for i in range(19, len(words)-20):\n",
    "                # Shuffle the indices of the words containing the key\n",
    "                if IP in data_dict[words[i]]:\n",
    "                    if len(words) - i >= 21:\n",
    "                        sentence = \" \".join(words[i - 19:i + sentence_length - 19])\n",
    "                        one_hot_encoded_sentences_2[IP].append(sentence)\n",
    "                        sentences_count += 1\n",
    "                        if sentences_count>=sentence_per_IP:\n",
    "                            break\n",
    "        if sentences_count>=sentence_per_IP:\n",
    "            break\n",
    "    print(sentences_count)\n",
    "            \n"
   ]
  },
  {
   "cell_type": "code",
   "execution_count": 64,
   "id": "7873eedf",
   "metadata": {
    "collapsed": true
   },
   "outputs": [
    {
     "name": "stdout",
     "output_type": "stream",
     "text": [
      "50\n",
      "5\n",
      "50\n",
      "8\n",
      "9\n",
      "50\n",
      "50\n",
      "6\n",
      "9\n",
      "4\n",
      "23\n",
      "2\n",
      "1\n",
      "50\n",
      "50\n",
      "50\n",
      "50\n",
      "50\n",
      "50\n",
      "50\n",
      "50\n",
      "50\n",
      "50\n",
      "12\n",
      "50\n",
      "50\n",
      "50\n",
      "10\n",
      "2\n",
      "50\n",
      "50\n",
      "1\n",
      "27\n",
      "50\n",
      "50\n",
      "50\n",
      "50\n",
      "7\n",
      "50\n",
      "4\n",
      "50\n",
      "50\n",
      "10\n",
      "50\n",
      "50\n",
      "4\n",
      "1\n",
      "3\n",
      "50\n",
      "32\n",
      "11\n",
      "40\n",
      "25\n",
      "50\n",
      "50\n",
      "16\n",
      "4\n",
      "13\n",
      "10\n",
      "3\n",
      "50\n",
      "50\n",
      "4\n",
      "12\n",
      "50\n",
      "50\n",
      "50\n",
      "14\n",
      "50\n",
      "8\n",
      "50\n",
      "50\n",
      "50\n",
      "50\n",
      "4\n",
      "21\n",
      "50\n",
      "50\n",
      "8\n",
      "50\n",
      "50\n",
      "31\n",
      "5\n"
     ]
    }
   ],
   "source": [
    "for key, value in one_hot_encoded_sentences_2.items():\n",
    "    print(len(value))"
   ]
  },
  {
   "cell_type": "code",
   "execution_count": 65,
   "id": "e5a2eb5e",
   "metadata": {},
   "outputs": [],
   "source": [
    "import json\n",
    "\n",
    "with open('BERT_sanity_check_defense_DNN_senteces_testing.json', 'w') as f:\n",
    "    json.dump(one_hot_encoded_sentences_2, f)"
   ]
  },
  {
   "cell_type": "code",
   "execution_count": 66,
   "id": "0aae8a77",
   "metadata": {},
   "outputs": [],
   "source": [
    "with open('BERT_sanity_check_defense_DNN_senteces_testing.json', \"r\") as f:\n",
    "    test_sentences = json.load(f)"
   ]
  },
  {
   "cell_type": "code",
   "execution_count": 67,
   "id": "9ab316ab",
   "metadata": {},
   "outputs": [
    {
     "data": {
      "text/plain": [
       "83"
      ]
     },
     "execution_count": 67,
     "metadata": {},
     "output_type": "execute_result"
    }
   ],
   "source": [
    "test_sentences = {key: value for key, value in test_sentences.items() if value}\n",
    "len(test_sentences)"
   ]
  },
  {
   "cell_type": "code",
   "execution_count": 68,
   "id": "138e266d",
   "metadata": {},
   "outputs": [
    {
     "name": "stdout",
     "output_type": "stream",
     "text": [
      "IPR010179 50\n",
      "IPR013419 5\n",
      "IPR047939 50\n",
      "IPR010172 8\n",
      "IPR049758 9\n",
      "IPR025935 50\n",
      "IPR019858 50\n",
      "IPR013407 6\n",
      "IPR027620 9\n",
      "IPR013490 4\n",
      "IPR013421 23\n",
      "IPR013487 2\n",
      "IPR017576 1\n",
      "IPR013398 50\n",
      "IPR010144 50\n",
      "IPR005537 50\n",
      "IPR019856 50\n",
      "IPR021124 50\n",
      "IPR006482 50\n",
      "IPR002729 50\n",
      "IPR021127 50\n",
      "IPR013382 50\n",
      "IPR047721 50\n",
      "IPR013410 12\n",
      "IPR013397 50\n",
      "IPR013489 50\n",
      "IPR010147 50\n",
      "IPR017574 10\n",
      "IPR013444 2\n",
      "IPR005510 50\n",
      "IPR019851 50\n",
      "IPR049889 1\n",
      "IPR031820 27\n",
      "IPR013492 50\n",
      "IPR010146 50\n",
      "IPR010173 50\n",
      "IPR033641 50\n",
      "IPR049832 7\n",
      "IPR028629 50\n",
      "IPR013415 4\n",
      "IPR013395 50\n",
      "IPR010148 50\n",
      "IPR027616 10\n",
      "IPR010152 50\n",
      "IPR032359 50\n",
      "IPR017589 4\n",
      "IPR047583 1\n",
      "IPR030955 3\n",
      "IPR047679 50\n",
      "IPR019504 32\n",
      "IPR023844 11\n",
      "IPR013414 40\n",
      "IPR013337 25\n",
      "IPR019857 50\n",
      "IPR010154 50\n",
      "IPR048067 16\n",
      "IPR017575 4\n",
      "IPR013403 13\n",
      "IPR027617 10\n",
      "IPR019117 3\n",
      "IPR021228 50\n",
      "IPR013408 50\n",
      "IPR016581 4\n",
      "IPR019089 12\n",
      "IPR019199 50\n",
      "IPR013381 50\n",
      "IPR013412 50\n",
      "IPR023843 14\n",
      "IPR013418 50\n",
      "IPR019092 8\n",
      "IPR013399 50\n",
      "IPR014858 50\n",
      "IPR013343 50\n",
      "IPR010156 50\n",
      "IPR049794 4\n",
      "IPR010180 21\n",
      "IPR013396 50\n",
      "IPR010149 50\n",
      "IPR013413 8\n",
      "IPR010155 50\n",
      "IPR019855 50\n",
      "IPR014174 31\n",
      "IPR010160 5\n"
     ]
    }
   ],
   "source": [
    "for key, value in test_sentences.items():\n",
    "    print(key, end=\" \")\n",
    "    print(len(value))"
   ]
  },
  {
   "cell_type": "code",
   "execution_count": 69,
   "id": "e3e213bf",
   "metadata": {},
   "outputs": [
    {
     "data": {
      "text/plain": [
       "83"
      ]
     },
     "execution_count": 69,
     "metadata": {},
     "output_type": "execute_result"
    }
   ],
   "source": [
    "matching_string = test_sentences.values()\n",
    "len(matching_string)"
   ]
  },
  {
   "cell_type": "code",
   "execution_count": 70,
   "id": "0a93cb03",
   "metadata": {},
   "outputs": [
    {
     "data": {
      "text/plain": [
       "2659"
      ]
     },
     "execution_count": 70,
     "metadata": {},
     "output_type": "execute_result"
    }
   ],
   "source": [
    "matching_string = [item for sublist in matching_string for item in sublist]\n",
    "len(matching_string)"
   ]
  },
  {
   "cell_type": "code",
   "execution_count": 71,
   "id": "7d499e52",
   "metadata": {
    "scrolled": false
   },
   "outputs": [
    {
     "name": "stderr",
     "output_type": "stream",
     "text": [
      "100%|██████████| 21/21 [00:05<00:00,  4.02it/s]\n"
     ]
    }
   ],
   "source": [
    "from bertviz import model_view\n",
    "\n",
    "batch_size = 128 # Define your batch size\n",
    "# model.cuda()\n",
    "test_embeddings = []\n",
    "test_labels = []\n",
    "\n",
    "# Define your data iterator in batches\n",
    "for i in tqdm(range(0, len(matching_string), batch_size)):\n",
    "    batch_sentences = matching_string[i:i+batch_size]\n",
    "    batch_inputs = tokenizer.encode_batch(batch_sentences)\n",
    "    input_ids_list = []\n",
    "    attention_mask_list = []\n",
    "\n",
    "    for encoding in batch_inputs:\n",
    "        input_ids_list.append(encoding.ids)\n",
    "        attention_mask_list.append(encoding.attention_mask)\n",
    "    # Convert lists to tensors and move to device\n",
    "    try:\n",
    "        input_ids = torch.tensor(input_ids_list)\n",
    "    except:\n",
    "        for ins in input_ids_list:\n",
    "            if len(ins)!=42:\n",
    "                print(len(ins))\n",
    "                print(ins)\n",
    "    attention_mask = torch.tensor(attention_mask_list)\n",
    "\n",
    "    with torch.inference_mode():\n",
    "        outputs = model(input_ids, attention_mask=attention_mask, output_hidden_states=True, output_attentions = True)\n",
    "    hidden_states = outputs.last_hidden_state\n",
    "    attentions = outputs.attentions[-1]\n",
    "    relevant_hidden_states = hidden_states[:, 20, :] \n",
    "\n",
    "    \n",
    "#     for i in range(len(batch_sentences)):\n",
    "#         if i < 20:\n",
    "#             att = []\n",
    "#             extracted_tensor = attentions[i, :, :, :]\n",
    "#             extracted_tensor = extracted_tensor.unsqueeze(0)\n",
    "#             print(extracted_tensor.shape)\n",
    "#             att.append(extracted_tensor)\n",
    "\n",
    "#             tokens = \"[CLS] \"+tokenizer.decode(input_ids_list[i])+\" [SEP]\"\n",
    "#             tokens = tokens.split(\" \")\n",
    "#             model_view(att, tokens)\n",
    "    \n",
    "    for j in range(len(batch_sentences)):\n",
    "\n",
    "        test_embeddings.append(relevant_hidden_states[j].cpu())\n",
    "        indicator = batch_sentences[j].split()[19]\n",
    "        test_labels.append(one_hot_encoded_dict[indicator])\n"
   ]
  },
  {
   "cell_type": "code",
   "execution_count": 72,
   "id": "00089282",
   "metadata": {},
   "outputs": [
    {
     "data": {
      "text/plain": [
       "'WP_072018053 WP_072018053 WP_072018053 WP_072018053'"
      ]
     },
     "execution_count": 72,
     "metadata": {},
     "output_type": "execute_result"
    }
   ],
   "source": [
    "tokenizer.decode([0,12,12,12,12,\n",
    "                 ])"
   ]
  },
  {
   "cell_type": "code",
   "execution_count": 73,
   "id": "1b5d975e",
   "metadata": {},
   "outputs": [],
   "source": [
    "model.to(\"cpu\")\n",
    "torch.cuda.empty_cache()"
   ]
  },
  {
   "cell_type": "code",
   "execution_count": 74,
   "id": "e6194248",
   "metadata": {},
   "outputs": [
    {
     "data": {
      "text/plain": [
       "Classification_V0(\n",
       "  (fc1): Linear(in_features=256, out_features=128, bias=True)\n",
       "  (relu1): ReLU()\n",
       "  (fc2): Linear(in_features=128, out_features=64, bias=True)\n",
       "  (relu2): ReLU()\n",
       "  (fc3): Linear(in_features=64, out_features=32, bias=True)\n",
       "  (relu3): ReLU()\n",
       "  (fc4): Linear(in_features=32, out_features=83, bias=True)\n",
       "  (dropout): Dropout(p=0.25, inplace=False)\n",
       ")"
      ]
     },
     "execution_count": 74,
     "metadata": {},
     "output_type": "execute_result"
    }
   ],
   "source": [
    "clf_model.eval()"
   ]
  },
  {
   "cell_type": "code",
   "execution_count": 75,
   "id": "d150c202",
   "metadata": {},
   "outputs": [
    {
     "name": "stderr",
     "output_type": "stream",
     "text": [
      "                                      \r"
     ]
    }
   ],
   "source": [
    "generator = data_generator(test_embeddings, test_labels, batch_size)\n",
    "\n",
    "\n",
    "from sklearn.metrics import multilabel_confusion_matrix\n",
    "from sklearn.metrics import precision_score, recall_score, f1_score\n",
    "import numpy as np\n",
    "all_predictions = []\n",
    "all_labels = []\n",
    "all_probs = []\n",
    "\n",
    "for batch_embeddings, batch_labels in tqdm(generator, desc=\"Evaluation Batches\", leave=False):\n",
    "    batch_embeddings_tensor = torch.stack(batch_embeddings)\n",
    "    batch_labels = np.array(batch_labels)\n",
    "    logits = clf_model(batch_embeddings_tensor)\n",
    "    predictions = torch.sigmoid(logits)\n",
    "    thresholded_predictions = (predictions > 0.85).float()\n",
    "    all_predictions.append(thresholded_predictions.detach().numpy())\n",
    "    all_labels.append(batch_labels)\n",
    "    all_probs.append(predictions.detach().numpy())\n"
   ]
  },
  {
   "cell_type": "code",
   "execution_count": 76,
   "id": "cd80f04f",
   "metadata": {},
   "outputs": [
    {
     "data": {
      "text/plain": [
       "21"
      ]
     },
     "execution_count": 76,
     "metadata": {},
     "output_type": "execute_result"
    }
   ],
   "source": [
    "len(all_predictions)"
   ]
  },
  {
   "cell_type": "code",
   "execution_count": 78,
   "id": "2eb88b74",
   "metadata": {},
   "outputs": [
    {
     "data": {
      "text/plain": [
       "99"
      ]
     },
     "execution_count": 78,
     "metadata": {},
     "output_type": "execute_result"
    }
   ],
   "source": [
    "len(all_labels[-1])\n",
    "    "
   ]
  },
  {
   "cell_type": "code",
   "execution_count": 79,
   "id": "f0b4f0ee",
   "metadata": {},
   "outputs": [
    {
     "name": "stdout",
     "output_type": "stream",
     "text": [
      "(128, 83)\n"
     ]
    }
   ],
   "source": [
    "print(all_predictions[0].shape)"
   ]
  },
  {
   "cell_type": "code",
   "execution_count": 80,
   "id": "fe31ad51",
   "metadata": {},
   "outputs": [
    {
     "name": "stdout",
     "output_type": "stream",
     "text": [
      "(128, 83)\n"
     ]
    }
   ],
   "source": [
    "print(all_labels[0].shape)"
   ]
  },
  {
   "cell_type": "code",
   "execution_count": 81,
   "id": "3a17e99d",
   "metadata": {},
   "outputs": [],
   "source": [
    "\n",
    "# Concatenate predictions and labels across all batches\n",
    "all_predictions = np.concatenate(all_predictions)\n",
    "all_labels = np.concatenate(all_labels)\n",
    "all_probs = np.concatenate(all_probs)"
   ]
  },
  {
   "cell_type": "code",
   "execution_count": 82,
   "id": "0fb58693",
   "metadata": {},
   "outputs": [
    {
     "data": {
      "text/plain": [
       "(2659, 83)"
      ]
     },
     "execution_count": 82,
     "metadata": {},
     "output_type": "execute_result"
    }
   ],
   "source": [
    "all_labels.shape"
   ]
  },
  {
   "cell_type": "code",
   "execution_count": 83,
   "id": "87acfdd6",
   "metadata": {},
   "outputs": [
    {
     "name": "stdout",
     "output_type": "stream",
     "text": [
      "AUC for each column:\n",
      "0 :  0.9449853657434091\n",
      "1 :  0.997315356162749\n",
      "2 :  0.9677943339515253\n",
      "3 :  0.9735093410896073\n",
      "4 :  0.9791184361824454\n",
      "5 :  0.9840168646991184\n",
      "6 :  0.9846805275626745\n",
      "7 :  0.9851960784313725\n",
      "8 :  0.9998926791874282\n",
      "9 :  0.9694059026446915\n",
      "10 :  0.9991414706980217\n",
      "11 :  0.9919261822376009\n",
      "12 :  0.9539900344959755\n",
      "13 :  1.0\n",
      "14 :  1.0\n",
      "15 :  1.0\n",
      "16 :  0.9301418167880413\n",
      "17 :  0.9999999999999999\n",
      "18 :  1.0\n",
      "19 :  0.9218188013478211\n",
      "20 :  0.9700114986584898\n",
      "21 :  0.966471781410333\n",
      "22 :  0.9885473361441165\n",
      "23 :  0.9889996167113837\n",
      "24 :  0.9760597930241471\n",
      "25 :  0.970463779225757\n",
      "26 :  0.9805366040628593\n",
      "27 :  0.9998255712541426\n",
      "28 :  1.0\n",
      "29 :  1.0\n",
      "30 :  1.0\n",
      "31 :  0.9996027079426628\n",
      "32 :  1.0\n",
      "33 :  1.0\n",
      "34 :  1.0\n",
      "35 :  0.9912959381044487\n",
      "36 :  1.0\n",
      "37 :  1.0\n",
      "38 :  1.0\n",
      "39 :  1.0\n",
      "40 :  0.9961441165197393\n",
      "41 :  1.0\n",
      "42 :  0.9996473744729781\n",
      "43 :  1.0\n",
      "44 :  0.9960061326178613\n",
      "45 :  1.0\n",
      "46 :  1.0\n",
      "47 :  1.0\n",
      "48 :  1.0\n",
      "49 :  1.0\n",
      "50 :  1.0\n",
      "51 :  1.0\n",
      "52 :  1.0\n",
      "53 :  0.9459710824540837\n",
      "54 :  0.9987747430529121\n",
      "55 :  0.9842674244865672\n",
      "56 :  0.9811892870863288\n",
      "57 :  0.9877930465254348\n",
      "58 :  1.0\n",
      "59 :  0.9931001028106402\n",
      "60 :  0.9634111364536527\n",
      "61 :  0.9150747020312238\n",
      "62 :  0.9975776159448064\n",
      "63 :  0.9991088306778287\n",
      "64 :  1.0\n",
      "65 :  0.9870755078574166\n",
      "66 :  1.0\n",
      "67 :  1.0\n",
      "68 :  1.0\n",
      "69 :  0.9426523572249904\n",
      "70 :  1.0\n",
      "71 :  1.0\n",
      "72 :  0.9915446531238022\n",
      "73 :  0.9931362717838856\n",
      "74 :  1.0\n",
      "75 :  0.9547566117286318\n",
      "76 :  0.9784821770793407\n",
      "77 :  0.9763664239172096\n",
      "78 :  1.0\n",
      "79 :  1.0\n",
      "80 :  1.0\n",
      "81 :  1.0\n",
      "82 :  1.0\n"
     ]
    }
   ],
   "source": [
    "from sklearn import metrics\n",
    "auc_scores = []\n",
    "\n",
    "for i in range(all_labels.shape[1]):  # Iterate over each column\n",
    "    y = all_labels[:, i]\n",
    "    pred_y = all_probs[:, i]\n",
    "\n",
    "    fpr, tpr, thresholds = metrics.roc_curve(y, pred_y)\n",
    "    auc_score = metrics.auc(fpr, tpr)\n",
    "    auc_scores.append(auc_score)\n",
    "\n",
    "print(\"AUC for each column:\")\n",
    "for idx, score in enumerate(auc_scores):\n",
    "    print(idx,\": \", score)"
   ]
  },
  {
   "cell_type": "code",
   "execution_count": 84,
   "id": "8011e0bc",
   "metadata": {},
   "outputs": [
    {
     "name": "stdout",
     "output_type": "stream",
     "text": [
      "0.9879139554396883\n"
     ]
    }
   ],
   "source": [
    "from sklearn import metrics\n",
    "\n",
    "y = all_labels.flatten()\n",
    "pred_y = all_probs.flatten()\n",
    "\n",
    "fpr, tpr, thresholds = metrics.roc_curve(y, pred_y)\n",
    "print(metrics.auc(fpr, tpr))"
   ]
  },
  {
   "cell_type": "code",
   "execution_count": 85,
   "id": "57df9620",
   "metadata": {},
   "outputs": [
    {
     "data": {
      "image/png": "[encoded data removed]",
      "text/plain": [
       "<Figure size 800x600 with 1 Axes>"
      ]
     },
     "metadata": {},
     "output_type": "display_data"
    }
   ],
   "source": [
    "import matplotlib.pyplot as plt\n",
    "\n",
    "plt.figure(figsize=(8, 6))\n",
    "plt.plot(fpr, tpr, color='blue', label='ROC Curve')\n",
    "plt.plot([0, 1], [0, 1], color='red', linestyle='--', label='Random Guess')\n",
    "\n",
    "plt.xlabel('False Positive Rate')\n",
    "plt.ylabel('True Positive Rate')\n",
    "plt.title('Receiver Operating Characteristic (ROC) Curve')\n",
    "plt.legend(loc='lower right')\n",
    "plt.grid(True)\n",
    "plt.show()"
   ]
  },
  {
   "cell_type": "code",
   "execution_count": 86,
   "id": "333465a4",
   "metadata": {},
   "outputs": [
    {
     "name": "stdout",
     "output_type": "stream",
     "text": [
      "Classification report:\n",
      "83\n"
     ]
    }
   ],
   "source": [
    "cl_report = multilabel_confusion_matrix(all_labels, all_predictions)\n",
    "print(\"Classification report:\")\n",
    "print(len(cl_report))"
   ]
  },
  {
   "cell_type": "code",
   "execution_count": 89,
   "id": "b75b6cc9",
   "metadata": {},
   "outputs": [
    {
     "name": "stdout",
     "output_type": "stream",
     "text": [
      "[[2561   48]\n",
      " [   8   42]]\n"
     ]
    }
   ],
   "source": [
    "print(cl_report[23])"
   ]
  },
  {
   "cell_type": "code",
   "execution_count": 90,
   "id": "6bb7d197",
   "metadata": {},
   "outputs": [],
   "source": [
    "from sklearn.metrics import classification_report\n",
    "\n",
    "report = classification_report(all_labels, all_predictions, zero_division=np.nan)"
   ]
  },
  {
   "cell_type": "code",
   "execution_count": 91,
   "id": "ecbf3a5c",
   "metadata": {},
   "outputs": [
    {
     "data": {
      "text/plain": [
       "array([173., 140., 129., 117.,  51.,  81.,  75.,  73.,  43.,  40.,  97.,\n",
       "        60.,  39.,  18.,  21.,  68.,  41.,  21.,  28.,  61.,  89., 122.,\n",
       "       143.,  90., 121., 106., 105.,  15.,   6.,  49.,  18.,  58.,  18.,\n",
       "        81.,   4.,  75.,  12.,  29.,   2.,   3.,  35.,   5.,  50.,  56.,\n",
       "        56.,  77.,  18.,   9.,   1.,   7.,  18.,  17.,   3.,  66.,  66.,\n",
       "       142.,  51.,  84.,  52.,  42., 108.,  66.,  76.,  29.,  29.,  52.,\n",
       "        10.,  10.,   9.,  30.,   3.,  27.,  42., 142.,   1.,  29.,  44.,\n",
       "        47.,  33.,  20.,   5.,   7.,   2.], dtype=float32)"
      ]
     },
     "execution_count": 91,
     "metadata": {},
     "output_type": "execute_result"
    }
   ],
   "source": [
    "all_predictions.sum(axis=0)"
   ]
  },
  {
   "cell_type": "code",
   "execution_count": 92,
   "id": "692d99ea",
   "metadata": {},
   "outputs": [
    {
     "name": "stdout",
     "output_type": "stream",
     "text": [
      "              precision    recall  f1-score   support\n",
      "\n",
      "           0       0.98      0.43      0.60       390\n",
      "           1       0.40      0.97      0.57        58\n",
      "           2       0.72      0.49      0.58       190\n",
      "           3       0.64      0.71      0.68       105\n",
      "           4       0.71      0.72      0.71        50\n",
      "           5       0.52      0.84      0.64        50\n",
      "           6       1.00      0.85      0.92        88\n",
      "           7       0.97      0.95      0.96        75\n",
      "           8       1.00      0.86      0.92        50\n",
      "           9       1.00      0.80      0.89        50\n",
      "          10       0.96      0.99      0.97        94\n",
      "          11       0.87      0.90      0.88        58\n",
      "          12       0.82      0.64      0.72        50\n",
      "          13       0.28      1.00      0.43         5\n",
      "          14       0.43      1.00      0.60         9\n",
      "          15       0.97      1.00      0.99        66\n",
      "          16       0.90      0.74      0.81        50\n",
      "          17       1.00      1.00      1.00        21\n",
      "          18       0.96      1.00      0.98        27\n",
      "          19       0.66      0.66      0.66        61\n",
      "          20       0.45      0.80      0.58        50\n",
      "          21       0.43      0.90      0.58        58\n",
      "          22       0.34      0.96      0.50        50\n",
      "          23       0.47      0.84      0.60        50\n",
      "          24       0.31      0.74      0.43        50\n",
      "          25       0.38      0.80      0.51        50\n",
      "          26       0.42      0.88      0.57        50\n",
      "          27       0.87      1.00      0.93        13\n",
      "          28       1.00      1.00      1.00         6\n",
      "          29       1.00      0.98      0.99        50\n",
      "          30       0.78      1.00      0.88        14\n",
      "          31       1.00      0.79      0.89        73\n",
      "          32       0.89      1.00      0.94        16\n",
      "          33       0.95      1.00      0.97        77\n",
      "          34       1.00      1.00      1.00         4\n",
      "          35       0.73      0.74      0.74        74\n",
      "          36       0.50      1.00      0.67         6\n",
      "          37       0.79      1.00      0.88        23\n",
      "          38       1.00      1.00      1.00         2\n",
      "          39       0.67      1.00      0.80         2\n",
      "          40       0.97      0.68      0.80        50\n",
      "          41       0.80      1.00      0.89         4\n",
      "          42       0.96      0.96      0.96        50\n",
      "          43       0.55      1.00      0.71        31\n",
      "          44       0.77      0.86      0.81        50\n",
      "          45       0.14      1.00      0.25        11\n",
      "          46       0.56      1.00      0.71        10\n",
      "          47       0.44      1.00      0.62         4\n",
      "          48       1.00      1.00      1.00         1\n",
      "          49       0.57      1.00      0.73         4\n",
      "          50       0.67      1.00      0.80        12\n",
      "          51       0.94      1.00      0.97        16\n",
      "          52       1.00      1.00      1.00         3\n",
      "          53       0.82      0.54      0.65       100\n",
      "          54       0.47      0.97      0.63        32\n",
      "          55       0.67      0.89      0.76       107\n",
      "          56       0.84      0.77      0.80        56\n",
      "          57       0.52      0.83      0.64        53\n",
      "          58       0.96      1.00      0.98        50\n",
      "          59       1.00      0.79      0.88        53\n",
      "          60       0.99      0.60      0.75       177\n",
      "          61       0.35      0.33      0.34        69\n",
      "          62       0.63      0.96      0.76        50\n",
      "          63       0.48      1.00      0.65        14\n",
      "          64       0.48      1.00      0.65        14\n",
      "          65       0.77      0.80      0.78        50\n",
      "          66       1.00      1.00      1.00        10\n",
      "          67       1.00      1.00      1.00        10\n",
      "          68       1.00      1.00      1.00         9\n",
      "          69       1.00      0.60      0.75        50\n",
      "          70       1.00      1.00      1.00         3\n",
      "          71       1.00      1.00      1.00        27\n",
      "          72       0.88      0.74      0.80        50\n",
      "          73       0.67      0.92      0.78       103\n",
      "          74       1.00      1.00      1.00         1\n",
      "          75       1.00      0.58      0.73        50\n",
      "          76       0.91      0.80      0.85        50\n",
      "          77       0.74      0.70      0.72        50\n",
      "          78       0.48      1.00      0.65        16\n",
      "          79       0.45      1.00      0.62         9\n",
      "          80       0.80      1.00      0.89         4\n",
      "          81       1.00      1.00      1.00         7\n",
      "          82       0.50      1.00      0.67         1\n",
      "\n",
      "   micro avg       0.69      0.77      0.73      3786\n",
      "   macro avg       0.75      0.88      0.78      3786\n",
      "weighted avg       0.79      0.77      0.74      3786\n",
      " samples avg       0.79      0.78      0.70      3786\n",
      "\n"
     ]
    }
   ],
   "source": [
    "print(report)"
   ]
  },
  {
   "cell_type": "code",
   "execution_count": 93,
   "id": "43a64d4f",
   "metadata": {},
   "outputs": [
    {
     "data": {
      "text/plain": [
       "'IPR010173'"
      ]
     },
     "execution_count": 93,
     "metadata": {},
     "output_type": "execute_result"
    }
   ],
   "source": [
    "list(enc.classes_)[15]"
   ]
  },
  {
   "cell_type": "code",
   "execution_count": null,
   "id": "7e153aae",
   "metadata": {
    "scrolled": false
   },
   "outputs": [],
   "source": [
    "from sklearn.metrics import precision_recall_curve, average_precision_score, roc_curve, roc_auc_score\n",
    "import matplotlib.pyplot as plt\n",
    "num_classes = 83\n",
    "# Compute precision, recall, and thresholds for each class\n",
    "precision = dict()\n",
    "recall = dict()\n",
    "thresholds = dict()\n",
    "average_precision = dict()\n",
    "\n",
    "for i in range(num_classes):  # num_classes is the number of classes\n",
    "    precision[i], recall[i], thresholds[i] = precision_recall_curve(all_labels[:, i], all_predictions[:, i])\n",
    "    average_precision[i] = average_precision_score(all_labels[:, i], all_predictions[:, i])\n",
    "\n",
    "# Compute micro-average precision-recall curve and AUC\n",
    "precision[\"micro\"], recall[\"micro\"], _ = precision_recall_curve(all_labels.ravel(), all_predictions.ravel())\n",
    "average_precision[\"micro\"] = average_precision_score(all_labels, all_predictions, average=\"micro\")\n",
    "\n",
    "# Compute ROC curve and AUC\n",
    "fpr = dict()\n",
    "tpr = dict()\n",
    "roc_auc = dict()\n",
    "\n",
    "for i in range(num_classes):\n",
    "    fpr[i], tpr[i], _ = roc_curve(all_labels[:, i], all_predictions[:, i])\n",
    "    roc_auc[i] = roc_auc_score(all_labels[:, i], all_predictions[:, i])\n",
    "\n",
    "# Compute micro-average ROC curve and AUC\n",
    "fpr[\"micro\"], tpr[\"micro\"], _ = roc_curve(all_labels.ravel(), all_predictions.ravel())\n",
    "roc_auc[\"micro\"] = roc_auc_score(all_labels, all_predictions, average=\"micro\")\n",
    "\n",
    "# Split classes into groups of 10\n",
    "class_groups = [list(range(i, min(i + 10, num_classes))) for i in range(0, num_classes, 10)]\n",
    "\n",
    "# Plot Precision-Recall and ROC curves for each group\n",
    "for group in class_groups:\n",
    "    plt.figure(figsize=(12, 6))\n",
    "\n",
    "    # Plot Precision-Recall curve\n",
    "    plt.subplot(1, 2, 1)\n",
    "    plt.step(recall['micro'], precision['micro'], where='post', label='Micro-average Precision-Recall curve (AUPR = {0:0.2f})'\n",
    "                 ''.format(average_precision[\"micro\"]))\n",
    "    for i in group:\n",
    "        plt.step(recall[i], precision[i], where='post', label='Precision-recall curve of class {0} (AUPR = {1:0.2f})'\n",
    "                 ''.format(i, average_precision[i]))\n",
    "\n",
    "    plt.xlabel('Recall')\n",
    "    plt.ylabel('Precision')\n",
    "    plt.ylim([0.0, 1.05])\n",
    "    plt.xlim([0.0, 1.0])\n",
    "    plt.title('Precision-Recall curve (Classes {})'.format(group))\n",
    "    plt.legend(loc=\"best\")\n",
    "\n",
    "    # Plot ROC curve\n",
    "    plt.subplot(1, 2, 2)\n",
    "    plt.plot(fpr['micro'], tpr['micro'], label='Micro-average ROC curve (AUC = {0:0.2f})'\n",
    "                 ''.format(roc_auc[\"micro\"]))\n",
    "    for i in group:\n",
    "        plt.plot(fpr[i], tpr[i], label='ROC curve of class {0} (AUC = {1:0.2f})'\n",
    "                 ''.format(i, roc_auc[i]))\n",
    "\n",
    "    plt.plot([0, 1], [0, 1], 'k--')\n",
    "    plt.xlim([0.0, 1.0])\n",
    "    plt.ylim([0.0, 1.05])\n",
    "    plt.xlabel('False Positive Rate')\n",
    "    plt.ylabel('True Positive Rate')\n",
    "    plt.title('ROC curve (Classes {})'.format(group))\n",
    "    plt.legend(loc=\"best\")\n",
    "\n",
    "    plt.tight_layout()\n",
    "    plt.show()\n"
   ]
  },
  {
   "cell_type": "code",
   "execution_count": null,
   "id": "d890b37c",
   "metadata": {},
   "outputs": [],
   "source": []
  },
  {
   "cell_type": "code",
   "execution_count": 1,
   "id": "b446c428",
   "metadata": {},
   "outputs": [
    {
     "name": "stdout",
     "output_type": "stream",
     "text": [
      "The nltk version is 3.5.\n",
      "The scikit-learn version is 1.4.1.post1.\n"
     ]
    }
   ],
   "source": [
    "import nltk\n",
    "import sklearn\n",
    "\n",
    "print('The nltk version is {}.'.format(nltk.__version__))\n",
    "print('The scikit-learn version is {}.'.format(sklearn.__version__))"
   ]
  },
  {
   "cell_type": "code",
   "execution_count": null,
   "id": "357cbbdf",
   "metadata": {},
   "outputs": [],
   "source": []
  }
 ],
 "metadata": {
  "kernelspec": {
   "display_name": "Python 3 (ipykernel)",
   "language": "python",
   "name": "python3"
  },
  "language_info": {
   "codemirror_mode": {
    "name": "ipython",
    "version": 3
   },
   "file_extension": ".py",
   "mimetype": "text/x-python",
   "name": "python",
   "nbconvert_exporter": "python",
   "pygments_lexer": "ipython3",
   "version": "3.9.13"
  }
 },
 "nbformat": 4,
 "nbformat_minor": 5
}
