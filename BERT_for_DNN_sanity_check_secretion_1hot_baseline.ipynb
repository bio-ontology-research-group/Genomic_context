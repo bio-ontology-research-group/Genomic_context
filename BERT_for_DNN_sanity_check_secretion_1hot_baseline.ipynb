{
 "cells": [
  {
   "cell_type": "code",
   "execution_count": 1,
   "id": "c622ad12",
   "metadata": {},
   "outputs": [
    {
     "name": "stdout",
     "output_type": "stream",
     "text": [
      "Free CPU Memory: 670.05 GB\n"
     ]
    }
   ],
   "source": [
    "import psutil\n",
    "\n",
    "def get_free_memory():\n",
    "    memory = psutil.virtual_memory()\n",
    "    return memory.available / (1024.0 ** 3)  # Convert bytes to gigabytes\n",
    "\n",
    "print(f\"Free CPU Memory: {get_free_memory():.2f} GB\")"
   ]
  },
  {
   "cell_type": "code",
   "execution_count": 2,
   "id": "abdd98ad",
   "metadata": {},
   "outputs": [],
   "source": [
    "import torch\n",
    "torch.backends.cuda.matmul.allow_tf32 = True\n",
    "from datasets import Dataset\n",
    "import os"
   ]
  },
  {
   "cell_type": "code",
   "execution_count": 3,
   "id": "4afee737",
   "metadata": {},
   "outputs": [],
   "source": [
    "from tokenizers import Tokenizer\n",
    "from tokenizers.models import WordLevel\n",
    "from tokenizers.pre_tokenizers import WhitespaceSplit\n",
    "\n",
    "tokenizer = Tokenizer(WordLevel(unk_token=\"[UNK]\"))\n",
    "tokenizer.pre_tokenizer = WhitespaceSplit()"
   ]
  },
  {
   "cell_type": "code",
   "execution_count": 4,
   "id": "d69a29ad",
   "metadata": {},
   "outputs": [],
   "source": [
    "tokenizer_path = \"WordLevel_tokenizer_trained_InterPro.json\"\n",
    "tokenizer = tokenizer.from_file(tokenizer_path)\n",
    "tokenizer.enable_truncation(512)"
   ]
  },
  {
   "cell_type": "code",
   "execution_count": 5,
   "id": "0bef36e5",
   "metadata": {},
   "outputs": [
    {
     "data": {
      "text/plain": [
       "544998"
      ]
     },
     "execution_count": 5,
     "metadata": {},
     "output_type": "execute_result"
    }
   ],
   "source": [
    "tokenizer.get_vocab_size()\n"
   ]
  },
  {
   "cell_type": "code",
   "execution_count": 6,
   "id": "242995ca",
   "metadata": {},
   "outputs": [
    {
     "data": {
      "text/plain": [
       "[1, 2966, 754, 2545, 196, 9231, 2817, 7418, 2526, 2]"
      ]
     },
     "execution_count": 6,
     "metadata": {},
     "output_type": "execute_result"
    }
   ],
   "source": [
    "test = tokenizer.encode(\"WP_265490204 WP_206642677 WP_053312998 WP_251959347 WP_000076573 WP_227526754 WP_218401808 WP_106925592\")\n",
    "test.ids"
   ]
  },
  {
   "cell_type": "code",
   "execution_count": 9,
   "id": "2a5c8709",
   "metadata": {},
   "outputs": [
    {
     "name": "stdout",
     "output_type": "stream",
     "text": [
      "secretion_IP.tsv\n"
     ]
    }
   ],
   "source": [
    "import csv\n",
    "\n",
    "defense_ips = []\n",
    "directory = \"/home/toibazd/Secretion_InterPros/\"\n",
    "file_list = os.listdir(directory)\n",
    "\n",
    "for file in file_list:\n",
    "    print(file)\n",
    "    file_path = os.path.join(directory, file)\n",
    "    with open(file_path, 'r', newline='') as infile:\n",
    "        reader = csv.reader(infile, delimiter = \"\\t\")\n",
    "        next(reader)\n",
    "        for row in reader:\n",
    "            ip = row[0]\n",
    "            defense_ips.append(ip)"
   ]
  },
  {
   "cell_type": "code",
   "execution_count": 10,
   "id": "679dec11",
   "metadata": {},
   "outputs": [
    {
     "name": "stdout",
     "output_type": "stream",
     "text": [
      "Secretion IPs number:  164\n"
     ]
    }
   ],
   "source": [
    "print(\"Secretion IPs number: \", len(defense_ips))"
   ]
  },
  {
   "cell_type": "code",
   "execution_count": 11,
   "id": "07ba9843",
   "metadata": {},
   "outputs": [
    {
     "data": {
      "application/json": {
       "ascii": false,
       "bar_format": null,
       "colour": null,
       "elapsed": 0.005489349365234375,
       "initial": 0,
       "n": 0,
       "ncols": null,
       "nrows": null,
       "postfix": null,
       "prefix": "",
       "rate": null,
       "total": null,
       "unit": "it",
       "unit_divisor": 1000,
       "unit_scale": false
      },
      "application/vnd.jupyter.widget-view+json": {
       "model_id": "cf5664c008c543d892ebb37230588861",
       "version_major": 2,
       "version_minor": 0
      },
      "text/plain": [
       "0it [00:00, ?it/s]"
      ]
     },
     "metadata": {},
     "output_type": "display_data"
    }
   ],
   "source": [
    "from collections import defaultdict\n",
    "import csv\n",
    "from tqdm.auto import tqdm\n",
    "import numpy as np\n",
    "\n",
    "data_dict = defaultdict(list)\n",
    "\n",
    "with open(\"/home/toibazd/Prot2IP.tsv\", \"r\") as tsvfile:\n",
    "    reader = csv.reader(tsvfile, delimiter = \"\\t\")\n",
    "    for row in tqdm(reader):\n",
    "        key = row[0].split(\"prot_\")[1].split(\".\")[0]\n",
    "        iprs = eval(row[1])\n",
    "\n",
    "        # Save only if there are filtered InterPro IDs\n",
    "        for ip in iprs:\n",
    "            if ip in defense_ips:\n",
    "                data_dict[key].append(ip)\n"
   ]
  },
  {
   "cell_type": "code",
   "execution_count": 12,
   "id": "334d007d",
   "metadata": {},
   "outputs": [],
   "source": [
    "unique_defense = set()\n",
    "\n",
    "# Iterate through each value list in the dictionary and add its elements to the set\n",
    "for value_list in data_dict.values():\n",
    "    unique_defense.update(value_list)\n",
    "\n",
    "# Convert the set to a list if needed\n",
    "unique_defense = list(unique_defense)"
   ]
  },
  {
   "cell_type": "code",
   "execution_count": 13,
   "id": "88b651fe",
   "metadata": {},
   "outputs": [
    {
     "data": {
      "text/plain": [
       "156"
      ]
     },
     "execution_count": 13,
     "metadata": {},
     "output_type": "execute_result"
    }
   ],
   "source": [
    "len(unique_defense)"
   ]
  },
  {
   "cell_type": "code",
   "execution_count": 14,
   "id": "83f471e9",
   "metadata": {},
   "outputs": [
    {
     "name": "stdout",
     "output_type": "stream",
     "text": [
      "4161\n"
     ]
    }
   ],
   "source": [
    "from sklearn.preprocessing import MultiLabelBinarizer\n",
    "enc = MultiLabelBinarizer()\n",
    "one_hot_encoded = enc.fit_transform(data_dict.values())\n",
    "one_hot_encoded_dict = {key: value for key, value in zip(data_dict.keys(), one_hot_encoded)}\n",
    "\n",
    "print(len(one_hot_encoded_dict.keys()))"
   ]
  },
  {
   "cell_type": "code",
   "execution_count": 15,
   "id": "e7464990",
   "metadata": {},
   "outputs": [
    {
     "data": {
      "text/plain": [
       "(4161, 156)"
      ]
     },
     "execution_count": 15,
     "metadata": {},
     "output_type": "execute_result"
    }
   ],
   "source": [
    "one_hot_encoded.shape"
   ]
  },
  {
   "cell_type": "code",
   "execution_count": 16,
   "id": "a51e75ba",
   "metadata": {},
   "outputs": [
    {
     "name": "stderr",
     "output_type": "stream",
     "text": [
      " 29%|██▉       | 46/156 [16:56<40:31, 22.10s/it]\n"
     ]
    },
    {
     "ename": "KeyboardInterrupt",
     "evalue": "",
     "output_type": "error",
     "traceback": [
      "\u001b[0;31m---------------------------------------------------------------------------\u001b[0m",
      "\u001b[0;31mKeyboardInterrupt\u001b[0m                         Traceback (most recent call last)",
      "Cell \u001b[0;32mIn[16], line 52\u001b[0m\n\u001b[1;32m     50\u001b[0m         sentences_count \u001b[38;5;241m+\u001b[39m\u001b[38;5;241m=\u001b[39m \u001b[38;5;28mlen\u001b[39m(sentences)\n\u001b[1;32m     51\u001b[0m         \u001b[38;5;28;01mif\u001b[39;00m sentences_count \u001b[38;5;241m>\u001b[39m\u001b[38;5;241m=\u001b[39m sentences_per_IP:\n\u001b[0;32m---> 52\u001b[0m             \u001b[38;5;28;01mbreak\u001b[39;00m\n\u001b[1;32m     54\u001b[0m \u001b[38;5;66;03m# Break if the required number of sentences per key is reached\u001b[39;00m\n",
      "File \u001b[0;32m~/miniconda3/lib/python3.9/concurrent/futures/_base.py:637\u001b[0m, in \u001b[0;36mExecutor.__exit__\u001b[0;34m(self, exc_type, exc_val, exc_tb)\u001b[0m\n\u001b[1;32m    636\u001b[0m \u001b[38;5;28;01mdef\u001b[39;00m \u001b[38;5;21m__exit__\u001b[39m(\u001b[38;5;28mself\u001b[39m, exc_type, exc_val, exc_tb):\n\u001b[0;32m--> 637\u001b[0m     \u001b[38;5;28;43mself\u001b[39;49m\u001b[38;5;241;43m.\u001b[39;49m\u001b[43mshutdown\u001b[49m\u001b[43m(\u001b[49m\u001b[43mwait\u001b[49m\u001b[38;5;241;43m=\u001b[39;49m\u001b[38;5;28;43;01mTrue\u001b[39;49;00m\u001b[43m)\u001b[49m\n\u001b[1;32m    638\u001b[0m     \u001b[38;5;28;01mreturn\u001b[39;00m \u001b[38;5;28;01mFalse\u001b[39;00m\n",
      "File \u001b[0;32m~/miniconda3/lib/python3.9/concurrent/futures/thread.py:235\u001b[0m, in \u001b[0;36mThreadPoolExecutor.shutdown\u001b[0;34m(self, wait, cancel_futures)\u001b[0m\n\u001b[1;32m    233\u001b[0m \u001b[38;5;28;01mif\u001b[39;00m wait:\n\u001b[1;32m    234\u001b[0m     \u001b[38;5;28;01mfor\u001b[39;00m t \u001b[38;5;129;01min\u001b[39;00m \u001b[38;5;28mself\u001b[39m\u001b[38;5;241m.\u001b[39m_threads:\n\u001b[0;32m--> 235\u001b[0m         \u001b[43mt\u001b[49m\u001b[38;5;241;43m.\u001b[39;49m\u001b[43mjoin\u001b[49m\u001b[43m(\u001b[49m\u001b[43m)\u001b[49m\n",
      "File \u001b[0;32m~/miniconda3/lib/python3.9/threading.py:1060\u001b[0m, in \u001b[0;36mThread.join\u001b[0;34m(self, timeout)\u001b[0m\n\u001b[1;32m   1057\u001b[0m     \u001b[38;5;28;01mraise\u001b[39;00m \u001b[38;5;167;01mRuntimeError\u001b[39;00m(\u001b[38;5;124m\"\u001b[39m\u001b[38;5;124mcannot join current thread\u001b[39m\u001b[38;5;124m\"\u001b[39m)\n\u001b[1;32m   1059\u001b[0m \u001b[38;5;28;01mif\u001b[39;00m timeout \u001b[38;5;129;01mis\u001b[39;00m \u001b[38;5;28;01mNone\u001b[39;00m:\n\u001b[0;32m-> 1060\u001b[0m     \u001b[38;5;28;43mself\u001b[39;49m\u001b[38;5;241;43m.\u001b[39;49m\u001b[43m_wait_for_tstate_lock\u001b[49m\u001b[43m(\u001b[49m\u001b[43m)\u001b[49m\n\u001b[1;32m   1061\u001b[0m \u001b[38;5;28;01melse\u001b[39;00m:\n\u001b[1;32m   1062\u001b[0m     \u001b[38;5;66;03m# the behavior of a negative timeout isn't documented, but\u001b[39;00m\n\u001b[1;32m   1063\u001b[0m     \u001b[38;5;66;03m# historically .join(timeout=x) for x<0 has acted as if timeout=0\u001b[39;00m\n\u001b[1;32m   1064\u001b[0m     \u001b[38;5;28mself\u001b[39m\u001b[38;5;241m.\u001b[39m_wait_for_tstate_lock(timeout\u001b[38;5;241m=\u001b[39m\u001b[38;5;28mmax\u001b[39m(timeout, \u001b[38;5;241m0\u001b[39m))\n",
      "File \u001b[0;32m~/miniconda3/lib/python3.9/threading.py:1080\u001b[0m, in \u001b[0;36mThread._wait_for_tstate_lock\u001b[0;34m(self, block, timeout)\u001b[0m\n\u001b[1;32m   1077\u001b[0m     \u001b[38;5;28;01mreturn\u001b[39;00m\n\u001b[1;32m   1079\u001b[0m \u001b[38;5;28;01mtry\u001b[39;00m:\n\u001b[0;32m-> 1080\u001b[0m     \u001b[38;5;28;01mif\u001b[39;00m \u001b[43mlock\u001b[49m\u001b[38;5;241;43m.\u001b[39;49m\u001b[43macquire\u001b[49m\u001b[43m(\u001b[49m\u001b[43mblock\u001b[49m\u001b[43m,\u001b[49m\u001b[43m \u001b[49m\u001b[43mtimeout\u001b[49m\u001b[43m)\u001b[49m:\n\u001b[1;32m   1081\u001b[0m         lock\u001b[38;5;241m.\u001b[39mrelease()\n\u001b[1;32m   1082\u001b[0m         \u001b[38;5;28mself\u001b[39m\u001b[38;5;241m.\u001b[39m_stop()\n",
      "\u001b[0;31mKeyboardInterrupt\u001b[0m: "
     ]
    }
   ],
   "source": [
    "import os\n",
    "import random\n",
    "from tqdm import tqdm\n",
    "from concurrent.futures import ThreadPoolExecutor\n",
    "\n",
    "directory = '/ibex/user/toibazd/InterPro/'\n",
    "one_hot_encoded_sentences = {}\n",
    "\n",
    "sentence_length = 9\n",
    "sentences_per_IP = 200\n",
    "\n",
    "# Set random seed for reproducibility\n",
    "random.seed(42)\n",
    "\n",
    "# Randomly choose 1000 files with seed 42\n",
    "selected_files = os.listdir(directory)\n",
    "\n",
    "\n",
    "# Define a function to process a file\n",
    "def process_file(filename, IP):\n",
    "    sentences = []\n",
    "\n",
    "    filepath = os.path.join(directory, filename)\n",
    "\n",
    "    with open(filepath, 'r') as file:\n",
    "        content = file.read()\n",
    "        words = content.strip().split()\n",
    "\n",
    "        # Check if the key is in the file\n",
    "        for i in range(4, len(words)-4):\n",
    "            # Shuffle the indices of the words containing the key\n",
    "            if IP in data_dict[words[i]]:\n",
    "                if len(words) - i >= 4:\n",
    "                    sentence = \" \".join(words[i -4:i + sentence_length - 4])\n",
    "                    sentences.append(sentence)\n",
    "    return sentences\n",
    "\n",
    "\n",
    "# Iterate over keys\n",
    "for IP in tqdm(unique_defense):\n",
    "    one_hot_encoded_sentences[IP] = []\n",
    "    sentences_count = 0\n",
    "\n",
    "    # Use ThreadPoolExecutor for concurrent processing\n",
    "    with ThreadPoolExecutor(max_workers=4) as executor:\n",
    "        futures = [executor.submit(process_file, filename, IP) for filename in selected_files]\n",
    "        for future in futures:\n",
    "            sentences = future.result()\n",
    "            one_hot_encoded_sentences[IP].extend(sentences)\n",
    "            sentences_count += len(sentences)\n",
    "            if sentences_count >= sentences_per_IP:\n",
    "                break\n",
    "\n",
    "    # Break if the required number of sentences per key is reached\n"
   ]
  },
  {
   "cell_type": "code",
   "execution_count": null,
   "id": "a55b4b4d",
   "metadata": {},
   "outputs": [],
   "source": [
    "import json\n",
    "\n",
    "with open('BERT_sanity_check_secretion_DNN_senteces.json', 'w') as f:\n",
    "    json.dump(one_hot_encoded_sentences, f)"
   ]
  },
  {
   "cell_type": "code",
   "execution_count": null,
   "id": "eeeb70ec",
   "metadata": {},
   "outputs": [],
   "source": [
    "import json\n",
    "with open('BERT_sanity_check_secretion_DNN_senteces.json', \"r\") as f:\n",
    "    one_hot_encoded_sentences = json.load(f)\n",
    "    \n",
    "    \n",
    "with open('BERT_sanity_check_secretion_DNN_senteces_testing.json', \"r\") as f:\n",
    "    test_sentences = json.load(f)"
   ]
  },
  {
   "cell_type": "code",
   "execution_count": 18,
   "id": "b1149a6a",
   "metadata": {},
   "outputs": [
    {
     "name": "stdout",
     "output_type": "stream",
     "text": [
      "IPR010263 100\n",
      "IPR048130 101\n",
      "IPR006533 102\n",
      "IPR032389 100\n",
      "IPR025955 100\n",
      "IPR012842 100\n",
      "IPR001639 100\n",
      "IPR018920 100\n",
      "IPR017847 102\n",
      "IPR009371 100\n",
      "IPR035576 100\n",
      "IPR013391 100\n",
      "IPR002010 102\n",
      "IPR010586 100\n",
      "IPR017737 100\n",
      "IPR039366 100\n",
      "IPR003895 100\n",
      "IPR010130 101\n",
      "IPR034026 100\n",
      "IPR027282 100\n",
      "IPR009211 100\n",
      "IPR047659 90\n",
      "IPR009863 100\n",
      "IPR003283 100\n",
      "IPR013369 100\n",
      "IPR009929 100\n",
      "IPR021545 100\n",
      "IPR005714 100\n",
      "IPR008312 102\n",
      "IPR034756 100\n",
      "IPR011850 100\n",
      "IPR031758 101\n",
      "IPR025292 100\n",
      "IPR008514 100\n",
      "IPR023835 100\n",
      "IPR010290 100\n",
      "IPR021368 100\n",
      "IPR027628 100\n",
      "IPR022250 100\n",
      "IPR023834 103\n",
      "IPR005696 100\n",
      "IPR049928 100\n",
      "IPR022792 100\n",
      "IPR047695 100\n",
      "IPR004683 100\n",
      "IPR010128 103\n",
      "IPR010129 101\n",
      "IPR026264 100\n",
      "IPR023787 100\n",
      "IPR017739 100\n",
      "IPR019861 110\n",
      "IPR011841 100\n",
      "IPR017740 100\n",
      "IPR018893 100\n",
      "IPR007606 104\n",
      "IPR006304 101\n",
      "IPR017738 100\n",
      "IPR013363 100\n",
      "IPR049875 100\n",
      "IPR049801 16\n",
      "IPR013365 100\n",
      "IPR005838 101\n",
      "IPR005415 100\n",
      "IPR010132 100\n",
      "IPR043993 101\n",
      "IPR017750 100\n",
      "IPR017735 100\n",
      "IPR021055 100\n",
      "IPR005628 100\n",
      "IPR013388 100\n",
      "IPR017033 100\n",
      "IPR007812 100\n",
      "IPR012672 100\n",
      "IPR035177 100\n",
      "IPR032681 100\n",
      "IPR013380 100\n",
      "IPR009483 100\n",
      "IPR017734 100\n",
      "IPR009335 100\n",
      "IPR010272 100\n",
      "IPR047799 100\n",
      "IPR005773 101\n",
      "IPR004355 100\n",
      "IPR005416 100\n",
      "IPR010052 100\n",
      "IPR006307 100\n",
      "IPR010269 100\n",
      "IPR007795 101\n",
      "IPR010054 100\n",
      "IPR048928 17\n",
      "IPR022275 21\n",
      "IPR009510 100\n",
      "IPR003282 100\n",
      "IPR012843 100\n",
      "IPR006135 101\n",
      "IPR010310 111\n",
      "IPR010055 100\n",
      "IPR032032 100\n",
      "IPR022073 102\n",
      "IPR005498 100\n",
      "IPR013349 100\n",
      "IPR030925 81\n",
      "IPR018581 64\n",
      "IPR021477 100\n",
      "IPR012670 100\n",
      "IPR007039 100\n",
      "IPR022797 100\n",
      "IPR013095 100\n",
      "IPR021123 100\n",
      "IPR039449 101\n",
      "IPR013392 100\n",
      "IPR006302 100\n",
      "IPR003522 100\n",
      "IPR013356 100\n",
      "IPR002416 100\n",
      "IPR004357 100\n",
      "IPR017731 100\n",
      "IPR016379 100\n",
      "IPR007690 100\n",
      "IPR012673 100\n",
      "IPR006707 101\n",
      "IPR006306 100\n",
      "IPR009502 100\n",
      "IPR001712 101\n",
      "IPR007792 100\n",
      "IPR016502 100\n",
      "IPR014117 100\n",
      "IPR022536 101\n",
      "IPR003537 100\n",
      "IPR023840 100\n",
      "IPR014155 100\n",
      "IPR018778 100\n",
      "IPR013394 100\n",
      "IPR019029 100\n",
      "IPR049848 100\n",
      "IPR013405 100\n",
      "IPR013390 100\n",
      "IPR001172 100\n",
      "IPR010732 100\n",
      "IPR013348 100\n",
      "IPR016684 100\n",
      "IPR030924 62\n",
      "IPR010437 100\n",
      "IPR003688 100\n",
      "IPR000983 100\n",
      "IPR014158 100\n",
      "IPR031682 100\n",
      "IPR048018 100\n",
      "IPR013393 100\n",
      "IPR013385 100\n",
      "IPR013387 100\n",
      "IPR014575 100\n",
      "IPR013353 100\n",
      "IPR025562 100\n",
      "IPR048081 100\n",
      "IPR030927 64\n"
     ]
    }
   ],
   "source": [
    "for key, value in one_hot_encoded_sentences.items():\n",
    "    print(key, end=\" \")\n",
    "    print(len(value))"
   ]
  },
  {
   "cell_type": "code",
   "execution_count": 19,
   "id": "deeb72f6",
   "metadata": {},
   "outputs": [
    {
     "name": "stdout",
     "output_type": "stream",
     "text": [
      "Len of one_hot_encoded sentences items  156\n",
      "Len of one_hot_encoded_sentences values  156\n",
      "Len of all sentences in matching strings:  15270\n"
     ]
    }
   ],
   "source": [
    "one_hot_encoded_sentences = {key: value for key, value in one_hot_encoded_sentences.items() if value}\n",
    "print(\"Len of one_hot_encoded sentences items \",len(one_hot_encoded_sentences))\n",
    "\n",
    "matching_string = one_hot_encoded_sentences.values()\n",
    "print(\"Len of one_hot_encoded_sentences values \", len(matching_string))\n",
    "\n",
    "matching_string = [item for sublist in matching_string for item in sublist]\n",
    "print(\"Len of all sentences in matching strings: \", len(matching_string))\n",
    "\n",
    "train_words_list = [sentence.split() for sentence in matching_string]"
   ]
  },
  {
   "cell_type": "code",
   "execution_count": 20,
   "id": "f9c37c0a",
   "metadata": {},
   "outputs": [
    {
     "name": "stdout",
     "output_type": "stream",
     "text": [
      "Len of test sentences items 156\n",
      "Len of test sentences values 156\n",
      "Len of test sentences in matching strings:  7260\n"
     ]
    }
   ],
   "source": [
    "test_sentences = {key: value for key, value in test_sentences.items() if value}\n",
    "print(\"Len of test sentences items\", len(test_sentences))\n",
    "test_matching_string = test_sentences.values()\n",
    "print(\"Len of test sentences values\", len(test_matching_string))\n",
    "test_matching_string = [item for sublist in test_matching_string for item in sublist]\n",
    "print(\"Len of test sentences in matching strings: \", len(test_matching_string))\n"
   ]
  },
  {
   "cell_type": "code",
   "execution_count": 21,
   "id": "5709f478",
   "metadata": {},
   "outputs": [],
   "source": [
    "\n",
    "test_words_list = [sentence.split() for sentence in test_matching_string]\n",
    "\n",
    "fit_word_list = train_words_list+test_words_list"
   ]
  },
  {
   "cell_type": "code",
   "execution_count": 22,
   "id": "2c1c4fb7",
   "metadata": {},
   "outputs": [
    {
     "name": "stdout",
     "output_type": "stream",
     "text": [
      "15270\n"
     ]
    }
   ],
   "source": [
    "count= 0\n",
    "for string in train_words_list:\n",
    "    if not string[19] in data_dict.keys():\n",
    "        print(\"False\")\n",
    "    else:\n",
    "        count+=1\n",
    "print(count)"
   ]
  },
  {
   "cell_type": "code",
   "execution_count": 23,
   "id": "a45e9247",
   "metadata": {},
   "outputs": [
    {
     "data": {
      "text/plain": [
       "(15270, 76641)"
      ]
     },
     "execution_count": 23,
     "metadata": {},
     "output_type": "execute_result"
    }
   ],
   "source": [
    "from sklearn.preprocessing import MultiLabelBinarizer\n",
    "\n",
    "mlb = MultiLabelBinarizer(sparse_output=True)\n",
    "mlb.fit(fit_word_list)\n",
    "\n",
    "\n",
    "one_hot_contexts = mlb.transform(train_words_list)\n",
    "embeddings = one_hot_contexts.toarray()\n",
    "one_hot_contexts.shape\n"
   ]
  },
  {
   "cell_type": "code",
   "execution_count": 24,
   "id": "9262a55a",
   "metadata": {},
   "outputs": [
    {
     "data": {
      "text/plain": [
       "numpy.ndarray"
      ]
     },
     "execution_count": 24,
     "metadata": {},
     "output_type": "execute_result"
    }
   ],
   "source": [
    "type(embeddings)"
   ]
  },
  {
   "cell_type": "code",
   "execution_count": 25,
   "id": "3b43fe10",
   "metadata": {},
   "outputs": [
    {
     "name": "stdout",
     "output_type": "stream",
     "text": [
      "[2024-03-18 17:04:39,555] [INFO] [real_accelerator.py:110:get_accelerator] Setting ds_accelerator to cuda (auto detect)\n"
     ]
    },
    {
     "name": "stderr",
     "output_type": "stream",
     "text": [
      "Some weights of BertModel were not initialized from the model checkpoint at /home/toibazd/Data/BERT/BERT_context_pretrained_InterPro_final and are newly initialized: ['bert.pooler.dense.bias', 'bert.pooler.dense.weight']\n",
      "You should probably TRAIN this model on a down-stream task to be able to use it for predictions and inference.\n"
     ]
    },
    {
     "data": {
      "text/plain": [
       "BertModel(\n",
       "  (embeddings): BertEmbeddings(\n",
       "    (word_embeddings): Embedding(544998, 256, padding_idx=0)\n",
       "    (position_embeddings): Embedding(512, 256)\n",
       "    (token_type_embeddings): Embedding(2, 256)\n",
       "    (LayerNorm): LayerNorm((256,), eps=1e-12, elementwise_affine=True)\n",
       "    (dropout): Dropout(p=0.1, inplace=False)\n",
       "  )\n",
       "  (encoder): BertEncoder(\n",
       "    (layer): ModuleList(\n",
       "      (0): BertLayer(\n",
       "        (attention): BertAttention(\n",
       "          (self): BertSelfAttention(\n",
       "            (query): Linear(in_features=256, out_features=256, bias=True)\n",
       "            (key): Linear(in_features=256, out_features=256, bias=True)\n",
       "            (value): Linear(in_features=256, out_features=256, bias=True)\n",
       "            (dropout): Dropout(p=0.1, inplace=False)\n",
       "          )\n",
       "          (output): BertSelfOutput(\n",
       "            (dense): Linear(in_features=256, out_features=256, bias=True)\n",
       "            (LayerNorm): LayerNorm((256,), eps=1e-12, elementwise_affine=True)\n",
       "            (dropout): Dropout(p=0.1, inplace=False)\n",
       "          )\n",
       "        )\n",
       "        (intermediate): BertIntermediate(\n",
       "          (dense): Linear(in_features=256, out_features=256, bias=True)\n",
       "          (intermediate_act_fn): GELUActivation()\n",
       "        )\n",
       "        (output): BertOutput(\n",
       "          (dense): Linear(in_features=256, out_features=256, bias=True)\n",
       "          (LayerNorm): LayerNorm((256,), eps=1e-12, elementwise_affine=True)\n",
       "          (dropout): Dropout(p=0.1, inplace=False)\n",
       "        )\n",
       "      )\n",
       "      (1): BertLayer(\n",
       "        (attention): BertAttention(\n",
       "          (self): BertSelfAttention(\n",
       "            (query): Linear(in_features=256, out_features=256, bias=True)\n",
       "            (key): Linear(in_features=256, out_features=256, bias=True)\n",
       "            (value): Linear(in_features=256, out_features=256, bias=True)\n",
       "            (dropout): Dropout(p=0.1, inplace=False)\n",
       "          )\n",
       "          (output): BertSelfOutput(\n",
       "            (dense): Linear(in_features=256, out_features=256, bias=True)\n",
       "            (LayerNorm): LayerNorm((256,), eps=1e-12, elementwise_affine=True)\n",
       "            (dropout): Dropout(p=0.1, inplace=False)\n",
       "          )\n",
       "        )\n",
       "        (intermediate): BertIntermediate(\n",
       "          (dense): Linear(in_features=256, out_features=256, bias=True)\n",
       "          (intermediate_act_fn): GELUActivation()\n",
       "        )\n",
       "        (output): BertOutput(\n",
       "          (dense): Linear(in_features=256, out_features=256, bias=True)\n",
       "          (LayerNorm): LayerNorm((256,), eps=1e-12, elementwise_affine=True)\n",
       "          (dropout): Dropout(p=0.1, inplace=False)\n",
       "        )\n",
       "      )\n",
       "      (2): BertLayer(\n",
       "        (attention): BertAttention(\n",
       "          (self): BertSelfAttention(\n",
       "            (query): Linear(in_features=256, out_features=256, bias=True)\n",
       "            (key): Linear(in_features=256, out_features=256, bias=True)\n",
       "            (value): Linear(in_features=256, out_features=256, bias=True)\n",
       "            (dropout): Dropout(p=0.1, inplace=False)\n",
       "          )\n",
       "          (output): BertSelfOutput(\n",
       "            (dense): Linear(in_features=256, out_features=256, bias=True)\n",
       "            (LayerNorm): LayerNorm((256,), eps=1e-12, elementwise_affine=True)\n",
       "            (dropout): Dropout(p=0.1, inplace=False)\n",
       "          )\n",
       "        )\n",
       "        (intermediate): BertIntermediate(\n",
       "          (dense): Linear(in_features=256, out_features=256, bias=True)\n",
       "          (intermediate_act_fn): GELUActivation()\n",
       "        )\n",
       "        (output): BertOutput(\n",
       "          (dense): Linear(in_features=256, out_features=256, bias=True)\n",
       "          (LayerNorm): LayerNorm((256,), eps=1e-12, elementwise_affine=True)\n",
       "          (dropout): Dropout(p=0.1, inplace=False)\n",
       "        )\n",
       "      )\n",
       "    )\n",
       "  )\n",
       "  (pooler): None\n",
       ")"
      ]
     },
     "execution_count": 25,
     "metadata": {},
     "output_type": "execute_result"
    }
   ],
   "source": [
    "from transformers import BertModel\n",
    "\n",
    "# Check if CUDA is available and choose device accordingly\n",
    "device = torch.device('cuda' if torch.cuda.is_available() else 'cpu')\n",
    "model_path = \"/home/toibazd/Data/BERT/BERT_context_pretrained_InterPro_final_context5/\"\n",
    "\n",
    "model = BertModel.from_pretrained(model_path).cuda()\n",
    "model.pooler = None\n",
    "model.eval()"
   ]
  },
  {
   "cell_type": "code",
   "execution_count": 26,
   "id": "978dfa1b",
   "metadata": {},
   "outputs": [
    {
     "name": "stdout",
     "output_type": "stream",
     "text": [
      "(156,)\n"
     ]
    }
   ],
   "source": [
    "print(one_hot_encoded[1].shape)"
   ]
  },
  {
   "cell_type": "code",
   "execution_count": 27,
   "id": "c35dd100",
   "metadata": {},
   "outputs": [
    {
     "data": {
      "application/json": {
       "ascii": false,
       "bar_format": null,
       "colour": null,
       "elapsed": 0.018399477005004883,
       "initial": 0,
       "n": 0,
       "ncols": null,
       "nrows": null,
       "postfix": null,
       "prefix": "",
       "rate": null,
       "total": 120,
       "unit": "it",
       "unit_divisor": 1000,
       "unit_scale": false
      },
      "application/vnd.jupyter.widget-view+json": {
       "model_id": "9a36b322f2654e369eaca71c62e364f4",
       "version_major": 2,
       "version_minor": 0
      },
      "text/plain": [
       "  0%|          | 0/120 [00:00<?, ?it/s]"
      ]
     },
     "metadata": {},
     "output_type": "display_data"
    }
   ],
   "source": [
    "batch_size = 128 # Define your batch size\n",
    "model.cuda()\n",
    "ems = []\n",
    "labels = []\n",
    "\n",
    "# Define your data iterator in batches\n",
    "for i in tqdm(range(0, len(matching_string), batch_size)):\n",
    "    batch_sentences = matching_string[i:i+batch_size]\n",
    "\n",
    "    batch_inputs = tokenizer.encode_batch(batch_sentences)\n",
    "    input_ids_list = []\n",
    "    attention_mask_list = []\n",
    "\n",
    "    for encoding in batch_inputs:\n",
    "        input_ids_list.append(encoding.ids)\n",
    "        attention_mask_list.append(encoding.attention_mask)\n",
    "\n",
    "    # Convert lists to tensors and move to device\n",
    "    input_ids = torch.tensor(input_ids_list).cuda()\n",
    "    attention_mask = torch.tensor(attention_mask_list).cuda()\n",
    "\n",
    "    with torch.inference_mode():\n",
    "        outputs = model(input_ids, attention_mask=attention_mask, output_hidden_states=True)\n",
    "    hidden_states = outputs.last_hidden_state\n",
    "    relevant_hidden_states = hidden_states[:, 5, :]  # Extract the 20th token's hidden state\n",
    "    \n",
    "    for j in range(len(batch_sentences)):\n",
    "        ems.append(relevant_hidden_states[j].cpu())\n",
    "        indicator = batch_sentences[j].split()[4]\n",
    "        labels.append(one_hot_encoded_dict[indicator])\n",
    "\n",
    "# Ensure order in embeddings matches order in labels\n",
    "\n",
    "# Now embeddings and labels are stored on the CPU\n"
   ]
  },
  {
   "cell_type": "code",
   "execution_count": 28,
   "id": "7cad879a",
   "metadata": {},
   "outputs": [],
   "source": [
    "def calculate_pos_weights(class_counts):\n",
    "    pos_weights = np.ones_like(class_counts)\n",
    "    \n",
    "    neg_counts = [len(embeddings)-pos_count for pos_count in class_counts]\n",
    "    for cdx, (pos_count, neg_count) in enumerate(zip(class_counts,  neg_counts)):\n",
    "      pos_weights[cdx] = neg_count / (pos_count + 1e-5)\n",
    "\n",
    "    return torch.as_tensor(pos_weights, dtype=torch.float)\n",
    "class_counts = np.array(labels).sum(axis=0)\n",
    "pos_weights = calculate_pos_weights(class_counts) "
   ]
  },
  {
   "cell_type": "code",
   "execution_count": 29,
   "id": "f1476691",
   "metadata": {},
   "outputs": [
    {
     "data": {
      "text/plain": [
       "tensor([ 76., 118., 151.,  74.,  74.,  76., 151.,  95., 151., 151., 151., 151.,\n",
       "        151., 151., 150.,  83., 151.,  49., 151., 151.,  75., 123.,  74.,  49.,\n",
       "        137., 109., 151., 127.,  73., 150., 151., 145., 151., 151., 150., 151.,\n",
       "        148., 150., 151., 139., 151., 151., 151., 151., 151., 151., 151.,  93.,\n",
       "        151., 147., 150., 150., 151., 150., 151., 151., 151., 136., 151., 125.,\n",
       "        151.,  83., 151., 151., 151., 151.,  56., 147., 151., 151., 151., 151.,\n",
       "        151., 151., 151., 151., 145.,  73.,  92., 151., 151., 151., 151., 151.,\n",
       "        151., 117., 103., 151., 151., 151.,  92., 151., 151., 151., 131., 151.,\n",
       "        151., 151., 151., 140., 151., 151.,  74., 237., 151., 151.,  75.,  75.,\n",
       "        137., 151.,  75., 151., 151., 151., 148., 151., 726., 150., 151.,  75.,\n",
       "        151., 147., 151., 151., 151., 151.,  82., 151., 151., 151., 245., 187.,\n",
       "        237., 151., 150., 151., 150., 151.,  79., 151., 151., 151., 151., 150.,\n",
       "        150., 168., 130., 151., 145., 151., 150., 897., 953., 151.,  95., 151.])"
      ]
     },
     "execution_count": 29,
     "metadata": {},
     "output_type": "execute_result"
    }
   ],
   "source": [
    "pos_weights"
   ]
  },
  {
   "cell_type": "code",
   "execution_count": 30,
   "id": "1fc1f6a8",
   "metadata": {},
   "outputs": [],
   "source": [
    "# import random\n",
    "\n",
    "# random.seed(42)\n",
    "# # Zip the lists together\n",
    "# combined = list(zip(embeddings, labels))\n",
    "\n",
    "# # Shuffle the combined list\n",
    "# random.shuffle(combined)\n",
    "\n",
    "# # Unzip the shuffled list\n",
    "# embeddings, labels = zip(*combined)\n",
    "\n"
   ]
  },
  {
   "cell_type": "code",
   "execution_count": 31,
   "id": "d7184dec",
   "metadata": {},
   "outputs": [],
   "source": [
    "model.to(\"cpu\")\n",
    "torch.cuda.empty_cache()"
   ]
  },
  {
   "cell_type": "code",
   "execution_count": 32,
   "id": "f832c70d",
   "metadata": {},
   "outputs": [],
   "source": [
    "import torch.nn as nn\n",
    "\n",
    "class Classification_V0(nn.Module):\n",
    "    def __init__(self, input_dim, first_hidden, second_hidden, last_hidden, output_dim, dropout_prob):\n",
    "        super(Classification_V0, self).__init__()\n",
    "        self.fc1 = nn.Linear(input_dim, first_hidden)\n",
    "        self.relu1 = nn.ReLU()\n",
    "        self.fc2 = nn.Linear(first_hidden, second_hidden)\n",
    "        self.relu2 = nn.ReLU()\n",
    "        self.fc3 = nn.Linear(second_hidden, last_hidden)\n",
    "        self.relu3 = nn.ReLU()\n",
    "        self.fc4 = nn.Linear(last_hidden, output_dim)\n",
    "        \n",
    "        self.dropout = nn.Dropout(dropout_prob)\n",
    "    \n",
    "    def forward(self, x):\n",
    "        x = self.fc1(x)\n",
    "        x = self.relu1(x)\n",
    "        x = self.dropout(x)\n",
    "        x = self.fc2(x)\n",
    "        x = self.relu2(x)\n",
    "        x = self.dropout(x)\n",
    "        x = self.fc3(x)\n",
    "        x = self.relu3(x)\n",
    "        x = self.dropout(x)\n",
    "        x = self.fc4(x)\n",
    "        return x\n",
    "\n",
    "input_dim = 76641\n",
    "first_hidden = 256\n",
    "second_hidden = 128\n",
    "last_hidden = 64\n",
    "output_dim = 156\n",
    "dropout_prob = 0.25\n",
    "\n",
    "clf_model = Classification_V0(input_dim, first_hidden, second_hidden, last_hidden, output_dim, dropout_prob)\n"
   ]
  },
  {
   "cell_type": "code",
   "execution_count": 33,
   "id": "7d9abc8b",
   "metadata": {},
   "outputs": [
    {
     "data": {
      "text/plain": [
       "Classification_V0(\n",
       "  (fc1): Linear(in_features=76641, out_features=256, bias=True)\n",
       "  (relu1): ReLU()\n",
       "  (fc2): Linear(in_features=256, out_features=128, bias=True)\n",
       "  (relu2): ReLU()\n",
       "  (fc3): Linear(in_features=128, out_features=64, bias=True)\n",
       "  (relu3): ReLU()\n",
       "  (fc4): Linear(in_features=64, out_features=156, bias=True)\n",
       "  (dropout): Dropout(p=0.25, inplace=False)\n",
       ")"
      ]
     },
     "execution_count": 33,
     "metadata": {},
     "output_type": "execute_result"
    }
   ],
   "source": [
    "from torch.utils.data import DataLoader, TensorDataset\n",
    "import torch.optim.lr_scheduler as lr_scheduler\n",
    "\n",
    "batch_size = 256\n",
    "def data_generator(embeddings, labels, batch_size):\n",
    "    num_samples = len(embeddings)\n",
    "    for i in range(0, num_samples, batch_size):\n",
    "        batch_embeddings = embeddings[i:i+batch_size]\n",
    "        batch_labels = labels[i:i+batch_size]\n",
    "        yield batch_embeddings, batch_labels\n",
    "\n",
    "\n",
    "optimizer = torch.optim.Adam(clf_model.parameters(), lr=0.001)\n",
    "scheduler = lr_scheduler.StepLR(optimizer=optimizer, step_size=10, gamma=0.1)\n",
    "criterion = torch.nn.BCEWithLogitsLoss()\n",
    "\n",
    "clf_model.to(device)"
   ]
  },
  {
   "cell_type": "code",
   "execution_count": 34,
   "id": "ad1b6ca9",
   "metadata": {},
   "outputs": [
    {
     "name": "stdout",
     "output_type": "stream",
     "text": [
      "Epoch 1/20:\n"
     ]
    },
    {
     "data": {
      "application/json": {
       "ascii": false,
       "bar_format": null,
       "colour": null,
       "elapsed": 0.02256035804748535,
       "initial": 0,
       "n": 0,
       "ncols": null,
       "nrows": null,
       "postfix": null,
       "prefix": "Training Batches",
       "rate": null,
       "total": null,
       "unit": "it",
       "unit_divisor": 1000,
       "unit_scale": false
      },
      "application/vnd.jupyter.widget-view+json": {
       "model_id": "",
       "version_major": 2,
       "version_minor": 0
      },
      "text/plain": [
       "Training Batches: 0it [00:00, ?it/s]"
      ]
     },
     "metadata": {},
     "output_type": "display_data"
    },
    {
     "name": "stdout",
     "output_type": "stream",
     "text": [
      "1.2135584843104075\n",
      "Epoch 2/20:\n"
     ]
    },
    {
     "data": {
      "application/json": {
       "ascii": false,
       "bar_format": null,
       "colour": null,
       "elapsed": 0.022680044174194336,
       "initial": 0,
       "n": 0,
       "ncols": null,
       "nrows": null,
       "postfix": null,
       "prefix": "Training Batches",
       "rate": null,
       "total": null,
       "unit": "it",
       "unit_divisor": 1000,
       "unit_scale": false
      },
      "application/vnd.jupyter.widget-view+json": {
       "model_id": "",
       "version_major": 2,
       "version_minor": 0
      },
      "text/plain": [
       "Training Batches: 0it [00:00, ?it/s]"
      ]
     },
     "metadata": {},
     "output_type": "display_data"
    },
    {
     "name": "stdout",
     "output_type": "stream",
     "text": [
      "0.6117407558318751\n",
      "Epoch 3/20:\n"
     ]
    },
    {
     "data": {
      "application/json": {
       "ascii": false,
       "bar_format": null,
       "colour": null,
       "elapsed": 0.02065277099609375,
       "initial": 0,
       "n": 0,
       "ncols": null,
       "nrows": null,
       "postfix": null,
       "prefix": "Training Batches",
       "rate": null,
       "total": null,
       "unit": "it",
       "unit_divisor": 1000,
       "unit_scale": false
      },
      "application/vnd.jupyter.widget-view+json": {
       "model_id": "",
       "version_major": 2,
       "version_minor": 0
      },
      "text/plain": [
       "Training Batches: 0it [00:00, ?it/s]"
      ]
     },
     "metadata": {},
     "output_type": "display_data"
    },
    {
     "name": "stdout",
     "output_type": "stream",
     "text": [
      "0.354830038773912\n",
      "Epoch 4/20:\n"
     ]
    },
    {
     "data": {
      "application/json": {
       "ascii": false,
       "bar_format": null,
       "colour": null,
       "elapsed": 0.021087169647216797,
       "initial": 0,
       "n": 0,
       "ncols": null,
       "nrows": null,
       "postfix": null,
       "prefix": "Training Batches",
       "rate": null,
       "total": null,
       "unit": "it",
       "unit_divisor": 1000,
       "unit_scale": false
      },
      "application/vnd.jupyter.widget-view+json": {
       "model_id": "",
       "version_major": 2,
       "version_minor": 0
      },
      "text/plain": [
       "Training Batches: 0it [00:00, ?it/s]"
      ]
     },
     "metadata": {},
     "output_type": "display_data"
    },
    {
     "name": "stdout",
     "output_type": "stream",
     "text": [
      "0.2709024620430877\n",
      "Epoch 5/20:\n"
     ]
    },
    {
     "data": {
      "application/json": {
       "ascii": false,
       "bar_format": null,
       "colour": null,
       "elapsed": 0.02152419090270996,
       "initial": 0,
       "n": 0,
       "ncols": null,
       "nrows": null,
       "postfix": null,
       "prefix": "Training Batches",
       "rate": null,
       "total": null,
       "unit": "it",
       "unit_divisor": 1000,
       "unit_scale": false
      },
      "application/vnd.jupyter.widget-view+json": {
       "model_id": "",
       "version_major": 2,
       "version_minor": 0
      },
      "text/plain": [
       "Training Batches: 0it [00:00, ?it/s]"
      ]
     },
     "metadata": {},
     "output_type": "display_data"
    },
    {
     "name": "stdout",
     "output_type": "stream",
     "text": [
      "0.23409811368391414\n",
      "Epoch 6/20:\n"
     ]
    },
    {
     "data": {
      "application/json": {
       "ascii": false,
       "bar_format": null,
       "colour": null,
       "elapsed": 0.021935462951660156,
       "initial": 0,
       "n": 0,
       "ncols": null,
       "nrows": null,
       "postfix": null,
       "prefix": "Training Batches",
       "rate": null,
       "total": null,
       "unit": "it",
       "unit_divisor": 1000,
       "unit_scale": false
      },
      "application/vnd.jupyter.widget-view+json": {
       "model_id": "",
       "version_major": 2,
       "version_minor": 0
      },
      "text/plain": [
       "Training Batches: 0it [00:00, ?it/s]"
      ]
     },
     "metadata": {},
     "output_type": "display_data"
    },
    {
     "name": "stdout",
     "output_type": "stream",
     "text": [
      "0.2102016364037015\n",
      "Epoch 7/20:\n"
     ]
    },
    {
     "data": {
      "application/json": {
       "ascii": false,
       "bar_format": null,
       "colour": null,
       "elapsed": 0.021135568618774414,
       "initial": 0,
       "n": 0,
       "ncols": null,
       "nrows": null,
       "postfix": null,
       "prefix": "Training Batches",
       "rate": null,
       "total": null,
       "unit": "it",
       "unit_divisor": 1000,
       "unit_scale": false
      },
      "application/vnd.jupyter.widget-view+json": {
       "model_id": "",
       "version_major": 2,
       "version_minor": 0
      },
      "text/plain": [
       "Training Batches: 0it [00:00, ?it/s]"
      ]
     },
     "metadata": {},
     "output_type": "display_data"
    },
    {
     "name": "stdout",
     "output_type": "stream",
     "text": [
      "0.19000481766036859\n",
      "Epoch 8/20:\n"
     ]
    },
    {
     "data": {
      "application/json": {
       "ascii": false,
       "bar_format": null,
       "colour": null,
       "elapsed": 0.019601821899414062,
       "initial": 0,
       "n": 0,
       "ncols": null,
       "nrows": null,
       "postfix": null,
       "prefix": "Training Batches",
       "rate": null,
       "total": null,
       "unit": "it",
       "unit_divisor": 1000,
       "unit_scale": false
      },
      "application/vnd.jupyter.widget-view+json": {
       "model_id": "",
       "version_major": 2,
       "version_minor": 0
      },
      "text/plain": [
       "Training Batches: 0it [00:00, ?it/s]"
      ]
     },
     "metadata": {},
     "output_type": "display_data"
    },
    {
     "name": "stdout",
     "output_type": "stream",
     "text": [
      "0.1766251222401877\n",
      "Epoch 9/20:\n"
     ]
    },
    {
     "data": {
      "application/json": {
       "ascii": false,
       "bar_format": null,
       "colour": null,
       "elapsed": 0.021409034729003906,
       "initial": 0,
       "n": 0,
       "ncols": null,
       "nrows": null,
       "postfix": null,
       "prefix": "Training Batches",
       "rate": null,
       "total": null,
       "unit": "it",
       "unit_divisor": 1000,
       "unit_scale": false
      },
      "application/vnd.jupyter.widget-view+json": {
       "model_id": "",
       "version_major": 2,
       "version_minor": 0
      },
      "text/plain": [
       "Training Batches: 0it [00:00, ?it/s]"
      ]
     },
     "metadata": {},
     "output_type": "display_data"
    },
    {
     "name": "stdout",
     "output_type": "stream",
     "text": [
      "0.1661851484477325\n",
      "Epoch 10/20:\n"
     ]
    },
    {
     "data": {
      "application/json": {
       "ascii": false,
       "bar_format": null,
       "colour": null,
       "elapsed": 0.021244525909423828,
       "initial": 0,
       "n": 0,
       "ncols": null,
       "nrows": null,
       "postfix": null,
       "prefix": "Training Batches",
       "rate": null,
       "total": null,
       "unit": "it",
       "unit_divisor": 1000,
       "unit_scale": false
      },
      "application/vnd.jupyter.widget-view+json": {
       "model_id": "",
       "version_major": 2,
       "version_minor": 0
      },
      "text/plain": [
       "Training Batches: 0it [00:00, ?it/s]"
      ]
     },
     "metadata": {},
     "output_type": "display_data"
    },
    {
     "name": "stdout",
     "output_type": "stream",
     "text": [
      "0.15510527655121228\n",
      "Epoch 11/20:\n"
     ]
    },
    {
     "data": {
      "application/json": {
       "ascii": false,
       "bar_format": null,
       "colour": null,
       "elapsed": 0.0224001407623291,
       "initial": 0,
       "n": 0,
       "ncols": null,
       "nrows": null,
       "postfix": null,
       "prefix": "Training Batches",
       "rate": null,
       "total": null,
       "unit": "it",
       "unit_divisor": 1000,
       "unit_scale": false
      },
      "application/vnd.jupyter.widget-view+json": {
       "model_id": "",
       "version_major": 2,
       "version_minor": 0
      },
      "text/plain": [
       "Training Batches: 0it [00:00, ?it/s]"
      ]
     },
     "metadata": {},
     "output_type": "display_data"
    },
    {
     "name": "stdout",
     "output_type": "stream",
     "text": [
      "0.14749459477132962\n",
      "Epoch 12/20:\n"
     ]
    },
    {
     "data": {
      "application/json": {
       "ascii": false,
       "bar_format": null,
       "colour": null,
       "elapsed": 0.02094435691833496,
       "initial": 0,
       "n": 0,
       "ncols": null,
       "nrows": null,
       "postfix": null,
       "prefix": "Training Batches",
       "rate": null,
       "total": null,
       "unit": "it",
       "unit_divisor": 1000,
       "unit_scale": false
      },
      "application/vnd.jupyter.widget-view+json": {
       "model_id": "",
       "version_major": 2,
       "version_minor": 0
      },
      "text/plain": [
       "Training Batches: 0it [00:00, ?it/s]"
      ]
     },
     "metadata": {},
     "output_type": "display_data"
    },
    {
     "name": "stdout",
     "output_type": "stream",
     "text": [
      "0.1440292989184986\n",
      "Epoch 13/20:\n"
     ]
    },
    {
     "data": {
      "application/json": {
       "ascii": false,
       "bar_format": null,
       "colour": null,
       "elapsed": 0.021018505096435547,
       "initial": 0,
       "n": 0,
       "ncols": null,
       "nrows": null,
       "postfix": null,
       "prefix": "Training Batches",
       "rate": null,
       "total": null,
       "unit": "it",
       "unit_divisor": 1000,
       "unit_scale": false
      },
      "application/vnd.jupyter.widget-view+json": {
       "model_id": "",
       "version_major": 2,
       "version_minor": 0
      },
      "text/plain": [
       "Training Batches: 0it [00:00, ?it/s]"
      ]
     },
     "metadata": {},
     "output_type": "display_data"
    },
    {
     "name": "stdout",
     "output_type": "stream",
     "text": [
      "0.14164766849999968\n",
      "Epoch 14/20:\n"
     ]
    },
    {
     "data": {
      "application/json": {
       "ascii": false,
       "bar_format": null,
       "colour": null,
       "elapsed": 0.021774768829345703,
       "initial": 0,
       "n": 0,
       "ncols": null,
       "nrows": null,
       "postfix": null,
       "prefix": "Training Batches",
       "rate": null,
       "total": null,
       "unit": "it",
       "unit_divisor": 1000,
       "unit_scale": false
      },
      "application/vnd.jupyter.widget-view+json": {
       "model_id": "",
       "version_major": 2,
       "version_minor": 0
      },
      "text/plain": [
       "Training Batches: 0it [00:00, ?it/s]"
      ]
     },
     "metadata": {},
     "output_type": "display_data"
    },
    {
     "name": "stdout",
     "output_type": "stream",
     "text": [
      "0.13971536882421748\n",
      "Epoch 15/20:\n"
     ]
    },
    {
     "data": {
      "application/json": {
       "ascii": false,
       "bar_format": null,
       "colour": null,
       "elapsed": 0.02323770523071289,
       "initial": 0,
       "n": 0,
       "ncols": null,
       "nrows": null,
       "postfix": null,
       "prefix": "Training Batches",
       "rate": null,
       "total": null,
       "unit": "it",
       "unit_divisor": 1000,
       "unit_scale": false
      },
      "application/vnd.jupyter.widget-view+json": {
       "model_id": "",
       "version_major": 2,
       "version_minor": 0
      },
      "text/plain": [
       "Training Batches: 0it [00:00, ?it/s]"
      ]
     },
     "metadata": {},
     "output_type": "display_data"
    },
    {
     "name": "stdout",
     "output_type": "stream",
     "text": [
      "0.13847673762133486\n",
      "Epoch 16/20:\n"
     ]
    },
    {
     "data": {
      "application/json": {
       "ascii": false,
       "bar_format": null,
       "colour": null,
       "elapsed": 0.021669864654541016,
       "initial": 0,
       "n": 0,
       "ncols": null,
       "nrows": null,
       "postfix": null,
       "prefix": "Training Batches",
       "rate": null,
       "total": null,
       "unit": "it",
       "unit_divisor": 1000,
       "unit_scale": false
      },
      "application/vnd.jupyter.widget-view+json": {
       "model_id": "",
       "version_major": 2,
       "version_minor": 0
      },
      "text/plain": [
       "Training Batches: 0it [00:00, ?it/s]"
      ]
     },
     "metadata": {},
     "output_type": "display_data"
    },
    {
     "name": "stdout",
     "output_type": "stream",
     "text": [
      "0.1341768374689748\n",
      "Epoch 17/20:\n"
     ]
    },
    {
     "data": {
      "application/json": {
       "ascii": false,
       "bar_format": null,
       "colour": null,
       "elapsed": 0.020575523376464844,
       "initial": 0,
       "n": 0,
       "ncols": null,
       "nrows": null,
       "postfix": null,
       "prefix": "Training Batches",
       "rate": null,
       "total": null,
       "unit": "it",
       "unit_divisor": 1000,
       "unit_scale": false
      },
      "application/vnd.jupyter.widget-view+json": {
       "model_id": "",
       "version_major": 2,
       "version_minor": 0
      },
      "text/plain": [
       "Training Batches: 0it [00:00, ?it/s]"
      ]
     },
     "metadata": {},
     "output_type": "display_data"
    },
    {
     "name": "stdout",
     "output_type": "stream",
     "text": [
      "0.13331169560600437\n",
      "Epoch 18/20:\n"
     ]
    },
    {
     "data": {
      "application/json": {
       "ascii": false,
       "bar_format": null,
       "colour": null,
       "elapsed": 0.021174192428588867,
       "initial": 0,
       "n": 0,
       "ncols": null,
       "nrows": null,
       "postfix": null,
       "prefix": "Training Batches",
       "rate": null,
       "total": null,
       "unit": "it",
       "unit_divisor": 1000,
       "unit_scale": false
      },
      "application/vnd.jupyter.widget-view+json": {
       "model_id": "",
       "version_major": 2,
       "version_minor": 0
      },
      "text/plain": [
       "Training Batches: 0it [00:00, ?it/s]"
      ]
     },
     "metadata": {},
     "output_type": "display_data"
    },
    {
     "name": "stdout",
     "output_type": "stream",
     "text": [
      "0.13375096599026762\n",
      "Epoch 19/20:\n"
     ]
    },
    {
     "data": {
      "application/json": {
       "ascii": false,
       "bar_format": null,
       "colour": null,
       "elapsed": 0.020021677017211914,
       "initial": 0,
       "n": 0,
       "ncols": null,
       "nrows": null,
       "postfix": null,
       "prefix": "Training Batches",
       "rate": null,
       "total": null,
       "unit": "it",
       "unit_divisor": 1000,
       "unit_scale": false
      },
      "application/vnd.jupyter.widget-view+json": {
       "model_id": "",
       "version_major": 2,
       "version_minor": 0
      },
      "text/plain": [
       "Training Batches: 0it [00:00, ?it/s]"
      ]
     },
     "metadata": {},
     "output_type": "display_data"
    },
    {
     "name": "stdout",
     "output_type": "stream",
     "text": [
      "0.13344433377908582\n",
      "Epoch 20/20:\n"
     ]
    },
    {
     "data": {
      "application/json": {
       "ascii": false,
       "bar_format": null,
       "colour": null,
       "elapsed": 0.022276878356933594,
       "initial": 0,
       "n": 0,
       "ncols": null,
       "nrows": null,
       "postfix": null,
       "prefix": "Training Batches",
       "rate": null,
       "total": null,
       "unit": "it",
       "unit_divisor": 1000,
       "unit_scale": false
      },
      "application/vnd.jupyter.widget-view+json": {
       "model_id": "",
       "version_major": 2,
       "version_minor": 0
      },
      "text/plain": [
       "Training Batches: 0it [00:00, ?it/s]"
      ]
     },
     "metadata": {},
     "output_type": "display_data"
    },
    {
     "name": "stdout",
     "output_type": "stream",
     "text": [
      "0.12953869957664704\n",
      "Training finished.\n"
     ]
    }
   ],
   "source": [
    "import numpy as np\n",
    "\n",
    "num_epochs = 10\n",
    "epoch_loss = []\n",
    "for epoch in range(num_epochs):\n",
    "    print(f\"Epoch {epoch+1}/{num_epochs}:\")\n",
    "    \n",
    "    # Initialize data generator\n",
    "    generator = data_generator(embeddings, labels, batch_size)\n",
    "    train_loss = 0\n",
    "    # Iterate over batches\n",
    "    for batch_embeddings, batch_labels in tqdm(generator, desc=\"Training Batches\", leave=False):\n",
    "        \n",
    "        optimizer.zero_grad()\n",
    "        \n",
    "        \n",
    "        batch_embeddings = np.array(batch_embeddings)\n",
    "        batch_embeddings_tensor = torch.tensor(batch_embeddings, dtype= torch.float32).cuda()\n",
    "        batch_labels = np.array(batch_labels)\n",
    "        batch_labels_tensor = torch.tensor(batch_labels, dtype = torch.float32)\n",
    "        \n",
    "        outputs = clf_model(batch_embeddings_tensor)\n",
    "        loss = criterion(outputs.cpu(), batch_labels_tensor)\n",
    "        train_loss+=loss.item()\n",
    "\n",
    "        loss.backward()\n",
    "        optimizer.step()\n",
    "    scheduler.step()\n",
    "    epoch_loss.append(train_loss/(len(embeddings)/batch_size))\n",
    "    print(train_loss/(len(embeddings)/batch_size))\n",
    "print(\"Training finished.\")"
   ]
  },
  {
   "cell_type": "code",
   "execution_count": 35,
   "id": "ac44af79",
   "metadata": {},
   "outputs": [],
   "source": [
    "directory = '/ibex/user/toibazd/InterPro_testing/'\n",
    "one_hot_encoded_sentences_2 = {}\n",
    "\n",
    "sentence_length = 9\n",
    "sentence_per_IP = 50\n",
    "selected_files = os.listdir(directory)\n",
    "\n",
    "\n",
    "# Iterate over keys\n",
    "for IP in tqdm(unique_defense):\n",
    "    one_hot_encoded_sentences_2[IP] = []\n",
    "    sentences_count=0\n",
    "    \n",
    "    # Iterate over selected files\n",
    "    for filename in selected_files:\n",
    "        filepath = os.path.join(directory, filename)\n",
    "\n",
    "        with open(filepath, 'r') as file:\n",
    "            content = file.read()\n",
    "            words = content.strip().split()\n",
    "\n",
    "            # Check if the key is in the file\n",
    "            for i in range(4, len(words)-4):\n",
    "                # Shuffle the indices of the words containing the key\n",
    "                if IP in data_dict[words[i]]:\n",
    "                    if len(words) - i >= 4:\n",
    "                        sentence = \" \".join(words[i - 4:i + sentence_length - 4])\n",
    "                        one_hot_encoded_sentences_2[IP].append(sentence)\n",
    "                        sentences_count += 1\n",
    "                        if sentences_count>=sentence_per_IP:\n",
    "                            break\n",
    "        if sentences_count>=sentence_per_IP:\n",
    "            break\n",
    "    print(sentences_count)\n",
    "            \n"
   ]
  },
  {
   "cell_type": "code",
   "execution_count": 37,
   "id": "e5a2eb5e",
   "metadata": {},
   "outputs": [],
   "source": [
    "import json\n",
    "\n",
    "with open('BERT_sanity_check_secretion_DNN_senteces_testing.json', 'w') as f:\n",
    "    json.dump(one_hot_encoded_sentences_2, f)"
   ]
  },
  {
   "cell_type": "code",
   "execution_count": 38,
   "id": "0aae8a77",
   "metadata": {},
   "outputs": [
    {
     "name": "stdout",
     "output_type": "stream",
     "text": [
      "156\n"
     ]
    }
   ],
   "source": [
    "with open('BERT_sanity_check_secretion_DNN_senteces_testing.json', \"r\") as f:\n",
    "    test_sentences = json.load(f)\n",
    "print(len(test_sentences))"
   ]
  },
  {
   "cell_type": "code",
   "execution_count": 39,
   "id": "0a93cb03",
   "metadata": {},
   "outputs": [
    {
     "name": "stdout",
     "output_type": "stream",
     "text": [
      "156\n"
     ]
    },
    {
     "data": {
      "text/plain": [
       "7260"
      ]
     },
     "execution_count": 39,
     "metadata": {},
     "output_type": "execute_result"
    }
   ],
   "source": [
    "test_sentences = {key: value for key, value in test_sentences.items() if value}\n",
    "print(len(test_sentences))\n",
    "test_matching_string = test_sentences.values()\n",
    "len(test_matching_string)\n",
    "test_matching_string = [item for sublist in test_matching_string for item in sublist]\n",
    "len(test_matching_string)\n"
   ]
  },
  {
   "cell_type": "code",
   "execution_count": 40,
   "id": "bc8e268b",
   "metadata": {},
   "outputs": [
    {
     "data": {
      "text/plain": [
       "(7260, 76641)"
      ]
     },
     "execution_count": 40,
     "metadata": {},
     "output_type": "execute_result"
    }
   ],
   "source": [
    "\n",
    "words_list = [sentence.split() for sentence in test_matching_string]\n",
    "one_hot_contexts = mlb.transform(words_list)\n",
    "embeddings = one_hot_contexts.toarray()\n",
    "one_hot_contexts.shape"
   ]
  },
  {
   "cell_type": "code",
   "execution_count": 41,
   "id": "cae8e2ba",
   "metadata": {},
   "outputs": [
    {
     "name": "stdout",
     "output_type": "stream",
     "text": [
      "7260\n"
     ]
    }
   ],
   "source": [
    "count= 0\n",
    "for string in words_list:\n",
    "    if not string[19] in data_dict.keys():\n",
    "        print(\"False\")\n",
    "    else:\n",
    "        count+=1\n",
    "print(count)"
   ]
  },
  {
   "cell_type": "code",
   "execution_count": 42,
   "id": "7d499e52",
   "metadata": {
    "scrolled": false
   },
   "outputs": [
    {
     "data": {
      "application/json": {
       "ascii": false,
       "bar_format": null,
       "colour": null,
       "elapsed": 0.018458843231201172,
       "initial": 0,
       "n": 0,
       "ncols": null,
       "nrows": null,
       "postfix": null,
       "prefix": "",
       "rate": null,
       "total": 57,
       "unit": "it",
       "unit_divisor": 1000,
       "unit_scale": false
      },
      "application/vnd.jupyter.widget-view+json": {
       "model_id": "4613d87ca45047369ab2b80f50b7012c",
       "version_major": 2,
       "version_minor": 0
      },
      "text/plain": [
       "  0%|          | 0/57 [00:00<?, ?it/s]"
      ]
     },
     "metadata": {},
     "output_type": "display_data"
    }
   ],
   "source": [
    "from bertviz import model_view\n",
    "\n",
    "batch_size = 128 # Define your batch size\n",
    "# model.cuda()\n",
    "test_ems = []\n",
    "test_labels = []\n",
    "\n",
    "# Define your data iterator in batches\n",
    "for i in tqdm(range(0, len(test_matching_string), batch_size)):\n",
    "    batch_sentences = test_matching_string[i:i+batch_size]\n",
    "    batch_inputs = tokenizer.encode_batch(batch_sentences)\n",
    "    input_ids_list = []\n",
    "    attention_mask_list = []\n",
    "\n",
    "    for encoding in batch_inputs:\n",
    "        input_ids_list.append(encoding.ids)\n",
    "        attention_mask_list.append(encoding.attention_mask)\n",
    "    # Convert lists to tensors and move to device\n",
    "    try:\n",
    "        input_ids = torch.tensor(input_ids_list)\n",
    "    except:\n",
    "        for ins in input_ids_list:\n",
    "            if len(ins)!=42:\n",
    "                print(len(ins))\n",
    "                print(ins)\n",
    "    attention_mask = torch.tensor(attention_mask_list)\n",
    "\n",
    "    with torch.inference_mode():\n",
    "        outputs = model(input_ids, attention_mask=attention_mask, output_hidden_states=True, output_attentions = True)\n",
    "    hidden_states = outputs.last_hidden_state\n",
    "    attentions = outputs.attentions[-1]\n",
    "    relevant_hidden_states = hidden_states[:, 5, :]  \n",
    "\n",
    "    for j in range(len(batch_sentences)):\n",
    "        # Move embeddings to CPU\n",
    "        test_ems.append(relevant_hidden_states[j].cpu())\n",
    "        indicator = batch_sentences[j].split()[4]\n",
    "        test_labels.append(one_hot_encoded_dict[indicator])\n"
   ]
  },
  {
   "cell_type": "code",
   "execution_count": 43,
   "id": "00089282",
   "metadata": {},
   "outputs": [
    {
     "data": {
      "text/plain": [
       "'WP_072018053 WP_072018053 WP_072018053 WP_072018053'"
      ]
     },
     "execution_count": 43,
     "metadata": {},
     "output_type": "execute_result"
    }
   ],
   "source": [
    "tokenizer.decode([0,12,12,12,12,\n",
    "                 ])"
   ]
  },
  {
   "cell_type": "code",
   "execution_count": 44,
   "id": "1b5d975e",
   "metadata": {},
   "outputs": [],
   "source": [
    "model.to(\"cpu\")\n",
    "torch.cuda.empty_cache()"
   ]
  },
  {
   "cell_type": "code",
   "execution_count": 45,
   "id": "e6194248",
   "metadata": {},
   "outputs": [
    {
     "data": {
      "text/plain": [
       "Classification_V0(\n",
       "  (fc1): Linear(in_features=76641, out_features=256, bias=True)\n",
       "  (relu1): ReLU()\n",
       "  (fc2): Linear(in_features=256, out_features=128, bias=True)\n",
       "  (relu2): ReLU()\n",
       "  (fc3): Linear(in_features=128, out_features=64, bias=True)\n",
       "  (relu3): ReLU()\n",
       "  (fc4): Linear(in_features=64, out_features=156, bias=True)\n",
       "  (dropout): Dropout(p=0.25, inplace=False)\n",
       ")"
      ]
     },
     "execution_count": 45,
     "metadata": {},
     "output_type": "execute_result"
    }
   ],
   "source": [
    "clf_model.eval()\n",
    "clf_model.cpu()"
   ]
  },
  {
   "cell_type": "code",
   "execution_count": 52,
   "id": "d150c202",
   "metadata": {},
   "outputs": [
    {
     "data": {
      "application/json": {
       "ascii": false,
       "bar_format": null,
       "colour": null,
       "elapsed": 0.016274452209472656,
       "initial": 0,
       "n": 0,
       "ncols": null,
       "nrows": null,
       "postfix": null,
       "prefix": "Evaluation Batches",
       "rate": null,
       "total": null,
       "unit": "it",
       "unit_divisor": 1000,
       "unit_scale": false
      },
      "application/vnd.jupyter.widget-view+json": {
       "model_id": "",
       "version_major": 2,
       "version_minor": 0
      },
      "text/plain": [
       "Evaluation Batches: 0it [00:00, ?it/s]"
      ]
     },
     "metadata": {},
     "output_type": "display_data"
    }
   ],
   "source": [
    "generator = data_generator(embeddings, test_labels, batch_size)\n",
    "# Iterate over batches\n",
    "from sklearn.metrics import multilabel_confusion_matrix\n",
    "from sklearn.metrics import precision_score, recall_score, f1_score\n",
    "import numpy as np\n",
    "all_predictions = []\n",
    "all_labels = []\n",
    "all_probs = []\n",
    "# Initialize lists to store predictions and labels across all batches\n",
    "# Iterate over batches\n",
    "count = 0\n",
    "for batch_embeddings, batch_labels in tqdm(generator, desc=\"Evaluation Batches\", leave=False):\n",
    "    batch_embeddings_tensor = torch.tensor(batch_embeddings, dtype= torch.float32)\n",
    "    batch_labels = np.array(batch_labels)\n",
    "    logits = clf_model(batch_embeddings_tensor)\n",
    "    predictions = torch.sigmoid(logits)\n",
    "    thresholded_predictions = (predictions > 0.9).float()\n",
    "    all_predictions.append(thresholded_predictions.detach().numpy())\n",
    "    all_labels.append(batch_labels)\n",
    "    all_probs.append(predictions.detach().numpy())\n"
   ]
  },
  {
   "cell_type": "code",
   "execution_count": 53,
   "id": "cd80f04f",
   "metadata": {},
   "outputs": [
    {
     "data": {
      "text/plain": [
       "92"
      ]
     },
     "execution_count": 53,
     "metadata": {},
     "output_type": "execute_result"
    }
   ],
   "source": [
    "len(all_predictions[-1])"
   ]
  },
  {
   "cell_type": "code",
   "execution_count": 54,
   "id": "2eb88b74",
   "metadata": {},
   "outputs": [
    {
     "data": {
      "text/plain": [
       "92"
      ]
     },
     "execution_count": 54,
     "metadata": {},
     "output_type": "execute_result"
    }
   ],
   "source": [
    "len(all_labels[-1])\n",
    "    "
   ]
  },
  {
   "cell_type": "code",
   "execution_count": 55,
   "id": "f0b4f0ee",
   "metadata": {},
   "outputs": [
    {
     "name": "stdout",
     "output_type": "stream",
     "text": [
      "(128, 156)\n"
     ]
    }
   ],
   "source": [
    "print(all_predictions[1].shape)"
   ]
  },
  {
   "cell_type": "code",
   "execution_count": 56,
   "id": "fe31ad51",
   "metadata": {},
   "outputs": [
    {
     "name": "stdout",
     "output_type": "stream",
     "text": [
      "(92, 156)\n"
     ]
    }
   ],
   "source": [
    "print(all_labels[-1].shape)"
   ]
  },
  {
   "cell_type": "code",
   "execution_count": 57,
   "id": "3a17e99d",
   "metadata": {},
   "outputs": [],
   "source": [
    "\n",
    "# Concatenate predictions and labels across all batches\n",
    "all_predictions = np.concatenate(all_predictions)\n",
    "all_labels = np.concatenate(all_labels)\n",
    "all_probs = np.concatenate(all_probs)"
   ]
  },
  {
   "cell_type": "code",
   "execution_count": 58,
   "id": "81736ceb",
   "metadata": {},
   "outputs": [
    {
     "name": "stdout",
     "output_type": "stream",
     "text": [
      "AUC for each column:\n",
      "0 :  0.9821775921482666\n",
      "1 :  0.9814453529353023\n",
      "2 :  0.9901151178918168\n",
      "3 :  0.9452877094972066\n",
      "4 :  0.9547891061452514\n",
      "5 :  0.9904951117318436\n",
      "6 :  0.9410221914008322\n",
      "7 :  0.9950118302018094\n",
      "8 :  0.9600804438280166\n",
      "9 :  0.9991900138696255\n",
      "10 :  0.9146074895977809\n",
      "11 :  0.9966130374479889\n",
      "12 :  0.9983244305583552\n",
      "13 :  0.9999030470914128\n",
      "14 :  1.0\n",
      "15 :  0.9713637057387058\n",
      "16 :  0.9977198335644938\n",
      "17 :  0.9885879043600563\n",
      "18 :  0.9779348127600554\n",
      "19 :  0.9998058252427184\n",
      "20 :  0.9620439944134079\n",
      "21 :  0.9638672198071948\n",
      "22 :  0.9616592178770949\n",
      "23 :  0.9646174402250351\n",
      "24 :  0.9629389345871358\n",
      "25 :  0.954369163520763\n",
      "26 :  0.9642246879334258\n",
      "27 :  0.9548310185185186\n",
      "28 :  0.9598924581005587\n",
      "29 :  0.9897475728155339\n",
      "30 :  0.9717642163661582\n",
      "31 :  0.9999916782246879\n",
      "32 :  0.9877031900138696\n",
      "33 :  0.9791622746185852\n",
      "34 :  0.9899056865464633\n",
      "35 :  0.9837004160887656\n",
      "36 :  0.9435936199722608\n",
      "37 :  0.9360416088765603\n",
      "38 :  0.9917378640776698\n",
      "39 :  0.9978978423330352\n",
      "40 :  0.9962389073765946\n",
      "41 :  0.998626907073509\n",
      "42 :  1.0\n",
      "43 :  0.9931872399445215\n",
      "44 :  0.9944701803051317\n",
      "45 :  0.997988904299584\n",
      "46 :  0.9826643550624132\n",
      "47 :  0.9825522284122563\n",
      "48 :  0.9859680998613038\n",
      "49 :  0.9954743411927878\n",
      "50 :  0.9721705963938974\n",
      "51 :  0.9919722607489598\n",
      "52 :  0.9818030513176144\n",
      "53 :  0.9406782246879335\n",
      "54 :  0.9423550624133149\n",
      "55 :  0.933108183079057\n",
      "56 :  0.9798391123439667\n",
      "57 :  0.9739500693481276\n",
      "58 :  0.9963606102635229\n",
      "59 :  0.9977329094408641\n",
      "60 :  0.9364313453536754\n",
      "61 :  0.9830716563440836\n",
      "62 :  0.9859861303744799\n",
      "63 :  0.988876560332871\n",
      "64 :  0.9947350901525659\n",
      "65 :  0.9961470180305132\n",
      "66 :  0.9843368421052632\n",
      "67 :  0.9588113300644525\n",
      "68 :  0.9999445214979196\n",
      "69 :  0.9961359223300971\n",
      "70 :  0.9961914008321775\n",
      "71 :  0.998245492371706\n",
      "72 :  0.9790263522884881\n",
      "73 :  1.0\n",
      "74 :  0.9997362405486196\n",
      "75 :  0.9819417475728155\n",
      "76 :  0.9859451836588555\n",
      "77 :  0.9716231927007051\n",
      "78 :  0.9975759244306193\n",
      "79 :  0.9978834951456311\n",
      "80 :  0.9939084604715672\n",
      "81 :  0.9812108183079057\n",
      "82 :  0.9901331484049931\n",
      "83 :  0.986251040221914\n",
      "84 :  0.9864313453536755\n",
      "85 :  0.9966578469541321\n",
      "86 :  0.9945638784025431\n",
      "87 :  0.9833342579750346\n",
      "88 :  0.9790707350901525\n",
      "89 :  0.9986851595006935\n",
      "90 :  0.9861933477760404\n",
      "91 :  0.9994854368932039\n",
      "92 :  0.9947281553398059\n",
      "93 :  0.9995284327323162\n",
      "94 :  0.9478969532675225\n",
      "95 :  0.9445048543689321\n",
      "96 :  0.9827711511789182\n",
      "97 :  0.9513314840499305\n",
      "98 :  0.9954452149791956\n",
      "99 :  0.9870867160072362\n",
      "100 :  0.9683023578363384\n",
      "101 :  0.9912260748959778\n",
      "102 :  0.9661864881241087\n",
      "103 :  1.0\n",
      "104 :  0.9894479889042996\n",
      "105 :  0.9944632454923716\n",
      "106 :  0.9980837988826815\n",
      "107 :  0.9956662011173184\n",
      "108 :  0.9996144244105409\n",
      "109 :  0.9967406380027739\n",
      "110 :  0.9827346368715084\n",
      "111 :  0.9953758668515951\n",
      "112 :  0.9967850208044382\n",
      "113 :  0.9995395284327323\n",
      "114 :  0.9962094313453537\n",
      "115 :  0.9993631759496788\n",
      "116 :  1.0\n",
      "117 :  0.9994646324549237\n",
      "118 :  0.9976061026352289\n",
      "119 :  0.9922283519553072\n",
      "120 :  0.9925214979195561\n",
      "121 :  0.9921914008321776\n",
      "122 :  0.9958474341192788\n",
      "123 :  0.9990402219140083\n",
      "124 :  0.9960083217753121\n",
      "125 :  0.994252427184466\n",
      "126 :  0.9965296246507015\n",
      "127 :  0.9932732316227462\n",
      "128 :  0.9464244105409154\n",
      "129 :  0.9951373092926491\n",
      "130 :  0.9999874590852658\n",
      "131 :  0.9999946927641147\n",
      "132 :  1.0\n",
      "133 :  0.9999334257975034\n",
      "134 :  1.0\n",
      "135 :  0.9959861303744799\n",
      "136 :  0.9996832220247087\n",
      "137 :  1.0\n",
      "138 :  0.9983976054357285\n",
      "139 :  0.9994147018030514\n",
      "140 :  0.9989502583979328\n",
      "141 :  0.9977439221667591\n",
      "142 :  0.9871428571428571\n",
      "143 :  0.999743371159048\n",
      "144 :  0.9998938552822919\n",
      "145 :  0.9998375713670806\n",
      "146 :  0.9966650303082045\n",
      "147 :  0.9988876560332871\n",
      "148 :  0.9999162240065345\n",
      "149 :  1.0\n",
      "150 :  0.9965714285714286\n",
      "151 :  1.0\n",
      "152 :  0.9996060743337732\n",
      "153 :  1.0\n",
      "154 :  0.9945588900410834\n",
      "155 :  0.9999972260748959\n"
     ]
    }
   ],
   "source": [
    "from sklearn import metrics\n",
    "auc_scores = []\n",
    "\n",
    "for i in range(all_labels.shape[1]):  # Iterate over each column\n",
    "    y = all_labels[:, i]\n",
    "    pred_y = all_probs[:, i]\n",
    "\n",
    "    fpr, tpr, thresholds = metrics.roc_curve(y, pred_y)\n",
    "    auc_score = metrics.auc(fpr, tpr)\n",
    "    auc_scores.append(auc_score)\n",
    "\n",
    "print(\"AUC for each column:\")\n",
    "for idx, score in enumerate(auc_scores):\n",
    "    print(idx,\": \", score)"
   ]
  },
  {
   "cell_type": "code",
   "execution_count": 59,
   "id": "9da7294d",
   "metadata": {},
   "outputs": [
    {
     "name": "stdout",
     "output_type": "stream",
     "text": [
      "0.9884684859901474\n"
     ]
    }
   ],
   "source": [
    "from sklearn import metrics\n",
    "\n",
    "y = all_labels.flatten()\n",
    "pred_y = all_probs.flatten()\n",
    "\n",
    "fpr, tpr, thresholds = metrics.roc_curve(y, pred_y)\n",
    "print(metrics.auc(fpr, tpr))"
   ]
  },
  {
   "cell_type": "code",
   "execution_count": 60,
   "id": "da634f79",
   "metadata": {},
   "outputs": [
    {
     "data": {
      "image/png": "[encoded data removed]",
      "text/plain": [
       "<Figure size 800x600 with 1 Axes>"
      ]
     },
     "metadata": {},
     "output_type": "display_data"
    }
   ],
   "source": [
    "import matplotlib.pyplot as plt\n",
    "\n",
    "plt.figure(figsize=(8, 6))\n",
    "plt.plot(fpr, tpr, color='blue', label='ROC Curve')\n",
    "plt.plot([0, 1], [0, 1], color='red', linestyle='--', label='Random Guess')\n",
    "\n",
    "plt.xlabel('False Positive Rate')\n",
    "plt.ylabel('True Positive Rate')\n",
    "plt.title('Receiver Operating Characteristic (ROC) Curve')\n",
    "plt.legend(loc='lower right')\n",
    "plt.grid(True)\n",
    "plt.show()"
   ]
  },
  {
   "cell_type": "code",
   "execution_count": 61,
   "id": "0fb58693",
   "metadata": {},
   "outputs": [
    {
     "data": {
      "text/plain": [
       "(7260, 156)"
      ]
     },
     "execution_count": 61,
     "metadata": {},
     "output_type": "execute_result"
    }
   ],
   "source": [
    "all_predictions.shape"
   ]
  },
  {
   "cell_type": "code",
   "execution_count": 62,
   "id": "c72bd654",
   "metadata": {},
   "outputs": [
    {
     "data": {
      "text/plain": [
       "(7260, 156)"
      ]
     },
     "execution_count": 62,
     "metadata": {},
     "output_type": "execute_result"
    }
   ],
   "source": [
    "all_labels.shape"
   ]
  },
  {
   "cell_type": "code",
   "execution_count": 63,
   "id": "333465a4",
   "metadata": {},
   "outputs": [
    {
     "name": "stdout",
     "output_type": "stream",
     "text": [
      "Classification report:\n",
      "156\n"
     ]
    }
   ],
   "source": [
    "cl_report = multilabel_confusion_matrix(all_labels, all_predictions)\n",
    "print(\"Classification report:\")\n",
    "print(len(cl_report))"
   ]
  },
  {
   "cell_type": "code",
   "execution_count": 64,
   "id": "b75b6cc9",
   "metadata": {},
   "outputs": [
    {
     "name": "stdout",
     "output_type": "stream",
     "text": [
      "[[6986  175]\n",
      " [  19   80]]\n"
     ]
    }
   ],
   "source": [
    "print(cl_report[0])"
   ]
  },
  {
   "cell_type": "code",
   "execution_count": 65,
   "id": "6bb7d197",
   "metadata": {},
   "outputs": [],
   "source": [
    "from sklearn.metrics import classification_report\n",
    "\n",
    "report = classification_report(all_labels, all_predictions, zero_division=np.nan)"
   ]
  },
  {
   "cell_type": "code",
   "execution_count": 66,
   "id": "ecbf3a5c",
   "metadata": {},
   "outputs": [
    {
     "data": {
      "text/plain": [
       "array([255., 133., 143., 114., 279., 243., 181., 183.,  79.,  97.,  49.,\n",
       "       125.,  44.,  47.,  50., 165.,  97., 200., 238.,  53., 256., 217.,\n",
       "       287., 203., 169., 226., 225., 209.,  83., 224., 105.,  52., 193.,\n",
       "       131., 228., 201., 140.,  81., 167., 118., 102., 121.,  50., 184.,\n",
       "       190., 111., 284., 304., 184.,  70., 118.,  87.,  42., 149., 148.,\n",
       "       108.,  30.,  76., 140., 106., 105., 249., 263., 242., 194., 188.,\n",
       "       244., 128.,  51., 180., 181., 120., 224.,  26.,  47., 235., 350.,\n",
       "       204., 191., 183., 369., 373., 361., 368., 400., 224.,  89., 211.,\n",
       "       134.,  99., 166.,  75., 247.,  80., 109., 187., 169., 179., 105.,\n",
       "       176., 214.,  48.,  83.,  13., 162.,  46., 152., 192.,  48., 111.,\n",
       "       261., 166.,  53.,  68., 111.,  46.,   1.,  67., 127., 235.,  51.,\n",
       "       203., 160., 102., 178., 114., 100., 119.,  31.,  62.,  25.,  18.,\n",
       "        18.,  85.,  38., 109.,  70.,  25., 149.,  67.,  87.,  98.,  50.,\n",
       "        69.,  15.,  27., 118.,  48.,  58.,  50.,  63.,   7.,  14.,  19.,\n",
       "       242.,  51.], dtype=float32)"
      ]
     },
     "execution_count": 66,
     "metadata": {},
     "output_type": "execute_result"
    }
   ],
   "source": [
    "all_predictions.sum(axis=0)"
   ]
  },
  {
   "cell_type": "code",
   "execution_count": 67,
   "id": "692d99ea",
   "metadata": {
    "scrolled": false
   },
   "outputs": [
    {
     "name": "stdout",
     "output_type": "stream",
     "text": [
      "              precision    recall  f1-score   support\n",
      "\n",
      "           0       0.31      0.81      0.45        99\n",
      "           1       0.32      0.75      0.45        57\n",
      "           2       0.31      0.90      0.47        50\n",
      "           3       0.39      0.44      0.41       100\n",
      "           4       0.20      0.55      0.29       100\n",
      "           5       0.38      0.92      0.54       100\n",
      "           6       0.11      0.40      0.17        50\n",
      "           7       0.37      0.91      0.53        75\n",
      "           8       0.24      0.38      0.29        50\n",
      "           9       0.52      1.00      0.68        50\n",
      "          10       0.33      0.32      0.32        50\n",
      "          11       0.39      0.98      0.56        50\n",
      "          12       0.93      0.93      0.93        44\n",
      "          13       0.85      1.00      0.92        40\n",
      "          14       1.00      1.00      1.00        50\n",
      "          15       0.37      0.73      0.49        84\n",
      "          16       0.48      0.94      0.64        50\n",
      "          17       0.60      0.81      0.69       150\n",
      "          18       0.16      0.78      0.27        50\n",
      "          19       0.89      0.94      0.91        50\n",
      "          20       0.25      0.63      0.35       100\n",
      "          21       0.21      0.71      0.32        63\n",
      "          22       0.23      0.65      0.34       100\n",
      "          23       0.47      0.63      0.54       150\n",
      "          24       0.20      0.57      0.29        58\n",
      "          25       0.17      0.54      0.26        70\n",
      "          26       0.14      0.62      0.23        50\n",
      "          27       0.16      0.55      0.25        60\n",
      "          28       0.72      0.60      0.66       100\n",
      "          29       0.20      0.88      0.32        50\n",
      "          30       0.31      0.66      0.43        50\n",
      "          31       0.96      1.00      0.98        50\n",
      "          32       0.23      0.88      0.36        50\n",
      "          33       0.27      0.72      0.40        50\n",
      "          34       0.21      0.94      0.34        50\n",
      "          35       0.22      0.90      0.36        50\n",
      "          36       0.10      0.28      0.15        50\n",
      "          37       0.23      0.38      0.29        50\n",
      "          38       0.29      0.96      0.44        50\n",
      "          39       0.46      1.00      0.63        54\n",
      "          40       0.46      0.98      0.63        48\n",
      "          41       0.41      1.00      0.58        50\n",
      "          42       1.00      1.00      1.00        50\n",
      "          43       0.24      0.88      0.38        50\n",
      "          44       0.24      0.92      0.38        50\n",
      "          45       0.41      0.92      0.57        50\n",
      "          46       0.15      0.84      0.25        50\n",
      "          47       0.22      0.85      0.35        80\n",
      "          48       0.23      0.84      0.36        50\n",
      "          49       0.63      0.88      0.73        50\n",
      "          50       0.26      0.62      0.37        50\n",
      "          51       0.41      0.72      0.53        50\n",
      "          52       0.76      0.64      0.70        50\n",
      "          53       0.11      0.32      0.16        50\n",
      "          54       0.12      0.36      0.18        50\n",
      "          55       0.16      0.34      0.22        50\n",
      "          56       0.90      0.54      0.68        50\n",
      "          57       0.24      0.36      0.29        50\n",
      "          58       0.33      0.92      0.48        50\n",
      "          59       0.52      0.95      0.67        58\n",
      "          60       0.18      0.38      0.25        50\n",
      "          61       0.33      0.86      0.47        94\n",
      "          62       0.17      0.88      0.28        50\n",
      "          63       0.19      0.90      0.31        50\n",
      "          64       0.25      0.98      0.40        50\n",
      "          65       0.26      0.98      0.41        50\n",
      "          66       0.43      0.77      0.55       135\n",
      "          67       0.30      0.72      0.43        54\n",
      "          68       0.98      1.00      0.99        50\n",
      "          69       0.27      0.98      0.43        50\n",
      "          70       0.28      1.00      0.43        50\n",
      "          71       0.42      1.00      0.59        50\n",
      "          72       0.17      0.76      0.28        50\n",
      "          73       1.00      1.00      1.00        26\n",
      "          74       0.47      1.00      0.64        22\n",
      "          75       0.18      0.84      0.29        50\n",
      "          76       0.15      0.89      0.25        57\n",
      "          77       0.37      0.78      0.50        98\n",
      "          78       0.42      0.96      0.58        83\n",
      "          79       0.26      0.94      0.40        50\n",
      "          80       0.14      1.00      0.24        50\n",
      "          81       0.13      1.00      0.24        50\n",
      "          82       0.14      1.00      0.24        50\n",
      "          83       0.14      1.00      0.24        50\n",
      "          84       0.12      1.00      0.22        50\n",
      "          85       0.29      0.97      0.45        68\n",
      "          86       0.69      0.87      0.77        70\n",
      "          87       0.18      0.76      0.29        50\n",
      "          88       0.28      0.74      0.40        50\n",
      "          89       0.51      1.00      0.67        50\n",
      "          90       0.40      0.85      0.55        79\n",
      "          91       0.67      1.00      0.80        50\n",
      "          92       0.20      0.98      0.33        50\n",
      "          93       0.61      0.98      0.75        50\n",
      "          94       0.26      0.49      0.34        57\n",
      "          95       0.13      0.50      0.21        50\n",
      "          96       0.22      0.74      0.34        50\n",
      "          97       0.15      0.52      0.23        50\n",
      "          98       0.46      0.96      0.62        50\n",
      "          99       0.27      0.89      0.41        53\n",
      "         100       0.17      0.74      0.28        50\n",
      "         101       0.67      0.64      0.65        50\n",
      "         102       0.71      0.61      0.66        97\n",
      "         103       0.62      1.00      0.76         8\n",
      "         104       0.28      0.92      0.43        50\n",
      "         105       0.96      0.88      0.92        50\n",
      "         106       0.65      0.99      0.79       100\n",
      "         107       0.49      0.95      0.65       100\n",
      "         108       0.88      0.84      0.86        50\n",
      "         109       0.44      0.98      0.61        50\n",
      "         110       0.34      0.88      0.49       100\n",
      "         111       0.28      0.92      0.43        50\n",
      "         112       0.83      0.88      0.85        50\n",
      "         113       0.74      1.00      0.85        50\n",
      "         114       0.44      0.98      0.61        50\n",
      "         115       0.50      1.00      0.67        23\n",
      "         116       1.00      1.00      1.00         1\n",
      "         117       0.70      0.94      0.80        50\n",
      "         118       0.37      0.94      0.53        50\n",
      "         119       0.39      0.91      0.54       100\n",
      "         120       0.92      0.94      0.93        50\n",
      "         121       0.23      0.92      0.36        50\n",
      "         122       0.31      0.98      0.47        50\n",
      "         123       0.49      1.00      0.66        50\n",
      "         124       0.27      0.96      0.42        50\n",
      "         125       0.42      0.96      0.59        50\n",
      "         126       0.80      0.88      0.84        91\n",
      "         127       0.35      0.84      0.50        50\n",
      "         128       1.00      0.62      0.77        50\n",
      "         129       0.71      0.88      0.79        50\n",
      "         130       0.44      1.00      0.61        11\n",
      "         131       0.72      1.00      0.84        13\n",
      "         132       0.94      1.00      0.97        17\n",
      "         133       0.59      1.00      0.74        50\n",
      "         134       1.00      1.00      1.00        38\n",
      "         135       0.42      0.92      0.58        50\n",
      "         136       0.74      0.98      0.85        53\n",
      "         137       1.00      1.00      1.00        25\n",
      "         138       0.66      1.00      0.80        99\n",
      "         139       0.73      0.98      0.84        50\n",
      "         140       0.40      0.97      0.57        36\n",
      "         141       0.46      0.94      0.62        48\n",
      "         142       0.94      0.94      0.94        50\n",
      "         143       0.68      1.00      0.81        47\n",
      "         144       0.87      1.00      0.93        13\n",
      "         145       0.63      1.00      0.77        17\n",
      "         146       0.42      0.94      0.58        52\n",
      "         147       0.96      0.92      0.94        50\n",
      "         148       0.88      0.96      0.92        53\n",
      "         149       1.00      1.00      1.00        50\n",
      "         150       0.65      0.82      0.73        50\n",
      "         151       1.00      1.00      1.00         7\n",
      "         152       0.50      1.00      0.67         7\n",
      "         153       1.00      1.00      1.00        19\n",
      "         154       0.32      0.95      0.48        81\n",
      "         155       0.98      1.00      0.99        50\n",
      "\n",
      "   micro avg       0.33      0.82      0.47      8642\n",
      "   macro avg       0.46      0.84      0.56      8642\n",
      "weighted avg       0.44      0.82      0.54      8642\n",
      " samples avg       0.48      0.82      0.53      8642\n",
      "\n"
     ]
    }
   ],
   "source": [
    "print(report)"
   ]
  },
  {
   "cell_type": "code",
   "execution_count": null,
   "id": "43a64d4f",
   "metadata": {},
   "outputs": [],
   "source": [
    "list(enc.classes_)[36]"
   ]
  },
  {
   "cell_type": "code",
   "execution_count": null,
   "id": "7e153aae",
   "metadata": {
    "scrolled": false
   },
   "outputs": [],
   "source": [
    "from sklearn.metrics import precision_recall_curve, average_precision_score, roc_curve, roc_auc_score\n",
    "import matplotlib.pyplot as plt\n",
    "num_classes = 83\n",
    "# Compute precision, recall, and thresholds for each class\n",
    "precision = dict()\n",
    "recall = dict()\n",
    "thresholds = dict()\n",
    "average_precision = dict()\n",
    "\n",
    "for i in range(num_classes):  # num_classes is the number of classes\n",
    "    precision[i], recall[i], thresholds[i] = precision_recall_curve(all_labels[:, i], all_predictions[:, i])\n",
    "    average_precision[i] = average_precision_score(all_labels[:, i], all_predictions[:, i])\n",
    "\n",
    "# Compute micro-average precision-recall curve and AUC\n",
    "precision[\"micro\"], recall[\"micro\"], _ = precision_recall_curve(all_labels.ravel(), all_predictions.ravel())\n",
    "average_precision[\"micro\"] = average_precision_score(all_labels, all_predictions, average=\"micro\")\n",
    "\n",
    "# Compute ROC curve and AUC\n",
    "fpr = dict()\n",
    "tpr = dict()\n",
    "roc_auc = dict()\n",
    "\n",
    "for i in range(num_classes):\n",
    "    fpr[i], tpr[i], _ = roc_curve(all_labels[:, i], all_predictions[:, i])\n",
    "    roc_auc[i] = roc_auc_score(all_labels[:, i], all_predictions[:, i])\n",
    "\n",
    "# Compute micro-average ROC curve and AUC\n",
    "fpr[\"micro\"], tpr[\"micro\"], _ = roc_curve(all_labels.ravel(), all_predictions.ravel())\n",
    "roc_auc[\"micro\"] = roc_auc_score(all_labels, all_predictions, average=\"micro\")\n",
    "\n",
    "# Split classes into groups of 10\n",
    "class_groups = [list(range(i, min(i + 10, num_classes))) for i in range(0, num_classes, 10)]\n",
    "\n",
    "# Plot Precision-Recall and ROC curves for each group\n",
    "for group in class_groups:\n",
    "    plt.figure(figsize=(12, 6))\n",
    "\n",
    "    # Plot Precision-Recall curve\n",
    "    plt.subplot(1, 2, 1)\n",
    "    plt.step(recall['micro'], precision['micro'], where='post', label='Micro-average Precision-Recall curve (AUPR = {0:0.2f})'\n",
    "                 ''.format(average_precision[\"micro\"]))\n",
    "    for i in group:\n",
    "        plt.step(recall[i], precision[i], where='post', label='Precision-recall curve of class {0} (AUPR = {1:0.2f})'\n",
    "                 ''.format(i, average_precision[i]))\n",
    "\n",
    "    plt.xlabel('Recall')\n",
    "    plt.ylabel('Precision')\n",
    "    plt.ylim([0.0, 1.05])\n",
    "    plt.xlim([0.0, 1.0])\n",
    "    plt.title('Precision-Recall curve (Classes {})'.format(group))\n",
    "    plt.legend(loc=\"best\")\n",
    "\n",
    "    # Plot ROC curve\n",
    "    plt.subplot(1, 2, 2)\n",
    "    plt.plot(fpr['micro'], tpr['micro'], label='Micro-average ROC curve (AUC = {0:0.2f})'\n",
    "                 ''.format(roc_auc[\"micro\"]))\n",
    "    for i in group:\n",
    "        plt.plot(fpr[i], tpr[i], label='ROC curve of class {0} (AUC = {1:0.2f})'\n",
    "                 ''.format(i, roc_auc[i]))\n",
    "\n",
    "    plt.plot([0, 1], [0, 1], 'k--')\n",
    "    plt.xlim([0.0, 1.0])\n",
    "    plt.ylim([0.0, 1.05])\n",
    "    plt.xlabel('False Positive Rate')\n",
    "    plt.ylabel('True Positive Rate')\n",
    "    plt.title('ROC curve (Classes {})'.format(group))\n",
    "    plt.legend(loc=\"best\")\n",
    "\n",
    "    plt.tight_layout()\n",
    "    plt.show()\n"
   ]
  },
  {
   "cell_type": "code",
   "execution_count": null,
   "id": "d890b37c",
   "metadata": {},
   "outputs": [],
   "source": []
  },
  {
   "cell_type": "code",
   "execution_count": null,
   "id": "b446c428",
   "metadata": {},
   "outputs": [],
   "source": [
    "import nltk\n",
    "import sklearn\n",
    "\n",
    "print('The nltk version is {}.'.format(nltk.__version__))\n",
    "print('The scikit-learn version is {}.'.format(sklearn.__version__))"
   ]
  },
  {
   "cell_type": "code",
   "execution_count": null,
   "id": "357cbbdf",
   "metadata": {},
   "outputs": [],
   "source": []
  }
 ],
 "metadata": {
  "kernelspec": {
   "display_name": "Python 3 (ipykernel)",
   "language": "python",
   "name": "python3"
  },
  "language_info": {
   "codemirror_mode": {
    "name": "ipython",
    "version": 3
   },
   "file_extension": ".py",
   "mimetype": "text/x-python",
   "name": "python",
   "nbconvert_exporter": "python",
   "pygments_lexer": "ipython3",
   "version": "3.9.13"
  }
 },
 "nbformat": 4,
 "nbformat_minor": 5
}
