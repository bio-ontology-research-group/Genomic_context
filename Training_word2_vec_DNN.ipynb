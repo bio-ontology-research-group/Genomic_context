{
 "cells": [
  {
   "cell_type": "code",
   "execution_count": 11,
   "id": "5a53ed4e",
   "metadata": {},
   "outputs": [],
   "source": [
    "from genomic_embeddings import Embeddings"
   ]
  },
  {
   "cell_type": "code",
   "execution_count": 12,
   "id": "08e7eeac",
   "metadata": {},
   "outputs": [],
   "source": [
    "model_path = \"/home/toibazd/Data/outputs/G2V/G2V_2024-01-16.w2v\"\n",
    "gene_embeddings = Embeddings.load_embeddings(model_path)"
   ]
  },
  {
   "cell_type": "code",
   "execution_count": 15,
   "id": "5651a9fd",
   "metadata": {},
   "outputs": [],
   "source": [
    "import pandas as pd\n",
    "\n",
    "\n",
    "df = pd.read_csv('KOs_with_labels.csv')\n",
    "df['embeddings'] = pd.Series(dtype=object)\n",
    "\n",
    "def your_embedding_function(ko):\n",
    "    return gene_embeddings.wv[ko]\n",
    "\n",
    "# Apply the embedding function to fill the 'embeddings' column\n",
    "df['embeddings'] = df['KOs'].apply(lambda ko: your_embedding_function(ko) if ko in gene_embeddings.wv else None)\n",
    "df = df.dropna()\n",
    "df = df.drop(columns=[\"Unnamed: 0\"])\n"
   ]
  },
  {
   "cell_type": "code",
   "execution_count": 16,
   "id": "beb84b75",
   "metadata": {},
   "outputs": [],
   "source": [
    "df.to_csv(\"KOs_with_labels_for_W2V.csv\", index = False)"
   ]
  },
  {
   "cell_type": "code",
   "execution_count": 18,
   "id": "23eae3cb",
   "metadata": {},
   "outputs": [],
   "source": [
    "import torch\n",
    "import torch.nn as nn\n",
    "\n",
    "class Classification_V0(nn.Module):\n",
    "    def __init__(self, input_dim, first_hidden, second_hidden, last_hidden, output_dim, dropout_prob):\n",
    "        super(Classification_V0, self).__init__()\n",
    "        self.fc1 = nn.Linear(input_dim, first_hidden)\n",
    "        self.fc2 = nn.Linear(first_hidden, second_hidden)\n",
    "        self.fc3 = nn.Linear(second_hidden, last_hidden)\n",
    "        self.fc4 = nn.Linear(last_hidden, output_dim)\n",
    "        \n",
    "        self.relu = nn.ReLU()\n",
    "        self.dropout = nn.Dropout(dropout_prob)\n",
    "    \n",
    "    def forward(self, x):\n",
    "        return self.fc4(self.dropout(self.relu(self.fc3(self.dropout(self.relu(self.fc2(self.dropout(self.relu(self.fc1(x))))))))))\n",
    "\n",
    "input_dim = 300\n",
    "first_hidden = 256\n",
    "second_hidden = 128\n",
    "last_hidden = 64\n",
    "output_dim = 9\n",
    "dropout_prob = 0.2\n",
    "\n",
    "model = Classification_V0(input_dim, first_hidden, second_hidden, last_hidden, output_dim, dropout_prob)\n"
   ]
  },
  {
   "cell_type": "code",
   "execution_count": 19,
   "id": "a89680a4",
   "metadata": {},
   "outputs": [
    {
     "name": "stdout",
     "output_type": "stream",
     "text": [
      "cuda\n"
     ]
    }
   ],
   "source": [
    "if torch.cuda.is_available():\n",
    "    device = \"cuda\"\n",
    "else:\n",
    "    device = \"cpu\"\n",
    "    \n",
    "print(device)"
   ]
  },
  {
   "cell_type": "code",
   "execution_count": 20,
   "id": "68fa752b",
   "metadata": {},
   "outputs": [
    {
     "data": {
      "text/plain": [
       "Classification_V0(\n",
       "  (fc1): Linear(in_features=300, out_features=256, bias=True)\n",
       "  (fc2): Linear(in_features=256, out_features=128, bias=True)\n",
       "  (fc3): Linear(in_features=128, out_features=64, bias=True)\n",
       "  (fc4): Linear(in_features=64, out_features=9, bias=True)\n",
       "  (relu): ReLU()\n",
       "  (dropout): Dropout(p=0.2, inplace=False)\n",
       ")"
      ]
     },
     "execution_count": 20,
     "metadata": {},
     "output_type": "execute_result"
    }
   ],
   "source": [
    "model.to(device)"
   ]
  },
  {
   "cell_type": "code",
   "execution_count": 21,
   "id": "62e4fbc3",
   "metadata": {},
   "outputs": [
    {
     "name": "stdout",
     "output_type": "stream",
     "text": [
      "5448\n"
     ]
    }
   ],
   "source": [
    "print(len(df))"
   ]
  },
  {
   "cell_type": "code",
   "execution_count": 22,
   "id": "ef63ff95",
   "metadata": {},
   "outputs": [
    {
     "data": {
      "text/plain": [
       "5448"
      ]
     },
     "execution_count": 22,
     "metadata": {},
     "output_type": "execute_result"
    }
   ],
   "source": [
    "import pandas as pd\n",
    "import numpy as np\n",
    "\n",
    "from sklearn.model_selection import train_test_split\n",
    "from torch.utils.data import Dataset, DataLoader\n",
    "from sklearn.preprocessing import OneHotEncoder\n",
    "\n",
    "\n",
    "\n",
    "\n",
    "label_to_int = {label: i for i, label in enumerate(df['label'].unique())}\n",
    "\n",
    "num_classes = len(label_to_int)\n",
    "df['label_int'] = df['label'].map(label_to_int)\n",
    "label_int_array = df['label_int'].to_numpy()\n",
    "len(label_int_array)"
   ]
  },
  {
   "cell_type": "code",
   "execution_count": 23,
   "id": "83ec9e8f",
   "metadata": {},
   "outputs": [
    {
     "data": {
      "text/plain": [
       "469"
      ]
     },
     "execution_count": 23,
     "metadata": {},
     "output_type": "execute_result"
    }
   ],
   "source": [
    "len(df[df['label'] == 'Ribosome'])"
   ]
  },
  {
   "cell_type": "code",
   "execution_count": 24,
   "id": "c310ba4d",
   "metadata": {},
   "outputs": [],
   "source": [
    "X = df['embeddings'].to_numpy()"
   ]
  },
  {
   "cell_type": "code",
   "execution_count": 25,
   "id": "eb0d1a98",
   "metadata": {},
   "outputs": [
    {
     "data": {
      "text/plain": [
       "array([0, 0, 1, 0, 0, 2, 0, 0, 3, 4])"
      ]
     },
     "execution_count": 25,
     "metadata": {},
     "output_type": "execute_result"
    }
   ],
   "source": [
    "label_int_array[:10]"
   ]
  },
  {
   "cell_type": "code",
   "execution_count": 26,
   "id": "f8e04ee1",
   "metadata": {},
   "outputs": [],
   "source": [
    "class Word2vecdataset(torch.utils.data.Dataset):\n",
    "    def __init__(self, X, y):\n",
    "        self.X = X  \n",
    "        self.y = y      \n",
    "        self.len = X.shape[0] \n",
    "\n",
    "    def __len__(self):\n",
    "        return self.len\n",
    "\n",
    "    def __getitem__(self, idx):\n",
    "    \n",
    "        X_idx = self.X[idx, :]\n",
    "        y_idx = self.y[idx]\n",
    "        return X_idx, y_idx"
   ]
  },
  {
   "cell_type": "code",
   "execution_count": 27,
   "id": "2dcab0f9",
   "metadata": {},
   "outputs": [],
   "source": [
    "train_X, test_X, train_y, test_y = train_test_split(X, label_int_array, test_size=0.2, random_state=42, stratify=label_int_array)\n",
    "\n",
    "train_X=np.vstack(train_X)\n",
    "test_X=np.vstack(test_X)\n"
   ]
  },
  {
   "cell_type": "code",
   "execution_count": 28,
   "id": "96df3b28",
   "metadata": {},
   "outputs": [
    {
     "data": {
      "text/plain": [
       "((4358, 300), (1090, 300))"
      ]
     },
     "execution_count": 28,
     "metadata": {},
     "output_type": "execute_result"
    }
   ],
   "source": [
    "train_X.shape, test_X.shape"
   ]
  },
  {
   "cell_type": "code",
   "execution_count": 29,
   "id": "99effca5",
   "metadata": {},
   "outputs": [],
   "source": [
    "encoder = OneHotEncoder(sparse_output=False, categories='auto')\n",
    "\n",
    "y_1hot = encoder.fit_transform(train_y.reshape(-1,1))"
   ]
  },
  {
   "cell_type": "code",
   "execution_count": 30,
   "id": "01ad9512",
   "metadata": {},
   "outputs": [],
   "source": [
    "x_train = torch.tensor(train_X, dtype=torch.float)\n",
    "x_test = torch.tensor(test_X, dtype=torch.float)\n",
    "y_train = torch.tensor(y_1hot, dtype=torch.float)\n",
    "y_test = torch.tensor(test_y, dtype=torch.float)"
   ]
  },
  {
   "cell_type": "code",
   "execution_count": 31,
   "id": "5381e6c5",
   "metadata": {},
   "outputs": [],
   "source": [
    "train_dataset = Word2vecdataset(x_train, y_train)\n",
    "test_dataset = Word2vecdataset(x_test, y_test)\n",
    "\n",
    "batch_size = 32  \n",
    "train_loader = DataLoader(train_dataset, batch_size=batch_size, shuffle=True)\n",
    "test_loader = DataLoader(test_dataset, batch_size=batch_size, shuffle=False)"
   ]
  },
  {
   "cell_type": "code",
   "execution_count": 32,
   "id": "d39f33e2",
   "metadata": {},
   "outputs": [],
   "source": [
    "criterion = torch.nn.CrossEntropyLoss()\n",
    "\n",
    "optimizer = torch.optim.Adam(model.parameters())"
   ]
  },
  {
   "cell_type": "code",
   "execution_count": 33,
   "id": "d43fe29e",
   "metadata": {},
   "outputs": [
    {
     "name": "stdout",
     "output_type": "stream",
     "text": [
      "Training at 1 epoch\n",
      "Loss:  1.986364944137796\n",
      "\n",
      "Training at 2 epoch\n",
      "Loss:  1.940879703438195\n",
      "\n",
      "Training at 3 epoch\n",
      "Loss:  1.9352500186349353\n",
      "\n",
      "Training at 4 epoch\n",
      "Loss:  1.9375853094741375\n",
      "\n",
      "Training at 5 epoch\n",
      "Loss:  1.940757959428495\n",
      "\n",
      "Training at 6 epoch\n",
      "Loss:  1.93856964407176\n",
      "\n",
      "Training at 7 epoch\n",
      "Loss:  1.9375647619692948\n",
      "\n",
      "Training at 8 epoch\n",
      "Loss:  1.9359069601462706\n",
      "\n",
      "Training at 9 epoch\n",
      "Loss:  1.9320644984280106\n",
      "\n",
      "Training at 10 epoch\n",
      "Loss:  1.9325037272307124\n",
      "\n",
      "Training at 11 epoch\n",
      "Loss:  1.9274825397199087\n",
      "\n",
      "Training at 12 epoch\n",
      "Loss:  1.9313164375124185\n",
      "\n",
      "Training at 13 epoch\n",
      "Loss:  1.9243387210108067\n",
      "\n",
      "Training at 14 epoch\n",
      "Loss:  1.9189149558979228\n",
      "\n",
      "Training at 15 epoch\n",
      "Loss:  1.9152866445318626\n",
      "\n",
      "Training at 16 epoch\n",
      "Loss:  1.9137994520855646\n",
      "\n",
      "Training at 17 epoch\n",
      "Loss:  1.9080954633490013\n",
      "\n",
      "Training at 18 epoch\n",
      "Loss:  1.907215961574638\n",
      "\n",
      "Training at 19 epoch\n",
      "Loss:  1.9097990337079458\n",
      "\n",
      "Training at 20 epoch\n",
      "Loss:  1.9067111363376144\n",
      "\n",
      "Training at 21 epoch\n",
      "Loss:  1.9082157724965227\n",
      "\n",
      "Training at 22 epoch\n",
      "Loss:  1.90809371001529\n",
      "\n",
      "Training at 23 epoch\n",
      "Loss:  1.907282724867772\n",
      "\n",
      "Training at 24 epoch\n",
      "Loss:  1.9098330753563095\n",
      "\n",
      "Training at 25 epoch\n",
      "Loss:  1.9061606826573392\n",
      "\n",
      "Training at 26 epoch\n",
      "Loss:  1.9038004344397217\n",
      "\n",
      "Training at 27 epoch\n",
      "Loss:  1.906785849237094\n",
      "\n",
      "Training at 28 epoch\n",
      "Loss:  1.904616834473436\n",
      "\n",
      "Training at 29 epoch\n",
      "Loss:  1.9027335782990837\n",
      "\n",
      "Training at 30 epoch\n",
      "Loss:  1.9065316645768438\n",
      "\n",
      "Finished training\n"
     ]
    }
   ],
   "source": [
    "model.train()\n",
    "losses = []\n",
    "\n",
    "for i in range(30):\n",
    "    loss_epoch = 0\n",
    "    print(f\"Training at {i+1} epoch\")\n",
    "    for index, data in enumerate(train_loader):\n",
    "        X, y = data\n",
    "        X = X.to(device)\n",
    "        y = y.to(device)\n",
    "        optimizer.zero_grad()\n",
    "        logits = model(X)\n",
    "        loss = criterion(logits, y)\n",
    "        loss_epoch+=loss.item()\n",
    "        loss.backward()\n",
    "        optimizer.step()\n",
    "    print(\"Loss: \",loss_epoch/len(train_loader), end=\"\\n\\n\")\n",
    "    losses.append(loss_epoch/len(train_loader))\n",
    "    \n",
    "print(\"Finished training\")"
   ]
  },
  {
   "cell_type": "code",
   "execution_count": 34,
   "id": "f33f0ae2",
   "metadata": {},
   "outputs": [
    {
     "name": "stdout",
     "output_type": "stream",
     "text": [
      "315\n",
      "Classification accuracy:  28.899082568807337\n"
     ]
    }
   ],
   "source": [
    "model.eval()\n",
    "with torch.inference_mode():\n",
    "    outputs = model(x_test.to(device))\n",
    "    predictions = torch.argmax(torch.softmax(outputs, dim=-1), dim=1)\n",
    "    correct = torch.eq(y_test, predictions.cpu()).sum().item()\n",
    "    print(correct)\n",
    "    acc = (correct / len(y_test)) * 100\n",
    "    print(\"Classification accuracy: \", acc)"
   ]
  },
  {
   "cell_type": "code",
   "execution_count": 35,
   "id": "82d6be50",
   "metadata": {},
   "outputs": [
    {
     "name": "stdout",
     "output_type": "stream",
     "text": [
      "                                             precision    recall  f1-score   support\n",
      "\n",
      "                                   Ribosome       0.00      0.00      0.00        94\n",
      "                 Prokaryotic defense system       0.00      0.00      0.00       173\n",
      "       Porphyrin and chlorophyll metabolism       0.00      0.00      0.00        54\n",
      "                  Oxidative phosphorylation       0.00      0.00      0.00        82\n",
      "Amino sugar and nucleotide sugar metabolism       0.00      0.00      0.00        62\n",
      "                           Secretion system       0.29      0.99      0.45       317\n",
      "                       Two-component system       0.20      0.01      0.02       233\n",
      "                          Energy metabolism       0.00      0.00      0.00        42\n",
      "                       Benzoate degradation       0.00      0.00      0.00        33\n",
      "\n",
      "                                   accuracy                           0.29      1090\n",
      "                                  macro avg       0.05      0.11      0.05      1090\n",
      "                               weighted avg       0.13      0.29      0.13      1090\n",
      "\n"
     ]
    },
    {
     "name": "stderr",
     "output_type": "stream",
     "text": [
      "/home/toibazd/miniconda3/lib/python3.9/site-packages/sklearn/metrics/_classification.py:1344: UndefinedMetricWarning: Precision and F-score are ill-defined and being set to 0.0 in labels with no predicted samples. Use `zero_division` parameter to control this behavior.\n",
      "  _warn_prf(average, modifier, msg_start, len(result))\n",
      "/home/toibazd/miniconda3/lib/python3.9/site-packages/sklearn/metrics/_classification.py:1344: UndefinedMetricWarning: Precision and F-score are ill-defined and being set to 0.0 in labels with no predicted samples. Use `zero_division` parameter to control this behavior.\n",
      "  _warn_prf(average, modifier, msg_start, len(result))\n",
      "/home/toibazd/miniconda3/lib/python3.9/site-packages/sklearn/metrics/_classification.py:1344: UndefinedMetricWarning: Precision and F-score are ill-defined and being set to 0.0 in labels with no predicted samples. Use `zero_division` parameter to control this behavior.\n",
      "  _warn_prf(average, modifier, msg_start, len(result))\n"
     ]
    }
   ],
   "source": [
    "from sklearn.metrics import classification_report\n",
    "\n",
    "report = classification_report(y_test, predictions.cpu(), target_names=label_to_int.keys())\n",
    "print(report)"
   ]
  },
  {
   "cell_type": "code",
   "execution_count": 36,
   "id": "03feda43",
   "metadata": {},
   "outputs": [
    {
     "name": "stdout",
     "output_type": "stream",
     "text": [
      "{'Ribosome': 0, 'Prokaryotic defense system': 1, 'Porphyrin and chlorophyll metabolism': 2, 'Oxidative phosphorylation': 3, 'Amino sugar and nucleotide sugar metabolism': 4, 'Secretion system': 5, 'Two-component system': 6, 'Energy metabolism': 7, 'Benzoate degradation': 8}\n"
     ]
    }
   ],
   "source": [
    "print(label_to_int)"
   ]
  },
  {
   "cell_type": "code",
   "execution_count": 37,
   "id": "712cdf9e",
   "metadata": {},
   "outputs": [
    {
     "data": {
      "image/png": "[encoded data removed]",
      "text/plain": [
       "<Figure size 800x600 with 2 Axes>"
      ]
     },
     "metadata": {},
     "output_type": "display_data"
    }
   ],
   "source": [
    "import numpy as np\n",
    "import matplotlib.pyplot as plt\n",
    "\n",
    "# Convert the tensors to NumPy arrays\n",
    "y_true = y_test.cpu().numpy()  # Convert to NumPy and move to CPU if using GPU\n",
    "y_pred = predictions.cpu().numpy()\n",
    "\n",
    "# Create an empty confusion matrix\n",
    "confusion_matrix = np.zeros((len(label_to_int), len(label_to_int)))\n",
    "\n",
    "# Fill in the confusion matrix\n",
    "for i in range(len(y_true)):\n",
    "    true_class = int(y_true[i])\n",
    "    pred_class = int(y_pred[i])\n",
    "    confusion_matrix[true_class, pred_class] += 1\n",
    "\n",
    "# Plot the confusion matrix\n",
    "plt.figure(figsize=(8, 6))\n",
    "plt.imshow(confusion_matrix, interpolation='nearest', cmap=plt.get_cmap('Blues'))\n",
    "plt.title('Confusion Matrix || word2vec')\n",
    "plt.colorbar()\n",
    "\n",
    "tick_marks = np.arange(len(label_to_int))\n",
    "plt.xticks(tick_marks, [f'Class {i}' for i in range(len(label_to_int))], rotation=90)\n",
    "plt.yticks(tick_marks, list(label_to_int.keys()))\n",
    "\n",
    "for i in range(len(label_to_int)):\n",
    "    for j in range(len(label_to_int)):\n",
    "        plt.text(j, i, f'{int(confusion_matrix[i, j]):d}', ha='center', va='center', color='red' if confusion_matrix[i, j] > 0.5 else 'black')\n",
    "\n",
    "plt.xlabel('Predicted')\n",
    "plt.ylabel('True')\n",
    "plt.tight_layout()\n",
    "plt.savefig(\"Results/Confmat_word2vec.jpg\")\n",
    "plt.show()\n",
    "\n"
   ]
  },
  {
   "cell_type": "code",
   "execution_count": 38,
   "id": "72bd17ea",
   "metadata": {},
   "outputs": [
    {
     "name": "stdout",
     "output_type": "stream",
     "text": [
      "94\n",
      "173\n",
      "54\n",
      "82\n",
      "62\n",
      "317\n",
      "233\n",
      "42\n",
      "33\n"
     ]
    },
    {
     "data": {
      "text/plain": [
       "{'Ribosome': 0,\n",
       " 'Prokaryotic defense system': 1,\n",
       " 'Porphyrin and chlorophyll metabolism': 2,\n",
       " 'Oxidative phosphorylation': 3,\n",
       " 'Amino sugar and nucleotide sugar metabolism': 4,\n",
       " 'Secretion system': 5,\n",
       " 'Two-component system': 6,\n",
       " 'Energy metabolism': 7,\n",
       " 'Benzoate degradation': 8}"
      ]
     },
     "execution_count": 38,
     "metadata": {},
     "output_type": "execute_result"
    }
   ],
   "source": [
    "print(torch.sum(y_test == 0).item())\n",
    "print(torch.sum(y_test == 1).item())\n",
    "print(torch.sum(y_test == 2).item())\n",
    "print(torch.sum(y_test == 3).item())\n",
    "print(torch.sum(y_test == 4).item())\n",
    "print(torch.sum(y_test == 5).item())\n",
    "print(torch.sum(y_test == 6).item())\n",
    "print(torch.sum(y_test == 7).item())\n",
    "print(torch.sum(y_test == 8).item())\n",
    "\n",
    "label_to_int"
   ]
  },
  {
   "cell_type": "code",
   "execution_count": 39,
   "id": "d1adc9fa",
   "metadata": {},
   "outputs": [
    {
     "data": {
      "image/png": "[encoded data removed]",
      "text/plain": [
       "<Figure size 1000x500 with 1 Axes>"
      ]
     },
     "metadata": {},
     "output_type": "display_data"
    }
   ],
   "source": [
    "import matplotlib.pyplot as plt\n",
    "\n",
    "plt.figure(figsize=(10, 5))\n",
    "plt.plot(range(len(losses)), losses, marker='o', linestyle='-', color='b')\n",
    "plt.title(f'Training Loss Over {len(losses)} Epochs || word2vec')\n",
    "plt.xlabel('Epoch')\n",
    "plt.ylabel('Loss')\n",
    "plt.grid(True)\n",
    "plt.savefig(\"Results/Training_loss_word2vec.png\")\n",
    "plt.show()"
   ]
  },
  {
   "cell_type": "code",
   "execution_count": null,
   "id": "41b768f8",
   "metadata": {},
   "outputs": [],
   "source": []
  }
 ],
 "metadata": {
  "kernelspec": {
   "display_name": "Python 3 (ipykernel)",
   "language": "python",
   "name": "python3"
  },
  "language_info": {
   "codemirror_mode": {
    "name": "ipython",
    "version": 3
   },
   "file_extension": ".py",
   "mimetype": "text/x-python",
   "name": "python",
   "nbconvert_exporter": "python",
   "pygments_lexer": "ipython3",
   "version": "3.9.13"
  }
 },
 "nbformat": 4,
 "nbformat_minor": 5
}
