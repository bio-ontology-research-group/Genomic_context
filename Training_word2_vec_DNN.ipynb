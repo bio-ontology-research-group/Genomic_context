{
 "cells": [
  {
   "cell_type": "code",
   "execution_count": 36,
   "id": "5a53ed4e",
   "metadata": {},
   "outputs": [],
   "source": [
    "from genomic_embeddings import Embeddings"
   ]
  },
  {
   "cell_type": "code",
   "execution_count": 37,
   "id": "08e7eeac",
   "metadata": {},
   "outputs": [],
   "source": [
    "model_path = \"/home/toibazd/Data/outputs/G2V/G2V_2024-03-14.w2v\"\n",
    "gene_embeddings = Embeddings.load_embeddings(model_path)"
   ]
  },
  {
   "cell_type": "code",
   "execution_count": 38,
   "id": "08b0600b",
   "metadata": {},
   "outputs": [],
   "source": [
    "import json\n",
    "with open(\"/home/toibazd/Most_frequent_IPs.json\", \"r\") as f:\n",
    "    ips = json.load(f)\n",
    "\n",
    "sorted_dict = sorted(ips.items(), key=lambda x: x[1], reverse=True)\n",
    "most_frequent_ips = [item[0] for item in sorted_dict[100:300]]\n"
   ]
  },
  {
   "cell_type": "code",
   "execution_count": 39,
   "id": "5651a9fd",
   "metadata": {},
   "outputs": [
    {
     "data": {
      "application/json": {
       "ascii": false,
       "bar_format": null,
       "colour": null,
       "elapsed": 0.017817020416259766,
       "initial": 0,
       "n": 0,
       "ncols": null,
       "nrows": null,
       "postfix": null,
       "prefix": "",
       "rate": null,
       "total": null,
       "unit": "it",
       "unit_divisor": 1000,
       "unit_scale": false
      },
      "application/vnd.jupyter.widget-view+json": {
       "model_id": "b0ee46e2ed8d4d1bb427316247adbca4",
       "version_major": 2,
       "version_minor": 0
      },
      "text/plain": [
       "0it [00:00, ?it/s]"
      ]
     },
     "metadata": {},
     "output_type": "display_data"
    },
    {
     "data": {
      "application/json": {
       "ascii": false,
       "bar_format": null,
       "colour": null,
       "elapsed": 0.01977086067199707,
       "initial": 0,
       "n": 0,
       "ncols": null,
       "nrows": null,
       "postfix": null,
       "prefix": "",
       "rate": null,
       "total": null,
       "unit": "it",
       "unit_divisor": 1000,
       "unit_scale": false
      },
      "application/vnd.jupyter.widget-view+json": {
       "model_id": "15f6af15ed9c4d5fbef9326a6fddb74d",
       "version_major": 2,
       "version_minor": 0
      },
      "text/plain": [
       "0it [00:00, ?it/s]"
      ]
     },
     "metadata": {},
     "output_type": "display_data"
    },
    {
     "name": "stdout",
     "output_type": "stream",
     "text": [
      "       protein_name                                                GO\n",
      "0      WP_000081439                          [GO:0003700, GO:0006355]\n",
      "1      WP_002963987                          [GO:0016853, GO:0005975]\n",
      "2      WP_011161944                          [GO:0008236, GO:0006508]\n",
      "3      WP_012093980                          [GO:0009002, GO:0006508]\n",
      "4              4749  [GO:0005525, GO:0015093, GO:0006826, GO:0016020]\n",
      "...             ...                                               ...\n",
      "29052  WP_239633266                          [GO:0003700, GO:0006355]\n",
      "29053  WP_257890612                          [GO:0016491, GO:0006520]\n",
      "29054  WP_249589618                          [GO:0003700, GO:0006355]\n",
      "29055  WP_245144403                          [GO:0003700, GO:0006355]\n",
      "29056  WP_003783447                          [GO:0004637, GO:0009113]\n",
      "\n",
      "[29057 rows x 2 columns]\n"
     ]
    }
   ],
   "source": [
    "import pandas as pd\n",
    "\n",
    "\n",
    "from collections import defaultdict\n",
    "from sklearn.preprocessing import MultiLabelBinarizer\n",
    "import csv\n",
    "from tqdm.auto import tqdm\n",
    "import numpy as np\n",
    "\n",
    "data_dict = defaultdict(list)\n",
    "ip_to_go = defaultdict(list)\n",
    "enc = MultiLabelBinarizer()\n",
    "\n",
    "\n",
    "new_tsv_filename = \"/home/toibazd/Family_IPs_with_GO.tsv\"\n",
    "\n",
    "\n",
    "with open(new_tsv_filename, \"r\") as new_tsvfile:\n",
    "    reader = csv.reader(new_tsvfile, delimiter=\"\\t\")\n",
    "    next(reader)\n",
    "    for row in tqdm(reader):\n",
    "        ip = row[0]  # Assuming the IP is in the first column\n",
    "        go_terms = row[6]  # Assuming the GO terms are in the second column\n",
    "\n",
    "        # Add IP and corresponding GO terms to data_dict\n",
    "        ip_to_go[ip]+= go_terms.split(',')\n",
    "\n",
    "with open(\"/home/toibazd/Prot2IP_GO_filtered_MF.tsv\", \"r\") as tsvfile:\n",
    "    reader = csv.reader(tsvfile, delimiter = \"\\t\")\n",
    "    for row in tqdm(reader):\n",
    "        key = row[0].split(\"prot_\")[1].split(\".\")[0]\n",
    "        iprs = eval(row[1])\n",
    "        \n",
    "        # Filter InterPro IDs that are in the words list\n",
    "#         filtered_iprs = [ipr for ipr in iprs if ipr in most_frequent_ips]\n",
    "\n",
    "        # Save only if there are filtered InterPro IDs\n",
    "        for ip in iprs:\n",
    "            if ip in most_frequent_ips and ip_to_go[ip]:\n",
    "                for GO in ip_to_go[ip]:\n",
    "                    data_dict[key].append(GO)\n",
    "\n",
    "\n",
    "\n",
    "# Convert dictionary to DataFrame\n",
    "df = pd.DataFrame(data_dict.items(), columns=[\"protein_name\", \"GO\"])\n",
    "\n",
    "print(df)\n",
    "\n",
    "\n",
    "\n"
   ]
  },
  {
   "cell_type": "code",
   "execution_count": 40,
   "id": "9b95d5ec",
   "metadata": {},
   "outputs": [
    {
     "name": "stdout",
     "output_type": "stream",
     "text": [
      "Number of unique words: 271\n"
     ]
    }
   ],
   "source": [
    "all_values = [value for values in data_dict.values() for value in values]\n",
    "\n",
    "# Convert the list into a set to remove duplicates\n",
    "unique_go = set(all_values)\n",
    "\n",
    "print(\"Number of unique words:\", len(unique_go))"
   ]
  },
  {
   "cell_type": "code",
   "execution_count": 41,
   "id": "38e76c21",
   "metadata": {},
   "outputs": [],
   "source": [
    "df['embeddings'] = pd.Series(dtype=object)\n",
    "\n",
    "def your_embedding_function(ko):\n",
    "    return gene_embeddings.wv[ko]\n",
    "\n",
    "# Apply the embedding function to fill the 'embeddings' column\n",
    "df['embeddings'] = df['protein_name'].apply(lambda ko: your_embedding_function(ko) if ko in gene_embeddings.wv else None)\n",
    "df = df.dropna()\n",
    "# df = df.drop(columns=[\"Unnamed: 0\"])"
   ]
  },
  {
   "cell_type": "code",
   "execution_count": 42,
   "id": "e9262ba0",
   "metadata": {},
   "outputs": [
    {
     "name": "stdout",
     "output_type": "stream",
     "text": [
      "       protein_name                                                GO   \n",
      "0      WP_000081439                          [GO:0003700, GO:0006355]  \\\n",
      "1      WP_002963987                          [GO:0016853, GO:0005975]   \n",
      "2      WP_011161944                          [GO:0008236, GO:0006508]   \n",
      "3      WP_012093980                          [GO:0009002, GO:0006508]   \n",
      "4              4749  [GO:0005525, GO:0015093, GO:0006826, GO:0016020]   \n",
      "...             ...                                               ...   \n",
      "29052  WP_239633266                          [GO:0003700, GO:0006355]   \n",
      "29053  WP_257890612                          [GO:0016491, GO:0006520]   \n",
      "29054  WP_249589618                          [GO:0003700, GO:0006355]   \n",
      "29055  WP_245144403                          [GO:0003700, GO:0006355]   \n",
      "29056  WP_003783447                          [GO:0004637, GO:0009113]   \n",
      "\n",
      "                                              embeddings  \n",
      "0      [0.00064908667, 0.00061103195, 0.0005686064, -...  \n",
      "1      [0.0014201448, -0.0008548289, 0.0010715927, -0...  \n",
      "2      [0.0008236282, 0.0009928746, 0.0013135442, -0....  \n",
      "3      [-0.0005453293, -0.00076345913, 0.0008620325, ...  \n",
      "4      [0.00048100308, 0.0012075105, 0.0010848587, -0...  \n",
      "...                                                  ...  \n",
      "29052  [-0.0014112807, -0.00070491206, -0.0018842587,...  \n",
      "29053  [0.0018190127, 6.9283116e-05, 0.0011165376, 0....  \n",
      "29054  [-0.00029889672, 0.0003663292, -0.0018682262, ...  \n",
      "29055  [-0.00038274273, -0.0010844178, -0.001299649, ...  \n",
      "29056  [-0.0016669647, -0.00022638815, 0.001418456, -...  \n",
      "\n",
      "[29055 rows x 3 columns]\n"
     ]
    }
   ],
   "source": [
    "print(df)"
   ]
  },
  {
   "cell_type": "code",
   "execution_count": 43,
   "id": "beb84b75",
   "metadata": {},
   "outputs": [],
   "source": [
    "df.to_csv(\"IPs_with_labels_for_W2V.csv\", index = False)"
   ]
  },
  {
   "cell_type": "code",
   "execution_count": 273,
   "id": "4de18a1b",
   "metadata": {},
   "outputs": [],
   "source": [
    "from sklearn.preprocessing import MultiLabelBinarizer\n",
    "\n",
    "\n",
    "# Initialize MultiLabelBinarizer\n",
    "mlb = MultiLabelBinarizer()\n",
    "\n",
    "# Fit and transform the 'GO' column\n",
    "one_hot_encoded = mlb.fit_transform(df['GO'])"
   ]
  },
  {
   "cell_type": "code",
   "execution_count": 274,
   "id": "c1c38d9e",
   "metadata": {},
   "outputs": [
    {
     "data": {
      "text/plain": [
       "(29055, 271)"
      ]
     },
     "execution_count": 274,
     "metadata": {},
     "output_type": "execute_result"
    }
   ],
   "source": [
    "one_hot_encoded.shape"
   ]
  },
  {
   "cell_type": "code",
   "execution_count": 275,
   "id": "dba1e1ce",
   "metadata": {},
   "outputs": [],
   "source": [
    "embeddings = np.array(df['embeddings'].to_list())"
   ]
  },
  {
   "cell_type": "code",
   "execution_count": 276,
   "id": "7daef453",
   "metadata": {},
   "outputs": [
    {
     "data": {
      "text/plain": [
       "(29055, 256)"
      ]
     },
     "execution_count": 276,
     "metadata": {},
     "output_type": "execute_result"
    }
   ],
   "source": [
    "embeddings.shape"
   ]
  },
  {
   "cell_type": "code",
   "execution_count": 285,
   "id": "b976f87d",
   "metadata": {},
   "outputs": [
    {
     "name": "stdout",
     "output_type": "stream",
     "text": [
      "[ 141  169  128  279  104   97  342  357  324 1050  579 3080  777  101\n",
      "  364   36  115  666   51  181  167  162  111   95   88  128   48   19\n",
      "  112  175   82   45  171  317   56   65  231  169   37   13  119  501\n",
      "   94  141  101  130  106   58   98   74   58   51  102  141  190  182\n",
      "   97  138   95   85   17  302  191   90  692 1058  384  305  364  426\n",
      "  503   58   40   82   31   24   24  168   13   82   56   74   88  112\n",
      "   34  508  167  352  103  171  328  190 2333  194  121   58  364   36\n",
      "   50  182   97  138   95   85  670   95   48   19  177   27  178  141\n",
      "   26 1009   84   90  191   79  137  280  384  171  194  121   89   17\n",
      "  203  389  579   79  118  205  137   30  363  111   30   16  100   31\n",
      "   56  124   66  253  147    2   26   45   98  168   79  115   82  169\n",
      "  302  149   95   66  342   17   40   51  223  165  109    5   74  145\n",
      "  137  169  228  357   54  960   82  145   82  131  165 6961  101   26\n",
      "  187  200 1131  124   91  121  501   40   82  135  363  108 1588  120\n",
      "   81   92   63  447   29  173  284   70  302   66  103   97  115  100\n",
      "  133  104   16   39  124  430   17  106  707 4518  112   16  171  132\n",
      "  408  102  102  124  110  103   79  169   37   57   40   24   64  126\n",
      "   43   43   17   17   77   59   79   56   82  165   30  411  112  128\n",
      "   65   39  177   27  172   34   77 5217   25  142   55   27  119  137\n",
      "  137   64  103   54  131]\n"
     ]
    },
    {
     "data": {
      "text/plain": [
       "tensor([4.7400e+02, 3.9600e+02, 5.2300e+02, 2.3900e+02, 6.4400e+02, 6.9000e+02,\n",
       "        1.9500e+02, 1.8600e+02, 2.0600e+02, 6.2000e+01, 1.1400e+02, 2.0000e+01,\n",
       "        8.5000e+01, 6.6300e+02, 1.8300e+02, 1.8630e+03, 5.8200e+02, 9.9000e+01,\n",
       "        1.3140e+03, 3.6900e+02, 4.0000e+02, 4.1300e+02, 6.0300e+02, 7.0500e+02,\n",
       "        7.6100e+02, 5.2300e+02, 1.3970e+03, 3.5310e+03, 5.9800e+02, 3.8200e+02,\n",
       "        8.1700e+02, 1.4900e+03, 3.9100e+02, 2.1000e+02, 1.1970e+03, 1.0310e+03,\n",
       "        2.8900e+02, 3.9600e+02, 1.8120e+03, 5.1610e+03, 5.6200e+02, 1.3200e+02,\n",
       "        7.1200e+02, 4.7400e+02, 6.6300e+02, 5.1500e+02, 6.3200e+02, 1.1560e+03,\n",
       "        6.8300e+02, 9.0500e+02, 1.1560e+03, 1.3140e+03, 6.5600e+02, 4.7400e+02,\n",
       "        3.5200e+02, 3.6700e+02, 6.9000e+02, 4.8500e+02, 7.0500e+02, 7.8800e+02,\n",
       "        3.9460e+03, 2.2100e+02, 3.5000e+02, 7.4400e+02, 9.5000e+01, 6.2000e+01,\n",
       "        1.7300e+02, 2.1900e+02, 1.8300e+02, 1.5600e+02, 1.3200e+02, 1.1560e+03,\n",
       "        1.6760e+03, 8.1700e+02, 2.1640e+03, 2.7950e+03, 2.7950e+03, 3.9800e+02,\n",
       "        5.1610e+03, 8.1700e+02, 1.1970e+03, 9.0500e+02, 7.6100e+02, 5.9800e+02,\n",
       "        1.9720e+03, 1.3100e+02, 4.0000e+02, 1.8900e+02, 6.5000e+02, 3.9100e+02,\n",
       "        2.0300e+02, 3.5200e+02, 2.7000e+01, 3.4400e+02, 5.5300e+02, 1.1560e+03,\n",
       "        1.8300e+02, 1.8630e+03, 1.3410e+03, 3.6700e+02, 6.9000e+02, 4.8500e+02,\n",
       "        7.0500e+02, 7.8800e+02, 9.9000e+01, 7.0500e+02, 1.3970e+03, 3.5310e+03,\n",
       "        3.7800e+02, 2.4840e+03, 3.7600e+02, 4.7400e+02, 2.5800e+03, 6.5000e+01,\n",
       "        7.9700e+02, 7.4400e+02, 3.5000e+02, 8.4800e+02, 4.8800e+02, 2.3800e+02,\n",
       "        1.7300e+02, 3.9100e+02, 3.4400e+02, 5.5300e+02, 7.5300e+02, 3.9460e+03,\n",
       "        3.2900e+02, 1.7100e+02, 1.1400e+02, 8.4800e+02, 5.6700e+02, 3.2600e+02,\n",
       "        4.8800e+02, 2.2360e+03, 1.8300e+02, 6.0300e+02, 2.2360e+03, 4.1930e+03,\n",
       "        6.7000e+02, 2.1640e+03, 1.1970e+03, 5.4000e+02, 1.0150e+03, 2.6400e+02,\n",
       "        4.5500e+02, 3.3556e+04, 2.5800e+03, 1.4900e+03, 6.8300e+02, 3.9800e+02,\n",
       "        8.4800e+02, 5.8200e+02, 8.1700e+02, 3.9600e+02, 2.2100e+02, 4.4900e+02,\n",
       "        7.0500e+02, 1.0150e+03, 1.9500e+02, 3.9460e+03, 1.6760e+03, 1.3140e+03,\n",
       "        2.9900e+02, 4.0500e+02, 6.1400e+02, 1.3422e+04, 9.0500e+02, 4.6100e+02,\n",
       "        4.8800e+02, 3.9600e+02, 2.9300e+02, 1.8600e+02, 1.2410e+03, 6.8000e+01,\n",
       "        8.1700e+02, 4.6100e+02, 8.1700e+02, 5.1100e+02, 4.0500e+02, 8.0000e+00,\n",
       "        6.6300e+02, 2.5800e+03, 3.5700e+02, 3.3400e+02, 5.8000e+01, 5.4000e+02,\n",
       "        7.3600e+02, 5.5300e+02, 1.3200e+02, 1.6760e+03, 8.1700e+02, 4.9600e+02,\n",
       "        1.8300e+02, 6.2000e+02, 4.1000e+01, 5.5800e+02, 8.2700e+02, 7.2800e+02,\n",
       "        1.0640e+03, 1.4900e+02, 2.3130e+03, 3.8600e+02, 2.3500e+02, 9.5700e+02,\n",
       "        2.2100e+02, 1.0150e+03, 6.5000e+02, 6.9000e+02, 5.8200e+02, 6.7000e+02,\n",
       "        5.0300e+02, 6.4400e+02, 4.1930e+03, 1.7190e+03, 5.4000e+02, 1.5500e+02,\n",
       "        3.9460e+03, 6.3200e+02, 9.3000e+01, 1.3000e+01, 5.9800e+02, 4.1930e+03,\n",
       "        3.9100e+02, 5.0700e+02, 1.6300e+02, 6.5600e+02, 6.5600e+02, 5.4000e+02,\n",
       "        6.0900e+02, 6.5000e+02, 8.4800e+02, 3.9600e+02, 1.8120e+03, 1.1760e+03,\n",
       "        1.6760e+03, 2.7950e+03, 1.0470e+03, 5.3100e+02, 1.5590e+03, 1.5590e+03,\n",
       "        3.9460e+03, 3.9460e+03, 8.7000e+02, 1.1360e+03, 8.4800e+02, 1.1970e+03,\n",
       "        8.1700e+02, 4.0500e+02, 2.2360e+03, 1.6200e+02, 5.9800e+02, 5.2300e+02,\n",
       "        1.0310e+03, 1.7190e+03, 3.7800e+02, 2.4840e+03, 3.8900e+02, 1.9720e+03,\n",
       "        8.7000e+02, 1.1000e+01, 2.6830e+03, 4.7100e+02, 1.2190e+03, 2.4840e+03,\n",
       "        5.6200e+02, 4.8800e+02, 4.8800e+02, 1.0470e+03, 6.5000e+02, 1.2410e+03,\n",
       "        5.1100e+02])"
      ]
     },
     "execution_count": 285,
     "metadata": {},
     "output_type": "execute_result"
    }
   ],
   "source": [
    "def calculate_pos_weights(class_counts):\n",
    "    pos_weights = np.ones_like(class_counts)\n",
    "    \n",
    "    neg_counts = [sum(class_counts)-pos_count for pos_count in class_counts]\n",
    "    for cdx, (pos_count, neg_count) in enumerate(zip(class_counts,  neg_counts)):\n",
    "        pos_weights[cdx] = neg_count / (pos_count + 1e-5)\n",
    "\n",
    "    return torch.as_tensor(pos_weights, dtype=torch.float)\n",
    "class_counts = np.array(one_hot_encoded).sum(axis=0)\n",
    "print(class_counts)\n",
    "pos_weights = calculate_pos_weights(class_counts) \n",
    "pos_weights"
   ]
  },
  {
   "cell_type": "code",
   "execution_count": 286,
   "id": "9fddd1b3",
   "metadata": {},
   "outputs": [
    {
     "data": {
      "text/plain": [
       "29055"
      ]
     },
     "execution_count": 286,
     "metadata": {},
     "output_type": "execute_result"
    }
   ],
   "source": [
    "len(embeddings)"
   ]
  },
  {
   "cell_type": "code",
   "execution_count": 287,
   "id": "786a3151",
   "metadata": {},
   "outputs": [],
   "source": [
    "# import random\n",
    "\n",
    "\n",
    "# # Zip the lists together\n",
    "# combined = list(zip(embeddings, one_hot_encoded))\n",
    "\n",
    "# # Shuffle the combined list\n",
    "# random.shuffle(combined)\n",
    "\n",
    "# # Unzip the shuffled list\n",
    "# embeddings, labels = zip(*combined)\n",
    "\n"
   ]
  },
  {
   "cell_type": "code",
   "execution_count": 288,
   "id": "23eae3cb",
   "metadata": {},
   "outputs": [],
   "source": [
    "import torch\n",
    "import torch.nn as nn\n",
    "\n",
    "class Classification_V0(nn.Module):\n",
    "    def __init__(self, input_dim, first_hidden, second_hidden, last_hidden, output_dim, dropout_prob):\n",
    "        super(Classification_V0, self).__init__()\n",
    "        self.fc1 = nn.Linear(input_dim, first_hidden)\n",
    "        self.fc2 = nn.Linear(first_hidden, second_hidden)\n",
    "        self.fc3 = nn.Linear(second_hidden, last_hidden)\n",
    "        self.fc4 = nn.Linear(last_hidden, output_dim)\n",
    "        \n",
    "        self.relu = nn.ReLU()\n",
    "        self.dropout = nn.Dropout(dropout_prob)\n",
    "    \n",
    "    def forward(self, x):\n",
    "        return self.fc4(self.dropout(self.relu(self.fc3(self.dropout(self.relu(self.fc2(self.dropout(self.relu(self.fc1(x))))))))))\n",
    "\n",
    "input_dim = 256\n",
    "first_hidden = 256\n",
    "second_hidden = 128\n",
    "last_hidden = 64\n",
    "output_dim = 271\n",
    "dropout_prob = 0.2\n",
    "\n",
    "model = Classification_V0(input_dim, first_hidden, second_hidden, last_hidden, output_dim, dropout_prob)\n"
   ]
  },
  {
   "cell_type": "code",
   "execution_count": 289,
   "id": "a89680a4",
   "metadata": {},
   "outputs": [],
   "source": [
    "from torch.utils.data import DataLoader, TensorDataset\n",
    "import torch.optim.lr_scheduler as lr_scheduler\n",
    "\n",
    "batch_size = 128\n",
    "def data_generator(embeddings, labels, batch_size):\n",
    "    num_samples = len(embeddings)\n",
    "    for i in range(0, num_samples, batch_size):\n",
    "        batch_embeddings = embeddings[i:i+batch_size]\n",
    "        batch_labels = labels[i:i+batch_size]\n",
    "        yield batch_embeddings, batch_labels\n",
    "\n",
    "# Define optimizer and loss function\n",
    "optimizer = torch.optim.Adam(model.parameters(), lr=0.0001)\n",
    "scheduler = lr_scheduler.StepLR(optimizer=optimizer, step_size=5, gamma=0.05)\n",
    "criterion = torch.nn.BCEWithLogitsLoss(pos_weight=pos_weights)"
   ]
  },
  {
   "cell_type": "code",
   "execution_count": 290,
   "id": "68fa752b",
   "metadata": {},
   "outputs": [
    {
     "name": "stdout",
     "output_type": "stream",
     "text": [
      "Epoch 1/20:\n"
     ]
    },
    {
     "data": {
      "application/json": {
       "ascii": false,
       "bar_format": null,
       "colour": null,
       "elapsed": 0.02112555503845215,
       "initial": 0,
       "n": 0,
       "ncols": null,
       "nrows": null,
       "postfix": null,
       "prefix": "Training Batches",
       "rate": null,
       "total": null,
       "unit": "it",
       "unit_divisor": 1000,
       "unit_scale": false
      },
      "application/vnd.jupyter.widget-view+json": {
       "model_id": "",
       "version_major": 2,
       "version_minor": 0
      },
      "text/plain": [
       "Training Batches: 0it [00:00, ?it/s]"
      ]
     },
     "metadata": {},
     "output_type": "display_data"
    },
    {
     "name": "stdout",
     "output_type": "stream",
     "text": [
      "2.275848085124118\n",
      "Epoch 2/20:\n"
     ]
    },
    {
     "data": {
      "application/json": {
       "ascii": false,
       "bar_format": null,
       "colour": null,
       "elapsed": 0.020695209503173828,
       "initial": 0,
       "n": 0,
       "ncols": null,
       "nrows": null,
       "postfix": null,
       "prefix": "Training Batches",
       "rate": null,
       "total": null,
       "unit": "it",
       "unit_divisor": 1000,
       "unit_scale": false
      },
      "application/vnd.jupyter.widget-view+json": {
       "model_id": "",
       "version_major": 2,
       "version_minor": 0
      },
      "text/plain": [
       "Training Batches: 0it [00:00, ?it/s]"
      ]
     },
     "metadata": {},
     "output_type": "display_data"
    },
    {
     "name": "stdout",
     "output_type": "stream",
     "text": [
      "2.2071675755033557\n",
      "Epoch 3/20:\n"
     ]
    },
    {
     "data": {
      "application/json": {
       "ascii": false,
       "bar_format": null,
       "colour": null,
       "elapsed": 0.0207369327545166,
       "initial": 0,
       "n": 0,
       "ncols": null,
       "nrows": null,
       "postfix": null,
       "prefix": "Training Batches",
       "rate": null,
       "total": null,
       "unit": "it",
       "unit_divisor": 1000,
       "unit_scale": false
      },
      "application/vnd.jupyter.widget-view+json": {
       "model_id": "",
       "version_major": 2,
       "version_minor": 0
      },
      "text/plain": [
       "Training Batches: 0it [00:00, ?it/s]"
      ]
     },
     "metadata": {},
     "output_type": "display_data"
    },
    {
     "name": "stdout",
     "output_type": "stream",
     "text": [
      "2.0813943810726356\n",
      "Epoch 4/20:\n"
     ]
    },
    {
     "data": {
      "application/json": {
       "ascii": false,
       "bar_format": null,
       "colour": null,
       "elapsed": 0.02136969566345215,
       "initial": 0,
       "n": 0,
       "ncols": null,
       "nrows": null,
       "postfix": null,
       "prefix": "Training Batches",
       "rate": null,
       "total": null,
       "unit": "it",
       "unit_divisor": 1000,
       "unit_scale": false
      },
      "application/vnd.jupyter.widget-view+json": {
       "model_id": "",
       "version_major": 2,
       "version_minor": 0
      },
      "text/plain": [
       "Training Batches: 0it [00:00, ?it/s]"
      ]
     },
     "metadata": {},
     "output_type": "display_data"
    },
    {
     "name": "stdout",
     "output_type": "stream",
     "text": [
      "2.057466643567628\n",
      "Epoch 5/20:\n"
     ]
    },
    {
     "data": {
      "application/json": {
       "ascii": false,
       "bar_format": null,
       "colour": null,
       "elapsed": 0.020752668380737305,
       "initial": 0,
       "n": 0,
       "ncols": null,
       "nrows": null,
       "postfix": null,
       "prefix": "Training Batches",
       "rate": null,
       "total": null,
       "unit": "it",
       "unit_divisor": 1000,
       "unit_scale": false
      },
      "application/vnd.jupyter.widget-view+json": {
       "model_id": "",
       "version_major": 2,
       "version_minor": 0
      },
      "text/plain": [
       "Training Batches: 0it [00:00, ?it/s]"
      ]
     },
     "metadata": {},
     "output_type": "display_data"
    },
    {
     "name": "stdout",
     "output_type": "stream",
     "text": [
      "2.0470302147866115\n",
      "Epoch 6/20:\n"
     ]
    },
    {
     "data": {
      "application/json": {
       "ascii": false,
       "bar_format": null,
       "colour": null,
       "elapsed": 0.020940542221069336,
       "initial": 0,
       "n": 0,
       "ncols": null,
       "nrows": null,
       "postfix": null,
       "prefix": "Training Batches",
       "rate": null,
       "total": null,
       "unit": "it",
       "unit_divisor": 1000,
       "unit_scale": false
      },
      "application/vnd.jupyter.widget-view+json": {
       "model_id": "",
       "version_major": 2,
       "version_minor": 0
      },
      "text/plain": [
       "Training Batches: 0it [00:00, ?it/s]"
      ]
     },
     "metadata": {},
     "output_type": "display_data"
    },
    {
     "name": "stdout",
     "output_type": "stream",
     "text": [
      "2.0421109424197845\n",
      "Epoch 7/20:\n"
     ]
    },
    {
     "data": {
      "application/json": {
       "ascii": false,
       "bar_format": null,
       "colour": null,
       "elapsed": 0.021213531494140625,
       "initial": 0,
       "n": 0,
       "ncols": null,
       "nrows": null,
       "postfix": null,
       "prefix": "Training Batches",
       "rate": null,
       "total": null,
       "unit": "it",
       "unit_divisor": 1000,
       "unit_scale": false
      },
      "application/vnd.jupyter.widget-view+json": {
       "model_id": "",
       "version_major": 2,
       "version_minor": 0
      },
      "text/plain": [
       "Training Batches: 0it [00:00, ?it/s]"
      ]
     },
     "metadata": {},
     "output_type": "display_data"
    },
    {
     "name": "stdout",
     "output_type": "stream",
     "text": [
      "2.041905693719851\n",
      "Epoch 8/20:\n"
     ]
    },
    {
     "data": {
      "application/json": {
       "ascii": false,
       "bar_format": null,
       "colour": null,
       "elapsed": 0.02067112922668457,
       "initial": 0,
       "n": 0,
       "ncols": null,
       "nrows": null,
       "postfix": null,
       "prefix": "Training Batches",
       "rate": null,
       "total": null,
       "unit": "it",
       "unit_divisor": 1000,
       "unit_scale": false
      },
      "application/vnd.jupyter.widget-view+json": {
       "model_id": "",
       "version_major": 2,
       "version_minor": 0
      },
      "text/plain": [
       "Training Batches: 0it [00:00, ?it/s]"
      ]
     },
     "metadata": {},
     "output_type": "display_data"
    },
    {
     "name": "stdout",
     "output_type": "stream",
     "text": [
      "2.0391180823251767\n",
      "Epoch 9/20:\n"
     ]
    },
    {
     "data": {
      "application/json": {
       "ascii": false,
       "bar_format": null,
       "colour": null,
       "elapsed": 0.020808935165405273,
       "initial": 0,
       "n": 0,
       "ncols": null,
       "nrows": null,
       "postfix": null,
       "prefix": "Training Batches",
       "rate": null,
       "total": null,
       "unit": "it",
       "unit_divisor": 1000,
       "unit_scale": false
      },
      "application/vnd.jupyter.widget-view+json": {
       "model_id": "",
       "version_major": 2,
       "version_minor": 0
      },
      "text/plain": [
       "Training Batches: 0it [00:00, ?it/s]"
      ]
     },
     "metadata": {},
     "output_type": "display_data"
    },
    {
     "name": "stdout",
     "output_type": "stream",
     "text": [
      "2.0388700202622854\n",
      "Epoch 10/20:\n"
     ]
    },
    {
     "data": {
      "application/json": {
       "ascii": false,
       "bar_format": null,
       "colour": null,
       "elapsed": 0.020755767822265625,
       "initial": 0,
       "n": 0,
       "ncols": null,
       "nrows": null,
       "postfix": null,
       "prefix": "Training Batches",
       "rate": null,
       "total": null,
       "unit": "it",
       "unit_divisor": 1000,
       "unit_scale": false
      },
      "application/vnd.jupyter.widget-view+json": {
       "model_id": "",
       "version_major": 2,
       "version_minor": 0
      },
      "text/plain": [
       "Training Batches: 0it [00:00, ?it/s]"
      ]
     },
     "metadata": {},
     "output_type": "display_data"
    },
    {
     "name": "stdout",
     "output_type": "stream",
     "text": [
      "2.039980314980479\n",
      "Epoch 11/20:\n"
     ]
    },
    {
     "data": {
      "application/json": {
       "ascii": false,
       "bar_format": null,
       "colour": null,
       "elapsed": 0.020806550979614258,
       "initial": 0,
       "n": 0,
       "ncols": null,
       "nrows": null,
       "postfix": null,
       "prefix": "Training Batches",
       "rate": null,
       "total": null,
       "unit": "it",
       "unit_divisor": 1000,
       "unit_scale": false
      },
      "application/vnd.jupyter.widget-view+json": {
       "model_id": "",
       "version_major": 2,
       "version_minor": 0
      },
      "text/plain": [
       "Training Batches: 0it [00:00, ?it/s]"
      ]
     },
     "metadata": {},
     "output_type": "display_data"
    },
    {
     "name": "stdout",
     "output_type": "stream",
     "text": [
      "2.0408577932956153\n",
      "Epoch 12/20:\n"
     ]
    },
    {
     "data": {
      "application/json": {
       "ascii": false,
       "bar_format": null,
       "colour": null,
       "elapsed": 0.020989179611206055,
       "initial": 0,
       "n": 0,
       "ncols": null,
       "nrows": null,
       "postfix": null,
       "prefix": "Training Batches",
       "rate": null,
       "total": null,
       "unit": "it",
       "unit_divisor": 1000,
       "unit_scale": false
      },
      "application/vnd.jupyter.widget-view+json": {
       "model_id": "",
       "version_major": 2,
       "version_minor": 0
      },
      "text/plain": [
       "Training Batches: 0it [00:00, ?it/s]"
      ]
     },
     "metadata": {},
     "output_type": "display_data"
    },
    {
     "name": "stdout",
     "output_type": "stream",
     "text": [
      "2.0393653986479037\n",
      "Epoch 13/20:\n"
     ]
    },
    {
     "data": {
      "application/json": {
       "ascii": false,
       "bar_format": null,
       "colour": null,
       "elapsed": 0.020783424377441406,
       "initial": 0,
       "n": 0,
       "ncols": null,
       "nrows": null,
       "postfix": null,
       "prefix": "Training Batches",
       "rate": null,
       "total": null,
       "unit": "it",
       "unit_divisor": 1000,
       "unit_scale": false
      },
      "application/vnd.jupyter.widget-view+json": {
       "model_id": "",
       "version_major": 2,
       "version_minor": 0
      },
      "text/plain": [
       "Training Batches: 0it [00:00, ?it/s]"
      ]
     },
     "metadata": {},
     "output_type": "display_data"
    },
    {
     "name": "stdout",
     "output_type": "stream",
     "text": [
      "2.038715065959562\n",
      "Epoch 14/20:\n"
     ]
    },
    {
     "data": {
      "application/json": {
       "ascii": false,
       "bar_format": null,
       "colour": null,
       "elapsed": 0.020755767822265625,
       "initial": 0,
       "n": 0,
       "ncols": null,
       "nrows": null,
       "postfix": null,
       "prefix": "Training Batches",
       "rate": null,
       "total": null,
       "unit": "it",
       "unit_divisor": 1000,
       "unit_scale": false
      },
      "application/vnd.jupyter.widget-view+json": {
       "model_id": "",
       "version_major": 2,
       "version_minor": 0
      },
      "text/plain": [
       "Training Batches: 0it [00:00, ?it/s]"
      ]
     },
     "metadata": {},
     "output_type": "display_data"
    },
    {
     "ename": "KeyboardInterrupt",
     "evalue": "",
     "output_type": "error",
     "traceback": [
      "\u001b[0;31m---------------------------------------------------------------------------\u001b[0m",
      "\u001b[0;31mKeyboardInterrupt\u001b[0m                         Traceback (most recent call last)",
      "Cell \u001b[0;32mIn[290], line 26\u001b[0m\n\u001b[1;32m     20\u001b[0m batch_labels_tensor \u001b[38;5;241m=\u001b[39m batch_labels_tensor\u001b[38;5;241m.\u001b[39msqueeze()\n\u001b[1;32m     23\u001b[0m outputs \u001b[38;5;241m=\u001b[39m model(batch_embeddings_tensor)\n\u001b[0;32m---> 26\u001b[0m loss \u001b[38;5;241m=\u001b[39m \u001b[43mcriterion\u001b[49m\u001b[43m(\u001b[49m\u001b[43moutputs\u001b[49m\u001b[43m,\u001b[49m\u001b[43m \u001b[49m\u001b[43mbatch_labels_tensor\u001b[49m\u001b[43m)\u001b[49m\n\u001b[1;32m     29\u001b[0m train_loss\u001b[38;5;241m+\u001b[39m\u001b[38;5;241m=\u001b[39mloss\u001b[38;5;241m.\u001b[39mitem()\n\u001b[1;32m     30\u001b[0m \u001b[38;5;66;03m# Backward pass and optimization\u001b[39;00m\n",
      "File \u001b[0;32m~/miniconda3/lib/python3.9/site-packages/torch/nn/modules/module.py:1194\u001b[0m, in \u001b[0;36mModule._call_impl\u001b[0;34m(self, *input, **kwargs)\u001b[0m\n\u001b[1;32m   1190\u001b[0m \u001b[38;5;66;03m# If we don't have any hooks, we want to skip the rest of the logic in\u001b[39;00m\n\u001b[1;32m   1191\u001b[0m \u001b[38;5;66;03m# this function, and just call forward.\u001b[39;00m\n\u001b[1;32m   1192\u001b[0m \u001b[38;5;28;01mif\u001b[39;00m \u001b[38;5;129;01mnot\u001b[39;00m (\u001b[38;5;28mself\u001b[39m\u001b[38;5;241m.\u001b[39m_backward_hooks \u001b[38;5;129;01mor\u001b[39;00m \u001b[38;5;28mself\u001b[39m\u001b[38;5;241m.\u001b[39m_forward_hooks \u001b[38;5;129;01mor\u001b[39;00m \u001b[38;5;28mself\u001b[39m\u001b[38;5;241m.\u001b[39m_forward_pre_hooks \u001b[38;5;129;01mor\u001b[39;00m _global_backward_hooks\n\u001b[1;32m   1193\u001b[0m         \u001b[38;5;129;01mor\u001b[39;00m _global_forward_hooks \u001b[38;5;129;01mor\u001b[39;00m _global_forward_pre_hooks):\n\u001b[0;32m-> 1194\u001b[0m     \u001b[38;5;28;01mreturn\u001b[39;00m \u001b[43mforward_call\u001b[49m\u001b[43m(\u001b[49m\u001b[38;5;241;43m*\u001b[39;49m\u001b[38;5;28;43minput\u001b[39;49m\u001b[43m,\u001b[49m\u001b[43m \u001b[49m\u001b[38;5;241;43m*\u001b[39;49m\u001b[38;5;241;43m*\u001b[39;49m\u001b[43mkwargs\u001b[49m\u001b[43m)\u001b[49m\n\u001b[1;32m   1195\u001b[0m \u001b[38;5;66;03m# Do not call functions when jit is used\u001b[39;00m\n\u001b[1;32m   1196\u001b[0m full_backward_hooks, non_full_backward_hooks \u001b[38;5;241m=\u001b[39m [], []\n",
      "File \u001b[0;32m~/miniconda3/lib/python3.9/site-packages/torch/nn/modules/loss.py:720\u001b[0m, in \u001b[0;36mBCEWithLogitsLoss.forward\u001b[0;34m(self, input, target)\u001b[0m\n\u001b[1;32m    719\u001b[0m \u001b[38;5;28;01mdef\u001b[39;00m \u001b[38;5;21mforward\u001b[39m(\u001b[38;5;28mself\u001b[39m, \u001b[38;5;28minput\u001b[39m: Tensor, target: Tensor) \u001b[38;5;241m-\u001b[39m\u001b[38;5;241m>\u001b[39m Tensor:\n\u001b[0;32m--> 720\u001b[0m     \u001b[38;5;28;01mreturn\u001b[39;00m \u001b[43mF\u001b[49m\u001b[38;5;241;43m.\u001b[39;49m\u001b[43mbinary_cross_entropy_with_logits\u001b[49m\u001b[43m(\u001b[49m\u001b[38;5;28;43minput\u001b[39;49m\u001b[43m,\u001b[49m\u001b[43m \u001b[49m\u001b[43mtarget\u001b[49m\u001b[43m,\u001b[49m\n\u001b[1;32m    721\u001b[0m \u001b[43m                                              \u001b[49m\u001b[38;5;28;43mself\u001b[39;49m\u001b[38;5;241;43m.\u001b[39;49m\u001b[43mweight\u001b[49m\u001b[43m,\u001b[49m\n\u001b[1;32m    722\u001b[0m \u001b[43m                                              \u001b[49m\u001b[43mpos_weight\u001b[49m\u001b[38;5;241;43m=\u001b[39;49m\u001b[38;5;28;43mself\u001b[39;49m\u001b[38;5;241;43m.\u001b[39;49m\u001b[43mpos_weight\u001b[49m\u001b[43m,\u001b[49m\n\u001b[1;32m    723\u001b[0m \u001b[43m                                              \u001b[49m\u001b[43mreduction\u001b[49m\u001b[38;5;241;43m=\u001b[39;49m\u001b[38;5;28;43mself\u001b[39;49m\u001b[38;5;241;43m.\u001b[39;49m\u001b[43mreduction\u001b[49m\u001b[43m)\u001b[49m\n",
      "File \u001b[0;32m~/miniconda3/lib/python3.9/site-packages/torch/nn/functional.py:3162\u001b[0m, in \u001b[0;36mbinary_cross_entropy_with_logits\u001b[0;34m(input, target, weight, size_average, reduce, reduction, pos_weight)\u001b[0m\n\u001b[1;32m   3159\u001b[0m \u001b[38;5;28;01mif\u001b[39;00m \u001b[38;5;129;01mnot\u001b[39;00m (target\u001b[38;5;241m.\u001b[39msize() \u001b[38;5;241m==\u001b[39m \u001b[38;5;28minput\u001b[39m\u001b[38;5;241m.\u001b[39msize()):\n\u001b[1;32m   3160\u001b[0m     \u001b[38;5;28;01mraise\u001b[39;00m \u001b[38;5;167;01mValueError\u001b[39;00m(\u001b[38;5;124m\"\u001b[39m\u001b[38;5;124mTarget size (\u001b[39m\u001b[38;5;132;01m{}\u001b[39;00m\u001b[38;5;124m) must be the same as input size (\u001b[39m\u001b[38;5;132;01m{}\u001b[39;00m\u001b[38;5;124m)\u001b[39m\u001b[38;5;124m\"\u001b[39m\u001b[38;5;241m.\u001b[39mformat(target\u001b[38;5;241m.\u001b[39msize(), \u001b[38;5;28minput\u001b[39m\u001b[38;5;241m.\u001b[39msize()))\n\u001b[0;32m-> 3162\u001b[0m \u001b[38;5;28;01mreturn\u001b[39;00m \u001b[43mtorch\u001b[49m\u001b[38;5;241;43m.\u001b[39;49m\u001b[43mbinary_cross_entropy_with_logits\u001b[49m\u001b[43m(\u001b[49m\u001b[38;5;28;43minput\u001b[39;49m\u001b[43m,\u001b[49m\u001b[43m \u001b[49m\u001b[43mtarget\u001b[49m\u001b[43m,\u001b[49m\u001b[43m \u001b[49m\u001b[43mweight\u001b[49m\u001b[43m,\u001b[49m\u001b[43m \u001b[49m\u001b[43mpos_weight\u001b[49m\u001b[43m,\u001b[49m\u001b[43m \u001b[49m\u001b[43mreduction_enum\u001b[49m\u001b[43m)\u001b[49m\n",
      "\u001b[0;31mKeyboardInterrupt\u001b[0m: "
     ]
    }
   ],
   "source": [
    "import numpy as np\n",
    "\n",
    "num_epochs = 20\n",
    "epoch_loss = []\n",
    "for epoch in range(num_epochs):\n",
    "    print(f\"Epoch {epoch+1}/{num_epochs}:\")\n",
    "    \n",
    "    # Initialize data generator\n",
    "    generator = data_generator(embeddings, one_hot_encoded, batch_size)\n",
    "    train_loss = 0\n",
    "    # Iterate over batches\n",
    "    for batch_embeddings, batch_labels in tqdm(generator, desc=\"Training Batches\", leave=False):\n",
    "        \n",
    "        optimizer.zero_grad()\n",
    "        \n",
    "        # Convert data to tensors\n",
    "        batch_embeddings_tensor = torch.tensor(batch_embeddings)\n",
    "        batch_labels = np.array(batch_labels)\n",
    "        batch_labels_tensor = torch.tensor(batch_labels, dtype = torch.float32)\n",
    "        batch_labels_tensor = batch_labels_tensor.squeeze()\n",
    "\n",
    "        \n",
    "        outputs = model(batch_embeddings_tensor)\n",
    "\n",
    "        \n",
    "        loss = criterion(outputs, batch_labels_tensor)\n",
    "\n",
    "        \n",
    "        train_loss+=loss.item()\n",
    "        # Backward pass and optimization\n",
    "        loss.backward()\n",
    "        optimizer.step()\n",
    "    scheduler.step()\n",
    "    epoch_loss.append(train_loss/(len(embeddings)/batch_size))\n",
    "    print(train_loss/(len(embeddings)/batch_size))\n",
    "print(\"Training finished.\")\n"
   ]
  },
  {
   "cell_type": "code",
   "execution_count": 283,
   "id": "62e4fbc3",
   "metadata": {},
   "outputs": [
    {
     "name": "stdout",
     "output_type": "stream",
     "text": [
      "29055\n"
     ]
    }
   ],
   "source": [
    "print(len(df))"
   ]
  },
  {
   "cell_type": "code",
   "execution_count": 231,
   "id": "ef63ff95",
   "metadata": {},
   "outputs": [],
   "source": [
    "import pandas as pd\n",
    "import numpy as np\n",
    "from torch.utils.data import DataLoader\n",
    "from sklearn.model_selection import train_test_split"
   ]
  },
  {
   "cell_type": "code",
   "execution_count": 232,
   "id": "f8e04ee1",
   "metadata": {},
   "outputs": [],
   "source": [
    "class Word2vecdataset(torch.utils.data.Dataset):\n",
    "    def __init__(self, X, y):\n",
    "        self.X = X  \n",
    "        self.y = y      \n",
    "        self.len = X.shape[0] \n",
    "\n",
    "    def __len__(self):\n",
    "        return self.len\n",
    "\n",
    "    def __getitem__(self, idx):\n",
    "    \n",
    "        X_idx = self.X[idx, :]\n",
    "        y_idx = self.y[idx]\n",
    "        return X_idx, y_idx"
   ]
  },
  {
   "cell_type": "code",
   "execution_count": 233,
   "id": "2dcab0f9",
   "metadata": {},
   "outputs": [],
   "source": [
    "train_X, test_X, train_y, test_y = train_test_split(X, one_hot_encoded, test_size=0.2, random_state=42)\n",
    "\n",
    "train_X=np.vstack(train_X)\n",
    "test_X=np.vstack(test_X)\n"
   ]
  },
  {
   "cell_type": "code",
   "execution_count": 234,
   "id": "96df3b28",
   "metadata": {},
   "outputs": [
    {
     "data": {
      "text/plain": [
       "((23244, 256), (5811, 256))"
      ]
     },
     "execution_count": 234,
     "metadata": {},
     "output_type": "execute_result"
    }
   ],
   "source": [
    "train_X.shape, test_X.shape"
   ]
  },
  {
   "cell_type": "code",
   "execution_count": 235,
   "id": "01ad9512",
   "metadata": {},
   "outputs": [],
   "source": [
    "x_train = torch.tensor(train_X, dtype=torch.float)\n",
    "x_test = torch.tensor(test_X, dtype=torch.float)\n",
    "y_train = torch.tensor(train_y, dtype=torch.float)\n",
    "y_test = torch.tensor(test_y, dtype=torch.float)"
   ]
  },
  {
   "cell_type": "code",
   "execution_count": 236,
   "id": "5381e6c5",
   "metadata": {},
   "outputs": [],
   "source": [
    "train_dataset = Word2vecdataset(x_train, y_train)\n",
    "test_dataset = Word2vecdataset(x_test, y_test)\n",
    "\n",
    "batch_size = 128 \n",
    "train_loader = DataLoader(train_dataset, batch_size=batch_size, shuffle=False)\n",
    "test_loader = DataLoader(test_dataset, batch_size=batch_size, shuffle=False)"
   ]
  },
  {
   "cell_type": "code",
   "execution_count": 237,
   "id": "b1e27644",
   "metadata": {},
   "outputs": [
    {
     "name": "stdout",
     "output_type": "stream",
     "text": [
      "torch.Size([23244, 271])\n"
     ]
    }
   ],
   "source": [
    "print(y_train.shape)"
   ]
  },
  {
   "cell_type": "code",
   "execution_count": 238,
   "id": "20287538",
   "metadata": {},
   "outputs": [
    {
     "name": "stdout",
     "output_type": "stream",
     "text": [
      "tensor([2.2037e+02, 1.6155e+02, 2.2688e+02, 1.0465e+02, 2.8955e+02, 3.2183e+02,\n",
      "        8.7718e+01, 8.1134e+01, 8.4456e+01, 2.6904e+01, 4.7935e+01, 8.3801e+00,\n",
      "        3.7420e+01, 2.9323e+02, 8.1719e+01, 8.9300e+02, 2.5443e+02, 4.0881e+01,\n",
      "        5.2727e+02, 1.5821e+02, 1.6385e+02, 1.8202e+02, 2.5727e+02, 2.9700e+02,\n",
      "        3.1741e+02, 2.2688e+02, 6.1068e+02, 1.7870e+03, 2.8596e+02, 1.6866e+02,\n",
      "        3.5660e+02, 6.6311e+02, 1.7118e+02, 9.1238e+01, 4.9355e+02, 4.2162e+02,\n",
      "        1.2070e+02, 1.6155e+02, 9.2876e+02, 2.1121e+03, 2.3618e+02, 5.7110e+01,\n",
      "        3.0087e+02, 2.2037e+02, 2.8596e+02, 1.9938e+02, 2.7905e+02, 4.5476e+02,\n",
      "        2.9323e+02, 3.9297e+02, 4.6388e+02, 5.2727e+02, 2.9700e+02, 2.1422e+02,\n",
      "        1.4800e+02, 1.5821e+02, 3.1311e+02, 2.0112e+02, 3.0892e+02, 3.2638e+02,\n",
      "        1.6593e+03, 9.8333e+01, 1.4427e+02, 2.9700e+02, 4.1262e+01, 2.6410e+01,\n",
      "        7.5461e+01, 9.7076e+01, 8.1719e+01, 6.6570e+01, 5.7256e+01, 4.5476e+02,\n",
      "        8.0052e+02, 3.8005e+02, 1.0096e+03, 1.4517e+03, 1.4517e+03, 1.7509e+02,\n",
      "        2.1121e+03, 3.5660e+02, 4.9355e+02, 3.9297e+02, 3.1741e+02, 2.8596e+02,\n",
      "        8.9300e+02, 5.7110e+01, 1.6385e+02, 7.9429e+01, 2.7905e+02, 1.7509e+02,\n",
      "        8.5731e+01, 1.4800e+02, 1.1443e+01, 1.4519e+02, 2.4367e+02, 4.6388e+02,\n",
      "        8.1719e+01, 8.9300e+02, 6.4467e+02, 1.5821e+02, 3.1311e+02, 2.0112e+02,\n",
      "        3.0892e+02, 3.2638e+02, 4.3023e+01, 2.8955e+02, 6.1068e+02, 1.7870e+03,\n",
      "        1.6991e+02, 1.1612e+03, 1.5930e+02, 2.1422e+02, 1.1059e+03, 2.8164e+01,\n",
      "        3.2638e+02, 2.9700e+02, 1.4427e+02, 3.2183e+02, 2.0470e+02, 1.0370e+02,\n",
      "        7.2790e+01, 1.7509e+02, 1.4519e+02, 2.4367e+02, 3.4082e+02, 1.7870e+03,\n",
      "        1.4160e+02, 7.2094e+01, 4.8987e+01, 3.6795e+02, 2.4367e+02, 1.4705e+02,\n",
      "        2.3144e+02, 9.2876e+02, 7.7263e+01, 2.6617e+02, 9.6750e+02, 1.5486e+03,\n",
      "        2.8596e+02, 1.0096e+03, 5.1553e+02, 2.3863e+02, 4.2162e+02, 1.1759e+02,\n",
      "        1.9938e+02, 1.1621e+04, 1.1059e+03, 6.6311e+02, 2.9323e+02, 1.7644e+02,\n",
      "        3.5118e+02, 2.5443e+02, 3.8005e+02, 1.6743e+02, 9.8333e+01, 1.9598e+02,\n",
      "        2.9700e+02, 4.2162e+02, 8.7718e+01, 1.6593e+03, 6.8265e+02, 5.2727e+02,\n",
      "        1.3654e+02, 1.7246e+02, 2.5727e+02, 4.6478e+03, 3.4593e+02, 1.9938e+02,\n",
      "        2.1225e+02, 1.6743e+02, 1.2533e+02, 8.1134e+01, 5.0430e+02, 2.8497e+01,\n",
      "        3.4593e+02, 1.9938e+02, 3.4593e+02, 2.2467e+02, 1.7246e+02, 3.1813e+00,\n",
      "        2.8596e+02, 1.1059e+03, 1.5293e+02, 1.4248e+02, 2.4487e+01, 2.3379e+02,\n",
      "        3.1741e+02, 2.6017e+02, 5.7110e+01, 8.0052e+02, 3.8005e+02, 2.0841e+02,\n",
      "        7.7263e+01, 2.6314e+02, 1.7288e+01, 2.6017e+02, 3.5660e+02, 3.2638e+02,\n",
      "        4.7337e+02, 6.5602e+01, 1.0096e+03, 1.6743e+02, 1.0711e+02, 4.3757e+02,\n",
      "        1.0095e+02, 4.2944e+02, 2.7905e+02, 3.2183e+02, 2.5443e+02, 2.8596e+02,\n",
      "        2.0841e+02, 2.8596e+02, 1.5486e+03, 8.0052e+02, 2.3379e+02, 6.9012e+01,\n",
      "        1.6593e+03, 2.6928e+02, 4.0213e+01, 5.4728e+00, 2.6928e+02, 1.5486e+03,\n",
      "        1.7118e+02, 2.1225e+02, 7.1411e+01, 2.9700e+02, 2.8246e+02, 2.3863e+02,\n",
      "        2.6928e+02, 2.7905e+02, 3.5118e+02, 1.6743e+02, 6.6311e+02, 5.8010e+02,\n",
      "        6.8265e+02, 1.4517e+03, 3.9976e+02, 2.3144e+02, 6.2722e+02, 6.2722e+02,\n",
      "        1.7870e+03, 1.7870e+03, 3.6795e+02, 4.9355e+02, 3.6795e+02, 4.9355e+02,\n",
      "        3.5660e+02, 1.7246e+02, 9.6750e+02, 6.9866e+01, 2.6928e+02, 2.4367e+02,\n",
      "        4.5476e+02, 8.0052e+02, 1.7118e+02, 1.1612e+03, 1.6155e+02, 8.9300e+02,\n",
      "        3.6795e+02, 4.5488e+00, 1.1612e+03, 2.3144e+02, 5.2727e+02, 1.1612e+03,\n",
      "        2.3618e+02, 2.3144e+02, 2.0470e+02, 3.9976e+02, 2.7905e+02, 5.0430e+02,\n",
      "        2.2467e+02], device='cuda:0')\n"
     ]
    }
   ],
   "source": [
    "def calculate_pos_weights(class_counts):\n",
    "    pos_weights = np.ones_like(class_counts)\n",
    "    \n",
    "    neg_counts = [len(y_train)-pos_count for pos_count in class_counts]\n",
    "    for cdx, (pos_count, neg_count) in enumerate(zip(class_counts,  neg_counts)):\n",
    "        pos_weights[cdx] = neg_count / (pos_count + 1e-5)\n",
    "\n",
    "    return torch.as_tensor(pos_weights, dtype=torch.float)\n",
    "class_counts = np.array(y_train).sum(axis=0)\n",
    "pos_weights = calculate_pos_weights(class_counts).cuda()\n",
    "print(pos_weights)"
   ]
  },
  {
   "cell_type": "code",
   "execution_count": 241,
   "id": "d39f33e2",
   "metadata": {},
   "outputs": [],
   "source": [
    "import torch.optim.lr_scheduler as lr_scheduler\n",
    "\n",
    "optimizer = torch.optim.Adam(model.parameters(), lr=0.01)\n",
    "scheduler = lr_scheduler.StepLR(optimizer=optimizer, step_size=5, gamma=0.05)\n",
    "criterion = torch.nn.BCEWithLogitsLoss(pos_weight=pos_weights)"
   ]
  },
  {
   "cell_type": "code",
   "execution_count": 242,
   "id": "d43fe29e",
   "metadata": {},
   "outputs": [
    {
     "name": "stdout",
     "output_type": "stream",
     "text": [
      "Training at 1 epoch\n",
      "Loss:  1.3797094697480674\n",
      "\n",
      "Training at 2 epoch\n",
      "Loss:  1.378424659535125\n",
      "\n",
      "Training at 3 epoch\n",
      "Loss:  1.3782820413400838\n",
      "\n",
      "Training at 4 epoch\n",
      "Loss:  1.378169514975705\n",
      "\n",
      "Training at 5 epoch\n",
      "Loss:  1.3780809726033891\n",
      "\n",
      "Training at 6 epoch\n",
      "Loss:  1.3749997805763077\n",
      "\n",
      "Training at 7 epoch\n",
      "Loss:  1.3749612812157517\n",
      "\n",
      "Training at 8 epoch\n",
      "Loss:  1.37492927810648\n",
      "\n",
      "Training at 9 epoch\n",
      "Loss:  1.3749022883373303\n",
      "\n",
      "Training at 10 epoch\n",
      "Loss:  1.3748792567095913\n",
      "\n",
      "Training at 11 epoch\n",
      "Loss:  1.3746964027593425\n",
      "\n",
      "Training at 12 epoch\n",
      "Loss:  1.3746953632805374\n",
      "\n",
      "Training at 13 epoch\n",
      "Loss:  1.374694334936666\n",
      "\n",
      "Training at 14 epoch\n",
      "Loss:  1.3746933052828023\n",
      "\n",
      "Training at 15 epoch\n",
      "Loss:  1.3746922821788998\n",
      "\n",
      "Training at 16 epoch\n"
     ]
    },
    {
     "ename": "KeyboardInterrupt",
     "evalue": "",
     "output_type": "error",
     "traceback": [
      "\u001b[0;31m---------------------------------------------------------------------------\u001b[0m",
      "\u001b[0;31mKeyboardInterrupt\u001b[0m                         Traceback (most recent call last)",
      "Cell \u001b[0;32mIn[242], line 15\u001b[0m\n\u001b[1;32m     13\u001b[0m     loss \u001b[38;5;241m=\u001b[39m criterion(logits, y)\n\u001b[1;32m     14\u001b[0m     loss_epoch\u001b[38;5;241m+\u001b[39m\u001b[38;5;241m=\u001b[39mloss\u001b[38;5;241m.\u001b[39mitem()\n\u001b[0;32m---> 15\u001b[0m     \u001b[43mloss\u001b[49m\u001b[38;5;241;43m.\u001b[39;49m\u001b[43mbackward\u001b[49m\u001b[43m(\u001b[49m\u001b[43m)\u001b[49m\n\u001b[1;32m     16\u001b[0m     optimizer\u001b[38;5;241m.\u001b[39mstep()\n\u001b[1;32m     17\u001b[0m scheduler\u001b[38;5;241m.\u001b[39mstep()\n",
      "File \u001b[0;32m~/miniconda3/lib/python3.9/site-packages/torch/_tensor.py:488\u001b[0m, in \u001b[0;36mTensor.backward\u001b[0;34m(self, gradient, retain_graph, create_graph, inputs)\u001b[0m\n\u001b[1;32m    478\u001b[0m \u001b[38;5;28;01mif\u001b[39;00m has_torch_function_unary(\u001b[38;5;28mself\u001b[39m):\n\u001b[1;32m    479\u001b[0m     \u001b[38;5;28;01mreturn\u001b[39;00m handle_torch_function(\n\u001b[1;32m    480\u001b[0m         Tensor\u001b[38;5;241m.\u001b[39mbackward,\n\u001b[1;32m    481\u001b[0m         (\u001b[38;5;28mself\u001b[39m,),\n\u001b[0;32m   (...)\u001b[0m\n\u001b[1;32m    486\u001b[0m         inputs\u001b[38;5;241m=\u001b[39minputs,\n\u001b[1;32m    487\u001b[0m     )\n\u001b[0;32m--> 488\u001b[0m \u001b[43mtorch\u001b[49m\u001b[38;5;241;43m.\u001b[39;49m\u001b[43mautograd\u001b[49m\u001b[38;5;241;43m.\u001b[39;49m\u001b[43mbackward\u001b[49m\u001b[43m(\u001b[49m\n\u001b[1;32m    489\u001b[0m \u001b[43m    \u001b[49m\u001b[38;5;28;43mself\u001b[39;49m\u001b[43m,\u001b[49m\u001b[43m \u001b[49m\u001b[43mgradient\u001b[49m\u001b[43m,\u001b[49m\u001b[43m \u001b[49m\u001b[43mretain_graph\u001b[49m\u001b[43m,\u001b[49m\u001b[43m \u001b[49m\u001b[43mcreate_graph\u001b[49m\u001b[43m,\u001b[49m\u001b[43m \u001b[49m\u001b[43minputs\u001b[49m\u001b[38;5;241;43m=\u001b[39;49m\u001b[43minputs\u001b[49m\n\u001b[1;32m    490\u001b[0m \u001b[43m\u001b[49m\u001b[43m)\u001b[49m\n",
      "File \u001b[0;32m~/miniconda3/lib/python3.9/site-packages/torch/autograd/__init__.py:190\u001b[0m, in \u001b[0;36mbackward\u001b[0;34m(tensors, grad_tensors, retain_graph, create_graph, grad_variables, inputs)\u001b[0m\n\u001b[1;32m    186\u001b[0m inputs \u001b[38;5;241m=\u001b[39m (inputs,) \u001b[38;5;28;01mif\u001b[39;00m \u001b[38;5;28misinstance\u001b[39m(inputs, torch\u001b[38;5;241m.\u001b[39mTensor) \u001b[38;5;28;01melse\u001b[39;00m \\\n\u001b[1;32m    187\u001b[0m     \u001b[38;5;28mtuple\u001b[39m(inputs) \u001b[38;5;28;01mif\u001b[39;00m inputs \u001b[38;5;129;01mis\u001b[39;00m \u001b[38;5;129;01mnot\u001b[39;00m \u001b[38;5;28;01mNone\u001b[39;00m \u001b[38;5;28;01melse\u001b[39;00m \u001b[38;5;28mtuple\u001b[39m()\n\u001b[1;32m    189\u001b[0m grad_tensors_ \u001b[38;5;241m=\u001b[39m _tensor_or_tensors_to_tuple(grad_tensors, \u001b[38;5;28mlen\u001b[39m(tensors))\n\u001b[0;32m--> 190\u001b[0m grad_tensors_ \u001b[38;5;241m=\u001b[39m \u001b[43m_make_grads\u001b[49m\u001b[43m(\u001b[49m\u001b[43mtensors\u001b[49m\u001b[43m,\u001b[49m\u001b[43m \u001b[49m\u001b[43mgrad_tensors_\u001b[49m\u001b[43m,\u001b[49m\u001b[43m \u001b[49m\u001b[43mis_grads_batched\u001b[49m\u001b[38;5;241;43m=\u001b[39;49m\u001b[38;5;28;43;01mFalse\u001b[39;49;00m\u001b[43m)\u001b[49m\n\u001b[1;32m    191\u001b[0m \u001b[38;5;28;01mif\u001b[39;00m retain_graph \u001b[38;5;129;01mis\u001b[39;00m \u001b[38;5;28;01mNone\u001b[39;00m:\n\u001b[1;32m    192\u001b[0m     retain_graph \u001b[38;5;241m=\u001b[39m create_graph\n",
      "File \u001b[0;32m~/miniconda3/lib/python3.9/site-packages/torch/autograd/__init__.py:86\u001b[0m, in \u001b[0;36m_make_grads\u001b[0;34m(outputs, grads, is_grads_batched)\u001b[0m\n\u001b[1;32m     84\u001b[0m     \u001b[38;5;28;01mif\u001b[39;00m out\u001b[38;5;241m.\u001b[39mnumel() \u001b[38;5;241m!=\u001b[39m \u001b[38;5;241m1\u001b[39m:\n\u001b[1;32m     85\u001b[0m         \u001b[38;5;28;01mraise\u001b[39;00m \u001b[38;5;167;01mRuntimeError\u001b[39;00m(\u001b[38;5;124m\"\u001b[39m\u001b[38;5;124mgrad can be implicitly created only for scalar outputs\u001b[39m\u001b[38;5;124m\"\u001b[39m)\n\u001b[0;32m---> 86\u001b[0m     new_grads\u001b[38;5;241m.\u001b[39mappend(\u001b[43mtorch\u001b[49m\u001b[38;5;241;43m.\u001b[39;49m\u001b[43mones_like\u001b[49m\u001b[43m(\u001b[49m\u001b[43mout\u001b[49m\u001b[43m,\u001b[49m\u001b[43m \u001b[49m\u001b[43mmemory_format\u001b[49m\u001b[38;5;241;43m=\u001b[39;49m\u001b[43mtorch\u001b[49m\u001b[38;5;241;43m.\u001b[39;49m\u001b[43mpreserve_format\u001b[49m\u001b[43m)\u001b[49m)\n\u001b[1;32m     87\u001b[0m \u001b[38;5;28;01melse\u001b[39;00m:\n\u001b[1;32m     88\u001b[0m     new_grads\u001b[38;5;241m.\u001b[39mappend(\u001b[38;5;28;01mNone\u001b[39;00m)\n",
      "\u001b[0;31mKeyboardInterrupt\u001b[0m: "
     ]
    }
   ],
   "source": [
    "model.train()\n",
    "losses = []\n",
    "\n",
    "for i in range(30):\n",
    "    loss_epoch = 0\n",
    "    print(f\"Training at {i+1} epoch\")\n",
    "    for index, data in enumerate(train_loader):\n",
    "        X, y = data\n",
    "        X = X.to(device)\n",
    "        y = y.to(device)\n",
    "        optimizer.zero_grad()\n",
    "        logits = model(X)\n",
    "        loss = criterion(logits, y)\n",
    "        loss_epoch+=loss.item()\n",
    "        loss.backward()\n",
    "        optimizer.step()\n",
    "    scheduler.step()\n",
    "    print(\"Loss: \",loss_epoch/len(train_loader), end=\"\\n\\n\")\n",
    "    losses.append(loss_epoch/len(train_loader))\n",
    "    \n",
    "print(\"Finished training\")"
   ]
  },
  {
   "cell_type": "code",
   "execution_count": 178,
   "id": "f33f0ae2",
   "metadata": {},
   "outputs": [],
   "source": [
    "model.eval()\n",
    "all_predictions = []\n",
    "all_labels = []\n",
    "all_probs = []\n",
    "\n",
    "with torch.inference_mode():\n",
    "    outputs = model(x_test.to(device))\n",
    "    predictions = torch.sigmoid(outputs).cpu().detach().numpy()\n",
    "    thresholded_predictions = (predictions > )\n",
    "\n"
   ]
  },
  {
   "cell_type": "code",
   "execution_count": 181,
   "id": "30f8b275",
   "metadata": {},
   "outputs": [
    {
     "name": "stdout",
     "output_type": "stream",
     "text": [
      "[2.0261054e-06 3.1297157e-06 2.0775421e-06 4.8138199e-06 1.7526878e-06\n",
      " 1.3090003e-06 6.2654226e-06 6.3948846e-06 6.4588844e-06 2.3809003e-05\n",
      " 1.1788409e-05 8.7377011e-05 1.6524267e-05 1.5932554e-06 7.0764022e-06\n",
      " 1.9075692e-03 1.9197205e-06 1.3788593e-05 1.6385674e-03 2.8654097e-06\n",
      " 3.3159722e-06 2.4418589e-06 1.9825729e-06 1.6263523e-06 1.5860181e-06\n",
      " 2.4151050e-06 1.2254041e-03 1.8568753e-03 2.0461348e-06 2.6660994e-06\n",
      " 1.2073690e-06 1.1656964e-03 2.9545267e-06 4.9458959e-06 1.7700359e-03\n",
      " 9.7162172e-07 4.2122715e-06 2.9901919e-06 1.9657512e-03 2.5735374e-03\n",
      " 2.0485325e-06 9.2991177e-06 1.6897266e-06 1.9829683e-06 1.8062283e-06\n",
      " 2.4816327e-06 1.8184322e-06 1.8292876e-03 1.5598248e-06 1.1292580e-06\n",
      " 1.6758379e-03 1.6064500e-03 1.6504912e-06 2.4764527e-06 3.1037287e-06\n",
      " 3.0004755e-06 1.1682254e-06 2.4907968e-06 1.6502410e-06 1.4538974e-06\n",
      " 3.1956546e-03 5.7914062e-06 3.6536362e-06 1.4026175e-06 1.3071892e-05\n",
      " 2.5484211e-05 6.3474195e-06 5.1858733e-06 6.5114978e-06 8.3731129e-06\n",
      " 1.0087939e-05 1.8596249e-03 2.0721122e-03 1.2413108e-06 2.6136218e-03\n",
      " 2.5236942e-03 2.4988486e-03 2.6652046e-06 2.6698567e-03 1.3131688e-06\n",
      " 1.7753763e-03 1.1132644e-06 1.3989758e-06 1.6655362e-06 1.9357188e-03\n",
      " 9.3051049e-06 3.1896300e-06 7.2554553e-06 1.6673782e-06 2.7472779e-06\n",
      " 5.9889812e-06 3.6229017e-06 5.6216966e-05 3.2371597e-06 2.0700961e-06\n",
      " 1.6594998e-03 6.8416871e-06 1.9329863e-03 1.2385041e-03 3.1630100e-06\n",
      " 1.4299678e-06 2.5784575e-06 1.6251972e-06 1.4430329e-06 1.4954132e-05\n",
      " 1.3815620e-06 1.1831548e-03 2.0663785e-03 3.1367435e-06 2.1717348e-03\n",
      " 3.2094174e-06 2.4769345e-06 2.4027375e-03 2.0164374e-05 1.4706596e-06\n",
      " 1.5848192e-06 3.5419760e-06 1.3149007e-06 2.4889848e-06 5.0714184e-06\n",
      " 7.9259962e-06 2.9607772e-06 3.4337020e-06 2.1393405e-06 1.2259543e-06\n",
      " 2.7805204e-03 3.9783558e-06 7.8503035e-06 1.2113309e-05 1.3505703e-06\n",
      " 1.9752977e-06 3.0858930e-06 2.2430274e-06 2.7843933e-03 8.1661592e-06\n",
      " 1.8388340e-06 2.6120811e-03 3.1829118e-03 1.5718953e-06 2.5759155e-03\n",
      " 1.5259899e-03 1.8045170e-06 1.1507335e-06 4.6113669e-06 2.6381163e-06\n",
      " 4.3279598e-03 2.3817625e-03 1.1352391e-03 1.6208679e-06 2.8462875e-06\n",
      " 1.3364751e-06 1.8438423e-06 1.0431934e-06 3.1388652e-06 5.7067814e-06\n",
      " 2.5681700e-06 1.5203269e-06 9.7375607e-07 5.6057347e-06 3.0558868e-03\n",
      " 2.3214400e-03 1.6220857e-03 3.6768706e-06 2.6453545e-06 2.0458090e-06\n",
      " 4.4605406e-03 1.2963114e-06 2.5305517e-06 2.1125018e-06 3.2963601e-06\n",
      " 3.9324113e-06 5.8937699e-06 1.6916516e-03 2.0474508e-05 1.2554292e-06\n",
      " 2.6704738e-06 1.1939904e-06 1.9557285e-06 3.0387318e-06 2.3622207e-04\n",
      " 1.6592217e-06 2.3596562e-03 3.5246730e-06 3.2635824e-06 2.5637488e-05\n",
      " 2.2812544e-06 1.3919439e-06 1.9826678e-06 1.0191523e-05 2.0359163e-03\n",
      " 1.0604118e-06 2.1745952e-06 6.3898128e-06 1.9075169e-06 3.9504848e-05\n",
      " 1.5851485e-06 1.3237585e-06 1.4483659e-06 1.7544483e-03 8.7813978e-06\n",
      " 2.0948269e-03 2.8404654e-06 4.9596215e-06 1.0070714e-06 5.1179345e-06\n",
      " 9.7710972e-07 1.6934675e-06 1.3355182e-06 1.9275685e-06 1.6938584e-06\n",
      " 2.4311887e-06 1.5908248e-06 3.0974669e-03 1.9700553e-03 2.3396331e-06\n",
      " 7.8502217e-06 3.2417160e-03 1.8939744e-06 1.4793012e-05 1.3446821e-04\n",
      " 1.9964216e-06 3.1946537e-03 2.7170299e-06 2.5007027e-06 8.1910321e-06\n",
      " 1.5851064e-06 1.6764426e-06 1.8870168e-06 2.0606651e-06 1.7163226e-06\n",
      " 1.3530404e-06 2.9184296e-06 2.5262476e-03 1.3919630e-03 2.4780945e-03\n",
      " 2.4965664e-03 1.0623207e-06 2.0328719e-06 1.3103519e-03 1.2937154e-03\n",
      " 2.8340884e-03 2.7587949e-03 1.2398556e-06 1.7260672e-03 1.2846936e-06\n",
      " 1.7766232e-03 1.2524623e-06 3.2453854e-06 2.6353286e-03 7.5181179e-06\n",
      " 1.7095025e-06 1.9631416e-06 9.6289909e-07 1.9852417e-03 2.7691760e-06\n",
      " 2.1446417e-03 3.0959950e-06 1.9956536e-03 1.2583348e-06 1.5443641e-04\n",
      " 2.6032783e-03 1.9888657e-06 1.5873837e-03 2.1526704e-03 2.0343359e-06\n",
      " 2.1543767e-06 2.3244918e-06 1.0241124e-06 1.5270680e-06 1.7023472e-03\n",
      " 2.3206974e-06]\n"
     ]
    }
   ],
   "source": [
    "print(predictions[0])"
   ]
  },
  {
   "cell_type": "code",
   "execution_count": 179,
   "id": "61f283eb",
   "metadata": {},
   "outputs": [
    {
     "data": {
      "text/plain": [
       "(5811, 271)"
      ]
     },
     "execution_count": 179,
     "metadata": {},
     "output_type": "execute_result"
    }
   ],
   "source": [
    "predictions.shape"
   ]
  },
  {
   "cell_type": "code",
   "execution_count": 180,
   "id": "9cd74df7",
   "metadata": {},
   "outputs": [
    {
     "data": {
      "text/plain": [
       "array([False, False, False, False, False, False, False, False, False,\n",
       "       False, False, False, False, False, False, False, False, False,\n",
       "       False, False, False, False, False, False, False, False, False,\n",
       "       False, False, False, False, False, False, False, False, False,\n",
       "       False, False, False, False, False, False, False, False, False,\n",
       "       False, False, False, False, False, False, False, False, False,\n",
       "       False, False, False, False, False, False, False, False, False,\n",
       "       False, False, False, False, False, False, False, False, False,\n",
       "       False, False, False, False, False, False, False, False, False,\n",
       "       False, False, False, False, False, False, False, False, False,\n",
       "       False, False, False, False, False, False, False, False, False,\n",
       "       False, False, False, False, False, False, False, False, False,\n",
       "       False, False, False, False, False, False, False, False, False,\n",
       "       False, False, False, False, False, False, False, False, False,\n",
       "       False, False, False, False, False, False, False, False, False,\n",
       "       False, False, False, False, False, False, False, False, False,\n",
       "       False, False, False, False, False, False, False, False, False,\n",
       "       False, False, False, False, False, False, False, False, False,\n",
       "       False, False, False, False, False, False, False, False, False,\n",
       "       False, False, False, False, False, False, False, False, False,\n",
       "       False, False, False, False, False, False, False, False, False,\n",
       "       False, False, False, False, False, False, False, False, False,\n",
       "       False, False, False, False, False, False, False, False, False,\n",
       "       False, False, False, False, False, False, False, False, False,\n",
       "       False, False, False, False, False, False, False, False, False,\n",
       "       False, False, False, False, False, False, False, False, False,\n",
       "       False, False, False, False, False, False, False, False, False,\n",
       "       False, False, False, False, False, False, False, False, False,\n",
       "       False, False, False, False, False, False, False, False, False,\n",
       "       False, False, False, False, False, False, False, False, False,\n",
       "       False])"
      ]
     },
     "execution_count": 180,
     "metadata": {},
     "output_type": "execute_result"
    }
   ],
   "source": [
    "thresholded_predictions[10]"
   ]
  },
  {
   "cell_type": "code",
   "execution_count": 115,
   "id": "d3ba586e",
   "metadata": {},
   "outputs": [],
   "source": [
    "\n",
    "# Concatenate predictions and labels across all batches\n",
    "all_predictions = np.concatenate(all_predictions)\n",
    "all_labels = np.concatenate(all_labels)\n",
    "all_probs = np.concatenate(all_probs)"
   ]
  },
  {
   "cell_type": "code",
   "execution_count": 116,
   "id": "4360d42f",
   "metadata": {},
   "outputs": [
    {
     "name": "stdout",
     "output_type": "stream",
     "text": [
      "AUC for each column:\n",
      "0 :  0.5545887445887445\n",
      "1 :  0.4532511136227644\n",
      "2 :  0.511176118609135\n",
      "3 :  0.4559489993163764\n",
      "4 :  0.43891480905477787\n",
      "5 :  0.5073211199446941\n",
      "6 :  0.5031026435177107\n",
      "7 :  0.5175355327438297\n",
      "8 :  0.47264482348698367\n",
      "9 :  0.5025072123028458\n",
      "10 :  0.5175113895216401\n",
      "11 :  0.499079187631425\n",
      "12 :  0.4938344667741683\n",
      "13 :  0.5053235760611818\n",
      "14 :  0.48234102611563573\n",
      "15 :  0.5327184968108947\n",
      "16 :  0.5374906399400956\n",
      "17 :  0.5035253674727359\n",
      "18 :  0.38495618785074337\n",
      "19 :  0.4252646418678274\n",
      "20 :  0.47019812512465925\n",
      "21 :  0.48869459833795015\n",
      "22 :  0.4524631959865121\n",
      "23 :  0.4681567138419054\n",
      "24 :  0.4814469749252358\n",
      "25 :  0.5111029851738581\n",
      "26 :  0.575418031373901\n",
      "27 :  0.40645994832041343\n",
      "28 :  0.4158164973769394\n",
      "29 :  0.48131957296671435\n",
      "30 :  0.4117037909399175\n",
      "31 :  0.5219962075504223\n",
      "32 :  0.5446608946608946\n",
      "33 :  0.5740367881335511\n",
      "34 :  0.6196139262323336\n",
      "35 :  0.4356576452335804\n",
      "36 :  0.460201871426096\n",
      "37 :  0.45340070474037625\n",
      "38 :  0.49512128527907107\n",
      "39 :  0.6996901359958685\n",
      "40 :  0.4390040299366724\n",
      "41 :  0.49707045135336647\n",
      "42 :  0.49665983065646\n",
      "43 :  0.5545670995670995\n",
      "44 :  0.5222845795199448\n",
      "45 :  0.4884053328076098\n",
      "46 :  0.493911691355428\n",
      "47 :  0.648592103967707\n",
      "48 :  0.4943388339633614\n",
      "49 :  0.4968829077524729\n",
      "50 :  0.6047303119076339\n",
      "51 :  0.3847592793147583\n",
      "52 :  0.43887880882437647\n",
      "53 :  0.5112495673243337\n",
      "54 :  0.39688572330438143\n",
      "55 :  0.4294997594997595\n",
      "56 :  0.49757369069439017\n",
      "57 :  0.4835116132327754\n",
      "58 :  0.4612847522016923\n",
      "59 :  0.39464994208827225\n",
      "60 :  0.581611570247934\n",
      "61 :  0.47485685898946034\n",
      "62 :  0.5561893068422814\n",
      "63 :  0.443596597114445\n",
      "64 :  0.4876005903120256\n",
      "65 :  0.497340185851166\n",
      "66 :  0.49439670214622233\n",
      "67 :  0.48230454466306816\n",
      "68 :  0.48234733627246423\n",
      "69 :  0.5148804328853203\n",
      "70 :  0.4685179132239759\n",
      "71 :  0.6487397853696958\n",
      "72 :  0.6004858934169278\n",
      "73 :  0.5238012994489678\n",
      "74 :  0.5160477339307254\n",
      "75 :  0.49556264001378597\n",
      "76 :  0.4956918835085301\n",
      "77 :  0.44805435305435304\n",
      "78 :  0.6998622826648304\n",
      "79 :  0.41164287599748217\n",
      "80 :  0.6198724577731818\n",
      "81 :  0.4968944099378882\n",
      "82 :  0.4812284334023464\n",
      "83 :  0.4157272016966179\n",
      "84 :  0.4463639496811994\n",
      "85 :  0.47983111552724045\n",
      "86 :  0.4702679343128781\n",
      "87 :  0.5138806044338403\n",
      "88 :  0.4374546710412709\n",
      "89 :  0.49064893295662526\n",
      "90 :  0.5074986958789776\n",
      "91 :  0.3967508069525197\n",
      "92 :  0.491162320134841\n",
      "93 :  0.46235902255639094\n",
      "94 :  0.4133601489262682\n",
      "95 :  0.6048380148199207\n",
      "96 :  0.4823830938278253\n",
      "97 :  0.5326840199965523\n",
      "98 :  0.5104980408585722\n",
      "99 :  0.4295574795574795\n",
      "100 :  0.4975661789008744\n",
      "101 :  0.4835867311679336\n",
      "102 :  0.46134950785701956\n",
      "103 :  0.39489637497227625\n",
      "104 :  0.561162263757177\n",
      "105 :  0.5480676328502415\n",
      "106 :  0.5752370280986037\n",
      "107 :  0.40625897215044504\n",
      "108 :  0.4203702920911358\n",
      "109 :  0.3441961209018411\n",
      "110 :  0.5712892161490293\n",
      "111 :  0.5112128554496156\n",
      "112 :  0.3935583878746125\n",
      "113 :  0.4975690571429534\n",
      "114 :  0.34933796799957545\n",
      "115 :  0.4433091912398689\n",
      "116 :  0.556345574282844\n",
      "117 :  0.653367135965344\n",
      "118 :  0.4865179137146478\n",
      "119 :  0.5648672057157584\n",
      "120 :  0.4789246790746041\n",
      "121 :  0.4906733656733657\n",
      "122 :  0.4623243965176098\n",
      "123 :  0.41331693371451367\n",
      "124 :  0.40224525043177894\n",
      "125 :  0.4955011193387292\n",
      "126 :  0.5658984578062728\n",
      "127 :  0.4710212494479069\n",
      "128 :  0.504308207767092\n",
      "129 :  0.5262942191544435\n",
      "130 :  0.5223550975030798\n",
      "131 :  0.5623409393255828\n",
      "132 :  0.49175006319100534\n",
      "133 :  0.4657251119531519\n",
      "134 :  0.4766305351161748\n",
      "135 :  0.5363890328898107\n",
      "136 :  0.5555268446741315\n",
      "137 :  0.8361445783132531\n",
      "138 :  0.5104363550450712\n",
      "139 :  0.5165862484921593\n",
      "140 :  0.6381504702194357\n",
      "141 :  0.5591030172634599\n",
      "142 :  0.3805329153605016\n",
      "143 :  0.5450426553000506\n",
      "144 :  0.37201417568925105\n",
      "145 :  nan\n",
      "146 :  0.3932828108852911\n",
      "147 :  0.522065161179107\n",
      "148 :  0.49439335562663567\n",
      "149 :  0.4875817972458083\n",
      "150 :  0.5345344548518056\n",
      "151 :  0.5373826392488912\n",
      "152 :  0.5237848507278559\n",
      "153 :  0.5849787922759236\n",
      "154 :  0.4748991099138593\n",
      "155 :  0.37185232726866835\n",
      "156 :  0.46810087514467297\n",
      "157 :  0.380101880877743\n",
      "158 :  0.5030241231896703\n",
      "159 :  0.5814967860422405\n",
      "160 :  0.6835773758254378\n",
      "161 :  0.38480850644875453\n",
      "162 :  0.5129359427170787\n",
      "163 :  0.5005441455519589\n",
      "164 :  0.3634459508578075\n",
      "165 :  nan\n",
      "166 :  0.653342522398346\n",
      "167 :  0.5087489116043846\n",
      "168 :  0.499570786294805\n",
      "169 :  0.5848225248353611\n",
      "170 :  0.6063850749562558\n",
      "171 :  0.5175661542665203\n",
      "172 :  0.46458728244011716\n",
      "173 :  0.487529745089225\n",
      "174 :  0.48236714975845413\n",
      "175 :  0.5088204773434797\n",
      "176 :  0.4823671497584542\n",
      "177 :  0.4166553444825968\n",
      "178 :  0.5004939167317781\n",
      "179 :  0.5074901907620549\n",
      "180 :  0.5222370920393714\n",
      "181 :  0.39321391663796074\n",
      "182 :  0.484973544973545\n",
      "183 :  0.5072570131373818\n",
      "184 :  0.49748539988633467\n",
      "185 :  0.4935845143449706\n",
      "186 :  0.5285641674818267\n",
      "187 :  0.5328344004152967\n",
      "188 :  0.4970591805240069\n",
      "189 :  0.600282131661442\n",
      "190 :  0.5239822353811991\n",
      "191 :  0.49676717930994757\n",
      "192 :  0.4765553709417939\n",
      "193 :  0.5480314280780522\n",
      "194 :  0.4992512623464198\n",
      "195 :  0.43118930684228146\n",
      "196 :  0.5366641501294219\n",
      "197 :  0.5609548482605476\n",
      "198 :  0.42642130165849335\n",
      "199 :  0.5124465504738566\n",
      "200 :  0.4772609819121447\n",
      "201 :  0.6072615749901069\n",
      "202 :  0.4851336957783734\n",
      "203 :  0.5236096164389125\n",
      "204 :  0.48820011400628444\n",
      "205 :  0.46729321147324254\n",
      "206 :  0.4374201346917631\n",
      "207 :  0.5074179052886277\n",
      "208 :  0.5373574390876102\n",
      "209 :  0.5147662838034313\n",
      "210 :  0.5809097190596586\n",
      "211 :  0.5752155884739041\n",
      "212 :  0.8356282271944923\n",
      "213 :  0.4608515773142562\n",
      "214 :  0.4937296923608711\n",
      "215 :  0.48985575325876896\n",
      "216 :  0.5812098255280074\n",
      "217 :  0.47110170954930064\n",
      "218 :  0.4989303216191008\n",
      "219 :  0.5056318454376707\n",
      "220 :  0.4887175054850077\n",
      "221 :  0.8356282271944923\n",
      "222 :  0.5445911495911496\n",
      "223 :  0.43042201255971874\n",
      "224 :  0.5427580584271107\n",
      "225 :  0.4386736075110881\n",
      "226 :  0.4374546710412709\n",
      "227 :  0.5591606475078121\n",
      "228 :  0.4405348194228443\n",
      "229 :  0.43745467104127095\n",
      "230 :  0.5346936609440921\n",
      "231 :  0.584942515905793\n",
      "232 :  0.4979342399724565\n",
      "233 :  0.55005177770107\n",
      "234 :  0.5513350559862188\n",
      "235 :  0.49573496467344474\n",
      "236 :  0.7608240022968705\n",
      "237 :  0.43337544046273513\n",
      "238 :  0.6557278208441\n",
      "239 :  0.6558139534883721\n",
      "240 :  0.4959101084897537\n",
      "241 :  0.49556569657310146\n",
      "242 :  0.47859730402424894\n",
      "243 :  0.4628671610047709\n",
      "244 :  0.5265099223468508\n",
      "245 :  0.6199011834999425\n",
      "246 :  0.41153627484822025\n",
      "247 :  0.5004939167317781\n",
      "248 :  0.5551536032156187\n",
      "249 :  0.49646526048327383\n",
      "250 :  0.4886543447909049\n",
      "251 :  0.4988724209908011\n",
      "252 :  0.5251607974568127\n",
      "253 :  0.4606274780210309\n",
      "254 :  0.42545130376643636\n",
      "255 :  0.34348232745889534\n",
      "256 :  0.5448896098474456\n",
      "257 :  0.44612700327416854\n",
      "258 :  0.47847408758224697\n",
      "259 :  0.49718167293210147\n",
      "260 :  0.636445056837754\n",
      "261 :  0.5180727864035197\n",
      "262 :  0.42787617554858937\n",
      "263 :  0.3439007580978635\n",
      "264 :  0.4388971132494448\n",
      "265 :  0.4917383611529784\n",
      "266 :  0.48643511318472443\n",
      "267 :  0.7608383577375825\n",
      "268 :  0.43750215852184426\n",
      "269 :  0.46424263312079955\n",
      "270 :  0.4165966749833255\n"
     ]
    },
    {
     "name": "stderr",
     "output_type": "stream",
     "text": [
      "/home/toibazd/miniconda3/lib/python3.9/site-packages/sklearn/metrics/_ranking.py:1146: UndefinedMetricWarning: No positive samples in y_true, true positive value should be meaningless\n",
      "  warnings.warn(\n",
      "/home/toibazd/miniconda3/lib/python3.9/site-packages/sklearn/metrics/_ranking.py:1146: UndefinedMetricWarning: No positive samples in y_true, true positive value should be meaningless\n",
      "  warnings.warn(\n"
     ]
    }
   ],
   "source": [
    "from sklearn import metrics\n",
    "auc_scores = []\n",
    "\n",
    "for i in range(all_labels.shape[1]):  # Iterate over each column\n",
    "    y = all_labels[:, i]\n",
    "    pred_y = all_probs[:, i]\n",
    "\n",
    "    fpr, tpr, thresholds = metrics.roc_curve(y, pred_y)\n",
    "    auc_score = metrics.auc(fpr, tpr)\n",
    "    auc_scores.append(auc_score)\n",
    "\n",
    "print(\"AUC for each column:\")\n",
    "for idx, score in enumerate(auc_scores):\n",
    "    print(idx,\": \", score)"
   ]
  },
  {
   "cell_type": "code",
   "execution_count": 117,
   "id": "68d9c9ef",
   "metadata": {},
   "outputs": [
    {
     "name": "stdout",
     "output_type": "stream",
     "text": [
      "0.3959709992239679\n"
     ]
    }
   ],
   "source": [
    "from sklearn import metrics\n",
    "\n",
    "y = all_labels.flatten()\n",
    "pred_y = all_probs.flatten()\n",
    "\n",
    "fpr, tpr, thresholds = metrics.roc_curve(y, pred_y)\n",
    "print(metrics.auc(fpr, tpr))"
   ]
  },
  {
   "cell_type": "code",
   "execution_count": 118,
   "id": "f3ea07ac",
   "metadata": {},
   "outputs": [
    {
     "data": {
      "image/png": "[encoded data removed]",
      "text/plain": [
       "<Figure size 800x600 with 1 Axes>"
      ]
     },
     "metadata": {},
     "output_type": "display_data"
    }
   ],
   "source": [
    "import matplotlib.pyplot as plt\n",
    "\n",
    "plt.figure(figsize=(8, 6))\n",
    "plt.plot(fpr, tpr, color='blue', label='ROC Curve')\n",
    "plt.plot([0, 1], [0, 1], color='red', linestyle='--', label='Random Guess')\n",
    "\n",
    "plt.xlabel('False Positive Rate')\n",
    "plt.ylabel('True Positive Rate')\n",
    "plt.title('Receiver Operating Characteristic (ROC) Curve')\n",
    "plt.legend(loc='lower right')\n",
    "plt.grid(True)\n",
    "plt.show()"
   ]
  },
  {
   "cell_type": "code",
   "execution_count": 119,
   "id": "82d6be50",
   "metadata": {},
   "outputs": [],
   "source": [
    "from sklearn.metrics import classification_report\n",
    "\n",
    "report = classification_report(all_labels, all_predictions, zero_division=np.nan)"
   ]
  },
  {
   "cell_type": "code",
   "execution_count": 120,
   "id": "03feda43",
   "metadata": {},
   "outputs": [
    {
     "name": "stdout",
     "output_type": "stream",
     "text": [
      "              precision    recall  f1-score   support\n",
      "\n",
      "           0        nan      0.00      0.00        36\n",
      "           1        nan      0.00      0.00        26\n",
      "           2        nan      0.00      0.00        26\n",
      "           3        nan      0.00      0.00        59\n",
      "           4        nan      0.00      0.00        24\n",
      "           5        nan      0.00      0.00        25\n",
      "           6        nan      0.00      0.00        80\n",
      "           7        nan      0.00      0.00        74\n",
      "           8        nan      0.00      0.00        52\n",
      "           9        nan      0.00      0.00       217\n",
      "          10        nan      0.00      0.00       104\n",
      "          11        nan      0.00      0.00       602\n",
      "          12        nan      0.00      0.00       172\n",
      "          13        nan      0.00      0.00        22\n",
      "          14        nan      0.00      0.00        83\n",
      "          15        nan      0.00      0.00        10\n",
      "          16        nan      0.00      0.00        24\n",
      "          17        nan      0.00      0.00       111\n",
      "          18        nan      0.00      0.00         7\n",
      "          19        nan      0.00      0.00        35\n",
      "          20        nan      0.00      0.00        26\n",
      "          21        nan      0.00      0.00        35\n",
      "          22        nan      0.00      0.00        21\n",
      "          23        nan      0.00      0.00        17\n",
      "          24        nan      0.00      0.00        15\n",
      "          25        nan      0.00      0.00        26\n",
      "          26        nan      0.00      0.00        10\n",
      "          27        nan      0.00      0.00         6\n",
      "          28        nan      0.00      0.00        31\n",
      "          29        nan      0.00      0.00        38\n",
      "          30        nan      0.00      0.00        17\n",
      "          31        nan      0.00      0.00        10\n",
      "          32        nan      0.00      0.00        36\n",
      "          33        nan      0.00      0.00        65\n",
      "          34        nan      0.00      0.00         9\n",
      "          35        nan      0.00      0.00        10\n",
      "          36        nan      0.00      0.00        40\n",
      "          37        nan      0.00      0.00        26\n",
      "          38        nan      0.00      0.00        12\n",
      "          39        nan      0.00      0.00         2\n",
      "          40        nan      0.00      0.00        21\n",
      "          41        nan      0.00      0.00       101\n",
      "          42        nan      0.00      0.00        17\n",
      "          43        nan      0.00      0.00        36\n",
      "          44        nan      0.00      0.00        20\n",
      "          45        nan      0.00      0.00        14\n",
      "          46        nan      0.00      0.00        23\n",
      "          47        nan      0.00      0.00         7\n",
      "          48        nan      0.00      0.00        19\n",
      "          49        nan      0.00      0.00        15\n",
      "          50        nan      0.00      0.00         8\n",
      "          51        nan      0.00      0.00         7\n",
      "          52        nan      0.00      0.00        24\n",
      "          53        nan      0.00      0.00        33\n",
      "          54        nan      0.00      0.00        34\n",
      "          55        nan      0.00      0.00        36\n",
      "          56        nan      0.00      0.00        23\n",
      "          57        nan      0.00      0.00        23\n",
      "          58        nan      0.00      0.00        20\n",
      "          59        nan      0.00      0.00        14\n",
      "          60        nan      0.00      0.00         3\n",
      "          61        nan      0.00      0.00        68\n",
      "          62        nan      0.00      0.00        31\n",
      "          63        nan      0.00      0.00        12\n",
      "          64        nan      0.00      0.00       142\n",
      "          65        nan      0.00      0.00       210\n",
      "          66        nan      0.00      0.00        80\n",
      "          67        nan      0.00      0.00        68\n",
      "          68        nan      0.00      0.00        83\n",
      "          69        nan      0.00      0.00        82\n",
      "          70        nan      0.00      0.00       104\n",
      "          71        nan      0.00      0.00         7\n",
      "          72        nan      0.00      0.00        11\n",
      "          73        nan      0.00      0.00        21\n",
      "          74        nan      0.00      0.00         8\n",
      "          75        nan      0.00      0.00         8\n",
      "          76        nan      0.00      0.00         8\n",
      "          77        nan      0.00      0.00        36\n",
      "          78        nan      0.00      0.00         2\n",
      "          79        nan      0.00      0.00        17\n",
      "          80        nan      0.00      0.00         9\n",
      "          81        nan      0.00      0.00        15\n",
      "          82        nan      0.00      0.00        15\n",
      "          83        nan      0.00      0.00        31\n",
      "          84        nan      0.00      0.00         8\n",
      "          85        nan      0.00      0.00       108\n",
      "          86        nan      0.00      0.00        26\n",
      "          87        nan      0.00      0.00        63\n",
      "          88        nan      0.00      0.00        20\n",
      "          89        nan      0.00      0.00        39\n",
      "          90        nan      0.00      0.00        60\n",
      "          91        nan      0.00      0.00        34\n",
      "          92        nan      0.00      0.00       465\n",
      "          93        nan      0.00      0.00        35\n",
      "          94        nan      0.00      0.00        26\n",
      "          95        nan      0.00      0.00         8\n",
      "          96        nan      0.00      0.00        83\n",
      "          97        nan      0.00      0.00        10\n",
      "          98        nan      0.00      0.00        14\n",
      "          99        nan      0.00      0.00        36\n",
      "         100        nan      0.00      0.00        23\n",
      "         101        nan      0.00      0.00        23\n",
      "         102        nan      0.00      0.00        20\n",
      "         103        nan      0.00      0.00        14\n",
      "         104        nan      0.00      0.00       142\n",
      "         105        nan      0.00      0.00        15\n",
      "         106        nan      0.00      0.00        10\n",
      "         107        nan      0.00      0.00         6\n",
      "         108        nan      0.00      0.00        41\n",
      "         109        nan      0.00      0.00         7\n",
      "         110        nan      0.00      0.00        33\n",
      "         111        nan      0.00      0.00        33\n",
      "         112        nan      0.00      0.00         5\n",
      "         113        nan      0.00      0.00       212\n",
      "         114        nan      0.00      0.00        13\n",
      "         115        nan      0.00      0.00        12\n",
      "         116        nan      0.00      0.00        31\n",
      "         117        nan      0.00      0.00         7\n",
      "         118        nan      0.00      0.00        24\n",
      "         119        nan      0.00      0.00        58\n",
      "         120        nan      0.00      0.00        69\n",
      "         121        nan      0.00      0.00        39\n",
      "         122        nan      0.00      0.00        35\n",
      "         123        nan      0.00      0.00        26\n",
      "         124        nan      0.00      0.00        21\n",
      "         125        nan      0.00      0.00         4\n",
      "         126        nan      0.00      0.00        40\n",
      "         127        nan      0.00      0.00        71\n",
      "         128        nan      0.00      0.00       114\n",
      "         129        nan      0.00      0.00        16\n",
      "         130        nan      0.00      0.00        23\n",
      "         131        nan      0.00      0.00        48\n",
      "         132        nan      0.00      0.00        37\n",
      "         133        nan      0.00      0.00         5\n",
      "         134        nan      0.00      0.00        66\n",
      "         135        nan      0.00      0.00        24\n",
      "         136        nan      0.00      0.00         6\n",
      "         137        nan      0.00      0.00         1\n",
      "         138        nan      0.00      0.00        19\n",
      "         139        nan      0.00      0.00         8\n",
      "         140        nan      0.00      0.00        11\n",
      "         141        nan      0.00      0.00        27\n",
      "         142        nan      0.00      0.00        11\n",
      "         143        nan      0.00      0.00        57\n",
      "         144        nan      0.00      0.00        31\n",
      "         145        nan       nan       nan         0\n",
      "         146        nan      0.00      0.00         5\n",
      "         147        nan      0.00      0.00        10\n",
      "         148        nan      0.00      0.00        19\n",
      "         149        nan      0.00      0.00        37\n",
      "         150        nan      0.00      0.00        13\n",
      "         151        nan      0.00      0.00        24\n",
      "         152        nan      0.00      0.00        21\n",
      "         153        nan      0.00      0.00        31\n",
      "         154        nan      0.00      0.00        68\n",
      "         155        nan      0.00      0.00        31\n",
      "         156        nan      0.00      0.00        17\n",
      "         157        nan      0.00      0.00        11\n",
      "         158        nan      0.00      0.00        80\n",
      "         159        nan      0.00      0.00         3\n",
      "         160        nan      0.00      0.00         6\n",
      "         161        nan      0.00      0.00         7\n",
      "         162        nan      0.00      0.00        54\n",
      "         163        nan      0.00      0.00        31\n",
      "         164        nan      0.00      0.00        19\n",
      "         165        nan       nan       nan         0\n",
      "         166        nan      0.00      0.00         7\n",
      "         167        nan      0.00      0.00        29\n",
      "         168        nan      0.00      0.00        28\n",
      "         169        nan      0.00      0.00        31\n",
      "         170        nan      0.00      0.00        44\n",
      "         171        nan      0.00      0.00        74\n",
      "         172        nan      0.00      0.00         8\n",
      "         173        nan      0.00      0.00       172\n",
      "         174        nan      0.00      0.00        15\n",
      "         175        nan      0.00      0.00        29\n",
      "         176        nan      0.00      0.00        15\n",
      "         177        nan      0.00      0.00        28\n",
      "         178        nan      0.00      0.00        31\n",
      "         179        nan      0.00      0.00      1402\n",
      "         180        nan      0.00      0.00        20\n",
      "         181        nan      0.00      0.00         5\n",
      "         182        nan      0.00      0.00        36\n",
      "         183        nan      0.00      0.00        38\n",
      "         184        nan      0.00      0.00       219\n",
      "         185        nan      0.00      0.00        25\n",
      "         186        nan      0.00      0.00        18\n",
      "         187        nan      0.00      0.00        32\n",
      "         188        nan      0.00      0.00       101\n",
      "         189        nan      0.00      0.00        11\n",
      "         190        nan      0.00      0.00        21\n",
      "         191        nan      0.00      0.00        24\n",
      "         192        nan      0.00      0.00        66\n",
      "         193        nan      0.00      0.00        20\n",
      "         194        nan      0.00      0.00       317\n",
      "         195        nan      0.00      0.00        31\n",
      "         196        nan      0.00      0.00        16\n",
      "         197        nan      0.00      0.00        21\n",
      "         198        nan      0.00      0.00        14\n",
      "         199        nan      0.00      0.00        98\n",
      "         200        nan      0.00      0.00         6\n",
      "         201        nan      0.00      0.00        35\n",
      "         202        nan      0.00      0.00        69\n",
      "         203        nan      0.00      0.00        17\n",
      "         204        nan      0.00      0.00        74\n",
      "         205        nan      0.00      0.00        12\n",
      "         206        nan      0.00      0.00        20\n",
      "         207        nan      0.00      0.00        25\n",
      "         208        nan      0.00      0.00        24\n",
      "         209        nan      0.00      0.00        19\n",
      "         210        nan      0.00      0.00        22\n",
      "         211        nan      0.00      0.00        23\n",
      "         212        nan      0.00      0.00         1\n",
      "         213        nan      0.00      0.00        10\n",
      "         214        nan      0.00      0.00        25\n",
      "         215        nan      0.00      0.00        98\n",
      "         216        nan      0.00      0.00         3\n",
      "         217        nan      0.00      0.00        20\n",
      "         218        nan      0.00      0.00       143\n",
      "         219        nan      0.00      0.00       927\n",
      "         220        nan      0.00      0.00        26\n",
      "         221        nan      0.00      0.00         1\n",
      "         222        nan      0.00      0.00        36\n",
      "         223        nan      0.00      0.00        23\n",
      "         224        nan      0.00      0.00        87\n",
      "         225        nan      0.00      0.00        24\n",
      "         226        nan      0.00      0.00        20\n",
      "         227        nan      0.00      0.00        27\n",
      "         228        nan      0.00      0.00        24\n",
      "         229        nan      0.00      0.00        20\n",
      "         230        nan      0.00      0.00        13\n",
      "         231        nan      0.00      0.00        31\n",
      "         232        nan      0.00      0.00         2\n",
      "         233        nan      0.00      0.00        17\n",
      "         234        nan      0.00      0.00         6\n",
      "         235        nan      0.00      0.00         8\n",
      "         236        nan      0.00      0.00         6\n",
      "         237        nan      0.00      0.00        26\n",
      "         238        nan      0.00      0.00         6\n",
      "         239        nan      0.00      0.00         6\n",
      "         240        nan      0.00      0.00         4\n",
      "         241        nan      0.00      0.00         4\n",
      "         242        nan      0.00      0.00        14\n",
      "         243        nan      0.00      0.00        12\n",
      "         244        nan      0.00      0.00        16\n",
      "         245        nan      0.00      0.00         9\n",
      "         246        nan      0.00      0.00        17\n",
      "         247        nan      0.00      0.00        31\n",
      "         248        nan      0.00      0.00         6\n",
      "         249        nan      0.00      0.00        83\n",
      "         250        nan      0.00      0.00        26\n",
      "         251        nan      0.00      0.00        33\n",
      "         252        nan      0.00      0.00        14\n",
      "         253        nan      0.00      0.00        10\n",
      "         254        nan      0.00      0.00        42\n",
      "         255        nan      0.00      0.00         7\n",
      "         256        nan      0.00      0.00        29\n",
      "         257        nan      0.00      0.00         8\n",
      "         258        nan      0.00      0.00        14\n",
      "         259        nan      0.00      0.00      1028\n",
      "         260        nan      0.00      0.00         5\n",
      "         261        nan      0.00      0.00        42\n",
      "         262        nan      0.00      0.00        11\n",
      "         263        nan      0.00      0.00         7\n",
      "         264        nan      0.00      0.00        21\n",
      "         265        nan      0.00      0.00        37\n",
      "         266        nan      0.00      0.00        24\n",
      "         267        nan      0.00      0.00         6\n",
      "         268        nan      0.00      0.00        20\n",
      "         269        nan      0.00      0.00         8\n",
      "         270        nan      0.00      0.00        28\n",
      "\n",
      "   micro avg        nan      0.00      0.00     13511\n",
      "   macro avg        nan      0.00      0.00     13511\n",
      "weighted avg        nan      0.00      0.00     13511\n",
      " samples avg        nan      0.00      0.00     13511\n",
      "\n"
     ]
    }
   ],
   "source": [
    "print(report)"
   ]
  },
  {
   "cell_type": "code",
   "execution_count": 37,
   "id": "712cdf9e",
   "metadata": {},
   "outputs": [
    {
     "data": {
      "image/png": "[encoded data removed]",
      "text/plain": [
       "<Figure size 800x600 with 2 Axes>"
      ]
     },
     "metadata": {},
     "output_type": "display_data"
    }
   ],
   "source": [
    "import numpy as np\n",
    "import matplotlib.pyplot as plt\n",
    "\n",
    "# Convert the tensors to NumPy arrays\n",
    "y_true = y_test.cpu().numpy()  # Convert to NumPy and move to CPU if using GPU\n",
    "y_pred = predictions.cpu().numpy()\n",
    "\n",
    "# Create an empty confusion matrix\n",
    "confusion_matrix = np.zeros((len(label_to_int), len(label_to_int)))\n",
    "\n",
    "# Fill in the confusion matrix\n",
    "for i in range(len(y_true)):\n",
    "    true_class = int(y_true[i])\n",
    "    pred_class = int(y_pred[i])\n",
    "    confusion_matrix[true_class, pred_class] += 1\n",
    "\n",
    "# Plot the confusion matrix\n",
    "plt.figure(figsize=(8, 6))\n",
    "plt.imshow(confusion_matrix, interpolation='nearest', cmap=plt.get_cmap('Blues'))\n",
    "plt.title('Confusion Matrix || word2vec')\n",
    "plt.colorbar()\n",
    "\n",
    "tick_marks = np.arange(len(label_to_int))\n",
    "plt.xticks(tick_marks, [f'Class {i}' for i in range(len(label_to_int))], rotation=90)\n",
    "plt.yticks(tick_marks, list(label_to_int.keys()))\n",
    "\n",
    "for i in range(len(label_to_int)):\n",
    "    for j in range(len(label_to_int)):\n",
    "        plt.text(j, i, f'{int(confusion_matrix[i, j]):d}', ha='center', va='center', color='red' if confusion_matrix[i, j] > 0.5 else 'black')\n",
    "\n",
    "plt.xlabel('Predicted')\n",
    "plt.ylabel('True')\n",
    "plt.tight_layout()\n",
    "plt.savefig(\"Results/Confmat_word2vec.jpg\")\n",
    "plt.show()\n",
    "\n"
   ]
  },
  {
   "cell_type": "code",
   "execution_count": 38,
   "id": "72bd17ea",
   "metadata": {},
   "outputs": [
    {
     "name": "stdout",
     "output_type": "stream",
     "text": [
      "94\n",
      "173\n",
      "54\n",
      "82\n",
      "62\n",
      "317\n",
      "233\n",
      "42\n",
      "33\n"
     ]
    },
    {
     "data": {
      "text/plain": [
       "{'Ribosome': 0,\n",
       " 'Prokaryotic defense system': 1,\n",
       " 'Porphyrin and chlorophyll metabolism': 2,\n",
       " 'Oxidative phosphorylation': 3,\n",
       " 'Amino sugar and nucleotide sugar metabolism': 4,\n",
       " 'Secretion system': 5,\n",
       " 'Two-component system': 6,\n",
       " 'Energy metabolism': 7,\n",
       " 'Benzoate degradation': 8}"
      ]
     },
     "execution_count": 38,
     "metadata": {},
     "output_type": "execute_result"
    }
   ],
   "source": [
    "print(torch.sum(y_test == 0).item())\n",
    "print(torch.sum(y_test == 1).item())\n",
    "print(torch.sum(y_test == 2).item())\n",
    "print(torch.sum(y_test == 3).item())\n",
    "print(torch.sum(y_test == 4).item())\n",
    "print(torch.sum(y_test == 5).item())\n",
    "print(torch.sum(y_test == 6).item())\n",
    "print(torch.sum(y_test == 7).item())\n",
    "print(torch.sum(y_test == 8).item())\n",
    "\n",
    "label_to_int"
   ]
  },
  {
   "cell_type": "code",
   "execution_count": 39,
   "id": "d1adc9fa",
   "metadata": {},
   "outputs": [
    {
     "data": {
      "image/png": "[encoded data removed]",
      "text/plain": [
       "<Figure size 1000x500 with 1 Axes>"
      ]
     },
     "metadata": {},
     "output_type": "display_data"
    }
   ],
   "source": [
    "import matplotlib.pyplot as plt\n",
    "\n",
    "plt.figure(figsize=(10, 5))\n",
    "plt.plot(range(len(losses)), losses, marker='o', linestyle='-', color='b')\n",
    "plt.title(f'Training Loss Over {len(losses)} Epochs || word2vec')\n",
    "plt.xlabel('Epoch')\n",
    "plt.ylabel('Loss')\n",
    "plt.grid(True)\n",
    "plt.savefig(\"Results/Training_loss_word2vec.png\")\n",
    "plt.show()"
   ]
  },
  {
   "cell_type": "code",
   "execution_count": null,
   "id": "41b768f8",
   "metadata": {},
   "outputs": [],
   "source": []
  }
 ],
 "metadata": {
  "kernelspec": {
   "display_name": "Python 3 (ipykernel)",
   "language": "python",
   "name": "python3"
  },
  "language_info": {
   "codemirror_mode": {
    "name": "ipython",
    "version": 3
   },
   "file_extension": ".py",
   "mimetype": "text/x-python",
   "name": "python",
   "nbconvert_exporter": "python",
   "pygments_lexer": "ipython3",
   "version": "3.9.13"
  }
 },
 "nbformat": 4,
 "nbformat_minor": 5
}
