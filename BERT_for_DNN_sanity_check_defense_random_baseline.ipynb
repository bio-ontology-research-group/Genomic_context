{
 "cells": [
  {
   "cell_type": "code",
   "execution_count": 1,
   "id": "c622ad12",
   "metadata": {},
   "outputs": [
    {
     "name": "stdout",
     "output_type": "stream",
     "text": [
      "Free CPU Memory: 600.30 GB\n"
     ]
    }
   ],
   "source": [
    "import psutil\n",
    "\n",
    "def get_free_memory():\n",
    "    memory = psutil.virtual_memory()\n",
    "    return memory.available / (1024.0 ** 3)  # Convert bytes to gigabytes\n",
    "\n",
    "print(f\"Free CPU Memory: {get_free_memory():.2f} GB\")"
   ]
  },
  {
   "cell_type": "code",
   "execution_count": 2,
   "id": "abdd98ad",
   "metadata": {},
   "outputs": [],
   "source": [
    "import torch\n",
    "torch.backends.cuda.matmul.allow_tf32 = True\n",
    "from datasets import Dataset\n",
    "import os"
   ]
  },
  {
   "cell_type": "code",
   "execution_count": 3,
   "id": "4afee737",
   "metadata": {},
   "outputs": [],
   "source": [
    "from tokenizers import Tokenizer\n",
    "from tokenizers.models import WordLevel\n",
    "from tokenizers.pre_tokenizers import WhitespaceSplit\n",
    "\n",
    "tokenizer = Tokenizer(WordLevel(unk_token=\"[UNK]\"))\n",
    "tokenizer.pre_tokenizer = WhitespaceSplit()"
   ]
  },
  {
   "cell_type": "code",
   "execution_count": 4,
   "id": "d69a29ad",
   "metadata": {},
   "outputs": [],
   "source": [
    "tokenizer_path = \"WordLevel_tokenizer_trained_InterPro.json\"\n",
    "tokenizer = tokenizer.from_file(tokenizer_path)\n",
    "tokenizer.enable_truncation(512)"
   ]
  },
  {
   "cell_type": "code",
   "execution_count": 5,
   "id": "0bef36e5",
   "metadata": {},
   "outputs": [
    {
     "data": {
      "text/plain": [
       "544998"
      ]
     },
     "execution_count": 5,
     "metadata": {},
     "output_type": "execute_result"
    }
   ],
   "source": [
    "tokenizer.get_vocab_size()\n"
   ]
  },
  {
   "cell_type": "code",
   "execution_count": 6,
   "id": "242995ca",
   "metadata": {},
   "outputs": [
    {
     "data": {
      "text/plain": [
       "[1, 2966, 754, 2545, 196, 9231, 2817, 7418, 2526, 2]"
      ]
     },
     "execution_count": 6,
     "metadata": {},
     "output_type": "execute_result"
    }
   ],
   "source": [
    "test = tokenizer.encode(\"WP_265490204 WP_206642677 WP_053312998 WP_251959347 WP_000076573 WP_227526754 WP_218401808 WP_106925592\")\n",
    "test.ids"
   ]
  },
  {
   "cell_type": "code",
   "execution_count": 7,
   "id": "2a5c8709",
   "metadata": {},
   "outputs": [
    {
     "name": "stdout",
     "output_type": "stream",
     "text": [
      "LIT_IP.tsv\n",
      "Toxin-antitoxin.tsv\n",
      "CRISPR_IP.tsv\n",
      "BREX_IP.tsv\n",
      "DISARM_IP.tsv\n",
      "Druantia.tsv\n",
      "Abortive_infection.tsv\n",
      "Kiwa_IP.tsv\n"
     ]
    }
   ],
   "source": [
    "import csv\n",
    "\n",
    "defense_ips = []\n",
    "directory = \"/home/toibazd/Defense_InterPros/\"\n",
    "file_list = os.listdir(directory)\n",
    "\n",
    "for file in file_list:\n",
    "    print(file)\n",
    "    file_path = os.path.join(directory, file)\n",
    "    with open(file_path, 'r', newline='') as infile:\n",
    "        reader = csv.reader(infile, delimiter = \"\\t\")\n",
    "        next(reader)\n",
    "        for row in reader:\n",
    "            ip = row[0]\n",
    "            defense_ips.append(ip)"
   ]
  },
  {
   "cell_type": "code",
   "execution_count": 8,
   "id": "679dec11",
   "metadata": {},
   "outputs": [
    {
     "name": "stdout",
     "output_type": "stream",
     "text": [
      "Defense IPs number:  183\n"
     ]
    }
   ],
   "source": [
    "print(\"Defense IPs number: \", len(defense_ips))"
   ]
  },
  {
   "cell_type": "code",
   "execution_count": 9,
   "id": "07ba9843",
   "metadata": {},
   "outputs": [
    {
     "data": {
      "application/json": {
       "ascii": false,
       "bar_format": null,
       "colour": null,
       "elapsed": 0.017475605010986328,
       "initial": 0,
       "n": 0,
       "ncols": null,
       "nrows": null,
       "postfix": null,
       "prefix": "",
       "rate": null,
       "total": null,
       "unit": "it",
       "unit_divisor": 1000,
       "unit_scale": false
      },
      "application/vnd.jupyter.widget-view+json": {
       "model_id": "01bb0473b9a64dada3e143bd0981753a",
       "version_major": 2,
       "version_minor": 0
      },
      "text/plain": [
       "0it [00:00, ?it/s]"
      ]
     },
     "metadata": {},
     "output_type": "display_data"
    }
   ],
   "source": [
    "from collections import defaultdict\n",
    "import csv\n",
    "from tqdm.auto import tqdm\n",
    "import numpy as np\n",
    "\n",
    "data_dict = defaultdict(list)\n",
    "\n",
    "with open(\"/home/toibazd/Prot2IP.tsv\", \"r\") as tsvfile:\n",
    "    reader = csv.reader(tsvfile, delimiter = \"\\t\")\n",
    "    for row in tqdm(reader):\n",
    "        key = row[0].split(\"prot_\")[1].split(\".\")[0]\n",
    "        iprs = eval(row[1])\n",
    "\n",
    "        # Save only if there are filtered InterPro IDs\n",
    "        for ip in iprs:\n",
    "            if ip in defense_ips:\n",
    "                data_dict[key].append(ip)\n"
   ]
  },
  {
   "cell_type": "code",
   "execution_count": 10,
   "id": "334d007d",
   "metadata": {},
   "outputs": [],
   "source": [
    "unique_defense = set()\n",
    "\n",
    "# Iterate through each value list in the dictionary and add its elements to the set\n",
    "for value_list in data_dict.values():\n",
    "    unique_defense.update(value_list)\n",
    "\n",
    "# Convert the set to a list if needed\n",
    "unique_defense = list(unique_defense)"
   ]
  },
  {
   "cell_type": "code",
   "execution_count": 11,
   "id": "88b651fe",
   "metadata": {},
   "outputs": [
    {
     "data": {
      "text/plain": [
       "141"
      ]
     },
     "execution_count": 11,
     "metadata": {},
     "output_type": "execute_result"
    }
   ],
   "source": [
    "len(unique_defense)"
   ]
  },
  {
   "cell_type": "code",
   "execution_count": 12,
   "id": "83f471e9",
   "metadata": {},
   "outputs": [
    {
     "name": "stdout",
     "output_type": "stream",
     "text": [
      "2231\n"
     ]
    }
   ],
   "source": [
    "from sklearn.preprocessing import MultiLabelBinarizer\n",
    "enc = MultiLabelBinarizer()\n",
    "one_hot_encoded = enc.fit_transform(data_dict.values())\n",
    "one_hot_encoded_dict = {key: value for key, value in zip(data_dict.keys(), one_hot_encoded)}\n",
    "\n",
    "print(len(one_hot_encoded_dict.keys()))"
   ]
  },
  {
   "cell_type": "code",
   "execution_count": 13,
   "id": "e7464990",
   "metadata": {},
   "outputs": [
    {
     "data": {
      "text/plain": [
       "(2231, 141)"
      ]
     },
     "execution_count": 13,
     "metadata": {},
     "output_type": "execute_result"
    }
   ],
   "source": [
    "one_hot_encoded.shape"
   ]
  },
  {
   "cell_type": "code",
   "execution_count": 15,
   "id": "a51e75ba",
   "metadata": {},
   "outputs": [
    {
     "name": "stderr",
     "output_type": "stream",
     "text": [
      "100%|██████████| 141/141 [1:45:36<00:00, 44.94s/it]\n"
     ]
    }
   ],
   "source": [
    "import os\n",
    "import random\n",
    "from tqdm import tqdm\n",
    "from concurrent.futures import ThreadPoolExecutor\n",
    "\n",
    "directory = '/ibex/user/toibazd/InterPro_annotated_genomes_training/'\n",
    "one_hot_encoded_sentences = {}\n",
    "\n",
    "sentence_length = 40\n",
    "sentences_per_IP = 100\n",
    "\n",
    "# Set random seed for reproducibility\n",
    "random.seed(42)\n",
    "\n",
    "# Randomly choose 1000 files with seed 42\n",
    "selected_files = os.listdir(directory)\n",
    "\n",
    "\n",
    "# Define a function to process a file\n",
    "def process_file(filename, IP):\n",
    "    sentences = []\n",
    "\n",
    "    filepath = os.path.join(directory, filename)\n",
    "\n",
    "    with open(filepath, 'r') as file:\n",
    "        content = file.read()\n",
    "        words = content.strip().split()\n",
    "\n",
    "        # Check if the key is in the file\n",
    "        for i in range(19, len(words)-20):\n",
    "            if IP in data_dict[words[i]]:\n",
    "                if len(words) - i >= 21:\n",
    "                    sentence = \" \".join(words[i - 19:i + sentence_length - 19])\n",
    "                    sentences.append(sentence)\n",
    "    return sentences\n",
    "\n",
    "\n",
    "# Iterate over keys\n",
    "for IP in tqdm(unique_defense):\n",
    "    one_hot_encoded_sentences[IP] = []\n",
    "    sentences_count = 0\n",
    "\n",
    "    # Use ThreadPoolExecutor for concurrent processing\n",
    "    with ThreadPoolExecutor(max_workers=4) as executor:\n",
    "        futures = [executor.submit(process_file, filename, IP) for filename in selected_files]\n",
    "        for future in futures:\n",
    "            sentences = future.result()\n",
    "            one_hot_encoded_sentences[IP].extend(sentences)\n",
    "            sentences_count += len(sentences)\n",
    "            if sentences_count >= sentences_per_IP:\n",
    "                break\n",
    "\n",
    "    # Break if the required number of sentences per key is reached\n"
   ]
  },
  {
   "cell_type": "code",
   "execution_count": 16,
   "id": "abea8bd2",
   "metadata": {},
   "outputs": [
    {
     "name": "stdout",
     "output_type": "stream",
     "text": [
      "106\n",
      "101\n",
      "63\n",
      "100\n",
      "100\n",
      "100\n",
      "100\n",
      "59\n",
      "57\n",
      "16\n",
      "100\n",
      "100\n",
      "100\n",
      "100\n",
      "14\n",
      "100\n",
      "20\n",
      "100\n",
      "100\n",
      "100\n",
      "102\n",
      "69\n",
      "100\n",
      "56\n",
      "100\n",
      "100\n",
      "100\n",
      "100\n",
      "100\n",
      "73\n",
      "100\n",
      "100\n",
      "100\n",
      "100\n",
      "28\n",
      "71\n",
      "18\n",
      "100\n",
      "100\n",
      "100\n",
      "100\n",
      "100\n",
      "100\n",
      "100\n",
      "65\n",
      "100\n",
      "100\n",
      "100\n",
      "101\n",
      "106\n",
      "100\n",
      "23\n",
      "100\n",
      "100\n",
      "100\n",
      "102\n",
      "100\n",
      "51\n",
      "100\n",
      "100\n",
      "101\n",
      "27\n",
      "102\n",
      "100\n",
      "100\n",
      "96\n",
      "100\n",
      "100\n",
      "100\n",
      "100\n",
      "100\n",
      "100\n",
      "100\n",
      "100\n",
      "100\n",
      "101\n",
      "100\n",
      "101\n",
      "100\n",
      "19\n",
      "104\n",
      "100\n",
      "81\n",
      "100\n",
      "102\n",
      "48\n",
      "100\n",
      "100\n",
      "100\n",
      "100\n",
      "48\n",
      "26\n",
      "17\n",
      "100\n",
      "100\n",
      "100\n",
      "100\n",
      "100\n",
      "100\n",
      "100\n",
      "100\n",
      "101\n",
      "100\n",
      "100\n",
      "100\n",
      "100\n",
      "57\n",
      "100\n",
      "100\n",
      "100\n",
      "100\n",
      "100\n",
      "42\n",
      "34\n",
      "84\n",
      "25\n",
      "100\n",
      "33\n",
      "34\n",
      "100\n",
      "100\n",
      "35\n",
      "36\n",
      "19\n",
      "100\n",
      "100\n",
      "49\n",
      "19\n",
      "33\n",
      "100\n",
      "100\n",
      "100\n",
      "100\n",
      "100\n",
      "100\n",
      "100\n",
      "102\n",
      "77\n",
      "33\n",
      "100\n",
      "100\n"
     ]
    }
   ],
   "source": [
    "for key, values in one_hot_encoded_sentences.items():\n",
    "    print(len(values))"
   ]
  },
  {
   "cell_type": "code",
   "execution_count": 17,
   "id": "a55b4b4d",
   "metadata": {},
   "outputs": [],
   "source": [
    "import json\n",
    "\n",
    "with open('BERT_sanity_check_defense_DNN_senteces.json', 'w') as f:\n",
    "    json.dump(one_hot_encoded_sentences, f)"
   ]
  },
  {
   "cell_type": "code",
   "execution_count": 18,
   "id": "eeeb70ec",
   "metadata": {},
   "outputs": [],
   "source": [
    "import json\n",
    "with open('BERT_sanity_check_defense_DNN_senteces.json', \"r\") as f:\n",
    "    one_hot_encoded_sentences = json.load(f)"
   ]
  },
  {
   "cell_type": "code",
   "execution_count": 19,
   "id": "b1149a6a",
   "metadata": {},
   "outputs": [
    {
     "name": "stdout",
     "output_type": "stream",
     "text": [
      "IPR028629 106\n",
      "IPR007712 101\n",
      "IPR030987 63\n",
      "IPR007337 100\n",
      "IPR017034 100\n",
      "IPR022597 100\n",
      "IPR048242 100\n",
      "IPR013421 59\n",
      "IPR019092 57\n",
      "IPR019117 16\n",
      "IPR022541 100\n",
      "IPR021228 100\n",
      "IPR006482 100\n",
      "IPR019857 100\n",
      "IPR010160 14\n",
      "IPR021127 100\n",
      "IPR013444 20\n",
      "IPR018669 100\n",
      "IPR015090 100\n",
      "IPR025935 100\n",
      "IPR025253 102\n",
      "IPR023843 69\n",
      "IPR017277 100\n",
      "IPR017574 56\n",
      "IPR021124 100\n",
      "IPR044054 100\n",
      "IPR047679 100\n",
      "IPR009320 100\n",
      "IPR013492 100\n",
      "IPR013403 73\n",
      "IPR026262 100\n",
      "IPR025940 100\n",
      "IPR005510 100\n",
      "IPR010156 100\n",
      "IPR013415 28\n",
      "IPR048067 71\n",
      "IPR013487 18\n",
      "IPR021558 100\n",
      "IPR019851 100\n",
      "IPR031856 100\n",
      "IPR010149 100\n",
      "IPR010144 100\n",
      "IPR025211 100\n",
      "IPR047976 100\n",
      "IPR013419 65\n",
      "IPR013397 100\n",
      "IPR013399 100\n",
      "IPR013382 100\n",
      "IPR039060 101\n",
      "IPR019239 106\n",
      "IPR010179 100\n",
      "IPR035424 23\n",
      "IPR010147 100\n",
      "IPR014174 100\n",
      "IPR002850 100\n",
      "IPR039052 102\n",
      "IPR019855 100\n",
      "IPR013410 51\n",
      "IPR025897 100\n",
      "IPR019238 100\n",
      "IPR010148 101\n",
      "IPR016581 27\n",
      "IPR013430 102\n",
      "IPR013343 100\n",
      "IPR011664 100\n",
      "IPR031709 96\n",
      "IPR013395 100\n",
      "IPR013337 100\n",
      "IPR019504 100\n",
      "IPR010146 100\n",
      "IPR024640 100\n",
      "IPR019858 100\n",
      "IPR010155 100\n",
      "IPR011660 100\n",
      "IPR018654 100\n",
      "IPR006442 101\n",
      "IPR010173 100\n",
      "IPR005537 101\n",
      "IPR033641 100\n",
      "IPR017576 19\n",
      "IPR009610 104\n",
      "IPR032758 100\n",
      "IPR049347 81\n",
      "IPR031834 100\n",
      "IPR048181 102\n",
      "IPR049929 48\n",
      "IPR013414 100\n",
      "IPR019199 100\n",
      "IPR013418 100\n",
      "IPR022452 100\n",
      "IPR010172 48\n",
      "IPR047583 26\n",
      "IPR049794 17\n",
      "IPR009956 100\n",
      "IPR010180 100\n",
      "IPR031848 100\n",
      "IPR031853 100\n",
      "IPR010152 100\n",
      "IPR022148 100\n",
      "IPR025506 100\n",
      "IPR013398 100\n",
      "IPR022789 101\n",
      "IPR013412 100\n",
      "IPR011979 100\n",
      "IPR025528 100\n",
      "IPR047721 100\n",
      "IPR013413 57\n",
      "IPR004386 100\n",
      "IPR047939 100\n",
      "IPR014858 100\n",
      "IPR019856 100\n",
      "IPR013408 100\n",
      "IPR049832 42\n",
      "IPR027616 34\n",
      "IPR031820 84\n",
      "IPR027620 25\n",
      "IPR025639 100\n",
      "IPR017575 33\n",
      "IPR013407 34\n",
      "IPR007460 100\n",
      "IPR031552 100\n",
      "IPR027617 35\n",
      "IPR049889 36\n",
      "IPR030955 19\n",
      "IPR013396 100\n",
      "IPR021831 100\n",
      "IPR023844 49\n",
      "IPR013490 19\n",
      "IPR017589 33\n",
      "IPR025159 100\n",
      "IPR020883 100\n",
      "IPR032359 100\n",
      "IPR028037 100\n",
      "IPR013489 100\n",
      "IPR013381 100\n",
      "IPR010154 100\n",
      "IPR002729 102\n",
      "IPR019089 77\n",
      "IPR049758 33\n",
      "IPR028344 100\n",
      "IPR021561 100\n"
     ]
    }
   ],
   "source": [
    "for key, value in one_hot_encoded_sentences.items():\n",
    "    print(key, end=\" \")\n",
    "    print(len(value))"
   ]
  },
  {
   "cell_type": "code",
   "execution_count": 20,
   "id": "deeb72f6",
   "metadata": {},
   "outputs": [
    {
     "data": {
      "text/plain": [
       "141"
      ]
     },
     "execution_count": 20,
     "metadata": {},
     "output_type": "execute_result"
    }
   ],
   "source": [
    "one_hot_encoded_sentences = {key: value for key, value in one_hot_encoded_sentences.items() if value}\n",
    "len(one_hot_encoded_sentences)"
   ]
  },
  {
   "cell_type": "code",
   "execution_count": 21,
   "id": "f2219cee",
   "metadata": {},
   "outputs": [
    {
     "data": {
      "text/plain": [
       "141"
      ]
     },
     "execution_count": 21,
     "metadata": {},
     "output_type": "execute_result"
    }
   ],
   "source": [
    "matching_string = one_hot_encoded_sentences.values()\n",
    "len(matching_string)"
   ]
  },
  {
   "cell_type": "code",
   "execution_count": 22,
   "id": "ea88291d",
   "metadata": {},
   "outputs": [
    {
     "data": {
      "text/plain": [
       "11987"
      ]
     },
     "execution_count": 22,
     "metadata": {},
     "output_type": "execute_result"
    }
   ],
   "source": [
    "matching_string = [item for sublist in matching_string for item in sublist]\n",
    "len(matching_string)"
   ]
  },
  {
   "cell_type": "code",
   "execution_count": 23,
   "id": "2c1c4fb7",
   "metadata": {},
   "outputs": [
    {
     "name": "stdout",
     "output_type": "stream",
     "text": [
      "11987\n"
     ]
    }
   ],
   "source": [
    "count= 0\n",
    "for string in matching_string:\n",
    "    words = string.split(\" \")\n",
    "    if not words[19] in data_dict.keys():\n",
    "        print(\"False\")\n",
    "    else:\n",
    "        count+=1\n",
    "print(count)"
   ]
  },
  {
   "cell_type": "code",
   "execution_count": 24,
   "id": "3b43fe10",
   "metadata": {},
   "outputs": [
    {
     "name": "stdout",
     "output_type": "stream",
     "text": [
      "[2024-03-18 12:49:21,569] [INFO] [real_accelerator.py:110:get_accelerator] Setting ds_accelerator to cuda (auto detect)\n"
     ]
    },
    {
     "name": "stderr",
     "output_type": "stream",
     "text": [
      "Some weights of BertModel were not initialized from the model checkpoint at /home/toibazd/Data/BERT/BERT_context_pretrained_InterPro_final and are newly initialized: ['bert.pooler.dense.weight', 'bert.pooler.dense.bias']\n",
      "You should probably TRAIN this model on a down-stream task to be able to use it for predictions and inference.\n"
     ]
    },
    {
     "data": {
      "text/plain": [
       "BertModel(\n",
       "  (embeddings): BertEmbeddings(\n",
       "    (word_embeddings): Embedding(544998, 256, padding_idx=0)\n",
       "    (position_embeddings): Embedding(512, 256)\n",
       "    (token_type_embeddings): Embedding(2, 256)\n",
       "    (LayerNorm): LayerNorm((256,), eps=1e-12, elementwise_affine=True)\n",
       "    (dropout): Dropout(p=0.1, inplace=False)\n",
       "  )\n",
       "  (encoder): BertEncoder(\n",
       "    (layer): ModuleList(\n",
       "      (0): BertLayer(\n",
       "        (attention): BertAttention(\n",
       "          (self): BertSelfAttention(\n",
       "            (query): Linear(in_features=256, out_features=256, bias=True)\n",
       "            (key): Linear(in_features=256, out_features=256, bias=True)\n",
       "            (value): Linear(in_features=256, out_features=256, bias=True)\n",
       "            (dropout): Dropout(p=0.1, inplace=False)\n",
       "          )\n",
       "          (output): BertSelfOutput(\n",
       "            (dense): Linear(in_features=256, out_features=256, bias=True)\n",
       "            (LayerNorm): LayerNorm((256,), eps=1e-12, elementwise_affine=True)\n",
       "            (dropout): Dropout(p=0.1, inplace=False)\n",
       "          )\n",
       "        )\n",
       "        (intermediate): BertIntermediate(\n",
       "          (dense): Linear(in_features=256, out_features=256, bias=True)\n",
       "          (intermediate_act_fn): GELUActivation()\n",
       "        )\n",
       "        (output): BertOutput(\n",
       "          (dense): Linear(in_features=256, out_features=256, bias=True)\n",
       "          (LayerNorm): LayerNorm((256,), eps=1e-12, elementwise_affine=True)\n",
       "          (dropout): Dropout(p=0.1, inplace=False)\n",
       "        )\n",
       "      )\n",
       "      (1): BertLayer(\n",
       "        (attention): BertAttention(\n",
       "          (self): BertSelfAttention(\n",
       "            (query): Linear(in_features=256, out_features=256, bias=True)\n",
       "            (key): Linear(in_features=256, out_features=256, bias=True)\n",
       "            (value): Linear(in_features=256, out_features=256, bias=True)\n",
       "            (dropout): Dropout(p=0.1, inplace=False)\n",
       "          )\n",
       "          (output): BertSelfOutput(\n",
       "            (dense): Linear(in_features=256, out_features=256, bias=True)\n",
       "            (LayerNorm): LayerNorm((256,), eps=1e-12, elementwise_affine=True)\n",
       "            (dropout): Dropout(p=0.1, inplace=False)\n",
       "          )\n",
       "        )\n",
       "        (intermediate): BertIntermediate(\n",
       "          (dense): Linear(in_features=256, out_features=256, bias=True)\n",
       "          (intermediate_act_fn): GELUActivation()\n",
       "        )\n",
       "        (output): BertOutput(\n",
       "          (dense): Linear(in_features=256, out_features=256, bias=True)\n",
       "          (LayerNorm): LayerNorm((256,), eps=1e-12, elementwise_affine=True)\n",
       "          (dropout): Dropout(p=0.1, inplace=False)\n",
       "        )\n",
       "      )\n",
       "      (2): BertLayer(\n",
       "        (attention): BertAttention(\n",
       "          (self): BertSelfAttention(\n",
       "            (query): Linear(in_features=256, out_features=256, bias=True)\n",
       "            (key): Linear(in_features=256, out_features=256, bias=True)\n",
       "            (value): Linear(in_features=256, out_features=256, bias=True)\n",
       "            (dropout): Dropout(p=0.1, inplace=False)\n",
       "          )\n",
       "          (output): BertSelfOutput(\n",
       "            (dense): Linear(in_features=256, out_features=256, bias=True)\n",
       "            (LayerNorm): LayerNorm((256,), eps=1e-12, elementwise_affine=True)\n",
       "            (dropout): Dropout(p=0.1, inplace=False)\n",
       "          )\n",
       "        )\n",
       "        (intermediate): BertIntermediate(\n",
       "          (dense): Linear(in_features=256, out_features=256, bias=True)\n",
       "          (intermediate_act_fn): GELUActivation()\n",
       "        )\n",
       "        (output): BertOutput(\n",
       "          (dense): Linear(in_features=256, out_features=256, bias=True)\n",
       "          (LayerNorm): LayerNorm((256,), eps=1e-12, elementwise_affine=True)\n",
       "          (dropout): Dropout(p=0.1, inplace=False)\n",
       "        )\n",
       "      )\n",
       "    )\n",
       "  )\n",
       "  (pooler): None\n",
       ")"
      ]
     },
     "execution_count": 24,
     "metadata": {},
     "output_type": "execute_result"
    }
   ],
   "source": [
    "from transformers import BertModel\n",
    "\n",
    "# Check if CUDA is available and choose device accordingly\n",
    "device = torch.device('cuda' if torch.cuda.is_available() else 'cpu')\n",
    "model_path = \"/home/toibazd/Data/BERT/BERT_context_pretrained_InterPro_final\"\n",
    "\n",
    "model = BertModel.from_pretrained(model_path).cuda()\n",
    "model.pooler = None\n",
    "model.eval()"
   ]
  },
  {
   "cell_type": "code",
   "execution_count": 25,
   "id": "978dfa1b",
   "metadata": {},
   "outputs": [
    {
     "name": "stdout",
     "output_type": "stream",
     "text": [
      "[0 0 0 0 0 0 0 0 0 1 0 0 0 0 0 0 0 0 0 0 0 0 0 0 0 0 0 0 0 0 0 0 0 0 0 0 0\n",
      " 0 0 0 0 0 0 0 0 0 0 0 0 0 0 0 0 0 0 0 0 0 0 0 0 0 0 0 0 0 0 0 0 0 0 0 0 0\n",
      " 0 0 0 0 0 0 0 0 0 0 0 0 0 0 0 0 0 0 0 0 0 0 0 0 0 0 0 0 0 0 0 0 0 0 0 0 0\n",
      " 0 0 0 0 0 0 0 0 0 0 0 0 0 0 0 0 0 0 0 0 0 0 0 0 0 0 0 0 0 0]\n"
     ]
    }
   ],
   "source": [
    "print(one_hot_encoded[1])"
   ]
  },
  {
   "cell_type": "code",
   "execution_count": 26,
   "id": "c35dd100",
   "metadata": {},
   "outputs": [
    {
     "name": "stderr",
     "output_type": "stream",
     "text": [
      "100%|██████████| 94/94 [00:02<00:00, 42.35it/s]\n"
     ]
    }
   ],
   "source": [
    "batch_size = 128 # Define your batch size\n",
    "embeddings = []\n",
    "labels = []\n",
    "\n",
    "# Define your data iterator in batches\n",
    "for i in tqdm(range(0, len(matching_string), batch_size)):\n",
    "    batch_sentences = matching_string[i:i+batch_size]\n",
    "\n",
    "    batch_inputs = tokenizer.encode_batch(batch_sentences)\n",
    "    input_ids_list = []\n",
    "    attention_mask_list = []\n",
    "\n",
    "    for encoding in batch_inputs:\n",
    "        input_ids_list.append(encoding.ids)\n",
    "        attention_mask_list.append(encoding.attention_mask)\n",
    "\n",
    "    # Convert lists to tensors and move to device\n",
    "    input_ids = torch.tensor(input_ids_list).cuda()\n",
    "    attention_mask = torch.tensor(attention_mask_list).cuda()\n",
    "\n",
    "    with torch.inference_mode():\n",
    "        outputs = model(input_ids, attention_mask=attention_mask, output_hidden_states=True)\n",
    "    hidden_states = outputs.last_hidden_state\n",
    "    relevant_hidden_states = hidden_states[:, 20, :]  # Extract the 20th token's hidden state\n",
    "    \n",
    "    for j in range(len(batch_sentences)):\n",
    "        embeddings.append(relevant_hidden_states[j].cpu())\n",
    "        indicator = batch_sentences[j].split()[19]\n",
    "        labels.append(one_hot_encoded_dict[indicator])\n"
   ]
  },
  {
   "cell_type": "code",
   "execution_count": 27,
   "id": "7cad879a",
   "metadata": {},
   "outputs": [
    {
     "name": "stdout",
     "output_type": "stream",
     "text": [
      "(141,)\n"
     ]
    }
   ],
   "source": [
    "def calculate_pos_weights(class_counts):\n",
    "    pos_weights = np.ones_like(class_counts)\n",
    "    \n",
    "    neg_counts = [len(embeddings)-pos_count for pos_count in class_counts]\n",
    "    for cdx, (pos_count, neg_count) in enumerate(zip(class_counts,  neg_counts)):\n",
    "      pos_weights[cdx] = neg_count / (pos_count + 1e-5)\n",
    "\n",
    "    return torch.as_tensor(pos_weights, dtype=torch.float)\n",
    "class_counts = np.array(labels).sum(axis=0)\n",
    "print(class_counts.shape)\n",
    "pos_weights = calculate_pos_weights(class_counts) "
   ]
  },
  {
   "cell_type": "code",
   "execution_count": 28,
   "id": "f1476691",
   "metadata": {},
   "outputs": [
    {
     "data": {
      "text/plain": [
       "tensor([ 1.0000,  9.8333,  7.7500,  8.7500,  2.1667,  9.7500,  3.6667,  4.8333,\n",
       "         9.8333,  3.2500,  8.5833,  9.5000,  9.8333,  9.8333,  9.8333,  5.1667,\n",
       "         6.0833,  9.8333,  9.8333,  4.2500,  8.5833,  9.8333, 71.2500, 18.3333,\n",
       "         7.5000,  9.8333,  9.8333,  9.8333,  4.8333,  9.8333,  9.6667,  6.5000,\n",
       "         9.8333,  7.9167,  9.8333,  9.8333,  9.8333,  9.8333,  9.8333, 13.5833,\n",
       "        29.2500,  9.8333, 18.7500,  6.8333,  8.6667,  4.8333, 35.5833,  6.9167,\n",
       "        14.7500, 16.8333,  9.6667, 49.8333, 55.3333,  9.8333, 47.4167,  9.8333,\n",
       "         9.8333,  9.8333,  9.8333, 23.0833,  8.3333,  9.8333, 17.7500, 30.1667,\n",
       "        52.4167, 30.1667,  9.8333,  9.8333, 12.8333,  8.6667, 62.3333,  4.8333,\n",
       "         9.8333,  9.3333,  9.8333,  4.5833,  9.2500,  9.5000,  9.3333,  9.4167,\n",
       "         9.8333,  2.3333,  7.3333,  9.8333,  9.8333,  9.8333,  9.8333,  9.8333,\n",
       "         5.2500,  9.8333,  9.8333,  6.5833, 14.3333, 19.0833,  9.8333,  9.8333,\n",
       "         9.8333,  9.6667,  9.8333,  9.8333,  9.8333,  9.8333,  9.8333,  9.8333,\n",
       "         7.4167, 29.2500, 28.4167, 39.8333,  9.8333,  9.5000,  9.3333, 52.4167,\n",
       "        15.7500,  9.8333, 10.2500, 11.7500,  9.8333,  9.8333,  9.8333,  9.8333,\n",
       "         9.8333,  4.9167,  4.5833, 43.3333,  9.6667,  9.7500,  9.8333, 38.3333,\n",
       "         9.8333,  9.8333,  9.8333,  9.8333, 13.9167,  9.6667,  9.8333, 12.1667,\n",
       "        30.1667, 58.6667, 23.6667, 27.5833, 20.6667])"
      ]
     },
     "execution_count": 28,
     "metadata": {},
     "output_type": "execute_result"
    }
   ],
   "source": [
    "pos_weights = pos_weights / torch.min(pos_weights)\n",
    "\n",
    "pos_weights"
   ]
  },
  {
   "cell_type": "code",
   "execution_count": 29,
   "id": "1fc1f6a8",
   "metadata": {},
   "outputs": [],
   "source": [
    "import random\n",
    "\n",
    "random.seed(42)\n",
    "combined = list(zip(embeddings, labels))\n",
    "random.shuffle(combined)\n",
    "embeddings, labels = zip(*combined)\n",
    "\n"
   ]
  },
  {
   "cell_type": "code",
   "execution_count": 30,
   "id": "d7184dec",
   "metadata": {},
   "outputs": [],
   "source": [
    "model.to(\"cpu\")\n",
    "torch.cuda.empty_cache()"
   ]
  },
  {
   "cell_type": "code",
   "execution_count": 33,
   "id": "b50baa3b",
   "metadata": {},
   "outputs": [
    {
     "name": "stdout",
     "output_type": "stream",
     "text": [
      "tensor([-2.3154e-01, -1.1831e-01,  3.1003e-01,  1.4840e-01,  1.5352e-01,\n",
      "        -1.8559e-01,  9.2390e-02,  5.9158e-01, -1.8190e-01, -4.4440e-01,\n",
      "        -3.5491e-01, -2.4470e-01, -5.6740e-01, -3.6771e-01, -1.1164e-01,\n",
      "        -5.9384e-02, -7.8562e-02, -6.6655e-01,  8.4920e-02, -4.6805e-02,\n",
      "         1.0548e-01, -2.0913e-01,  1.4788e-01, -1.5230e-01,  4.1854e-01,\n",
      "         8.1110e-02, -3.1939e-01, -5.2419e-01,  7.3082e-03, -3.1820e-01,\n",
      "         3.5603e-01,  3.8874e-01,  2.0314e-01,  3.7499e-02,  4.5497e-01,\n",
      "         2.4618e-01,  2.2727e-01,  7.5715e-03,  4.6537e-01,  3.5618e-01,\n",
      "        -2.9595e-01,  1.6649e-01, -1.2247e-01,  1.8809e-01, -2.1789e-01,\n",
      "         3.4202e-01,  7.5534e-02, -2.6116e-01, -9.1179e-02, -4.4397e-01,\n",
      "        -2.2757e-01, -3.8417e-02,  5.5517e-02,  4.9596e-02, -2.0082e-01,\n",
      "         1.0503e-01, -2.0418e-02, -8.9088e-02, -1.3379e-02, -3.5107e-01,\n",
      "        -4.3659e-03, -4.4773e-01,  2.2599e-01, -2.2115e-01,  7.9751e-02,\n",
      "        -2.0281e-01, -6.8589e-01,  1.3862e-01,  2.5332e-01, -5.7982e-01,\n",
      "         8.5680e-02,  1.7131e-02,  2.8951e-01,  7.3301e-02, -3.1123e-01,\n",
      "         8.1435e-02,  2.0423e-02,  9.6167e-02, -4.7698e-02, -1.0496e-01,\n",
      "         8.7220e-02, -5.4617e-01,  1.6379e-01,  2.2317e-01,  1.0574e-01,\n",
      "        -1.8324e-01,  1.1898e-02, -2.2652e-01, -3.6553e-01,  2.7722e-01,\n",
      "         5.9427e-01, -5.4503e-01, -1.3652e-01, -2.7060e-01,  2.6545e-01,\n",
      "        -7.6878e-03, -6.2515e-02, -2.8122e-01,  2.5740e-01,  5.8109e-01,\n",
      "        -4.5600e-01, -5.0632e-01,  2.5257e-01, -3.0084e-01,  2.7025e-01,\n",
      "        -5.5940e-02,  5.0548e-02, -4.8519e-01, -2.9962e-01, -3.9230e-01,\n",
      "        -3.2482e-01, -2.9634e-02,  8.1274e-01, -3.1753e-01, -7.9139e-02,\n",
      "         2.2128e-01, -8.9374e-01,  6.2709e-01, -4.5243e-01, -2.0029e-01,\n",
      "         4.2893e-01, -1.2452e-01, -1.6600e-01,  1.0931e-01,  4.2555e-03,\n",
      "         2.5495e-01, -3.4419e-01,  3.0438e-01, -1.9466e-01, -7.0942e-01,\n",
      "         1.1388e-01,  7.7664e-01,  2.5268e-01,  2.9010e-02, -3.5013e-01,\n",
      "        -1.0206e-01,  1.0564e-01, -3.9189e-01, -3.8155e-01,  1.0954e-02,\n",
      "         3.0930e-01, -1.4950e-01, -2.5935e-02,  1.3219e-01,  1.0812e+00,\n",
      "         4.4745e-02,  4.4828e-02, -8.8407e-02,  2.5229e-01,  3.6523e-01,\n",
      "         3.8458e-01, -6.0029e-02, -4.0784e-01, -5.5544e-01, -2.0107e-01,\n",
      "        -1.9379e-01, -6.5969e-03,  2.3916e-01,  4.9411e-01,  9.7825e-02,\n",
      "        -4.3641e-01,  3.8280e-02, -3.4031e-01, -3.6998e-01,  1.6328e-01,\n",
      "        -3.5948e-01,  6.2839e-01, -7.1749e-01, -1.9619e-01,  1.9604e-01,\n",
      "         2.7462e-01,  5.9712e-01, -2.0868e-01, -1.9672e-01, -1.8111e-01,\n",
      "         1.0453e-03,  5.5571e-03, -1.4540e-01, -5.0303e-01, -5.7267e-02,\n",
      "        -5.6113e-02, -1.6005e-01,  2.3112e+00, -5.0762e-02,  4.0084e-01,\n",
      "        -3.2795e-02, -2.8576e-01,  4.0100e-01,  1.7280e-02, -6.9357e-01,\n",
      "         2.2849e-01,  3.6888e-01, -2.0917e-01,  2.1208e-01,  6.6457e-01,\n",
      "         1.9262e-01, -8.3740e-03,  1.9933e-01,  1.4542e-01, -5.1477e-01,\n",
      "         1.4376e-01, -5.5017e-02,  3.6083e-01,  2.8755e-01,  3.8255e-01,\n",
      "        -7.4682e-02, -3.1938e-02, -5.7892e-02,  4.3320e-01, -5.0081e-03,\n",
      "         1.8055e-01,  2.9457e-01, -1.4258e-01,  6.2972e-01,  3.4365e-02,\n",
      "        -5.4506e-01, -1.4298e-02, -1.2946e-01,  7.7219e-01, -1.3656e-01,\n",
      "        -1.0860e-01,  7.7120e-01,  4.0462e-01,  3.9436e-01, -3.2837e-01,\n",
      "        -4.1797e-01, -4.0038e-01, -8.2574e-02, -1.5677e-01,  6.4721e-01,\n",
      "         3.8771e-01,  2.8551e-01,  4.5499e-02, -6.5779e-02,  6.9024e-02,\n",
      "         2.1349e-02, -2.2303e-01, -1.1820e-01,  2.4583e-01,  4.8646e-01,\n",
      "        -3.1494e-01,  6.1059e-02, -4.6279e-01, -7.2664e-01,  3.6986e-02,\n",
      "         2.4872e-01,  1.0593e-01, -6.8497e-02,  4.6752e-01, -1.8085e-01,\n",
      "         1.7113e-01,  7.7286e-03, -5.6511e-01, -1.4555e-01, -3.6186e-02,\n",
      "         9.4010e-02])\n"
     ]
    }
   ],
   "source": [
    "print(embeddings[0])"
   ]
  },
  {
   "cell_type": "code",
   "execution_count": 31,
   "id": "f7403eb2",
   "metadata": {},
   "outputs": [
    {
     "name": "stderr",
     "output_type": "stream",
     "text": [
      "100%|██████████| 11987/11987 [00:00<00:00, 153538.56it/s]\n"
     ]
    }
   ],
   "source": [
    "import torch\n",
    "\n",
    "random_embeddings = []\n",
    "for embedding in tqdm(embeddings):\n",
    "    random_embedding = torch.randn_like(embedding)  # Generate random tensor with same shape as 'embedding'\n",
    "    random_embeddings.append(random_embedding)\n",
    "\n"
   ]
  },
  {
   "cell_type": "code",
   "execution_count": 32,
   "id": "f832c70d",
   "metadata": {},
   "outputs": [],
   "source": [
    "import torch.nn as nn\n",
    "\n",
    "class Classification_V0(nn.Module):\n",
    "    def __init__(self, input_dim, first_hidden, second_hidden, last_hidden, output_dim, dropout_prob):\n",
    "        super(Classification_V0, self).__init__()\n",
    "        self.fc1 = nn.Linear(input_dim, first_hidden)\n",
    "        self.relu1 = nn.ReLU()\n",
    "        self.fc2 = nn.Linear(first_hidden, second_hidden)\n",
    "        self.relu2 = nn.ReLU()\n",
    "        self.fc3 = nn.Linear(second_hidden, last_hidden)\n",
    "        self.relu3 = nn.ReLU()\n",
    "        self.fc4 = nn.Linear(last_hidden, output_dim)\n",
    "        \n",
    "        self.dropout = nn.Dropout(dropout_prob)\n",
    "    \n",
    "    def forward(self, x):\n",
    "        x = self.fc1(x)\n",
    "        x = self.relu1(x)\n",
    "        x = self.dropout(x)\n",
    "        x = self.fc2(x)\n",
    "        x = self.relu2(x)\n",
    "        x = self.dropout(x)\n",
    "        x = self.fc3(x)\n",
    "        x = self.relu3(x)\n",
    "        x = self.dropout(x)\n",
    "        x = self.fc4(x)\n",
    "        return x\n",
    "\n",
    "input_dim = 256\n",
    "first_hidden = 256\n",
    "second_hidden = 128\n",
    "last_hidden = 64\n",
    "output_dim = 141\n",
    "dropout_prob = 0.25\n",
    "\n",
    "clf_model = Classification_V0(input_dim, first_hidden, second_hidden, last_hidden, output_dim, dropout_prob)\n"
   ]
  },
  {
   "cell_type": "code",
   "execution_count": 34,
   "id": "7d9abc8b",
   "metadata": {},
   "outputs": [],
   "source": [
    "from torch.utils.data import DataLoader, TensorDataset\n",
    "import torch.optim.lr_scheduler as lr_scheduler\n",
    "\n",
    "batch_size = 128\n",
    "def data_generator(embeddings, labels, batch_size):\n",
    "    num_samples = len(embeddings)\n",
    "    for i in range(0, num_samples, batch_size):\n",
    "        batch_embeddings = embeddings[i:i+batch_size]\n",
    "        batch_labels = labels[i:i+batch_size]\n",
    "        yield batch_embeddings, batch_labels\n",
    "\n",
    "\n",
    "optimizer = torch.optim.Adam(clf_model.parameters(), lr=0.001)\n",
    "scheduler = lr_scheduler.StepLR(optimizer=optimizer, step_size=10, gamma=0.1)\n",
    "criterion = torch.nn.BCEWithLogitsLoss(pos_weight=pos_weights)"
   ]
  },
  {
   "cell_type": "code",
   "execution_count": 35,
   "id": "ad1b6ca9",
   "metadata": {},
   "outputs": [
    {
     "name": "stdout",
     "output_type": "stream",
     "text": [
      "Epoch 1/20:\n"
     ]
    },
    {
     "name": "stderr",
     "output_type": "stream",
     "text": [
      "                                          \r"
     ]
    },
    {
     "name": "stdout",
     "output_type": "stream",
     "text": [
      "0.3823930179146916\n",
      "Epoch 2/20:\n"
     ]
    },
    {
     "name": "stderr",
     "output_type": "stream",
     "text": [
      "                                          \r"
     ]
    },
    {
     "name": "stdout",
     "output_type": "stream",
     "text": [
      "0.30351527124864597\n",
      "Epoch 3/20:\n"
     ]
    },
    {
     "name": "stderr",
     "output_type": "stream",
     "text": [
      "                                          \r"
     ]
    },
    {
     "name": "stdout",
     "output_type": "stream",
     "text": [
      "0.2982593150356449\n",
      "Epoch 4/20:\n"
     ]
    },
    {
     "name": "stderr",
     "output_type": "stream",
     "text": [
      "                                          \r"
     ]
    },
    {
     "name": "stdout",
     "output_type": "stream",
     "text": [
      "0.29540641602000395\n",
      "Epoch 5/20:\n"
     ]
    },
    {
     "name": "stderr",
     "output_type": "stream",
     "text": [
      "                                          \r"
     ]
    },
    {
     "name": "stdout",
     "output_type": "stream",
     "text": [
      "0.29235055900708024\n",
      "Epoch 6/20:\n"
     ]
    },
    {
     "name": "stderr",
     "output_type": "stream",
     "text": [
      "                                          \r"
     ]
    },
    {
     "name": "stdout",
     "output_type": "stream",
     "text": [
      "0.2885337435613435\n",
      "Epoch 7/20:\n"
     ]
    },
    {
     "name": "stderr",
     "output_type": "stream",
     "text": [
      "                                          \r"
     ]
    },
    {
     "name": "stdout",
     "output_type": "stream",
     "text": [
      "0.28429692985119054\n",
      "Epoch 8/20:\n"
     ]
    },
    {
     "name": "stderr",
     "output_type": "stream",
     "text": [
      "                                          \r"
     ]
    },
    {
     "name": "stdout",
     "output_type": "stream",
     "text": [
      "0.28096855541002347\n",
      "Epoch 9/20:\n"
     ]
    },
    {
     "name": "stderr",
     "output_type": "stream",
     "text": [
      "                                          \r"
     ]
    },
    {
     "name": "stdout",
     "output_type": "stream",
     "text": [
      "0.2758953211911578\n",
      "Epoch 10/20:\n"
     ]
    },
    {
     "name": "stderr",
     "output_type": "stream",
     "text": [
      "                                          \r"
     ]
    },
    {
     "name": "stdout",
     "output_type": "stream",
     "text": [
      "0.27122503557346017\n",
      "Epoch 11/20:\n"
     ]
    },
    {
     "name": "stderr",
     "output_type": "stream",
     "text": [
      "                                          \r"
     ]
    },
    {
     "name": "stdout",
     "output_type": "stream",
     "text": [
      "0.2630232956328503\n",
      "Epoch 12/20:\n"
     ]
    },
    {
     "name": "stderr",
     "output_type": "stream",
     "text": [
      "                                          \r"
     ]
    },
    {
     "name": "stdout",
     "output_type": "stream",
     "text": [
      "0.2619311755240744\n",
      "Epoch 13/20:\n"
     ]
    },
    {
     "name": "stderr",
     "output_type": "stream",
     "text": [
      "                                          \r"
     ]
    },
    {
     "name": "stdout",
     "output_type": "stream",
     "text": [
      "0.26047538018379773\n",
      "Epoch 14/20:\n"
     ]
    },
    {
     "name": "stderr",
     "output_type": "stream",
     "text": [
      "                                          \r"
     ]
    },
    {
     "name": "stdout",
     "output_type": "stream",
     "text": [
      "0.2595711115592612\n",
      "Epoch 15/20:\n"
     ]
    },
    {
     "name": "stderr",
     "output_type": "stream",
     "text": [
      "                                          \r"
     ]
    },
    {
     "name": "stdout",
     "output_type": "stream",
     "text": [
      "0.25834471725727365\n",
      "Epoch 16/20:\n"
     ]
    },
    {
     "name": "stderr",
     "output_type": "stream",
     "text": [
      "                                          \r"
     ]
    },
    {
     "name": "stdout",
     "output_type": "stream",
     "text": [
      "0.25793687434254947\n",
      "Epoch 17/20:\n"
     ]
    },
    {
     "name": "stderr",
     "output_type": "stream",
     "text": [
      "                                          \r"
     ]
    },
    {
     "name": "stdout",
     "output_type": "stream",
     "text": [
      "0.2569146782042953\n",
      "Epoch 18/20:\n"
     ]
    },
    {
     "name": "stderr",
     "output_type": "stream",
     "text": [
      "                                          \r"
     ]
    },
    {
     "name": "stdout",
     "output_type": "stream",
     "text": [
      "0.25603698643908507\n",
      "Epoch 19/20:\n"
     ]
    },
    {
     "name": "stderr",
     "output_type": "stream",
     "text": [
      "                                          \r"
     ]
    },
    {
     "name": "stdout",
     "output_type": "stream",
     "text": [
      "0.25558421223338834\n",
      "Epoch 20/20:\n"
     ]
    },
    {
     "name": "stderr",
     "output_type": "stream",
     "text": [
      "                                          "
     ]
    },
    {
     "name": "stdout",
     "output_type": "stream",
     "text": [
      "0.25456847024339846\n",
      "Training finished.\n"
     ]
    },
    {
     "name": "stderr",
     "output_type": "stream",
     "text": [
      "\r"
     ]
    }
   ],
   "source": [
    "import numpy as np\n",
    "\n",
    "num_epochs = 20\n",
    "epoch_loss = []\n",
    "for epoch in range(num_epochs):\n",
    "    print(f\"Epoch {epoch+1}/{num_epochs}:\")\n",
    "    \n",
    "    # Initialize data generator\n",
    "    generator = data_generator(random_embeddings, labels, batch_size)\n",
    "    train_loss = 0\n",
    "    # Iterate over batches\n",
    "    for batch_embeddings, batch_labels in tqdm(generator, desc=\"Training Batches\", leave=False):\n",
    "        \n",
    "        optimizer.zero_grad()\n",
    "        \n",
    "        # Convert data to tensors\n",
    "\n",
    "        batch_embeddings_tensor = torch.stack(batch_embeddings)\n",
    "        batch_labels = np.array(batch_labels)\n",
    "        batch_labels_tensor = torch.tensor(batch_labels, dtype = torch.float32)\n",
    "        outputs = clf_model(batch_embeddings_tensor)\n",
    "        loss = criterion(outputs, batch_labels_tensor)\n",
    "        train_loss+=loss.item()\n",
    "\n",
    "        loss.backward()\n",
    "        optimizer.step()\n",
    "    scheduler.step()\n",
    "    epoch_loss.append(train_loss/(len(embeddings)/batch_size))\n",
    "    print(train_loss/(len(embeddings)/batch_size))\n",
    "print(\"Training finished.\")"
   ]
  },
  {
   "cell_type": "code",
   "execution_count": 36,
   "id": "ac44af79",
   "metadata": {},
   "outputs": [
    {
     "name": "stderr",
     "output_type": "stream",
     "text": [
      "  1%|          | 1/141 [00:00<01:55,  1.21it/s]"
     ]
    },
    {
     "name": "stdout",
     "output_type": "stream",
     "text": [
      "50\n",
      "50\n"
     ]
    },
    {
     "name": "stderr",
     "output_type": "stream",
     "text": [
      "  3%|▎         | 4/141 [00:11<06:31,  2.86s/it]"
     ]
    },
    {
     "name": "stdout",
     "output_type": "stream",
     "text": [
      "5\n",
      "50\n"
     ]
    },
    {
     "name": "stderr",
     "output_type": "stream",
     "text": [
      "\r",
      "  4%|▎         | 5/141 [00:14<06:25,  2.84s/it]"
     ]
    },
    {
     "name": "stdout",
     "output_type": "stream",
     "text": [
      "50\n"
     ]
    },
    {
     "name": "stderr",
     "output_type": "stream",
     "text": [
      "\r",
      "  4%|▍         | 6/141 [00:15<04:30,  2.01s/it]"
     ]
    },
    {
     "name": "stdout",
     "output_type": "stream",
     "text": [
      "50\n"
     ]
    },
    {
     "name": "stderr",
     "output_type": "stream",
     "text": [
      "\r",
      "  5%|▍         | 7/141 [00:17<04:35,  2.06s/it]"
     ]
    },
    {
     "name": "stdout",
     "output_type": "stream",
     "text": [
      "50\n"
     ]
    },
    {
     "name": "stderr",
     "output_type": "stream",
     "text": [
      "\r",
      "  6%|▌         | 8/141 [00:26<09:31,  4.30s/it]"
     ]
    },
    {
     "name": "stdout",
     "output_type": "stream",
     "text": [
      "23\n"
     ]
    },
    {
     "name": "stderr",
     "output_type": "stream",
     "text": [
      "\r",
      "  6%|▋         | 9/141 [00:35<12:44,  5.79s/it]"
     ]
    },
    {
     "name": "stdout",
     "output_type": "stream",
     "text": [
      "8\n"
     ]
    },
    {
     "name": "stderr",
     "output_type": "stream",
     "text": [
      "\r",
      "  7%|▋         | 10/141 [00:44<15:01,  6.88s/it]"
     ]
    },
    {
     "name": "stdout",
     "output_type": "stream",
     "text": [
      "3\n"
     ]
    },
    {
     "name": "stderr",
     "output_type": "stream",
     "text": [
      "\r",
      "  8%|▊         | 11/141 [00:45<10:34,  4.88s/it]"
     ]
    },
    {
     "name": "stdout",
     "output_type": "stream",
     "text": [
      "50\n"
     ]
    },
    {
     "name": "stderr",
     "output_type": "stream",
     "text": [
      "\r",
      "  9%|▊         | 12/141 [00:47<08:40,  4.03s/it]"
     ]
    },
    {
     "name": "stdout",
     "output_type": "stream",
     "text": [
      "50\n"
     ]
    },
    {
     "name": "stderr",
     "output_type": "stream",
     "text": [
      "\r",
      "  9%|▉         | 13/141 [00:48<06:39,  3.12s/it]"
     ]
    },
    {
     "name": "stdout",
     "output_type": "stream",
     "text": [
      "50\n"
     ]
    },
    {
     "name": "stderr",
     "output_type": "stream",
     "text": [
      "\r",
      " 10%|▉         | 14/141 [00:50<06:15,  2.96s/it]"
     ]
    },
    {
     "name": "stdout",
     "output_type": "stream",
     "text": [
      "50\n"
     ]
    },
    {
     "name": "stderr",
     "output_type": "stream",
     "text": [
      "\r",
      " 11%|█         | 15/141 [01:00<10:20,  4.92s/it]"
     ]
    },
    {
     "name": "stdout",
     "output_type": "stream",
     "text": [
      "5\n"
     ]
    },
    {
     "name": "stderr",
     "output_type": "stream",
     "text": [
      "\r",
      " 11%|█▏        | 16/141 [01:00<07:30,  3.61s/it]"
     ]
    },
    {
     "name": "stdout",
     "output_type": "stream",
     "text": [
      "50\n"
     ]
    },
    {
     "name": "stderr",
     "output_type": "stream",
     "text": [
      "\r",
      " 12%|█▏        | 17/141 [01:10<10:55,  5.29s/it]"
     ]
    },
    {
     "name": "stdout",
     "output_type": "stream",
     "text": [
      "2\n"
     ]
    },
    {
     "name": "stderr",
     "output_type": "stream",
     "text": [
      "\r",
      " 13%|█▎        | 18/141 [01:10<07:49,  3.82s/it]"
     ]
    },
    {
     "name": "stdout",
     "output_type": "stream",
     "text": [
      "50\n"
     ]
    },
    {
     "name": "stderr",
     "output_type": "stream",
     "text": [
      "\r",
      " 13%|█▎        | 19/141 [01:13<07:03,  3.47s/it]"
     ]
    },
    {
     "name": "stdout",
     "output_type": "stream",
     "text": [
      "50\n"
     ]
    },
    {
     "name": "stderr",
     "output_type": "stream",
     "text": [
      "\r",
      " 14%|█▍        | 20/141 [01:13<05:13,  2.59s/it]"
     ]
    },
    {
     "name": "stdout",
     "output_type": "stream",
     "text": [
      "50\n",
      "50\n"
     ]
    },
    {
     "name": "stderr",
     "output_type": "stream",
     "text": [
      "\r",
      " 16%|█▌        | 22/141 [01:23<07:03,  3.56s/it]"
     ]
    },
    {
     "name": "stdout",
     "output_type": "stream",
     "text": [
      "14\n"
     ]
    },
    {
     "name": "stderr",
     "output_type": "stream",
     "text": [
      "\r",
      " 16%|█▋        | 23/141 [01:31<09:31,  4.84s/it]"
     ]
    },
    {
     "name": "stdout",
     "output_type": "stream",
     "text": [
      "50\n"
     ]
    },
    {
     "name": "stderr",
     "output_type": "stream",
     "text": [
      "\r",
      " 17%|█▋        | 24/141 [01:41<11:41,  6.00s/it]"
     ]
    },
    {
     "name": "stdout",
     "output_type": "stream",
     "text": [
      "10\n"
     ]
    },
    {
     "name": "stderr",
     "output_type": "stream",
     "text": [
      "\r",
      " 18%|█▊        | 25/141 [01:41<08:38,  4.47s/it]"
     ]
    },
    {
     "name": "stdout",
     "output_type": "stream",
     "text": [
      "50\n"
     ]
    },
    {
     "name": "stderr",
     "output_type": "stream",
     "text": [
      "\r",
      " 18%|█▊        | 26/141 [01:44<07:57,  4.15s/it]"
     ]
    },
    {
     "name": "stdout",
     "output_type": "stream",
     "text": [
      "50\n"
     ]
    },
    {
     "name": "stderr",
     "output_type": "stream",
     "text": [
      "\r",
      " 19%|█▉        | 27/141 [01:47<07:11,  3.78s/it]"
     ]
    },
    {
     "name": "stdout",
     "output_type": "stream",
     "text": [
      "50\n"
     ]
    },
    {
     "name": "stderr",
     "output_type": "stream",
     "text": [
      "\r",
      " 20%|█▉        | 28/141 [01:47<05:12,  2.76s/it]"
     ]
    },
    {
     "name": "stdout",
     "output_type": "stream",
     "text": [
      "50\n"
     ]
    },
    {
     "name": "stderr",
     "output_type": "stream",
     "text": [
      "\r",
      " 21%|██        | 29/141 [01:50<05:09,  2.76s/it]"
     ]
    },
    {
     "name": "stdout",
     "output_type": "stream",
     "text": [
      "50\n"
     ]
    },
    {
     "name": "stderr",
     "output_type": "stream",
     "text": [
      "\r",
      " 21%|██▏       | 30/141 [02:00<08:48,  4.76s/it]"
     ]
    },
    {
     "name": "stdout",
     "output_type": "stream",
     "text": [
      "13\n"
     ]
    },
    {
     "name": "stderr",
     "output_type": "stream",
     "text": [
      "\r",
      " 22%|██▏       | 31/141 [02:00<06:26,  3.51s/it]"
     ]
    },
    {
     "name": "stdout",
     "output_type": "stream",
     "text": [
      "50\n"
     ]
    },
    {
     "name": "stderr",
     "output_type": "stream",
     "text": [
      "\r",
      " 23%|██▎       | 32/141 [02:03<06:03,  3.34s/it]"
     ]
    },
    {
     "name": "stdout",
     "output_type": "stream",
     "text": [
      "50\n"
     ]
    },
    {
     "name": "stderr",
     "output_type": "stream",
     "text": [
      "\r",
      " 23%|██▎       | 33/141 [02:08<06:36,  3.67s/it]"
     ]
    },
    {
     "name": "stdout",
     "output_type": "stream",
     "text": [
      "50\n"
     ]
    },
    {
     "name": "stderr",
     "output_type": "stream",
     "text": [
      "\r",
      " 24%|██▍       | 34/141 [02:11<06:13,  3.49s/it]"
     ]
    },
    {
     "name": "stdout",
     "output_type": "stream",
     "text": [
      "50\n"
     ]
    },
    {
     "name": "stderr",
     "output_type": "stream",
     "text": [
      "\r",
      " 25%|██▍       | 35/141 [02:20<09:12,  5.21s/it]"
     ]
    },
    {
     "name": "stdout",
     "output_type": "stream",
     "text": [
      "4\n"
     ]
    },
    {
     "name": "stderr",
     "output_type": "stream",
     "text": [
      "\r",
      " 26%|██▌       | 36/141 [02:29<11:11,  6.39s/it]"
     ]
    },
    {
     "name": "stdout",
     "output_type": "stream",
     "text": [
      "16\n"
     ]
    },
    {
     "name": "stderr",
     "output_type": "stream",
     "text": [
      "\r",
      " 26%|██▌       | 37/141 [02:38<12:32,  7.23s/it]"
     ]
    },
    {
     "name": "stdout",
     "output_type": "stream",
     "text": [
      "2\n"
     ]
    },
    {
     "name": "stderr",
     "output_type": "stream",
     "text": [
      "\r",
      " 27%|██▋       | 38/141 [02:42<10:40,  6.22s/it]"
     ]
    },
    {
     "name": "stdout",
     "output_type": "stream",
     "text": [
      "50\n"
     ]
    },
    {
     "name": "stderr",
     "output_type": "stream",
     "text": [
      "\r",
      " 28%|██▊       | 39/141 [02:43<07:39,  4.50s/it]"
     ]
    },
    {
     "name": "stdout",
     "output_type": "stream",
     "text": [
      "50\n"
     ]
    },
    {
     "name": "stderr",
     "output_type": "stream",
     "text": [
      "\r",
      " 28%|██▊       | 40/141 [02:43<05:27,  3.24s/it]"
     ]
    },
    {
     "name": "stdout",
     "output_type": "stream",
     "text": [
      "50\n"
     ]
    },
    {
     "name": "stderr",
     "output_type": "stream",
     "text": [
      "\r",
      " 29%|██▉       | 41/141 [02:49<06:35,  3.95s/it]"
     ]
    },
    {
     "name": "stdout",
     "output_type": "stream",
     "text": [
      "50\n"
     ]
    },
    {
     "name": "stderr",
     "output_type": "stream",
     "text": [
      "\r",
      " 30%|██▉       | 42/141 [02:50<05:08,  3.12s/it]"
     ]
    },
    {
     "name": "stdout",
     "output_type": "stream",
     "text": [
      "50\n"
     ]
    },
    {
     "name": "stderr",
     "output_type": "stream",
     "text": [
      "\r",
      " 30%|███       | 43/141 [02:50<03:49,  2.34s/it]"
     ]
    },
    {
     "name": "stdout",
     "output_type": "stream",
     "text": [
      "50\n"
     ]
    },
    {
     "name": "stderr",
     "output_type": "stream",
     "text": [
      "\r",
      " 31%|███       | 44/141 [02:51<03:01,  1.87s/it]"
     ]
    },
    {
     "name": "stdout",
     "output_type": "stream",
     "text": [
      "50\n"
     ]
    },
    {
     "name": "stderr",
     "output_type": "stream",
     "text": [
      "\r",
      " 32%|███▏      | 45/141 [03:00<06:34,  4.10s/it]"
     ]
    },
    {
     "name": "stdout",
     "output_type": "stream",
     "text": [
      "5\n"
     ]
    },
    {
     "name": "stderr",
     "output_type": "stream",
     "text": [
      "\r",
      " 33%|███▎      | 46/141 [03:03<05:53,  3.72s/it]"
     ]
    },
    {
     "name": "stdout",
     "output_type": "stream",
     "text": [
      "50\n"
     ]
    },
    {
     "name": "stderr",
     "output_type": "stream",
     "text": [
      "\r",
      " 33%|███▎      | 47/141 [03:05<05:03,  3.22s/it]"
     ]
    },
    {
     "name": "stdout",
     "output_type": "stream",
     "text": [
      "50\n"
     ]
    },
    {
     "name": "stderr",
     "output_type": "stream",
     "text": [
      "\r",
      " 34%|███▍      | 48/141 [03:06<03:42,  2.39s/it]"
     ]
    },
    {
     "name": "stdout",
     "output_type": "stream",
     "text": [
      "50\n"
     ]
    },
    {
     "name": "stderr",
     "output_type": "stream",
     "text": [
      "\r",
      " 35%|███▍      | 49/141 [03:06<02:42,  1.77s/it]"
     ]
    },
    {
     "name": "stdout",
     "output_type": "stream",
     "text": [
      "50\n"
     ]
    },
    {
     "name": "stderr",
     "output_type": "stream",
     "text": [
      "\r",
      " 35%|███▌      | 50/141 [03:07<02:15,  1.49s/it]"
     ]
    },
    {
     "name": "stdout",
     "output_type": "stream",
     "text": [
      "50\n"
     ]
    },
    {
     "name": "stderr",
     "output_type": "stream",
     "text": [
      "\r",
      " 36%|███▌      | 51/141 [03:08<01:52,  1.25s/it]"
     ]
    },
    {
     "name": "stdout",
     "output_type": "stream",
     "text": [
      "50\n"
     ]
    },
    {
     "name": "stderr",
     "output_type": "stream",
     "text": [
      "\r",
      " 37%|███▋      | 52/141 [03:17<05:22,  3.63s/it]"
     ]
    },
    {
     "name": "stdout",
     "output_type": "stream",
     "text": [
      "6\n"
     ]
    },
    {
     "name": "stderr",
     "output_type": "stream",
     "text": [
      "\r",
      " 38%|███▊      | 53/141 [03:17<03:55,  2.68s/it]"
     ]
    },
    {
     "name": "stdout",
     "output_type": "stream",
     "text": [
      "50\n"
     ]
    },
    {
     "name": "stderr",
     "output_type": "stream",
     "text": [
      "\r",
      " 38%|███▊      | 54/141 [03:26<06:37,  4.57s/it]"
     ]
    },
    {
     "name": "stdout",
     "output_type": "stream",
     "text": [
      "31\n"
     ]
    },
    {
     "name": "stderr",
     "output_type": "stream",
     "text": [
      "\r",
      " 39%|███▉      | 55/141 [03:28<05:08,  3.58s/it]"
     ]
    },
    {
     "name": "stdout",
     "output_type": "stream",
     "text": [
      "50\n"
     ]
    },
    {
     "name": "stderr",
     "output_type": "stream",
     "text": [
      "\r",
      " 40%|███▉      | 56/141 [03:28<03:44,  2.64s/it]"
     ]
    },
    {
     "name": "stdout",
     "output_type": "stream",
     "text": [
      "50\n"
     ]
    },
    {
     "name": "stderr",
     "output_type": "stream",
     "text": [
      "\r",
      " 40%|████      | 57/141 [03:29<02:55,  2.09s/it]"
     ]
    },
    {
     "name": "stdout",
     "output_type": "stream",
     "text": [
      "50\n"
     ]
    },
    {
     "name": "stderr",
     "output_type": "stream",
     "text": [
      "\r",
      " 41%|████      | 58/141 [03:38<05:49,  4.21s/it]"
     ]
    },
    {
     "name": "stdout",
     "output_type": "stream",
     "text": [
      "12\n"
     ]
    },
    {
     "name": "stderr",
     "output_type": "stream",
     "text": [
      "\r",
      " 42%|████▏     | 59/141 [03:42<05:54,  4.32s/it]"
     ]
    },
    {
     "name": "stdout",
     "output_type": "stream",
     "text": [
      "50\n"
     ]
    },
    {
     "name": "stderr",
     "output_type": "stream",
     "text": [
      "\r",
      " 43%|████▎     | 60/141 [03:46<05:21,  3.97s/it]"
     ]
    },
    {
     "name": "stdout",
     "output_type": "stream",
     "text": [
      "50\n"
     ]
    },
    {
     "name": "stderr",
     "output_type": "stream",
     "text": [
      "\r",
      " 43%|████▎     | 61/141 [03:46<03:48,  2.86s/it]"
     ]
    },
    {
     "name": "stdout",
     "output_type": "stream",
     "text": [
      "50\n"
     ]
    },
    {
     "name": "stderr",
     "output_type": "stream",
     "text": [
      "\r",
      " 44%|████▍     | 62/141 [03:55<06:21,  4.83s/it]"
     ]
    },
    {
     "name": "stdout",
     "output_type": "stream",
     "text": [
      "4\n"
     ]
    },
    {
     "name": "stderr",
     "output_type": "stream",
     "text": [
      "\r",
      " 45%|████▍     | 63/141 [03:56<04:30,  3.47s/it]"
     ]
    },
    {
     "name": "stdout",
     "output_type": "stream",
     "text": [
      "50\n"
     ]
    },
    {
     "name": "stderr",
     "output_type": "stream",
     "text": [
      "\r",
      " 45%|████▌     | 64/141 [03:57<03:47,  2.96s/it]"
     ]
    },
    {
     "name": "stdout",
     "output_type": "stream",
     "text": [
      "50\n"
     ]
    },
    {
     "name": "stderr",
     "output_type": "stream",
     "text": [
      "\r",
      " 46%|████▌     | 65/141 [03:58<02:49,  2.22s/it]"
     ]
    },
    {
     "name": "stdout",
     "output_type": "stream",
     "text": [
      "50\n"
     ]
    },
    {
     "name": "stderr",
     "output_type": "stream",
     "text": [
      "\r",
      " 47%|████▋     | 66/141 [04:07<05:24,  4.32s/it]"
     ]
    },
    {
     "name": "stdout",
     "output_type": "stream",
     "text": [
      "32\n"
     ]
    },
    {
     "name": "stderr",
     "output_type": "stream",
     "text": [
      "\r",
      " 48%|████▊     | 67/141 [04:10<04:42,  3.82s/it]"
     ]
    },
    {
     "name": "stdout",
     "output_type": "stream",
     "text": [
      "50\n"
     ]
    },
    {
     "name": "stderr",
     "output_type": "stream",
     "text": [
      "\r",
      " 48%|████▊     | 68/141 [04:19<06:37,  5.44s/it]"
     ]
    },
    {
     "name": "stdout",
     "output_type": "stream",
     "text": [
      "25\n"
     ]
    },
    {
     "name": "stderr",
     "output_type": "stream",
     "text": [
      "\r",
      " 49%|████▉     | 69/141 [04:28<07:50,  6.54s/it]"
     ]
    },
    {
     "name": "stdout",
     "output_type": "stream",
     "text": [
      "32\n"
     ]
    },
    {
     "name": "stderr",
     "output_type": "stream",
     "text": [
      "\r",
      " 50%|████▉     | 70/141 [04:32<06:38,  5.61s/it]"
     ]
    },
    {
     "name": "stdout",
     "output_type": "stream",
     "text": [
      "50\n"
     ]
    },
    {
     "name": "stderr",
     "output_type": "stream",
     "text": [
      "\r",
      " 50%|█████     | 71/141 [04:41<07:51,  6.74s/it]"
     ]
    },
    {
     "name": "stdout",
     "output_type": "stream",
     "text": [
      "38\n"
     ]
    },
    {
     "name": "stderr",
     "output_type": "stream",
     "text": [
      "\r",
      " 51%|█████     | 72/141 [04:42<05:58,  5.19s/it]"
     ]
    },
    {
     "name": "stdout",
     "output_type": "stream",
     "text": [
      "50\n"
     ]
    },
    {
     "name": "stderr",
     "output_type": "stream",
     "text": [
      "\r",
      " 52%|█████▏    | 73/141 [04:45<04:59,  4.41s/it]"
     ]
    },
    {
     "name": "stdout",
     "output_type": "stream",
     "text": [
      "50\n"
     ]
    },
    {
     "name": "stderr",
     "output_type": "stream",
     "text": [
      "\r",
      " 52%|█████▏    | 74/141 [04:47<04:06,  3.68s/it]"
     ]
    },
    {
     "name": "stdout",
     "output_type": "stream",
     "text": [
      "50\n"
     ]
    },
    {
     "name": "stderr",
     "output_type": "stream",
     "text": [
      " 54%|█████▍    | 76/141 [04:47<02:04,  1.91s/it]"
     ]
    },
    {
     "name": "stdout",
     "output_type": "stream",
     "text": [
      "50\n",
      "50\n"
     ]
    },
    {
     "name": "stderr",
     "output_type": "stream",
     "text": [
      "\r",
      " 55%|█████▍    | 77/141 [04:55<03:53,  3.65s/it]"
     ]
    },
    {
     "name": "stdout",
     "output_type": "stream",
     "text": [
      "50\n"
     ]
    },
    {
     "name": "stderr",
     "output_type": "stream",
     "text": [
      "\r",
      " 55%|█████▌    | 78/141 [04:57<03:21,  3.20s/it]"
     ]
    },
    {
     "name": "stdout",
     "output_type": "stream",
     "text": [
      "50\n"
     ]
    },
    {
     "name": "stderr",
     "output_type": "stream",
     "text": [
      "\r",
      " 56%|█████▌    | 79/141 [04:58<02:28,  2.39s/it]"
     ]
    },
    {
     "name": "stdout",
     "output_type": "stream",
     "text": [
      "50\n"
     ]
    },
    {
     "name": "stderr",
     "output_type": "stream",
     "text": [
      "\r",
      " 57%|█████▋    | 80/141 [05:07<04:33,  4.49s/it]"
     ]
    },
    {
     "name": "stdout",
     "output_type": "stream",
     "text": [
      "1\n"
     ]
    },
    {
     "name": "stderr",
     "output_type": "stream",
     "text": [
      "\r",
      " 57%|█████▋    | 81/141 [05:08<03:14,  3.23s/it]"
     ]
    },
    {
     "name": "stdout",
     "output_type": "stream",
     "text": [
      "50\n"
     ]
    },
    {
     "name": "stderr",
     "output_type": "stream",
     "text": [
      "\r",
      " 58%|█████▊    | 82/141 [05:09<02:34,  2.62s/it]"
     ]
    },
    {
     "name": "stdout",
     "output_type": "stream",
     "text": [
      "50\n"
     ]
    },
    {
     "name": "stderr",
     "output_type": "stream",
     "text": [
      "\r",
      " 59%|█████▉    | 83/141 [05:18<04:26,  4.60s/it]"
     ]
    },
    {
     "name": "stdout",
     "output_type": "stream",
     "text": [
      "11\n"
     ]
    },
    {
     "name": "stderr",
     "output_type": "stream",
     "text": [
      "\r",
      " 60%|█████▉    | 84/141 [05:27<05:36,  5.91s/it]"
     ]
    },
    {
     "name": "stdout",
     "output_type": "stream",
     "text": [
      "39\n"
     ]
    },
    {
     "name": "stderr",
     "output_type": "stream",
     "text": [
      "\r",
      " 60%|██████    | 85/141 [05:36<06:18,  6.76s/it]"
     ]
    },
    {
     "name": "stdout",
     "output_type": "stream",
     "text": [
      "50\n"
     ]
    },
    {
     "name": "stderr",
     "output_type": "stream",
     "text": [
      "\r",
      " 61%|██████    | 86/141 [05:45<06:52,  7.50s/it]"
     ]
    },
    {
     "name": "stdout",
     "output_type": "stream",
     "text": [
      "8\n"
     ]
    },
    {
     "name": "stderr",
     "output_type": "stream",
     "text": [
      "\r",
      " 62%|██████▏   | 87/141 [05:54<07:08,  7.94s/it]"
     ]
    },
    {
     "name": "stdout",
     "output_type": "stream",
     "text": [
      "40\n"
     ]
    },
    {
     "name": "stderr",
     "output_type": "stream",
     "text": [
      "\r",
      " 62%|██████▏   | 88/141 [05:54<04:58,  5.63s/it]"
     ]
    },
    {
     "name": "stdout",
     "output_type": "stream",
     "text": [
      "50\n"
     ]
    },
    {
     "name": "stderr",
     "output_type": "stream",
     "text": [
      "\r",
      " 63%|██████▎   | 89/141 [05:57<04:05,  4.72s/it]"
     ]
    },
    {
     "name": "stdout",
     "output_type": "stream",
     "text": [
      "50\n"
     ]
    },
    {
     "name": "stderr",
     "output_type": "stream",
     "text": [
      "\r",
      " 64%|██████▍   | 90/141 [05:58<03:11,  3.76s/it]"
     ]
    },
    {
     "name": "stdout",
     "output_type": "stream",
     "text": [
      "50\n"
     ]
    },
    {
     "name": "stderr",
     "output_type": "stream",
     "text": [
      "\r",
      " 65%|██████▍   | 91/141 [06:08<04:34,  5.50s/it]"
     ]
    },
    {
     "name": "stdout",
     "output_type": "stream",
     "text": [
      "8\n"
     ]
    },
    {
     "name": "stderr",
     "output_type": "stream",
     "text": [
      "\r",
      " 65%|██████▌   | 92/141 [06:17<05:25,  6.64s/it]"
     ]
    },
    {
     "name": "stdout",
     "output_type": "stream",
     "text": [
      "1\n"
     ]
    },
    {
     "name": "stderr",
     "output_type": "stream",
     "text": [
      "\r",
      " 66%|██████▌   | 93/141 [06:26<05:55,  7.40s/it]"
     ]
    },
    {
     "name": "stdout",
     "output_type": "stream",
     "text": [
      "4\n"
     ]
    },
    {
     "name": "stderr",
     "output_type": "stream",
     "text": [
      "\r",
      " 67%|██████▋   | 94/141 [06:27<04:08,  5.29s/it]"
     ]
    },
    {
     "name": "stdout",
     "output_type": "stream",
     "text": [
      "50\n"
     ]
    },
    {
     "name": "stderr",
     "output_type": "stream",
     "text": [
      "\r",
      " 67%|██████▋   | 95/141 [06:36<04:56,  6.45s/it]"
     ]
    },
    {
     "name": "stdout",
     "output_type": "stream",
     "text": [
      "21\n"
     ]
    },
    {
     "name": "stderr",
     "output_type": "stream",
     "text": [
      "\r",
      " 68%|██████▊   | 96/141 [06:37<03:33,  4.75s/it]"
     ]
    },
    {
     "name": "stdout",
     "output_type": "stream",
     "text": [
      "50\n"
     ]
    },
    {
     "name": "stderr",
     "output_type": "stream",
     "text": [
      "\r",
      " 69%|██████▉   | 97/141 [06:37<02:38,  3.61s/it]"
     ]
    },
    {
     "name": "stdout",
     "output_type": "stream",
     "text": [
      "50\n"
     ]
    },
    {
     "name": "stderr",
     "output_type": "stream",
     "text": [
      "\r",
      " 70%|██████▉   | 98/141 [06:38<01:57,  2.74s/it]"
     ]
    },
    {
     "name": "stdout",
     "output_type": "stream",
     "text": [
      "50\n"
     ]
    },
    {
     "name": "stderr",
     "output_type": "stream",
     "text": [
      "\r",
      " 70%|███████   | 99/141 [06:47<03:16,  4.69s/it]"
     ]
    },
    {
     "name": "stdout",
     "output_type": "stream",
     "text": [
      "45\n"
     ]
    },
    {
     "name": "stderr",
     "output_type": "stream",
     "text": [
      "\r",
      " 71%|███████   | 100/141 [06:57<04:06,  6.02s/it]"
     ]
    },
    {
     "name": "stdout",
     "output_type": "stream",
     "text": [
      "43\n"
     ]
    },
    {
     "name": "stderr",
     "output_type": "stream",
     "text": [
      "\r",
      " 72%|███████▏  | 101/141 [06:59<03:17,  4.93s/it]"
     ]
    },
    {
     "name": "stdout",
     "output_type": "stream",
     "text": [
      "50\n",
      "50\n"
     ]
    },
    {
     "name": "stderr",
     "output_type": "stream",
     "text": [
      "\r",
      " 73%|███████▎  | 103/141 [07:03<02:16,  3.59s/it]"
     ]
    },
    {
     "name": "stdout",
     "output_type": "stream",
     "text": [
      "50\n"
     ]
    },
    {
     "name": "stderr",
     "output_type": "stream",
     "text": [
      "\r",
      " 74%|███████▍  | 104/141 [07:04<01:49,  2.97s/it]"
     ]
    },
    {
     "name": "stdout",
     "output_type": "stream",
     "text": [
      "50\n"
     ]
    },
    {
     "name": "stderr",
     "output_type": "stream",
     "text": [
      "\r",
      " 74%|███████▍  | 105/141 [07:05<01:27,  2.42s/it]"
     ]
    },
    {
     "name": "stdout",
     "output_type": "stream",
     "text": [
      "50\n"
     ]
    },
    {
     "name": "stderr",
     "output_type": "stream",
     "text": [
      "\r",
      " 75%|███████▌  | 106/141 [07:07<01:20,  2.31s/it]"
     ]
    },
    {
     "name": "stdout",
     "output_type": "stream",
     "text": [
      "50\n"
     ]
    },
    {
     "name": "stderr",
     "output_type": "stream",
     "text": [
      "\r",
      " 76%|███████▌  | 107/141 [07:17<02:27,  4.33s/it]"
     ]
    },
    {
     "name": "stdout",
     "output_type": "stream",
     "text": [
      "8\n"
     ]
    },
    {
     "name": "stderr",
     "output_type": "stream",
     "text": [
      "\r",
      " 77%|███████▋  | 108/141 [07:17<01:44,  3.18s/it]"
     ]
    },
    {
     "name": "stdout",
     "output_type": "stream",
     "text": [
      "50\n"
     ]
    },
    {
     "name": "stderr",
     "output_type": "stream",
     "text": [
      "\r",
      " 77%|███████▋  | 109/141 [07:20<01:41,  3.18s/it]"
     ]
    },
    {
     "name": "stdout",
     "output_type": "stream",
     "text": [
      "50\n"
     ]
    },
    {
     "name": "stderr",
     "output_type": "stream",
     "text": [
      "\r",
      " 78%|███████▊  | 110/141 [07:23<01:34,  3.06s/it]"
     ]
    },
    {
     "name": "stdout",
     "output_type": "stream",
     "text": [
      "50\n"
     ]
    },
    {
     "name": "stderr",
     "output_type": "stream",
     "text": [
      "\r",
      " 79%|███████▊  | 111/141 [07:25<01:25,  2.86s/it]"
     ]
    },
    {
     "name": "stdout",
     "output_type": "stream",
     "text": [
      "50\n"
     ]
    },
    {
     "name": "stderr",
     "output_type": "stream",
     "text": [
      "\r",
      " 79%|███████▉  | 112/141 [07:30<01:37,  3.38s/it]"
     ]
    },
    {
     "name": "stdout",
     "output_type": "stream",
     "text": [
      "50\n"
     ]
    },
    {
     "name": "stderr",
     "output_type": "stream",
     "text": [
      "\r",
      " 80%|████████  | 113/141 [07:39<02:24,  5.14s/it]"
     ]
    },
    {
     "name": "stdout",
     "output_type": "stream",
     "text": [
      "7\n"
     ]
    },
    {
     "name": "stderr",
     "output_type": "stream",
     "text": [
      "\r",
      " 81%|████████  | 114/141 [07:48<02:52,  6.39s/it]"
     ]
    },
    {
     "name": "stdout",
     "output_type": "stream",
     "text": [
      "10\n"
     ]
    },
    {
     "name": "stderr",
     "output_type": "stream",
     "text": [
      "\r",
      " 82%|████████▏ | 115/141 [07:57<03:07,  7.20s/it]"
     ]
    },
    {
     "name": "stdout",
     "output_type": "stream",
     "text": [
      "27\n"
     ]
    },
    {
     "name": "stderr",
     "output_type": "stream",
     "text": [
      "\r",
      " 82%|████████▏ | 116/141 [08:07<03:16,  7.84s/it]"
     ]
    },
    {
     "name": "stdout",
     "output_type": "stream",
     "text": [
      "9\n"
     ]
    },
    {
     "name": "stderr",
     "output_type": "stream",
     "text": [
      "\r",
      " 83%|████████▎ | 117/141 [08:17<03:21,  8.39s/it]"
     ]
    },
    {
     "name": "stdout",
     "output_type": "stream",
     "text": [
      "27\n"
     ]
    },
    {
     "name": "stderr",
     "output_type": "stream",
     "text": [
      "\r",
      " 84%|████████▎ | 118/141 [08:26<03:19,  8.66s/it]"
     ]
    },
    {
     "name": "stdout",
     "output_type": "stream",
     "text": [
      "4\n"
     ]
    },
    {
     "name": "stderr",
     "output_type": "stream",
     "text": [
      "\r",
      " 84%|████████▍ | 119/141 [08:35<03:13,  8.79s/it]"
     ]
    },
    {
     "name": "stdout",
     "output_type": "stream",
     "text": [
      "6\n"
     ]
    },
    {
     "name": "stderr",
     "output_type": "stream",
     "text": [
      "\r",
      " 85%|████████▌ | 120/141 [08:36<02:13,  6.34s/it]"
     ]
    },
    {
     "name": "stdout",
     "output_type": "stream",
     "text": [
      "50\n"
     ]
    },
    {
     "name": "stderr",
     "output_type": "stream",
     "text": [
      "\r",
      " 86%|████████▌ | 121/141 [08:40<01:53,  5.67s/it]"
     ]
    },
    {
     "name": "stdout",
     "output_type": "stream",
     "text": [
      "50\n"
     ]
    },
    {
     "name": "stderr",
     "output_type": "stream",
     "text": [
      "\r",
      " 87%|████████▋ | 122/141 [08:49<02:07,  6.70s/it]"
     ]
    },
    {
     "name": "stdout",
     "output_type": "stream",
     "text": [
      "10\n"
     ]
    },
    {
     "name": "stderr",
     "output_type": "stream",
     "text": [
      "\r",
      " 87%|████████▋ | 123/141 [08:58<02:12,  7.35s/it]"
     ]
    },
    {
     "name": "stdout",
     "output_type": "stream",
     "text": [
      "1\n"
     ]
    },
    {
     "name": "stderr",
     "output_type": "stream",
     "text": [
      "\r",
      " 88%|████████▊ | 124/141 [09:07<02:14,  7.89s/it]"
     ]
    },
    {
     "name": "stdout",
     "output_type": "stream",
     "text": [
      "3\n"
     ]
    },
    {
     "name": "stderr",
     "output_type": "stream",
     "text": [
      "\r",
      " 89%|████████▊ | 125/141 [09:09<01:39,  6.24s/it]"
     ]
    },
    {
     "name": "stdout",
     "output_type": "stream",
     "text": [
      "50\n"
     ]
    },
    {
     "name": "stderr",
     "output_type": "stream",
     "text": [
      "\r",
      " 89%|████████▉ | 126/141 [09:10<01:07,  4.53s/it]"
     ]
    },
    {
     "name": "stdout",
     "output_type": "stream",
     "text": [
      "50\n"
     ]
    },
    {
     "name": "stderr",
     "output_type": "stream",
     "text": [
      "\r",
      " 90%|█████████ | 127/141 [09:19<01:24,  6.02s/it]"
     ]
    },
    {
     "name": "stdout",
     "output_type": "stream",
     "text": [
      "11\n"
     ]
    },
    {
     "name": "stderr",
     "output_type": "stream",
     "text": [
      "\r",
      " 91%|█████████ | 128/141 [09:28<01:30,  7.00s/it]"
     ]
    },
    {
     "name": "stdout",
     "output_type": "stream",
     "text": [
      "4\n"
     ]
    },
    {
     "name": "stderr",
     "output_type": "stream",
     "text": [
      "\r",
      " 91%|█████████▏| 129/141 [09:38<01:31,  7.62s/it]"
     ]
    },
    {
     "name": "stdout",
     "output_type": "stream",
     "text": [
      "4\n"
     ]
    },
    {
     "name": "stderr",
     "output_type": "stream",
     "text": [
      "\r",
      " 92%|█████████▏| 130/141 [09:38<01:01,  5.62s/it]"
     ]
    },
    {
     "name": "stdout",
     "output_type": "stream",
     "text": [
      "50\n"
     ]
    },
    {
     "name": "stderr",
     "output_type": "stream",
     "text": [
      "\r",
      " 93%|█████████▎| 131/141 [09:40<00:43,  4.30s/it]"
     ]
    },
    {
     "name": "stdout",
     "output_type": "stream",
     "text": [
      "50\n"
     ]
    },
    {
     "name": "stderr",
     "output_type": "stream",
     "text": [
      "\r",
      " 94%|█████████▎| 132/141 [09:45<00:40,  4.46s/it]"
     ]
    },
    {
     "name": "stdout",
     "output_type": "stream",
     "text": [
      "50\n"
     ]
    },
    {
     "name": "stderr",
     "output_type": "stream",
     "text": [
      "\r",
      " 94%|█████████▍| 133/141 [09:47<00:29,  3.73s/it]"
     ]
    },
    {
     "name": "stdout",
     "output_type": "stream",
     "text": [
      "50\n"
     ]
    },
    {
     "name": "stderr",
     "output_type": "stream",
     "text": [
      "\r",
      " 95%|█████████▌| 134/141 [09:50<00:24,  3.55s/it]"
     ]
    },
    {
     "name": "stdout",
     "output_type": "stream",
     "text": [
      "50\n"
     ]
    },
    {
     "name": "stderr",
     "output_type": "stream",
     "text": [
      "\r",
      " 96%|█████████▌| 135/141 [09:50<00:16,  2.72s/it]"
     ]
    },
    {
     "name": "stdout",
     "output_type": "stream",
     "text": [
      "50\n"
     ]
    },
    {
     "name": "stderr",
     "output_type": "stream",
     "text": [
      "\r",
      " 96%|█████████▋| 136/141 [09:58<00:20,  4.05s/it]"
     ]
    },
    {
     "name": "stdout",
     "output_type": "stream",
     "text": [
      "50\n",
      "50\n"
     ]
    },
    {
     "name": "stderr",
     "output_type": "stream",
     "text": [
      "\r",
      " 98%|█████████▊| 138/141 [10:07<00:12,  4.29s/it]"
     ]
    },
    {
     "name": "stdout",
     "output_type": "stream",
     "text": [
      "12\n"
     ]
    },
    {
     "name": "stderr",
     "output_type": "stream",
     "text": [
      "\r",
      " 99%|█████████▊| 139/141 [10:16<00:11,  5.52s/it]"
     ]
    },
    {
     "name": "stdout",
     "output_type": "stream",
     "text": [
      "9\n"
     ]
    },
    {
     "name": "stderr",
     "output_type": "stream",
     "text": [
      "\r",
      " 99%|█████████▉| 140/141 [10:18<00:04,  4.57s/it]"
     ]
    },
    {
     "name": "stdout",
     "output_type": "stream",
     "text": [
      "50\n"
     ]
    },
    {
     "name": "stderr",
     "output_type": "stream",
     "text": [
      "100%|██████████| 141/141 [10:19<00:00,  4.40s/it]"
     ]
    },
    {
     "name": "stdout",
     "output_type": "stream",
     "text": [
      "50\n"
     ]
    },
    {
     "name": "stderr",
     "output_type": "stream",
     "text": [
      "\n"
     ]
    }
   ],
   "source": [
    "directory = '/ibex/user/toibazd/InterPro_annotated_genomes_for_testing/'\n",
    "one_hot_encoded_sentences_2 = {}\n",
    "\n",
    "sentence_length = 40\n",
    "sentence_per_IP = 50\n",
    "selected_files = os.listdir(directory)\n",
    "\n",
    "total_sentences = sum(len(sentences) for sentences in one_hot_encoded_sentences.values())\n",
    "\n",
    "# Iterate over keys\n",
    "for IP in tqdm(unique_defense):\n",
    "    one_hot_encoded_sentences_2[IP] = []\n",
    "    sentences_count=0\n",
    "    \n",
    "    # Iterate over selected files\n",
    "    for filename in selected_files:\n",
    "        filepath = os.path.join(directory, filename)\n",
    "\n",
    "        with open(filepath, 'r') as file:\n",
    "            content = file.read()\n",
    "            words = content.strip().split()\n",
    "\n",
    "            # Check if the key is in the file\n",
    "            for i in range(19, len(words)-20):\n",
    "                # Shuffle the indices of the words containing the key\n",
    "                if IP in data_dict[words[i]]:\n",
    "                    if len(words) - i >= 21:\n",
    "                        sentence = \" \".join(words[i - 19:i + sentence_length - 19])\n",
    "                        one_hot_encoded_sentences_2[IP].append(sentence)\n",
    "                        sentences_count += 1\n",
    "                        if sentences_count>=sentence_per_IP:\n",
    "                            break\n",
    "        if sentences_count>=sentence_per_IP:\n",
    "            break\n",
    "    print(sentences_count)\n",
    "            \n"
   ]
  },
  {
   "cell_type": "code",
   "execution_count": 37,
   "id": "7873eedf",
   "metadata": {},
   "outputs": [
    {
     "name": "stdout",
     "output_type": "stream",
     "text": [
      "50\n",
      "50\n",
      "5\n",
      "50\n",
      "50\n",
      "50\n",
      "50\n",
      "23\n",
      "8\n",
      "3\n",
      "50\n",
      "50\n",
      "50\n",
      "50\n",
      "5\n",
      "50\n",
      "2\n",
      "50\n",
      "50\n",
      "50\n",
      "50\n",
      "14\n",
      "50\n",
      "10\n",
      "50\n",
      "50\n",
      "50\n",
      "50\n",
      "50\n",
      "13\n",
      "50\n",
      "50\n",
      "50\n",
      "50\n",
      "4\n",
      "16\n",
      "2\n",
      "50\n",
      "50\n",
      "50\n",
      "50\n",
      "50\n",
      "50\n",
      "50\n",
      "5\n",
      "50\n",
      "50\n",
      "50\n",
      "50\n",
      "50\n",
      "50\n",
      "6\n",
      "50\n",
      "31\n",
      "50\n",
      "50\n",
      "50\n",
      "12\n",
      "50\n",
      "50\n",
      "50\n",
      "4\n",
      "50\n",
      "50\n",
      "50\n",
      "32\n",
      "50\n",
      "25\n",
      "32\n",
      "50\n",
      "38\n",
      "50\n",
      "50\n",
      "50\n",
      "50\n",
      "50\n",
      "50\n",
      "50\n",
      "50\n",
      "1\n",
      "50\n",
      "50\n",
      "11\n",
      "39\n",
      "50\n",
      "8\n",
      "40\n",
      "50\n",
      "50\n",
      "50\n",
      "8\n",
      "1\n",
      "4\n",
      "50\n",
      "21\n",
      "50\n",
      "50\n",
      "50\n",
      "45\n",
      "43\n",
      "50\n",
      "50\n",
      "50\n",
      "50\n",
      "50\n",
      "50\n",
      "8\n",
      "50\n",
      "50\n",
      "50\n",
      "50\n",
      "50\n",
      "7\n",
      "10\n",
      "27\n",
      "9\n",
      "27\n",
      "4\n",
      "6\n",
      "50\n",
      "50\n",
      "10\n",
      "1\n",
      "3\n",
      "50\n",
      "50\n",
      "11\n",
      "4\n",
      "4\n",
      "50\n",
      "50\n",
      "50\n",
      "50\n",
      "50\n",
      "50\n",
      "50\n",
      "50\n",
      "12\n",
      "9\n",
      "50\n",
      "50\n"
     ]
    }
   ],
   "source": [
    "for key, value in one_hot_encoded_sentences_2.items():\n",
    "    print(len(value))"
   ]
  },
  {
   "cell_type": "code",
   "execution_count": 38,
   "id": "e5a2eb5e",
   "metadata": {},
   "outputs": [],
   "source": [
    "import json\n",
    "\n",
    "with open('BERT_sanity_check_defense_DNN_senteces_testing.json', 'w') as f:\n",
    "    json.dump(one_hot_encoded_sentences_2, f)"
   ]
  },
  {
   "cell_type": "code",
   "execution_count": 39,
   "id": "0aae8a77",
   "metadata": {},
   "outputs": [],
   "source": [
    "with open('BERT_sanity_check_defense_DNN_senteces_testing.json', \"r\") as f:\n",
    "    test_sentences = json.load(f)"
   ]
  },
  {
   "cell_type": "code",
   "execution_count": 40,
   "id": "9ab316ab",
   "metadata": {},
   "outputs": [
    {
     "data": {
      "text/plain": [
       "141"
      ]
     },
     "execution_count": 40,
     "metadata": {},
     "output_type": "execute_result"
    }
   ],
   "source": [
    "test_sentences = {key: value for key, value in test_sentences.items() if value}\n",
    "len(test_sentences)"
   ]
  },
  {
   "cell_type": "code",
   "execution_count": 41,
   "id": "e3e213bf",
   "metadata": {},
   "outputs": [
    {
     "data": {
      "text/plain": [
       "141"
      ]
     },
     "execution_count": 41,
     "metadata": {},
     "output_type": "execute_result"
    }
   ],
   "source": [
    "matching_string = test_sentences.values()\n",
    "len(matching_string)"
   ]
  },
  {
   "cell_type": "code",
   "execution_count": 42,
   "id": "0a93cb03",
   "metadata": {},
   "outputs": [
    {
     "data": {
      "text/plain": [
       "5313"
      ]
     },
     "execution_count": 42,
     "metadata": {},
     "output_type": "execute_result"
    }
   ],
   "source": [
    "matching_string = [item for sublist in matching_string for item in sublist]\n",
    "len(matching_string)"
   ]
  },
  {
   "cell_type": "code",
   "execution_count": 43,
   "id": "7d499e52",
   "metadata": {
    "scrolled": false
   },
   "outputs": [
    {
     "name": "stderr",
     "output_type": "stream",
     "text": [
      "100%|██████████| 42/42 [00:10<00:00,  3.83it/s]\n"
     ]
    }
   ],
   "source": [
    "from bertviz import model_view\n",
    "\n",
    "batch_size = 128\n",
    "# model.cuda()\n",
    "test_embeddings = []\n",
    "test_labels = []\n",
    "\n",
    "# Define your data iterator in batches\n",
    "for i in tqdm(range(0, len(matching_string), batch_size)):\n",
    "    batch_sentences = matching_string[i:i+batch_size]\n",
    "    batch_inputs = tokenizer.encode_batch(batch_sentences)\n",
    "    input_ids_list = []\n",
    "    attention_mask_list = []\n",
    "\n",
    "    for encoding in batch_inputs:\n",
    "        input_ids_list.append(encoding.ids)\n",
    "        attention_mask_list.append(encoding.attention_mask)\n",
    "    # Convert lists to tensors and move to device\n",
    "    try:\n",
    "        input_ids = torch.tensor(input_ids_list)\n",
    "    except:\n",
    "        for ins in input_ids_list:\n",
    "            if len(ins)!=42:\n",
    "                print(len(ins))\n",
    "                print(ins)\n",
    "    attention_mask = torch.tensor(attention_mask_list)\n",
    "\n",
    "    with torch.inference_mode():\n",
    "        outputs = model(input_ids, attention_mask=attention_mask, output_hidden_states=True, output_attentions = True)\n",
    "    hidden_states = outputs.last_hidden_state\n",
    "    attentions = outputs.attentions[-1]\n",
    "    relevant_hidden_states = hidden_states[:, 20, :]  # Extract the 20th token's hidden state\n",
    "#     for i in range(len(batch_sentences)):\n",
    "#         if i < 20:\n",
    "#             att = []\n",
    "#             extracted_tensor = attentions[i, :, :, :]\n",
    "#             extracted_tensor = extracted_tensor.unsqueeze(0)\n",
    "#             print(extracted_tensor.shape)\n",
    "#             att.append(extracted_tensor)\n",
    "\n",
    "#             tokens = \"[CLS] \"+tokenizer.decode(input_ids_list[i])+\" [SEP]\"\n",
    "#             tokens = tokens.split(\" \")\n",
    "#             model_view(att, tokens)\n",
    "    for j in range(len(batch_sentences)):\n",
    "        # Move embeddings to CPU\n",
    "        test_embeddings.append(relevant_hidden_states[j].cpu())\n",
    "        indicator = batch_sentences[j].split()[19]\n",
    "        test_labels.append(one_hot_encoded_dict[indicator])\n"
   ]
  },
  {
   "cell_type": "code",
   "execution_count": 44,
   "id": "00089282",
   "metadata": {},
   "outputs": [
    {
     "data": {
      "text/plain": [
       "'WP_072018053 WP_072018053 WP_072018053 WP_072018053'"
      ]
     },
     "execution_count": 44,
     "metadata": {},
     "output_type": "execute_result"
    }
   ],
   "source": [
    "tokenizer.decode([0,12,12,12,12,\n",
    "                 ])"
   ]
  },
  {
   "cell_type": "code",
   "execution_count": 45,
   "id": "1b5d975e",
   "metadata": {},
   "outputs": [],
   "source": [
    "model.to(\"cpu\")\n",
    "torch.cuda.empty_cache()"
   ]
  },
  {
   "cell_type": "code",
   "execution_count": 46,
   "id": "e6194248",
   "metadata": {},
   "outputs": [
    {
     "data": {
      "text/plain": [
       "Classification_V0(\n",
       "  (fc1): Linear(in_features=256, out_features=256, bias=True)\n",
       "  (relu1): ReLU()\n",
       "  (fc2): Linear(in_features=256, out_features=128, bias=True)\n",
       "  (relu2): ReLU()\n",
       "  (fc3): Linear(in_features=128, out_features=64, bias=True)\n",
       "  (relu3): ReLU()\n",
       "  (fc4): Linear(in_features=64, out_features=141, bias=True)\n",
       "  (dropout): Dropout(p=0.25, inplace=False)\n",
       ")"
      ]
     },
     "execution_count": 46,
     "metadata": {},
     "output_type": "execute_result"
    }
   ],
   "source": [
    "clf_model.eval()"
   ]
  },
  {
   "cell_type": "code",
   "execution_count": 47,
   "id": "7122253f",
   "metadata": {},
   "outputs": [],
   "source": [
    "import torch\n",
    "\n",
    "\n",
    "test_random_embeddings = []\n",
    "for embedding in test_embeddings:\n",
    "    random_embedding = torch.randn_like(embedding)  # Generate random tensor with same shape as 'embedding'\n",
    "    test_random_embeddings.append(random_embedding)"
   ]
  },
  {
   "cell_type": "code",
   "execution_count": 48,
   "id": "d150c202",
   "metadata": {},
   "outputs": [
    {
     "name": "stderr",
     "output_type": "stream",
     "text": [
      "                                      \r"
     ]
    }
   ],
   "source": [
    "generator = data_generator(test_random_embeddings, test_labels, batch_size)\n",
    "\n",
    "from sklearn.metrics import multilabel_confusion_matrix\n",
    "from sklearn.metrics import precision_score, recall_score, f1_score\n",
    "import numpy as np\n",
    "all_predictions = []\n",
    "all_labels = []\n",
    "all_probs = []\n",
    "\n",
    "for batch_embeddings, batch_labels in tqdm(generator, desc=\"Evaluation Batches\", leave=False):\n",
    "    batch_embeddings_tensor = torch.stack(batch_embeddings)\n",
    "    batch_labels = np.array(batch_labels)\n",
    "    logits = clf_model(batch_embeddings_tensor)\n",
    "    predictions = torch.sigmoid(logits)\n",
    "    thresholded_predictions = (predictions > 0.15).float()\n",
    "    all_predictions.append(thresholded_predictions.detach().numpy())\n",
    "    all_labels.append(batch_labels)\n",
    "    all_probs.append(predictions.detach().numpy())\n"
   ]
  },
  {
   "cell_type": "code",
   "execution_count": 49,
   "id": "cd80f04f",
   "metadata": {},
   "outputs": [
    {
     "data": {
      "text/plain": [
       "42"
      ]
     },
     "execution_count": 49,
     "metadata": {},
     "output_type": "execute_result"
    }
   ],
   "source": [
    "len(all_predictions)"
   ]
  },
  {
   "cell_type": "code",
   "execution_count": 50,
   "id": "2eb88b74",
   "metadata": {},
   "outputs": [
    {
     "data": {
      "text/plain": [
       "42"
      ]
     },
     "execution_count": 50,
     "metadata": {},
     "output_type": "execute_result"
    }
   ],
   "source": [
    "len(all_labels)\n",
    "    "
   ]
  },
  {
   "cell_type": "code",
   "execution_count": 51,
   "id": "f0b4f0ee",
   "metadata": {},
   "outputs": [
    {
     "name": "stdout",
     "output_type": "stream",
     "text": [
      "(128, 141)\n"
     ]
    }
   ],
   "source": [
    "print(all_predictions[0].shape)"
   ]
  },
  {
   "cell_type": "code",
   "execution_count": 52,
   "id": "fe31ad51",
   "metadata": {},
   "outputs": [
    {
     "name": "stdout",
     "output_type": "stream",
     "text": [
      "(128, 141)\n"
     ]
    }
   ],
   "source": [
    "print(all_labels[0].shape)"
   ]
  },
  {
   "cell_type": "code",
   "execution_count": 53,
   "id": "3a17e99d",
   "metadata": {},
   "outputs": [],
   "source": [
    "\n",
    "# Concatenate predictions and labels across all batches\n",
    "all_predictions = np.concatenate(all_predictions)\n",
    "all_labels = np.concatenate(all_labels)\n",
    "all_probs = np.concatenate(all_probs)"
   ]
  },
  {
   "cell_type": "code",
   "execution_count": 54,
   "id": "8d46f536",
   "metadata": {},
   "outputs": [
    {
     "name": "stdout",
     "output_type": "stream",
     "text": [
      "0.5609166568495858\n"
     ]
    }
   ],
   "source": [
    "from sklearn import metrics\n",
    "\n",
    "y = all_labels.flatten()\n",
    "pred_y = all_probs.flatten()\n",
    "\n",
    "fpr, tpr, thresholds = metrics.roc_curve(y, pred_y)\n",
    "print(metrics.auc(fpr, tpr))"
   ]
  },
  {
   "cell_type": "code",
   "execution_count": 55,
   "id": "3ba54374",
   "metadata": {},
   "outputs": [
    {
     "data": {
      "image/png": "[encoded data removed]",
      "text/plain": [
       "<Figure size 800x600 with 1 Axes>"
      ]
     },
     "metadata": {},
     "output_type": "display_data"
    }
   ],
   "source": [
    "import matplotlib.pyplot as plt\n",
    "\n",
    "plt.figure(figsize=(8, 6))\n",
    "plt.plot(fpr, tpr, color='blue', label='ROC Curve')\n",
    "plt.plot([0, 1], [0, 1], color='red', linestyle='--', label='Random Guess')\n",
    "\n",
    "plt.xlabel('False Positive Rate')\n",
    "plt.ylabel('True Positive Rate')\n",
    "plt.title('Receiver Operating Characteristic (ROC) Curve')\n",
    "plt.legend(loc='lower right')\n",
    "plt.grid(True)\n",
    "plt.show()"
   ]
  },
  {
   "cell_type": "code",
   "execution_count": 56,
   "id": "0fb58693",
   "metadata": {},
   "outputs": [
    {
     "data": {
      "text/plain": [
       "(5313, 141)"
      ]
     },
     "execution_count": 56,
     "metadata": {},
     "output_type": "execute_result"
    }
   ],
   "source": [
    "all_labels.shape"
   ]
  },
  {
   "cell_type": "code",
   "execution_count": 57,
   "id": "333465a4",
   "metadata": {},
   "outputs": [
    {
     "name": "stdout",
     "output_type": "stream",
     "text": [
      "Classification report:\n",
      "141\n"
     ]
    }
   ],
   "source": [
    "cl_report = multilabel_confusion_matrix(all_labels, all_predictions)\n",
    "print(\"Classification report:\")\n",
    "print(len(cl_report))"
   ]
  },
  {
   "cell_type": "code",
   "execution_count": 58,
   "id": "83b13ea9",
   "metadata": {},
   "outputs": [
    {
     "data": {
      "text/plain": [
       "array([0., 0., 0., 0., 0., 0., 0., 0., 0., 0., 0., 0., 0., 0., 0., 0., 0.,\n",
       "       0., 0., 0., 0., 0., 0., 0., 0., 0., 0., 0., 0., 0., 0., 0., 0., 0.,\n",
       "       0., 0., 0., 0., 0., 0., 0., 0., 0., 0., 0., 0., 1., 0., 0., 0., 1.,\n",
       "       0., 0., 0., 0., 1., 0., 0., 0., 0., 0., 0., 1., 0., 0., 0., 0., 0.,\n",
       "       1., 0., 0., 0., 0., 0., 0., 0., 0., 0., 0., 0., 0., 0., 0., 0., 0.,\n",
       "       0., 0., 0., 0., 0., 0., 0., 0., 1., 0., 0., 0., 0., 0., 0., 0., 0.,\n",
       "       0., 0., 0., 0., 0., 0., 0., 0., 0., 0., 0., 0., 0., 0., 0., 0., 1.,\n",
       "       0., 0., 0., 0., 1., 0., 0., 0., 0., 0., 0., 0., 0., 0., 0., 0., 0.,\n",
       "       0., 0., 0., 0., 0.], dtype=float32)"
      ]
     },
     "execution_count": 58,
     "metadata": {},
     "output_type": "execute_result"
    }
   ],
   "source": [
    "all_predictions[2234]"
   ]
  },
  {
   "cell_type": "code",
   "execution_count": 59,
   "id": "b75b6cc9",
   "metadata": {},
   "outputs": [
    {
     "name": "stdout",
     "output_type": "stream",
     "text": [
      "[[5093  170]\n",
      " [  48    2]]\n"
     ]
    }
   ],
   "source": [
    "print(cl_report[12])"
   ]
  },
  {
   "cell_type": "code",
   "execution_count": 60,
   "id": "6bb7d197",
   "metadata": {},
   "outputs": [],
   "source": [
    "from sklearn.metrics import classification_report\n",
    "\n",
    "report = classification_report(all_labels, all_predictions,  zero_division=np.nan)"
   ]
  },
  {
   "cell_type": "code",
   "execution_count": 61,
   "id": "ecbf3a5c",
   "metadata": {},
   "outputs": [
    {
     "data": {
      "text/plain": [
       "array([  1., 241., 137., 399.,  29., 159.,  60.,  48.,  40.,  12., 100.,\n",
       "       235., 172.,  54., 305., 102., 125., 107.,  79.,  29.,  38.,  76.,\n",
       "       125., 335., 104., 313.,  82., 284.,  84., 141., 125.,  69., 111.,\n",
       "        82., 245., 147., 111., 180., 224., 158., 168., 267., 105., 208.,\n",
       "       193., 114., 189., 194., 122., 277., 258.,  89., 116., 107., 137.,\n",
       "       195., 179., 244., 200., 147., 114., 161., 180., 154., 113., 342.,\n",
       "        93.,  19., 143., 285., 132., 139., 296., 257., 151.,  14., 100.,\n",
       "        69., 429.,  87., 125.,   3., 209.,  46.,  72.,  73., 106., 114.,\n",
       "       157., 252., 150., 183., 245., 191., 481., 121., 140., 166., 204.,\n",
       "       240.,  54.,  53.,  25., 182.,  56., 299., 182., 152.,  85.,  87.,\n",
       "        90., 118., 123.,  71., 271., 230., 183., 263., 291., 174., 198.,\n",
       "       175.,  42., 111., 201.,  94.,  79., 118., 215., 351., 133., 166.,\n",
       "       288., 145., 141., 411., 248.,  90., 301., 246., 109.],\n",
       "      dtype=float32)"
      ]
     },
     "execution_count": 61,
     "metadata": {},
     "output_type": "execute_result"
    }
   ],
   "source": [
    "all_predictions.sum(axis=0)"
   ]
  },
  {
   "cell_type": "code",
   "execution_count": 62,
   "id": "692d99ea",
   "metadata": {},
   "outputs": [
    {
     "name": "stdout",
     "output_type": "stream",
     "text": [
      "              precision    recall  f1-score   support\n",
      "\n",
      "           0       0.00      0.00      0.00       390\n",
      "           1       0.02      0.08      0.03        50\n",
      "           2       0.02      0.05      0.03        61\n",
      "           3       0.02      0.12      0.03        58\n",
      "           4       0.03      0.01      0.01       190\n",
      "           5       0.01      0.04      0.02        50\n",
      "           6       0.00      0.00      0.00       105\n",
      "           7       0.00      0.00      0.00       100\n",
      "           8       0.03      0.02      0.02        50\n",
      "           9       0.00      0.00      0.00       150\n",
      "          10       0.01      0.02      0.01        64\n",
      "          11       0.01      0.06      0.02        50\n",
      "          12       0.01      0.04      0.02        50\n",
      "          13       0.00      0.00      0.00        50\n",
      "          14       0.01      0.04      0.01        50\n",
      "          15       0.00      0.00      0.00        88\n",
      "          16       0.00      0.00      0.00        75\n",
      "          17       0.03      0.06      0.04        50\n",
      "          18       0.01      0.02      0.02        50\n",
      "          19       0.07      0.02      0.03        94\n",
      "          20       0.03      0.02      0.02        58\n",
      "          21       0.01      0.02      0.02        50\n",
      "          22       0.00      0.00      0.00         5\n",
      "          23       0.00      0.00      0.00         9\n",
      "          24       0.01      0.02      0.01        66\n",
      "          25       0.01      0.06      0.02        50\n",
      "          26       0.00      0.00      0.00        21\n",
      "          27       0.01      0.06      0.02        50\n",
      "          28       0.02      0.02      0.02       100\n",
      "          29       0.01      0.04      0.02        50\n",
      "          30       0.01      0.04      0.01        27\n",
      "          31       0.00      0.00      0.00        61\n",
      "          32       0.00      0.00      0.00        50\n",
      "          33       0.01      0.02      0.01        58\n",
      "          34       0.02      0.08      0.03        50\n",
      "          35       0.01      0.04      0.02        50\n",
      "          36       0.01      0.02      0.01        50\n",
      "          37       0.01      0.02      0.01        50\n",
      "          38       0.00      0.02      0.01        50\n",
      "          39       0.00      0.00      0.00        13\n",
      "          40       0.00      0.00      0.00         6\n",
      "          41       0.01      0.04      0.01        50\n",
      "          42       0.00      0.00      0.00        14\n",
      "          43       0.01      0.03      0.01        73\n",
      "          44       0.00      0.00      0.00        16\n",
      "          45       0.04      0.06      0.05        77\n",
      "          46       0.00      0.00      0.00         4\n",
      "          47       0.01      0.01      0.01        74\n",
      "          48       0.00      0.00      0.00         6\n",
      "          49       0.00      0.04      0.01        23\n",
      "          50       0.01      0.06      0.02        50\n",
      "          51       0.00      0.00      0.00         2\n",
      "          52       0.00      0.00      0.00         2\n",
      "          53       0.02      0.04      0.03        50\n",
      "          54       0.00      0.00      0.00         4\n",
      "          55       0.01      0.02      0.01        50\n",
      "          56       0.01      0.03      0.01        31\n",
      "          57       0.01      0.06      0.02        50\n",
      "          58       0.01      0.06      0.02        50\n",
      "          59       0.00      0.00      0.00        11\n",
      "          60       0.00      0.00      0.00        58\n",
      "          61       0.01      0.04      0.02        50\n",
      "          62       0.00      0.00      0.00        10\n",
      "          63       0.00      0.00      0.00         4\n",
      "          64       0.00      0.00      0.00         1\n",
      "          65       0.00      0.00      0.00         4\n",
      "          66       0.00      0.00      0.00        50\n",
      "          67       0.00      0.00      0.00        50\n",
      "          68       0.00      0.00      0.00        12\n",
      "          69       0.00      0.00      0.00        16\n",
      "          70       0.00      0.00      0.00         3\n",
      "          71       0.04      0.05      0.04       100\n",
      "          72       0.01      0.06      0.02        50\n",
      "          73       0.01      0.04      0.01        50\n",
      "          74       0.01      0.03      0.01        32\n",
      "          75       0.00      0.00      0.00       107\n",
      "          76       0.01      0.02      0.01        56\n",
      "          77       0.00      0.00      0.00        53\n",
      "          78       0.01      0.06      0.01        50\n",
      "          79       0.00      0.00      0.00        53\n",
      "          80       0.02      0.04      0.02        50\n",
      "          81       0.00      0.00      0.00       177\n",
      "          82       0.01      0.03      0.01        69\n",
      "          83       0.00      0.00      0.00        50\n",
      "          84       0.03      0.04      0.03        50\n",
      "          85       0.01      0.02      0.02        50\n",
      "          86       0.01      0.02      0.01        50\n",
      "          87       0.00      0.00      0.00        45\n",
      "          88       0.03      0.04      0.03        94\n",
      "          89       0.01      0.04      0.01        50\n",
      "          90       0.00      0.00      0.00        50\n",
      "          91       0.02      0.04      0.02        72\n",
      "          92       0.00      0.00      0.00        14\n",
      "          93       0.01      0.07      0.01        14\n",
      "          94       0.01      0.13      0.02        38\n",
      "          95       0.04      0.10      0.06        50\n",
      "          96       0.00      0.00      0.00        50\n",
      "          97       0.02      0.06      0.03        50\n",
      "          98       0.02      0.12      0.04        43\n",
      "          99       0.02      0.10      0.03        50\n",
      "         100       0.00      0.00      0.00        27\n",
      "         101       0.02      0.02      0.02        50\n",
      "         102       0.00      0.00      0.00        50\n",
      "         103       0.01      0.02      0.01        50\n",
      "         104       0.00      0.00      0.00        70\n",
      "         105       0.00      0.00      0.00        10\n",
      "         106       0.00      0.00      0.00        10\n",
      "         107       0.00      0.00      0.00         9\n",
      "         108       0.00      0.00      0.00        50\n",
      "         109       0.01      0.02      0.01        51\n",
      "         110       0.00      0.00      0.00        50\n",
      "         111       0.00      0.00      0.00         3\n",
      "         112       0.00      0.00      0.00         5\n",
      "         113       0.00      0.00      0.00        50\n",
      "         114       0.00      0.00      0.00        32\n",
      "         115       0.00      0.00      0.00        27\n",
      "         116       0.01      0.05      0.02        39\n",
      "         117       0.02      0.10      0.03        50\n",
      "         118       0.01      0.04      0.01        50\n",
      "         119       0.02      0.06      0.03        50\n",
      "         120       0.00      0.00      0.00        50\n",
      "         121       0.01      0.02      0.01       100\n",
      "         122       0.00      0.00      0.00       103\n",
      "         123       0.00      0.00      0.00         6\n",
      "         124       0.00      0.02      0.01        50\n",
      "         125       0.01      0.02      0.01        50\n",
      "         126       0.01      0.02      0.02        50\n",
      "         127       0.00      0.00      0.00         1\n",
      "         128       0.00      0.00      0.00        50\n",
      "         129       0.01      0.10      0.02        50\n",
      "         130       0.02      0.04      0.02        50\n",
      "         131       0.00      0.00      0.00        50\n",
      "         132       0.00      0.00      0.00        16\n",
      "         133       0.02      0.06      0.03        50\n",
      "         134       0.00      0.00      0.00        50\n",
      "         135       0.00      0.00      0.00        11\n",
      "         136       0.00      0.00      0.00         9\n",
      "         137       0.00      0.00      0.00         4\n",
      "         138       0.00      0.00      0.00         7\n",
      "         139       0.00      0.00      0.00         1\n",
      "         140       0.00      0.00      0.00         8\n",
      "\n",
      "   micro avg       0.01      0.02      0.01      6810\n",
      "   macro avg       0.01      0.02      0.01      6810\n",
      "weighted avg       0.01      0.02      0.01      6810\n",
      " samples avg       0.01      0.03      0.01      6810\n",
      "\n"
     ]
    }
   ],
   "source": [
    "print(report)"
   ]
  },
  {
   "cell_type": "code",
   "execution_count": 63,
   "id": "43a64d4f",
   "metadata": {},
   "outputs": [
    {
     "data": {
      "text/plain": [
       "'IPR013397'"
      ]
     },
     "execution_count": 63,
     "metadata": {},
     "output_type": "execute_result"
    }
   ],
   "source": [
    "list(enc.classes_)[36]"
   ]
  },
  {
   "cell_type": "code",
   "execution_count": 59,
   "id": "7e153aae",
   "metadata": {
    "scrolled": false
   },
   "outputs": [],
   "source": [
    "# from sklearn.metrics import precision_recall_curve, average_precision_score, roc_curve, roc_auc_score\n",
    "# import matplotlib.pyplot as plt\n",
    "# num_classes = 83\n",
    "# # Compute precision, recall, and thresholds for each class\n",
    "# precision = dict()\n",
    "# recall = dict()\n",
    "# thresholds = dict()\n",
    "# average_precision = dict()\n",
    "\n",
    "# for i in range(num_classes):  # num_classes is the number of classes\n",
    "#     precision[i], recall[i], thresholds[i] = precision_recall_curve(all_labels[:, i], all_predictions[:, i])\n",
    "#     average_precision[i] = average_precision_score(all_labels[:, i], all_predictions[:, i])\n",
    "\n",
    "# # Compute micro-average precision-recall curve and AUC\n",
    "# precision[\"micro\"], recall[\"micro\"], _ = precision_recall_curve(all_labels.ravel(), all_predictions.ravel())\n",
    "# average_precision[\"micro\"] = average_precision_score(all_labels, all_predictions, average=\"micro\")\n",
    "\n",
    "# # Compute ROC curve and AUC\n",
    "# fpr = dict()\n",
    "# tpr = dict()\n",
    "# roc_auc = dict()\n",
    "\n",
    "# for i in range(num_classes):\n",
    "#     fpr[i], tpr[i], _ = roc_curve(all_labels[:, i], all_predictions[:, i])\n",
    "#     roc_auc[i] = roc_auc_score(all_labels[:, i], all_predictions[:, i])\n",
    "\n",
    "# # Compute micro-average ROC curve and AUC\n",
    "# fpr[\"micro\"], tpr[\"micro\"], _ = roc_curve(all_labels.ravel(), all_predictions.ravel())\n",
    "# roc_auc[\"micro\"] = roc_auc_score(all_labels, all_predictions, average=\"micro\")\n",
    "\n",
    "# # Split classes into groups of 10\n",
    "# class_groups = [list(range(i, min(i + 10, num_classes))) for i in range(0, num_classes, 10)]\n",
    "\n",
    "# # Plot Precision-Recall and ROC curves for each group\n",
    "# for group in class_groups:\n",
    "#     plt.figure(figsize=(12, 6))\n",
    "\n",
    "#     # Plot Precision-Recall curve\n",
    "#     plt.subplot(1, 2, 1)\n",
    "#     plt.step(recall['micro'], precision['micro'], where='post', label='Micro-average Precision-Recall curve (AUPR = {0:0.2f})'\n",
    "#                  ''.format(average_precision[\"micro\"]))\n",
    "#     for i in group:\n",
    "#         plt.step(recall[i], precision[i], where='post', label='Precision-recall curve of class {0} (AUPR = {1:0.2f})'\n",
    "#                  ''.format(i, average_precision[i]))\n",
    "\n",
    "#     plt.xlabel('Recall')\n",
    "#     plt.ylabel('Precision')\n",
    "#     plt.ylim([0.0, 1.05])\n",
    "#     plt.xlim([0.0, 1.0])\n",
    "#     plt.title('Precision-Recall curve (Classes {})'.format(group))\n",
    "#     plt.legend(loc=\"best\")\n",
    "\n",
    "#     # Plot ROC curve\n",
    "#     plt.subplot(1, 2, 2)\n",
    "#     plt.plot(fpr['micro'], tpr['micro'], label='Micro-average ROC curve (AUC = {0:0.2f})'\n",
    "#                  ''.format(roc_auc[\"micro\"]))\n",
    "#     for i in group:\n",
    "#         plt.plot(fpr[i], tpr[i], label='ROC curve of class {0} (AUC = {1:0.2f})'\n",
    "#                  ''.format(i, roc_auc[i]))\n",
    "\n",
    "#     plt.plot([0, 1], [0, 1], 'k--')\n",
    "#     plt.xlim([0.0, 1.0])\n",
    "#     plt.ylim([0.0, 1.05])\n",
    "#     plt.xlabel('False Positive Rate')\n",
    "#     plt.ylabel('True Positive Rate')\n",
    "#     plt.title('ROC curve (Classes {})'.format(group))\n",
    "#     plt.legend(loc=\"best\")\n",
    "\n",
    "#     plt.tight_layout()\n",
    "#     plt.show()\n"
   ]
  },
  {
   "cell_type": "code",
   "execution_count": null,
   "id": "d890b37c",
   "metadata": {},
   "outputs": [],
   "source": []
  },
  {
   "cell_type": "code",
   "execution_count": 60,
   "id": "b446c428",
   "metadata": {},
   "outputs": [],
   "source": [
    "# import nltk\n",
    "# import sklearn\n",
    "\n",
    "# print('The nltk version is {}.'.format(nltk.__version__))\n",
    "# print('The scikit-learn version is {}.'.format(sklearn.__version__))"
   ]
  },
  {
   "cell_type": "code",
   "execution_count": null,
   "id": "357cbbdf",
   "metadata": {},
   "outputs": [],
   "source": []
  }
 ],
 "metadata": {
  "kernelspec": {
   "display_name": "Python 3 (ipykernel)",
   "language": "python",
   "name": "python3"
  },
  "language_info": {
   "codemirror_mode": {
    "name": "ipython",
    "version": 3
   },
   "file_extension": ".py",
   "mimetype": "text/x-python",
   "name": "python",
   "nbconvert_exporter": "python",
   "pygments_lexer": "ipython3",
   "version": "3.9.13"
  }
 },
 "nbformat": 4,
 "nbformat_minor": 5
}
