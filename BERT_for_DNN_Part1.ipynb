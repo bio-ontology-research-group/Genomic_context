{
 "cells": [
  {
   "cell_type": "code",
   "execution_count": 1,
   "id": "c622ad12",
   "metadata": {},
   "outputs": [
    {
     "name": "stdout",
     "output_type": "stream",
     "text": [
      "Free CPU Memory: 334.84 GB\n"
     ]
    }
   ],
   "source": [
    "import psutil\n",
    "\n",
    "def get_free_memory():\n",
    "    memory = psutil.virtual_memory()\n",
    "    return memory.available / (1024.0 ** 3)  # Convert bytes to gigabytes\n",
    "\n",
    "print(f\"Free CPU Memory: {get_free_memory():.2f} GB\")\n"
   ]
  },
  {
   "cell_type": "code",
   "execution_count": 2,
   "id": "d3b66bff",
   "metadata": {},
   "outputs": [],
   "source": [
    "import json\n",
    "with open(\"/home/toibazd/Most_frequent_IPs.json\", \"r\") as f:\n",
    "    ips = json.load(f)\n",
    "\n",
    "sorted_dict = sorted(ips.items(), key=lambda x: x[1], reverse=True)\n",
    "most_frequent_ips = [item[0] for item in sorted_dict[:100]]\n"
   ]
  },
  {
   "cell_type": "code",
   "execution_count": 3,
   "id": "6ebec741",
   "metadata": {
    "scrolled": true
   },
   "outputs": [
    {
     "data": {
      "text/plain": [
       "['IPR004090',\n",
       " 'IPR011701',\n",
       " 'IPR002514',\n",
       " 'IPR003719',\n",
       " 'IPR002155',\n",
       " 'IPR005750',\n",
       " 'IPR001001',\n",
       " 'IPR004604',\n",
       " 'IPR011603',\n",
       " 'IPR005252',\n",
       " 'IPR010228',\n",
       " 'IPR004733',\n",
       " 'IPR004469',\n",
       " 'IPR001645',\n",
       " 'IPR004805',\n",
       " 'IPR010949',\n",
       " 'IPR011276',\n",
       " 'IPR003753',\n",
       " 'IPR001381',\n",
       " 'IPR001241',\n",
       " 'IPR000565',\n",
       " 'IPR002298',\n",
       " 'IPR004563',\n",
       " 'IPR000277',\n",
       " 'IPR006235',\n",
       " 'IPR002150',\n",
       " 'IPR003841',\n",
       " 'IPR011530',\n",
       " 'IPR001207',\n",
       " 'IPR000015',\n",
       " 'IPR001036',\n",
       " 'IPR040423',\n",
       " 'IPR001898',\n",
       " 'IPR003474',\n",
       " 'IPR006043',\n",
       " 'IPR002692',\n",
       " 'IPR015712',\n",
       " 'IPR000212',\n",
       " 'IPR010243',\n",
       " 'IPR045018',\n",
       " 'IPR007312',\n",
       " 'IPR006710',\n",
       " 'IPR004586',\n",
       " 'IPR005667',\n",
       " 'IPR001278',\n",
       " 'IPR001360',\n",
       " 'IPR026856',\n",
       " 'IPR003675',\n",
       " 'IPR002903',\n",
       " 'IPR006419',\n",
       " 'IPR003567',\n",
       " 'IPR024922',\n",
       " 'IPR004504',\n",
       " 'IPR002745',\n",
       " 'IPR003477',\n",
       " 'IPR010096',\n",
       " 'IPR001734',\n",
       " 'IPR003801',\n",
       " 'IPR022838',\n",
       " 'IPR006276',\n",
       " 'IPR002528',\n",
       " 'IPR004396',\n",
       " 'IPR005814',\n",
       " 'IPR045187',\n",
       " 'IPR006127',\n",
       " 'IPR047640',\n",
       " 'IPR039672',\n",
       " 'IPR022893',\n",
       " 'IPR000380',\n",
       " 'IPR001233',\n",
       " 'IPR002908',\n",
       " 'IPR011193',\n",
       " 'IPR002495',\n",
       " 'IPR010105',\n",
       " 'IPR004625',\n",
       " 'IPR012094',\n",
       " 'IPR006179',\n",
       " 'IPR001544',\n",
       " 'IPR000223',\n",
       " 'IPR017476',\n",
       " 'IPR038970',\n",
       " 'IPR028357',\n",
       " 'IPR007466',\n",
       " 'IPR045086',\n",
       " 'IPR000849',\n",
       " 'IPR002585',\n",
       " 'IPR002299',\n",
       " 'IPR014100',\n",
       " 'IPR002293',\n",
       " 'IPR002712',\n",
       " 'IPR001648',\n",
       " 'IPR004134',\n",
       " 'IPR006333',\n",
       " 'IPR000850',\n",
       " 'IPR006259',\n",
       " 'IPR005771',\n",
       " 'IPR020831',\n",
       " 'IPR022907',\n",
       " 'IPR001757',\n",
       " 'IPR011851']"
      ]
     },
     "execution_count": 3,
     "metadata": {},
     "output_type": "execute_result"
    }
   ],
   "source": [
    "most_frequent_ips"
   ]
  },
  {
   "cell_type": "code",
   "execution_count": 4,
   "id": "abdd98ad",
   "metadata": {},
   "outputs": [],
   "source": [
    "import torch\n",
    "torch.backends.cuda.matmul.allow_tf32 = True\n",
    "from datasets import Dataset\n",
    "import os\n",
    "import numpy as np"
   ]
  },
  {
   "cell_type": "code",
   "execution_count": 7,
   "id": "afe57191",
   "metadata": {},
   "outputs": [
    {
     "data": {
      "application/json": {
       "ascii": false,
       "bar_format": null,
       "colour": null,
       "elapsed": 0.020798683166503906,
       "initial": 0,
       "n": 0,
       "ncols": null,
       "nrows": null,
       "postfix": null,
       "prefix": "",
       "rate": null,
       "total": null,
       "unit": "it",
       "unit_divisor": 1000,
       "unit_scale": false
      },
      "application/vnd.jupyter.widget-view+json": {
       "model_id": "6bb7195849e544f6b70e55fa39b1a479",
       "version_major": 2,
       "version_minor": 0
      },
      "text/plain": [
       "0it [00:00, ?it/s]"
      ]
     },
     "metadata": {},
     "output_type": "display_data"
    }
   ],
   "source": [
    "from collections import defaultdict\n",
    "from sklearn.preprocessing import MultiLabelBinarizer\n",
    "import csv\n",
    "from tqdm.auto import tqdm\n",
    "\n",
    "\n",
    "data_dict = defaultdict(list)\n",
    "enc = MultiLabelBinarizer()\n",
    "\n",
    "with open(\"/home/toibazd/Prot2IP_GO_filtered_MF.tsv\", \"r\") as tsvfile:\n",
    "    reader = csv.reader(tsvfile, delimiter = \"\\t\")\n",
    "    for row in tqdm(reader):\n",
    "        key = row[0].split(\"prot_\")[1].split(\".\")[0]\n",
    "        iprs = eval(row[1])\n",
    "        \n",
    "        for ip in iprs:\n",
    "            if ip in most_frequent_ips:\n",
    "                data_dict[key].append(ip)\n",
    "\n",
    "one_hot_encoded = enc.fit_transform(data_dict.values())\n",
    "one_hot_encoded_dict = {key: value for key, value in zip(data_dict.keys(), one_hot_encoded)}\n"
   ]
  },
  {
   "cell_type": "code",
   "execution_count": 20,
   "id": "c327d388",
   "metadata": {},
   "outputs": [
    {
     "name": "stdout",
     "output_type": "stream",
     "text": [
      "(21791, 100)\n",
      "21791\n"
     ]
    }
   ],
   "source": [
    "print(one_hot_encoded.shape)\n",
    "\n",
    "IP_number = np.sum(one_hot_encoded, axis = 1)\n",
    "count_gt_2 = np.sum(IP_number >= 1)\n",
    "\n",
    "print(count_gt_2)"
   ]
  },
  {
   "cell_type": "code",
   "execution_count": 21,
   "id": "b5f0faeb",
   "metadata": {},
   "outputs": [
    {
     "name": "stdout",
     "output_type": "stream",
     "text": [
      "21791\n"
     ]
    }
   ],
   "source": [
    "print(len(one_hot_encoded_dict.keys()))"
   ]
  },
  {
   "cell_type": "code",
   "execution_count": 22,
   "id": "3d2cf3e5",
   "metadata": {},
   "outputs": [
    {
     "data": {
      "application/json": {
       "ascii": false,
       "bar_format": null,
       "colour": null,
       "elapsed": 0.017527103424072266,
       "initial": 0,
       "n": 0,
       "ncols": null,
       "nrows": null,
       "postfix": null,
       "prefix": "",
       "rate": null,
       "total": 100,
       "unit": "it",
       "unit_divisor": 1000,
       "unit_scale": false
      },
      "application/vnd.jupyter.widget-view+json": {
       "model_id": "66ed59eeb7854fc790d69b7d9fc43bec",
       "version_major": 2,
       "version_minor": 0
      },
      "text/plain": [
       "  0%|          | 0/100 [00:00<?, ?it/s]"
      ]
     },
     "metadata": {},
     "output_type": "display_data"
    }
   ],
   "source": [
    "import random\n",
    "from concurrent.futures import ThreadPoolExecutor\n",
    "\n",
    "directory = '/ibex/user/toibazd/InterPro_annotated_genomes/'\n",
    "one_hot_encoded_sentences = {}\n",
    "\n",
    "sentence_length = 40\n",
    "sentences_per_IP = 200\n",
    "\n",
    "# Set random seed for reproducibility\n",
    "random.seed(42)\n",
    "\n",
    "# Randomly choose 1000 files with seed 42\n",
    "selected_files = os.listdir(directory)\n",
    "\n",
    "\n",
    "# Define a function to process a file\n",
    "def process_file(filename, IP):\n",
    "    sentences = []\n",
    "\n",
    "    filepath = os.path.join(directory, filename)\n",
    "\n",
    "    with open(filepath, 'r') as file:\n",
    "        content = file.read()\n",
    "        words = content.strip().split()\n",
    "\n",
    "        # Check if the key is in the file\n",
    "        for i in range(19, len(words)-20):\n",
    "            # Shuffle the indices of the words containing the key\n",
    "            if IP in data_dict[words[i]]:\n",
    "                if len(words) - i >= 21:\n",
    "                    sentence = \" \".join(words[i - 19:i + sentence_length - 19])\n",
    "                    sentences.append(sentence)\n",
    "    return sentences\n",
    "\n",
    "\n",
    "\n",
    "for IP in tqdm(most_frequent_ips):\n",
    "    one_hot_encoded_sentences[IP] = []\n",
    "    sentences_count = 0\n",
    "\n",
    "    # Use ThreadPoolExecutor for concurrent processing\n",
    "    with ThreadPoolExecutor(max_workers=4) as executor:\n",
    "        futures = [executor.submit(process_file, filename, IP) for filename in selected_files]\n",
    "        for future in futures:\n",
    "            sentences = future.result()\n",
    "            one_hot_encoded_sentences[IP].extend(sentences)\n",
    "            sentences_count += len(sentences)\n",
    "            if sentences_count >= sentences_per_IP:\n",
    "                break"
   ]
  },
  {
   "cell_type": "code",
   "execution_count": 23,
   "id": "89bec4b6",
   "metadata": {},
   "outputs": [],
   "source": [
    "import json\n",
    "\n",
    "with open('BERT_DNN_senteces.json', 'w') as f:\n",
    "    json.dump(one_hot_encoded_sentences, f)"
   ]
  },
  {
   "cell_type": "code",
   "execution_count": 24,
   "id": "d14ac613",
   "metadata": {},
   "outputs": [
    {
     "data": {
      "application/json": {
       "ascii": false,
       "bar_format": null,
       "colour": null,
       "elapsed": 0.01722884178161621,
       "initial": 0,
       "n": 0,
       "ncols": null,
       "nrows": null,
       "postfix": null,
       "prefix": "",
       "rate": null,
       "total": 100,
       "unit": "it",
       "unit_divisor": 1000,
       "unit_scale": false
      },
      "application/vnd.jupyter.widget-view+json": {
       "model_id": "d541f7f1b1b3413ea40a343c040684a4",
       "version_major": 2,
       "version_minor": 0
      },
      "text/plain": [
       "  0%|          | 0/100 [00:00<?, ?it/s]"
      ]
     },
     "metadata": {},
     "output_type": "display_data"
    },
    {
     "name": "stdout",
     "output_type": "stream",
     "text": [
      "50\n",
      "50\n",
      "50\n",
      "50\n",
      "50\n",
      "50\n",
      "50\n",
      "50\n",
      "50\n",
      "50\n",
      "50\n",
      "50\n",
      "50\n",
      "50\n",
      "50\n",
      "50\n",
      "50\n",
      "50\n",
      "50\n",
      "50\n",
      "50\n",
      "50\n",
      "50\n",
      "50\n",
      "50\n",
      "50\n",
      "50\n",
      "50\n",
      "50\n",
      "50\n",
      "50\n",
      "50\n",
      "50\n",
      "50\n",
      "50\n",
      "50\n",
      "50\n",
      "50\n",
      "50\n",
      "50\n",
      "50\n",
      "50\n",
      "50\n",
      "50\n",
      "50\n",
      "50\n",
      "50\n",
      "50\n",
      "50\n",
      "50\n",
      "50\n",
      "50\n",
      "50\n",
      "50\n",
      "50\n",
      "50\n",
      "50\n",
      "50\n",
      "50\n",
      "50\n",
      "50\n",
      "50\n",
      "50\n",
      "50\n",
      "50\n",
      "50\n",
      "50\n",
      "50\n",
      "50\n",
      "50\n",
      "50\n",
      "50\n",
      "50\n",
      "50\n",
      "50\n",
      "50\n",
      "50\n",
      "50\n",
      "50\n",
      "50\n",
      "50\n",
      "50\n",
      "50\n",
      "50\n",
      "50\n",
      "50\n",
      "50\n",
      "50\n",
      "50\n",
      "50\n",
      "50\n",
      "50\n",
      "50\n",
      "50\n",
      "50\n",
      "50\n",
      "50\n",
      "50\n",
      "50\n",
      "50\n"
     ]
    }
   ],
   "source": [
    "directory = '/ibex/user/toibazd/InterPro_annotated_genomes_for_testing/'\n",
    "one_hot_encoded_sentences_2 = {}\n",
    "\n",
    "sentence_length = 40\n",
    "sentence_per_IP = 50\n",
    "selected_files = os.listdir(directory)\n",
    "\n",
    "\n",
    "# Iterate over keys\n",
    "for IP in tqdm(most_frequent_ips):\n",
    "    one_hot_encoded_sentences_2[IP] = []\n",
    "    sentences_count=0\n",
    "    \n",
    "    # Iterate over selected files\n",
    "    for filename in selected_files:\n",
    "        filepath = os.path.join(directory, filename)\n",
    "\n",
    "        with open(filepath, 'r') as file:\n",
    "            content = file.read()\n",
    "            words = content.strip().split()\n",
    "\n",
    "            # Check if the key is in the file\n",
    "            for i in range(19, len(words)-20):\n",
    "                # Shuffle the indices of the words containing the key\n",
    "                if IP in data_dict[words[i]]:\n",
    "                    if len(words) - i >= 21:\n",
    "                        sentence = \" \".join(words[i - 19:i + sentence_length - 19])\n",
    "                        one_hot_encoded_sentences_2[IP].append(sentence)\n",
    "                        sentences_count += 1\n",
    "                        if sentences_count>=sentence_per_IP:\n",
    "                            break\n",
    "        if sentences_count>=sentence_per_IP:\n",
    "            break\n",
    "    print(sentences_count)\n",
    "            \n"
   ]
  },
  {
   "cell_type": "code",
   "execution_count": 26,
   "id": "b2875f07",
   "metadata": {},
   "outputs": [],
   "source": [
    "import json\n",
    "\n",
    "with open('BERT_DNN_senteces_test.json', 'w') as f:\n",
    "    json.dump(one_hot_encoded_sentences_2, f)"
   ]
  },
  {
   "cell_type": "code",
   "execution_count": null,
   "id": "0a987662",
   "metadata": {},
   "outputs": [],
   "source": []
  }
 ],
 "metadata": {
  "kernelspec": {
   "display_name": "Python 3 (ipykernel)",
   "language": "python",
   "name": "python3"
  },
  "language_info": {
   "codemirror_mode": {
    "name": "ipython",
    "version": 3
   },
   "file_extension": ".py",
   "mimetype": "text/x-python",
   "name": "python",
   "nbconvert_exporter": "python",
   "pygments_lexer": "ipython3",
   "version": "3.9.13"
  }
 },
 "nbformat": 4,
 "nbformat_minor": 5
}
